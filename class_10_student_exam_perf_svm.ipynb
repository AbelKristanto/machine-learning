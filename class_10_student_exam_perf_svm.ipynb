{
  "nbformat": 4,
  "nbformat_minor": 0,
  "metadata": {
    "colab": {
      "name": "class_10_student_exam_perf_svm.ipynb",
      "provenance": [],
      "authorship_tag": "ABX9TyNt5HhiFZav8GY09vwjejfu",
      "include_colab_link": true
    },
    "kernelspec": {
      "name": "python3",
      "display_name": "Python 3"
    },
    "language_info": {
      "name": "python"
    }
  },
  "cells": [
    {
      "cell_type": "markdown",
      "metadata": {
        "id": "view-in-github",
        "colab_type": "text"
      },
      "source": [
        "<a href=\"https://colab.research.google.com/github/AbelKristanto/machine-learning/blob/main/class_10_student_exam_perf_svm.ipynb\" target=\"_parent\"><img src=\"https://colab.research.google.com/assets/colab-badge.svg\" alt=\"Open In Colab\"/></a>"
      ]
    },
    {
      "cell_type": "markdown",
      "source": [
        "# Introduction\n",
        "In this part, we will learn how student exam performance using SVM Kernels.\n"
      ],
      "metadata": {
        "id": "DCioMe7Tzde_"
      }
    },
    {
      "cell_type": "markdown",
      "source": [
        "## EDA Step"
      ],
      "metadata": {
        "id": "ERy0hf_Mzl8o"
      }
    },
    {
      "cell_type": "code",
      "source": [
        "# Library\n",
        "import pandas as pd\n",
        "import numpy as np\n",
        "import matplotlib.pyplot as plt\n",
        "import seaborn as sns\n",
        "import plotly.express as px\n",
        "import plotly.graph_objects as go"
      ],
      "metadata": {
        "id": "D8NY82mh0MsG"
      },
      "execution_count": 17,
      "outputs": []
    },
    {
      "cell_type": "code",
      "execution_count": 7,
      "metadata": {
        "colab": {
          "base_uri": "https://localhost:8080/",
          "height": 537
        },
        "id": "3e4xvURjvRoN",
        "outputId": "4c670e8b-130a-4261-86a8-00e4444ac495"
      },
      "outputs": [
        {
          "output_type": "stream",
          "name": "stdout",
          "text": [
            "<class 'pandas.core.frame.DataFrame'>\n",
            "RangeIndex: 1000 entries, 0 to 999\n",
            "Data columns (total 8 columns):\n",
            " #   Column                       Non-Null Count  Dtype \n",
            "---  ------                       --------------  ----- \n",
            " 0   gender                       1000 non-null   object\n",
            " 1   race/ethnicity               1000 non-null   object\n",
            " 2   parental level of education  1000 non-null   object\n",
            " 3   lunch                        1000 non-null   object\n",
            " 4   test preparation course      1000 non-null   object\n",
            " 5   math score                   1000 non-null   int64 \n",
            " 6   reading score                1000 non-null   int64 \n",
            " 7   writing score                1000 non-null   int64 \n",
            "dtypes: int64(3), object(5)\n",
            "memory usage: 62.6+ KB\n",
            "Information columns: None \n",
            "\n",
            "Information of shape: (1000, 8)\n"
          ]
        },
        {
          "output_type": "execute_result",
          "data": {
            "text/html": [
              "\n",
              "  <div id=\"df-0f9bb168-d5e2-4fa8-b35e-e43867868e6a\">\n",
              "    <div class=\"colab-df-container\">\n",
              "      <div>\n",
              "<style scoped>\n",
              "    .dataframe tbody tr th:only-of-type {\n",
              "        vertical-align: middle;\n",
              "    }\n",
              "\n",
              "    .dataframe tbody tr th {\n",
              "        vertical-align: top;\n",
              "    }\n",
              "\n",
              "    .dataframe thead th {\n",
              "        text-align: right;\n",
              "    }\n",
              "</style>\n",
              "<table border=\"1\" class=\"dataframe\">\n",
              "  <thead>\n",
              "    <tr style=\"text-align: right;\">\n",
              "      <th></th>\n",
              "      <th>gender</th>\n",
              "      <th>race/ethnicity</th>\n",
              "      <th>parental level of education</th>\n",
              "      <th>lunch</th>\n",
              "      <th>test preparation course</th>\n",
              "      <th>math score</th>\n",
              "      <th>reading score</th>\n",
              "      <th>writing score</th>\n",
              "    </tr>\n",
              "  </thead>\n",
              "  <tbody>\n",
              "    <tr>\n",
              "      <th>0</th>\n",
              "      <td>female</td>\n",
              "      <td>group B</td>\n",
              "      <td>bachelor's degree</td>\n",
              "      <td>standard</td>\n",
              "      <td>none</td>\n",
              "      <td>72</td>\n",
              "      <td>72</td>\n",
              "      <td>74</td>\n",
              "    </tr>\n",
              "    <tr>\n",
              "      <th>1</th>\n",
              "      <td>female</td>\n",
              "      <td>group C</td>\n",
              "      <td>some college</td>\n",
              "      <td>standard</td>\n",
              "      <td>completed</td>\n",
              "      <td>69</td>\n",
              "      <td>90</td>\n",
              "      <td>88</td>\n",
              "    </tr>\n",
              "    <tr>\n",
              "      <th>2</th>\n",
              "      <td>female</td>\n",
              "      <td>group B</td>\n",
              "      <td>master's degree</td>\n",
              "      <td>standard</td>\n",
              "      <td>none</td>\n",
              "      <td>90</td>\n",
              "      <td>95</td>\n",
              "      <td>93</td>\n",
              "    </tr>\n",
              "    <tr>\n",
              "      <th>3</th>\n",
              "      <td>male</td>\n",
              "      <td>group A</td>\n",
              "      <td>associate's degree</td>\n",
              "      <td>free/reduced</td>\n",
              "      <td>none</td>\n",
              "      <td>47</td>\n",
              "      <td>57</td>\n",
              "      <td>44</td>\n",
              "    </tr>\n",
              "    <tr>\n",
              "      <th>4</th>\n",
              "      <td>male</td>\n",
              "      <td>group C</td>\n",
              "      <td>some college</td>\n",
              "      <td>standard</td>\n",
              "      <td>none</td>\n",
              "      <td>76</td>\n",
              "      <td>78</td>\n",
              "      <td>75</td>\n",
              "    </tr>\n",
              "  </tbody>\n",
              "</table>\n",
              "</div>\n",
              "      <button class=\"colab-df-convert\" onclick=\"convertToInteractive('df-0f9bb168-d5e2-4fa8-b35e-e43867868e6a')\"\n",
              "              title=\"Convert this dataframe to an interactive table.\"\n",
              "              style=\"display:none;\">\n",
              "        \n",
              "  <svg xmlns=\"http://www.w3.org/2000/svg\" height=\"24px\"viewBox=\"0 0 24 24\"\n",
              "       width=\"24px\">\n",
              "    <path d=\"M0 0h24v24H0V0z\" fill=\"none\"/>\n",
              "    <path d=\"M18.56 5.44l.94 2.06.94-2.06 2.06-.94-2.06-.94-.94-2.06-.94 2.06-2.06.94zm-11 1L8.5 8.5l.94-2.06 2.06-.94-2.06-.94L8.5 2.5l-.94 2.06-2.06.94zm10 10l.94 2.06.94-2.06 2.06-.94-2.06-.94-.94-2.06-.94 2.06-2.06.94z\"/><path d=\"M17.41 7.96l-1.37-1.37c-.4-.4-.92-.59-1.43-.59-.52 0-1.04.2-1.43.59L10.3 9.45l-7.72 7.72c-.78.78-.78 2.05 0 2.83L4 21.41c.39.39.9.59 1.41.59.51 0 1.02-.2 1.41-.59l7.78-7.78 2.81-2.81c.8-.78.8-2.07 0-2.86zM5.41 20L4 18.59l7.72-7.72 1.47 1.35L5.41 20z\"/>\n",
              "  </svg>\n",
              "      </button>\n",
              "      \n",
              "  <style>\n",
              "    .colab-df-container {\n",
              "      display:flex;\n",
              "      flex-wrap:wrap;\n",
              "      gap: 12px;\n",
              "    }\n",
              "\n",
              "    .colab-df-convert {\n",
              "      background-color: #E8F0FE;\n",
              "      border: none;\n",
              "      border-radius: 50%;\n",
              "      cursor: pointer;\n",
              "      display: none;\n",
              "      fill: #1967D2;\n",
              "      height: 32px;\n",
              "      padding: 0 0 0 0;\n",
              "      width: 32px;\n",
              "    }\n",
              "\n",
              "    .colab-df-convert:hover {\n",
              "      background-color: #E2EBFA;\n",
              "      box-shadow: 0px 1px 2px rgba(60, 64, 67, 0.3), 0px 1px 3px 1px rgba(60, 64, 67, 0.15);\n",
              "      fill: #174EA6;\n",
              "    }\n",
              "\n",
              "    [theme=dark] .colab-df-convert {\n",
              "      background-color: #3B4455;\n",
              "      fill: #D2E3FC;\n",
              "    }\n",
              "\n",
              "    [theme=dark] .colab-df-convert:hover {\n",
              "      background-color: #434B5C;\n",
              "      box-shadow: 0px 1px 3px 1px rgba(0, 0, 0, 0.15);\n",
              "      filter: drop-shadow(0px 1px 2px rgba(0, 0, 0, 0.3));\n",
              "      fill: #FFFFFF;\n",
              "    }\n",
              "  </style>\n",
              "\n",
              "      <script>\n",
              "        const buttonEl =\n",
              "          document.querySelector('#df-0f9bb168-d5e2-4fa8-b35e-e43867868e6a button.colab-df-convert');\n",
              "        buttonEl.style.display =\n",
              "          google.colab.kernel.accessAllowed ? 'block' : 'none';\n",
              "\n",
              "        async function convertToInteractive(key) {\n",
              "          const element = document.querySelector('#df-0f9bb168-d5e2-4fa8-b35e-e43867868e6a');\n",
              "          const dataTable =\n",
              "            await google.colab.kernel.invokeFunction('convertToInteractive',\n",
              "                                                     [key], {});\n",
              "          if (!dataTable) return;\n",
              "\n",
              "          const docLinkHtml = 'Like what you see? Visit the ' +\n",
              "            '<a target=\"_blank\" href=https://colab.research.google.com/notebooks/data_table.ipynb>data table notebook</a>'\n",
              "            + ' to learn more about interactive tables.';\n",
              "          element.innerHTML = '';\n",
              "          dataTable['output_type'] = 'display_data';\n",
              "          await google.colab.output.renderOutput(dataTable, element);\n",
              "          const docLink = document.createElement('div');\n",
              "          docLink.innerHTML = docLinkHtml;\n",
              "          element.appendChild(docLink);\n",
              "        }\n",
              "      </script>\n",
              "    </div>\n",
              "  </div>\n",
              "  "
            ],
            "text/plain": [
              "   gender race/ethnicity  ... reading score writing score\n",
              "0  female        group B  ...            72            74\n",
              "1  female        group C  ...            90            88\n",
              "2  female        group B  ...            95            93\n",
              "3    male        group A  ...            57            44\n",
              "4    male        group C  ...            78            75\n",
              "\n",
              "[5 rows x 8 columns]"
            ]
          },
          "metadata": {},
          "execution_count": 7
        }
      ],
      "source": [
        "df = pd.read_csv('StudentsPerformance.csv')\n",
        "print('Information columns: {0} \\n'.format(df.info()))\n",
        "print('Information of shape: {0}'.format(df.shape))\n",
        "df.head()"
      ]
    },
    {
      "cell_type": "code",
      "source": [
        "print(\"Describe of dataset: \\n{0}\".format(df.describe()))"
      ],
      "metadata": {
        "colab": {
          "base_uri": "https://localhost:8080/"
        },
        "id": "6X__ydn50eJw",
        "outputId": "790e84e1-33f6-431c-d1db-9b1b9c0e9bb1"
      },
      "execution_count": 9,
      "outputs": [
        {
          "output_type": "stream",
          "name": "stdout",
          "text": [
            "Describe of dataset: \n",
            "       math score  reading score  writing score\n",
            "count  1000.00000    1000.000000    1000.000000\n",
            "mean     66.08900      69.169000      68.054000\n",
            "std      15.16308      14.600192      15.195657\n",
            "min       0.00000      17.000000      10.000000\n",
            "25%      57.00000      59.000000      57.750000\n",
            "50%      66.00000      70.000000      69.000000\n",
            "75%      77.00000      79.000000      79.000000\n",
            "max     100.00000     100.000000     100.000000\n"
          ]
        }
      ]
    },
    {
      "cell_type": "code",
      "source": [
        "print(\"Missing values is: \\n{0}\".format(df.isnull().sum()))"
      ],
      "metadata": {
        "colab": {
          "base_uri": "https://localhost:8080/"
        },
        "id": "t70thgy409Ox",
        "outputId": "6b1b0cfd-af87-45e2-dbe7-d87194aedaaa"
      },
      "execution_count": 10,
      "outputs": [
        {
          "output_type": "stream",
          "name": "stdout",
          "text": [
            "Missing values is: \n",
            "gender                         0\n",
            "race/ethnicity                 0\n",
            "parental level of education    0\n",
            "lunch                          0\n",
            "test preparation course        0\n",
            "math score                     0\n",
            "reading score                  0\n",
            "writing score                  0\n",
            "dtype: int64\n"
          ]
        }
      ]
    },
    {
      "cell_type": "code",
      "source": [
        "# RENAME columns\n",
        "df.columns = ['gender', 'race', 'parent_edu', 'lunch_type',\n",
        "              'test_completed', 'math_score', 'reading_score',\n",
        "              'writing_score']\n",
        "df.head()"
      ],
      "metadata": {
        "colab": {
          "base_uri": "https://localhost:8080/",
          "height": 206
        },
        "id": "2R8acCq21ISk",
        "outputId": "e9562515-2646-4936-9f5f-0e66b2fd2761"
      },
      "execution_count": 12,
      "outputs": [
        {
          "output_type": "execute_result",
          "data": {
            "text/html": [
              "\n",
              "  <div id=\"df-35bd2cd6-659c-4a38-bb6e-b4f40792467a\">\n",
              "    <div class=\"colab-df-container\">\n",
              "      <div>\n",
              "<style scoped>\n",
              "    .dataframe tbody tr th:only-of-type {\n",
              "        vertical-align: middle;\n",
              "    }\n",
              "\n",
              "    .dataframe tbody tr th {\n",
              "        vertical-align: top;\n",
              "    }\n",
              "\n",
              "    .dataframe thead th {\n",
              "        text-align: right;\n",
              "    }\n",
              "</style>\n",
              "<table border=\"1\" class=\"dataframe\">\n",
              "  <thead>\n",
              "    <tr style=\"text-align: right;\">\n",
              "      <th></th>\n",
              "      <th>gender</th>\n",
              "      <th>race</th>\n",
              "      <th>parent_edu</th>\n",
              "      <th>lunch_type</th>\n",
              "      <th>test_completed</th>\n",
              "      <th>math_score</th>\n",
              "      <th>reading_score</th>\n",
              "      <th>writing_score</th>\n",
              "    </tr>\n",
              "  </thead>\n",
              "  <tbody>\n",
              "    <tr>\n",
              "      <th>0</th>\n",
              "      <td>female</td>\n",
              "      <td>group B</td>\n",
              "      <td>bachelor's degree</td>\n",
              "      <td>standard</td>\n",
              "      <td>none</td>\n",
              "      <td>72</td>\n",
              "      <td>72</td>\n",
              "      <td>74</td>\n",
              "    </tr>\n",
              "    <tr>\n",
              "      <th>1</th>\n",
              "      <td>female</td>\n",
              "      <td>group C</td>\n",
              "      <td>some college</td>\n",
              "      <td>standard</td>\n",
              "      <td>completed</td>\n",
              "      <td>69</td>\n",
              "      <td>90</td>\n",
              "      <td>88</td>\n",
              "    </tr>\n",
              "    <tr>\n",
              "      <th>2</th>\n",
              "      <td>female</td>\n",
              "      <td>group B</td>\n",
              "      <td>master's degree</td>\n",
              "      <td>standard</td>\n",
              "      <td>none</td>\n",
              "      <td>90</td>\n",
              "      <td>95</td>\n",
              "      <td>93</td>\n",
              "    </tr>\n",
              "    <tr>\n",
              "      <th>3</th>\n",
              "      <td>male</td>\n",
              "      <td>group A</td>\n",
              "      <td>associate's degree</td>\n",
              "      <td>free/reduced</td>\n",
              "      <td>none</td>\n",
              "      <td>47</td>\n",
              "      <td>57</td>\n",
              "      <td>44</td>\n",
              "    </tr>\n",
              "    <tr>\n",
              "      <th>4</th>\n",
              "      <td>male</td>\n",
              "      <td>group C</td>\n",
              "      <td>some college</td>\n",
              "      <td>standard</td>\n",
              "      <td>none</td>\n",
              "      <td>76</td>\n",
              "      <td>78</td>\n",
              "      <td>75</td>\n",
              "    </tr>\n",
              "  </tbody>\n",
              "</table>\n",
              "</div>\n",
              "      <button class=\"colab-df-convert\" onclick=\"convertToInteractive('df-35bd2cd6-659c-4a38-bb6e-b4f40792467a')\"\n",
              "              title=\"Convert this dataframe to an interactive table.\"\n",
              "              style=\"display:none;\">\n",
              "        \n",
              "  <svg xmlns=\"http://www.w3.org/2000/svg\" height=\"24px\"viewBox=\"0 0 24 24\"\n",
              "       width=\"24px\">\n",
              "    <path d=\"M0 0h24v24H0V0z\" fill=\"none\"/>\n",
              "    <path d=\"M18.56 5.44l.94 2.06.94-2.06 2.06-.94-2.06-.94-.94-2.06-.94 2.06-2.06.94zm-11 1L8.5 8.5l.94-2.06 2.06-.94-2.06-.94L8.5 2.5l-.94 2.06-2.06.94zm10 10l.94 2.06.94-2.06 2.06-.94-2.06-.94-.94-2.06-.94 2.06-2.06.94z\"/><path d=\"M17.41 7.96l-1.37-1.37c-.4-.4-.92-.59-1.43-.59-.52 0-1.04.2-1.43.59L10.3 9.45l-7.72 7.72c-.78.78-.78 2.05 0 2.83L4 21.41c.39.39.9.59 1.41.59.51 0 1.02-.2 1.41-.59l7.78-7.78 2.81-2.81c.8-.78.8-2.07 0-2.86zM5.41 20L4 18.59l7.72-7.72 1.47 1.35L5.41 20z\"/>\n",
              "  </svg>\n",
              "      </button>\n",
              "      \n",
              "  <style>\n",
              "    .colab-df-container {\n",
              "      display:flex;\n",
              "      flex-wrap:wrap;\n",
              "      gap: 12px;\n",
              "    }\n",
              "\n",
              "    .colab-df-convert {\n",
              "      background-color: #E8F0FE;\n",
              "      border: none;\n",
              "      border-radius: 50%;\n",
              "      cursor: pointer;\n",
              "      display: none;\n",
              "      fill: #1967D2;\n",
              "      height: 32px;\n",
              "      padding: 0 0 0 0;\n",
              "      width: 32px;\n",
              "    }\n",
              "\n",
              "    .colab-df-convert:hover {\n",
              "      background-color: #E2EBFA;\n",
              "      box-shadow: 0px 1px 2px rgba(60, 64, 67, 0.3), 0px 1px 3px 1px rgba(60, 64, 67, 0.15);\n",
              "      fill: #174EA6;\n",
              "    }\n",
              "\n",
              "    [theme=dark] .colab-df-convert {\n",
              "      background-color: #3B4455;\n",
              "      fill: #D2E3FC;\n",
              "    }\n",
              "\n",
              "    [theme=dark] .colab-df-convert:hover {\n",
              "      background-color: #434B5C;\n",
              "      box-shadow: 0px 1px 3px 1px rgba(0, 0, 0, 0.15);\n",
              "      filter: drop-shadow(0px 1px 2px rgba(0, 0, 0, 0.3));\n",
              "      fill: #FFFFFF;\n",
              "    }\n",
              "  </style>\n",
              "\n",
              "      <script>\n",
              "        const buttonEl =\n",
              "          document.querySelector('#df-35bd2cd6-659c-4a38-bb6e-b4f40792467a button.colab-df-convert');\n",
              "        buttonEl.style.display =\n",
              "          google.colab.kernel.accessAllowed ? 'block' : 'none';\n",
              "\n",
              "        async function convertToInteractive(key) {\n",
              "          const element = document.querySelector('#df-35bd2cd6-659c-4a38-bb6e-b4f40792467a');\n",
              "          const dataTable =\n",
              "            await google.colab.kernel.invokeFunction('convertToInteractive',\n",
              "                                                     [key], {});\n",
              "          if (!dataTable) return;\n",
              "\n",
              "          const docLinkHtml = 'Like what you see? Visit the ' +\n",
              "            '<a target=\"_blank\" href=https://colab.research.google.com/notebooks/data_table.ipynb>data table notebook</a>'\n",
              "            + ' to learn more about interactive tables.';\n",
              "          element.innerHTML = '';\n",
              "          dataTable['output_type'] = 'display_data';\n",
              "          await google.colab.output.renderOutput(dataTable, element);\n",
              "          const docLink = document.createElement('div');\n",
              "          docLink.innerHTML = docLinkHtml;\n",
              "          element.appendChild(docLink);\n",
              "        }\n",
              "      </script>\n",
              "    </div>\n",
              "  </div>\n",
              "  "
            ],
            "text/plain": [
              "   gender     race  ... reading_score writing_score\n",
              "0  female  group B  ...            72            74\n",
              "1  female  group C  ...            90            88\n",
              "2  female  group B  ...            95            93\n",
              "3    male  group A  ...            57            44\n",
              "4    male  group C  ...            78            75\n",
              "\n",
              "[5 rows x 8 columns]"
            ]
          },
          "metadata": {},
          "execution_count": 12
        }
      ]
    },
    {
      "cell_type": "code",
      "source": [
        "# VISUALIZE\n",
        "fig = px.histogram(df, x='race')\n",
        "fig.update_xaxes(categoryorder=\"category ascending\")\n",
        "fig.show()"
      ],
      "metadata": {
        "colab": {
          "base_uri": "https://localhost:8080/",
          "height": 542
        },
        "id": "AjO3MAfr1fK-",
        "outputId": "b76b515a-f023-4efe-f07d-aa7ecb493c0d"
      },
      "execution_count": 15,
      "outputs": [
        {
          "output_type": "display_data",
          "data": {
            "text/html": [
              "<html>\n",
              "<head><meta charset=\"utf-8\" /></head>\n",
              "<body>\n",
              "    <div>            <script src=\"https://cdnjs.cloudflare.com/ajax/libs/mathjax/2.7.5/MathJax.js?config=TeX-AMS-MML_SVG\"></script><script type=\"text/javascript\">if (window.MathJax) {MathJax.Hub.Config({SVG: {font: \"STIX-Web\"}});}</script>                <script type=\"text/javascript\">window.PlotlyConfig = {MathJaxConfig: 'local'};</script>\n",
              "        <script src=\"https://cdn.plot.ly/plotly-2.8.3.min.js\"></script>                <div id=\"e339285a-f475-45cd-b3c6-80118091a17e\" class=\"plotly-graph-div\" style=\"height:525px; width:100%;\"></div>            <script type=\"text/javascript\">                                    window.PLOTLYENV=window.PLOTLYENV || {};                                    if (document.getElementById(\"e339285a-f475-45cd-b3c6-80118091a17e\")) {                    Plotly.newPlot(                        \"e339285a-f475-45cd-b3c6-80118091a17e\",                        [{\"alignmentgroup\":\"True\",\"bingroup\":\"x\",\"hovertemplate\":\"race=%{x}<br>count=%{y}<extra></extra>\",\"legendgroup\":\"\",\"marker\":{\"color\":\"#636efa\",\"pattern\":{\"shape\":\"\"}},\"name\":\"\",\"offsetgroup\":\"\",\"orientation\":\"v\",\"showlegend\":false,\"x\":[\"group B\",\"group C\",\"group B\",\"group A\",\"group C\",\"group B\",\"group B\",\"group B\",\"group D\",\"group B\",\"group C\",\"group D\",\"group B\",\"group A\",\"group A\",\"group C\",\"group C\",\"group B\",\"group C\",\"group C\",\"group D\",\"group B\",\"group D\",\"group C\",\"group D\",\"group A\",\"group B\",\"group C\",\"group C\",\"group D\",\"group D\",\"group B\",\"group E\",\"group D\",\"group E\",\"group E\",\"group D\",\"group D\",\"group D\",\"group B\",\"group C\",\"group C\",\"group B\",\"group B\",\"group E\",\"group B\",\"group A\",\"group C\",\"group D\",\"group C\",\"group E\",\"group E\",\"group C\",\"group D\",\"group C\",\"group C\",\"group E\",\"group D\",\"group D\",\"group C\",\"group E\",\"group A\",\"group A\",\"group C\",\"group D\",\"group B\",\"group D\",\"group C\",\"group B\",\"group C\",\"group D\",\"group D\",\"group A\",\"group C\",\"group C\",\"group B\",\"group E\",\"group A\",\"group D\",\"group E\",\"group B\",\"group B\",\"group A\",\"group E\",\"group D\",\"group C\",\"group C\",\"group D\",\"group A\",\"group D\",\"group C\",\"group C\",\"group C\",\"group C\",\"group B\",\"group C\",\"group B\",\"group E\",\"group D\",\"group D\",\"group B\",\"group D\",\"group D\",\"group B\",\"group C\",\"group C\",\"group D\",\"group E\",\"group B\",\"group B\",\"group D\",\"group C\",\"group A\",\"group D\",\"group E\",\"group C\",\"group B\",\"group D\",\"group D\",\"group C\",\"group C\",\"group B\",\"group C\",\"group D\",\"group E\",\"group B\",\"group B\",\"group D\",\"group D\",\"group A\",\"group D\",\"group C\",\"group E\",\"group C\",\"group D\",\"group C\",\"group B\",\"group E\",\"group C\",\"group D\",\"group D\",\"group C\",\"group E\",\"group A\",\"group D\",\"group C\",\"group B\",\"group C\",\"group D\",\"group E\",\"group A\",\"group A\",\"group B\",\"group D\",\"group D\",\"group C\",\"group E\",\"group B\",\"group B\",\"group D\",\"group B\",\"group E\",\"group B\",\"group C\",\"group E\",\"group C\",\"group C\",\"group B\",\"group B\",\"group C\",\"group A\",\"group E\",\"group D\",\"group C\",\"group C\",\"group C\",\"group B\",\"group C\",\"group B\",\"group D\",\"group C\",\"group C\",\"group E\",\"group D\",\"group C\",\"group C\",\"group E\",\"group D\",\"group B\",\"group C\",\"group E\",\"group D\",\"group B\",\"group D\",\"group C\",\"group D\",\"group C\",\"group E\",\"group B\",\"group B\",\"group C\",\"group D\",\"group C\",\"group B\",\"group C\",\"group D\",\"group E\",\"group E\",\"group B\",\"group B\",\"group D\",\"group C\",\"group C\",\"group C\",\"group E\",\"group B\",\"group E\",\"group C\",\"group B\",\"group B\",\"group D\",\"group B\",\"group C\",\"group D\",\"group B\",\"group E\",\"group C\",\"group D\",\"group A\",\"group C\",\"group D\",\"group C\",\"group B\",\"group E\",\"group C\",\"group D\",\"group D\",\"group D\",\"group B\",\"group C\",\"group D\",\"group E\",\"group D\",\"group E\",\"group D\",\"group C\",\"group E\",\"group B\",\"group B\",\"group C\",\"group A\",\"group D\",\"group B\",\"group D\",\"group D\",\"group E\",\"group C\",\"group C\",\"group B\",\"group C\",\"group C\",\"group C\",\"group C\",\"group E\",\"group D\",\"group D\",\"group C\",\"group D\",\"group D\",\"group E\",\"group C\",\"group C\",\"group D\",\"group D\",\"group B\",\"group C\",\"group C\",\"group E\",\"group C\",\"group B\",\"group D\",\"group D\",\"group D\",\"group D\",\"group B\",\"group B\",\"group E\",\"group B\",\"group B\",\"group E\",\"group C\",\"group D\",\"group C\",\"group E\",\"group D\",\"group B\",\"group A\",\"group E\",\"group C\",\"group D\",\"group A\",\"group D\",\"group C\",\"group B\",\"group C\",\"group A\",\"group E\",\"group C\",\"group B\",\"group D\",\"group B\",\"group B\",\"group D\",\"group C\",\"group C\",\"group C\",\"group D\",\"group C\",\"group B\",\"group D\",\"group C\",\"group E\",\"group C\",\"group C\",\"group C\",\"group C\",\"group C\",\"group A\",\"group C\",\"group B\",\"group C\",\"group C\",\"group E\",\"group B\",\"group C\",\"group B\",\"group D\",\"group C\",\"group B\",\"group D\",\"group C\",\"group C\",\"group B\",\"group D\",\"group D\",\"group C\",\"group B\",\"group C\",\"group D\",\"group E\",\"group B\",\"group E\",\"group C\",\"group C\",\"group C\",\"group B\",\"group A\",\"group C\",\"group D\",\"group D\",\"group B\",\"group B\",\"group C\",\"group D\",\"group C\",\"group A\",\"group C\",\"group C\",\"group A\",\"group D\",\"group E\",\"group C\",\"group D\",\"group D\",\"group D\",\"group E\",\"group D\",\"group D\",\"group A\",\"group A\",\"group B\",\"group C\",\"group C\",\"group E\",\"group A\",\"group E\",\"group E\",\"group C\",\"group D\",\"group D\",\"group E\",\"group D\",\"group E\",\"group C\",\"group C\",\"group A\",\"group B\",\"group C\",\"group B\",\"group D\",\"group C\",\"group A\",\"group A\",\"group D\",\"group C\",\"group C\",\"group B\",\"group B\",\"group D\",\"group D\",\"group D\",\"group E\",\"group D\",\"group B\",\"group C\",\"group E\",\"group C\",\"group C\",\"group D\",\"group E\",\"group C\",\"group D\",\"group D\",\"group A\",\"group B\",\"group C\",\"group C\",\"group C\",\"group A\",\"group C\",\"group C\",\"group C\",\"group C\",\"group A\",\"group C\",\"group C\",\"group D\",\"group D\",\"group C\",\"group D\",\"group C\",\"group D\",\"group A\",\"group B\",\"group A\",\"group C\",\"group D\",\"group C\",\"group B\",\"group B\",\"group C\",\"group E\",\"group C\",\"group C\",\"group C\",\"group C\",\"group D\",\"group D\",\"group E\",\"group B\",\"group C\",\"group B\",\"group E\",\"group C\",\"group A\",\"group C\",\"group D\",\"group A\",\"group A\",\"group C\",\"group C\",\"group C\",\"group C\",\"group D\",\"group B\",\"group D\",\"group E\",\"group D\",\"group D\",\"group E\",\"group B\",\"group D\",\"group C\",\"group A\",\"group B\",\"group C\",\"group D\",\"group C\",\"group B\",\"group A\",\"group A\",\"group C\",\"group C\",\"group C\",\"group B\",\"group D\",\"group C\",\"group D\",\"group B\",\"group E\",\"group D\",\"group B\",\"group C\",\"group E\",\"group D\",\"group B\",\"group A\",\"group B\",\"group C\",\"group C\",\"group D\",\"group A\",\"group D\",\"group B\",\"group B\",\"group C\",\"group D\",\"group E\",\"group D\",\"group B\",\"group D\",\"group C\",\"group D\",\"group C\",\"group C\",\"group E\",\"group C\",\"group C\",\"group D\",\"group C\",\"group C\",\"group C\",\"group E\",\"group E\",\"group B\",\"group C\",\"group C\",\"group D\",\"group E\",\"group A\",\"group C\",\"group D\",\"group C\",\"group D\",\"group D\",\"group E\",\"group A\",\"group C\",\"group C\",\"group C\",\"group C\",\"group B\",\"group B\",\"group D\",\"group E\",\"group C\",\"group C\",\"group C\",\"group B\",\"group D\",\"group D\",\"group C\",\"group C\",\"group D\",\"group B\",\"group B\",\"group E\",\"group D\",\"group B\",\"group D\",\"group B\",\"group A\",\"group C\",\"group C\",\"group E\",\"group A\",\"group A\",\"group B\",\"group B\",\"group D\",\"group D\",\"group E\",\"group D\",\"group D\",\"group D\",\"group C\",\"group A\",\"group C\",\"group C\",\"group A\",\"group C\",\"group A\",\"group E\",\"group E\",\"group C\",\"group C\",\"group B\",\"group A\",\"group D\",\"group D\",\"group D\",\"group C\",\"group E\",\"group D\",\"group D\",\"group C\",\"group C\",\"group C\",\"group E\",\"group B\",\"group D\",\"group C\",\"group C\",\"group C\",\"group A\",\"group C\",\"group E\",\"group D\",\"group D\",\"group C\",\"group C\",\"group B\",\"group C\",\"group A\",\"group E\",\"group D\",\"group B\",\"group D\",\"group D\",\"group C\",\"group D\",\"group B\",\"group B\",\"group C\",\"group D\",\"group A\",\"group B\",\"group D\",\"group E\",\"group D\",\"group D\",\"group D\",\"group B\",\"group E\",\"group B\",\"group B\",\"group D\",\"group E\",\"group B\",\"group D\",\"group C\",\"group A\",\"group D\",\"group A\",\"group B\",\"group B\",\"group C\",\"group D\",\"group D\",\"group D\",\"group C\",\"group C\",\"group D\",\"group C\",\"group D\",\"group C\",\"group C\",\"group B\",\"group C\",\"group D\",\"group C\",\"group D\",\"group C\",\"group C\",\"group D\",\"group B\",\"group E\",\"group C\",\"group D\",\"group D\",\"group D\",\"group B\",\"group B\",\"group C\",\"group B\",\"group E\",\"group E\",\"group D\",\"group A\",\"group E\",\"group C\",\"group E\",\"group C\",\"group D\",\"group C\",\"group D\",\"group C\",\"group A\",\"group D\",\"group C\",\"group E\",\"group B\",\"group A\",\"group D\",\"group B\",\"group A\",\"group D\",\"group C\",\"group D\",\"group D\",\"group C\",\"group E\",\"group D\",\"group D\",\"group B\",\"group B\",\"group C\",\"group C\",\"group C\",\"group E\",\"group C\",\"group D\",\"group B\",\"group C\",\"group B\",\"group E\",\"group E\",\"group E\",\"group D\",\"group C\",\"group B\",\"group A\",\"group C\",\"group D\",\"group E\",\"group C\",\"group C\",\"group B\",\"group D\",\"group C\",\"group D\",\"group A\",\"group C\",\"group C\",\"group B\",\"group D\",\"group D\",\"group C\",\"group C\",\"group B\",\"group D\",\"group E\",\"group C\",\"group C\",\"group C\",\"group E\",\"group D\",\"group E\",\"group D\",\"group B\",\"group C\",\"group D\",\"group D\",\"group B\",\"group D\",\"group B\",\"group C\",\"group B\",\"group D\",\"group A\",\"group B\",\"group D\",\"group B\",\"group C\",\"group B\",\"group B\",\"group B\",\"group C\",\"group A\",\"group E\",\"group D\",\"group B\",\"group B\",\"group C\",\"group C\",\"group B\",\"group E\",\"group B\",\"group C\",\"group C\",\"group B\",\"group D\",\"group D\",\"group E\",\"group B\",\"group E\",\"group D\",\"group E\",\"group E\",\"group C\",\"group C\",\"group C\",\"group E\",\"group B\",\"group C\",\"group A\",\"group D\",\"group E\",\"group C\",\"group B\",\"group A\",\"group A\",\"group C\",\"group E\",\"group C\",\"group B\",\"group A\",\"group D\",\"group B\",\"group C\",\"group A\",\"group D\",\"group E\",\"group B\",\"group C\",\"group C\",\"group C\",\"group C\",\"group D\",\"group B\",\"group A\",\"group C\",\"group A\",\"group B\",\"group B\",\"group C\",\"group E\",\"group A\",\"group B\",\"group C\",\"group D\",\"group C\",\"group B\",\"group B\",\"group D\",\"group E\",\"group C\",\"group D\",\"group C\",\"group D\",\"group C\",\"group A\",\"group E\",\"group E\",\"group C\",\"group B\",\"group B\",\"group C\",\"group B\",\"group C\",\"group C\",\"group E\",\"group D\",\"group C\",\"group C\",\"group D\",\"group C\",\"group B\",\"group E\",\"group C\",\"group B\",\"group C\",\"group B\",\"group E\",\"group C\",\"group C\",\"group D\",\"group C\",\"group D\",\"group D\",\"group C\",\"group E\",\"group B\",\"group D\",\"group E\",\"group C\",\"group E\",\"group C\",\"group D\",\"group D\",\"group E\",\"group E\",\"group A\",\"group D\",\"group E\",\"group E\",\"group B\",\"group B\",\"group D\",\"group D\",\"group D\",\"group C\",\"group A\",\"group D\",\"group D\",\"group D\",\"group B\",\"group D\",\"group C\",\"group E\",\"group D\",\"group A\",\"group C\",\"group C\",\"group B\",\"group E\",\"group E\",\"group C\",\"group C\",\"group B\",\"group D\",\"group C\",\"group D\",\"group B\",\"group D\",\"group E\",\"group E\",\"group D\",\"group E\",\"group C\",\"group C\",\"group D\",\"group D\",\"group C\",\"group C\",\"group D\",\"group A\",\"group E\",\"group D\",\"group D\",\"group C\",\"group D\",\"group C\",\"group A\",\"group B\",\"group C\",\"group B\",\"group D\",\"group B\",\"group E\",\"group E\",\"group D\",\"group E\",\"group C\",\"group C\",\"group E\",\"group C\",\"group D\",\"group D\",\"group C\",\"group A\",\"group D\",\"group E\",\"group C\",\"group D\",\"group D\",\"group A\",\"group C\",\"group E\",\"group B\",\"group D\",\"group C\",\"group A\",\"group D\",\"group A\",\"group C\",\"group B\",\"group C\",\"group D\",\"group C\",\"group B\",\"group D\",\"group B\",\"group A\",\"group C\",\"group A\",\"group C\",\"group E\",\"group A\",\"group D\",\"group E\",\"group B\",\"group D\",\"group D\",\"group A\",\"group E\",\"group C\",\"group C\",\"group D\",\"group D\"],\"xaxis\":\"x\",\"yaxis\":\"y\",\"type\":\"histogram\"}],                        {\"template\":{\"data\":{\"bar\":[{\"error_x\":{\"color\":\"#2a3f5f\"},\"error_y\":{\"color\":\"#2a3f5f\"},\"marker\":{\"line\":{\"color\":\"#E5ECF6\",\"width\":0.5},\"pattern\":{\"fillmode\":\"overlay\",\"size\":10,\"solidity\":0.2}},\"type\":\"bar\"}],\"barpolar\":[{\"marker\":{\"line\":{\"color\":\"#E5ECF6\",\"width\":0.5},\"pattern\":{\"fillmode\":\"overlay\",\"size\":10,\"solidity\":0.2}},\"type\":\"barpolar\"}],\"carpet\":[{\"aaxis\":{\"endlinecolor\":\"#2a3f5f\",\"gridcolor\":\"white\",\"linecolor\":\"white\",\"minorgridcolor\":\"white\",\"startlinecolor\":\"#2a3f5f\"},\"baxis\":{\"endlinecolor\":\"#2a3f5f\",\"gridcolor\":\"white\",\"linecolor\":\"white\",\"minorgridcolor\":\"white\",\"startlinecolor\":\"#2a3f5f\"},\"type\":\"carpet\"}],\"choropleth\":[{\"colorbar\":{\"outlinewidth\":0,\"ticks\":\"\"},\"type\":\"choropleth\"}],\"contour\":[{\"colorbar\":{\"outlinewidth\":0,\"ticks\":\"\"},\"colorscale\":[[0.0,\"#0d0887\"],[0.1111111111111111,\"#46039f\"],[0.2222222222222222,\"#7201a8\"],[0.3333333333333333,\"#9c179e\"],[0.4444444444444444,\"#bd3786\"],[0.5555555555555556,\"#d8576b\"],[0.6666666666666666,\"#ed7953\"],[0.7777777777777778,\"#fb9f3a\"],[0.8888888888888888,\"#fdca26\"],[1.0,\"#f0f921\"]],\"type\":\"contour\"}],\"contourcarpet\":[{\"colorbar\":{\"outlinewidth\":0,\"ticks\":\"\"},\"type\":\"contourcarpet\"}],\"heatmap\":[{\"colorbar\":{\"outlinewidth\":0,\"ticks\":\"\"},\"colorscale\":[[0.0,\"#0d0887\"],[0.1111111111111111,\"#46039f\"],[0.2222222222222222,\"#7201a8\"],[0.3333333333333333,\"#9c179e\"],[0.4444444444444444,\"#bd3786\"],[0.5555555555555556,\"#d8576b\"],[0.6666666666666666,\"#ed7953\"],[0.7777777777777778,\"#fb9f3a\"],[0.8888888888888888,\"#fdca26\"],[1.0,\"#f0f921\"]],\"type\":\"heatmap\"}],\"heatmapgl\":[{\"colorbar\":{\"outlinewidth\":0,\"ticks\":\"\"},\"colorscale\":[[0.0,\"#0d0887\"],[0.1111111111111111,\"#46039f\"],[0.2222222222222222,\"#7201a8\"],[0.3333333333333333,\"#9c179e\"],[0.4444444444444444,\"#bd3786\"],[0.5555555555555556,\"#d8576b\"],[0.6666666666666666,\"#ed7953\"],[0.7777777777777778,\"#fb9f3a\"],[0.8888888888888888,\"#fdca26\"],[1.0,\"#f0f921\"]],\"type\":\"heatmapgl\"}],\"histogram\":[{\"marker\":{\"pattern\":{\"fillmode\":\"overlay\",\"size\":10,\"solidity\":0.2}},\"type\":\"histogram\"}],\"histogram2d\":[{\"colorbar\":{\"outlinewidth\":0,\"ticks\":\"\"},\"colorscale\":[[0.0,\"#0d0887\"],[0.1111111111111111,\"#46039f\"],[0.2222222222222222,\"#7201a8\"],[0.3333333333333333,\"#9c179e\"],[0.4444444444444444,\"#bd3786\"],[0.5555555555555556,\"#d8576b\"],[0.6666666666666666,\"#ed7953\"],[0.7777777777777778,\"#fb9f3a\"],[0.8888888888888888,\"#fdca26\"],[1.0,\"#f0f921\"]],\"type\":\"histogram2d\"}],\"histogram2dcontour\":[{\"colorbar\":{\"outlinewidth\":0,\"ticks\":\"\"},\"colorscale\":[[0.0,\"#0d0887\"],[0.1111111111111111,\"#46039f\"],[0.2222222222222222,\"#7201a8\"],[0.3333333333333333,\"#9c179e\"],[0.4444444444444444,\"#bd3786\"],[0.5555555555555556,\"#d8576b\"],[0.6666666666666666,\"#ed7953\"],[0.7777777777777778,\"#fb9f3a\"],[0.8888888888888888,\"#fdca26\"],[1.0,\"#f0f921\"]],\"type\":\"histogram2dcontour\"}],\"mesh3d\":[{\"colorbar\":{\"outlinewidth\":0,\"ticks\":\"\"},\"type\":\"mesh3d\"}],\"parcoords\":[{\"line\":{\"colorbar\":{\"outlinewidth\":0,\"ticks\":\"\"}},\"type\":\"parcoords\"}],\"pie\":[{\"automargin\":true,\"type\":\"pie\"}],\"scatter\":[{\"marker\":{\"colorbar\":{\"outlinewidth\":0,\"ticks\":\"\"}},\"type\":\"scatter\"}],\"scatter3d\":[{\"line\":{\"colorbar\":{\"outlinewidth\":0,\"ticks\":\"\"}},\"marker\":{\"colorbar\":{\"outlinewidth\":0,\"ticks\":\"\"}},\"type\":\"scatter3d\"}],\"scattercarpet\":[{\"marker\":{\"colorbar\":{\"outlinewidth\":0,\"ticks\":\"\"}},\"type\":\"scattercarpet\"}],\"scattergeo\":[{\"marker\":{\"colorbar\":{\"outlinewidth\":0,\"ticks\":\"\"}},\"type\":\"scattergeo\"}],\"scattergl\":[{\"marker\":{\"colorbar\":{\"outlinewidth\":0,\"ticks\":\"\"}},\"type\":\"scattergl\"}],\"scattermapbox\":[{\"marker\":{\"colorbar\":{\"outlinewidth\":0,\"ticks\":\"\"}},\"type\":\"scattermapbox\"}],\"scatterpolar\":[{\"marker\":{\"colorbar\":{\"outlinewidth\":0,\"ticks\":\"\"}},\"type\":\"scatterpolar\"}],\"scatterpolargl\":[{\"marker\":{\"colorbar\":{\"outlinewidth\":0,\"ticks\":\"\"}},\"type\":\"scatterpolargl\"}],\"scatterternary\":[{\"marker\":{\"colorbar\":{\"outlinewidth\":0,\"ticks\":\"\"}},\"type\":\"scatterternary\"}],\"surface\":[{\"colorbar\":{\"outlinewidth\":0,\"ticks\":\"\"},\"colorscale\":[[0.0,\"#0d0887\"],[0.1111111111111111,\"#46039f\"],[0.2222222222222222,\"#7201a8\"],[0.3333333333333333,\"#9c179e\"],[0.4444444444444444,\"#bd3786\"],[0.5555555555555556,\"#d8576b\"],[0.6666666666666666,\"#ed7953\"],[0.7777777777777778,\"#fb9f3a\"],[0.8888888888888888,\"#fdca26\"],[1.0,\"#f0f921\"]],\"type\":\"surface\"}],\"table\":[{\"cells\":{\"fill\":{\"color\":\"#EBF0F8\"},\"line\":{\"color\":\"white\"}},\"header\":{\"fill\":{\"color\":\"#C8D4E3\"},\"line\":{\"color\":\"white\"}},\"type\":\"table\"}]},\"layout\":{\"annotationdefaults\":{\"arrowcolor\":\"#2a3f5f\",\"arrowhead\":0,\"arrowwidth\":1},\"autotypenumbers\":\"strict\",\"coloraxis\":{\"colorbar\":{\"outlinewidth\":0,\"ticks\":\"\"}},\"colorscale\":{\"diverging\":[[0,\"#8e0152\"],[0.1,\"#c51b7d\"],[0.2,\"#de77ae\"],[0.3,\"#f1b6da\"],[0.4,\"#fde0ef\"],[0.5,\"#f7f7f7\"],[0.6,\"#e6f5d0\"],[0.7,\"#b8e186\"],[0.8,\"#7fbc41\"],[0.9,\"#4d9221\"],[1,\"#276419\"]],\"sequential\":[[0.0,\"#0d0887\"],[0.1111111111111111,\"#46039f\"],[0.2222222222222222,\"#7201a8\"],[0.3333333333333333,\"#9c179e\"],[0.4444444444444444,\"#bd3786\"],[0.5555555555555556,\"#d8576b\"],[0.6666666666666666,\"#ed7953\"],[0.7777777777777778,\"#fb9f3a\"],[0.8888888888888888,\"#fdca26\"],[1.0,\"#f0f921\"]],\"sequentialminus\":[[0.0,\"#0d0887\"],[0.1111111111111111,\"#46039f\"],[0.2222222222222222,\"#7201a8\"],[0.3333333333333333,\"#9c179e\"],[0.4444444444444444,\"#bd3786\"],[0.5555555555555556,\"#d8576b\"],[0.6666666666666666,\"#ed7953\"],[0.7777777777777778,\"#fb9f3a\"],[0.8888888888888888,\"#fdca26\"],[1.0,\"#f0f921\"]]},\"colorway\":[\"#636efa\",\"#EF553B\",\"#00cc96\",\"#ab63fa\",\"#FFA15A\",\"#19d3f3\",\"#FF6692\",\"#B6E880\",\"#FF97FF\",\"#FECB52\"],\"font\":{\"color\":\"#2a3f5f\"},\"geo\":{\"bgcolor\":\"white\",\"lakecolor\":\"white\",\"landcolor\":\"#E5ECF6\",\"showlakes\":true,\"showland\":true,\"subunitcolor\":\"white\"},\"hoverlabel\":{\"align\":\"left\"},\"hovermode\":\"closest\",\"mapbox\":{\"style\":\"light\"},\"paper_bgcolor\":\"white\",\"plot_bgcolor\":\"#E5ECF6\",\"polar\":{\"angularaxis\":{\"gridcolor\":\"white\",\"linecolor\":\"white\",\"ticks\":\"\"},\"bgcolor\":\"#E5ECF6\",\"radialaxis\":{\"gridcolor\":\"white\",\"linecolor\":\"white\",\"ticks\":\"\"}},\"scene\":{\"xaxis\":{\"backgroundcolor\":\"#E5ECF6\",\"gridcolor\":\"white\",\"gridwidth\":2,\"linecolor\":\"white\",\"showbackground\":true,\"ticks\":\"\",\"zerolinecolor\":\"white\"},\"yaxis\":{\"backgroundcolor\":\"#E5ECF6\",\"gridcolor\":\"white\",\"gridwidth\":2,\"linecolor\":\"white\",\"showbackground\":true,\"ticks\":\"\",\"zerolinecolor\":\"white\"},\"zaxis\":{\"backgroundcolor\":\"#E5ECF6\",\"gridcolor\":\"white\",\"gridwidth\":2,\"linecolor\":\"white\",\"showbackground\":true,\"ticks\":\"\",\"zerolinecolor\":\"white\"}},\"shapedefaults\":{\"line\":{\"color\":\"#2a3f5f\"}},\"ternary\":{\"aaxis\":{\"gridcolor\":\"white\",\"linecolor\":\"white\",\"ticks\":\"\"},\"baxis\":{\"gridcolor\":\"white\",\"linecolor\":\"white\",\"ticks\":\"\"},\"bgcolor\":\"#E5ECF6\",\"caxis\":{\"gridcolor\":\"white\",\"linecolor\":\"white\",\"ticks\":\"\"}},\"title\":{\"x\":0.05},\"xaxis\":{\"automargin\":true,\"gridcolor\":\"white\",\"linecolor\":\"white\",\"ticks\":\"\",\"title\":{\"standoff\":15},\"zerolinecolor\":\"white\",\"zerolinewidth\":2},\"yaxis\":{\"automargin\":true,\"gridcolor\":\"white\",\"linecolor\":\"white\",\"ticks\":\"\",\"title\":{\"standoff\":15},\"zerolinecolor\":\"white\",\"zerolinewidth\":2}}},\"xaxis\":{\"anchor\":\"y\",\"domain\":[0.0,1.0],\"title\":{\"text\":\"race\"},\"categoryorder\":\"category ascending\"},\"yaxis\":{\"anchor\":\"x\",\"domain\":[0.0,1.0],\"title\":{\"text\":\"count\"}},\"legend\":{\"tracegroupgap\":0},\"margin\":{\"t\":60},\"barmode\":\"relative\"},                        {\"responsive\": true}                    ).then(function(){\n",
              "                            \n",
              "var gd = document.getElementById('e339285a-f475-45cd-b3c6-80118091a17e');\n",
              "var x = new MutationObserver(function (mutations, observer) {{\n",
              "        var display = window.getComputedStyle(gd).display;\n",
              "        if (!display || display === 'none') {{\n",
              "            console.log([gd, 'removed!']);\n",
              "            Plotly.purge(gd);\n",
              "            observer.disconnect();\n",
              "        }}\n",
              "}});\n",
              "\n",
              "// Listen for the removal of the full notebook cells\n",
              "var notebookContainer = gd.closest('#notebook-container');\n",
              "if (notebookContainer) {{\n",
              "    x.observe(notebookContainer, {childList: true});\n",
              "}}\n",
              "\n",
              "// Listen for the clearing of the current output cell\n",
              "var outputEl = gd.closest('.output');\n",
              "if (outputEl) {{\n",
              "    x.observe(outputEl, {childList: true});\n",
              "}}\n",
              "\n",
              "                        })                };                            </script>        </div>\n",
              "</body>\n",
              "</html>"
            ]
          },
          "metadata": {}
        }
      ]
    },
    {
      "cell_type": "markdown",
      "source": [
        "<p>Based on above, we know the dataset has <b>normal graph</b>. Majority in group C of race.</p>"
      ],
      "metadata": {
        "id": "f7j7ixmH2HTL"
      }
    },
    {
      "cell_type": "code",
      "source": [
        "fig = go.Figure()\n",
        "fig.add_trace(go.Histogram(x=df['math_score'], name='Math Score'))\n",
        "fig.add_trace(go.Histogram(x=df['reading_score'], name='Reading Score'))\n",
        "fig.add_trace(go.Histogram(x=df['writing_score'], name='Writing Score'))\n",
        "\n",
        "# Make Histogram Overlay\n",
        "fig.update_layout(barmode='overlay')\n",
        "\n",
        "# Reduce opacity to seet all histograms\n",
        "fig.update_traces(opacity=0.75)\n",
        "fig.show()"
      ],
      "metadata": {
        "colab": {
          "base_uri": "https://localhost:8080/",
          "height": 542
        },
        "id": "A2WbRzqh1pGs",
        "outputId": "35e675b3-2bb8-49a3-d500-0925f184af4a"
      },
      "execution_count": 22,
      "outputs": [
        {
          "output_type": "display_data",
          "data": {
            "text/html": [
              "<html>\n",
              "<head><meta charset=\"utf-8\" /></head>\n",
              "<body>\n",
              "    <div>            <script src=\"https://cdnjs.cloudflare.com/ajax/libs/mathjax/2.7.5/MathJax.js?config=TeX-AMS-MML_SVG\"></script><script type=\"text/javascript\">if (window.MathJax) {MathJax.Hub.Config({SVG: {font: \"STIX-Web\"}});}</script>                <script type=\"text/javascript\">window.PlotlyConfig = {MathJaxConfig: 'local'};</script>\n",
              "        <script src=\"https://cdn.plot.ly/plotly-2.8.3.min.js\"></script>                <div id=\"ad5e201c-8bd0-4f16-85d2-02dbb79df0b4\" class=\"plotly-graph-div\" style=\"height:525px; width:100%;\"></div>            <script type=\"text/javascript\">                                    window.PLOTLYENV=window.PLOTLYENV || {};                                    if (document.getElementById(\"ad5e201c-8bd0-4f16-85d2-02dbb79df0b4\")) {                    Plotly.newPlot(                        \"ad5e201c-8bd0-4f16-85d2-02dbb79df0b4\",                        [{\"name\":\"Math Score\",\"x\":[72,69,90,47,76,71,88,40,64,38,58,40,65,78,50,69,88,18,46,54,66,65,44,69,74,73,69,67,70,62,69,63,56,40,97,81,74,50,75,57,55,58,53,59,50,65,55,66,57,82,53,77,53,88,71,33,82,52,58,0,79,39,62,69,59,67,45,60,61,39,58,63,41,61,49,44,30,80,61,62,47,49,50,72,42,73,76,71,58,73,65,27,71,43,79,78,65,63,58,65,79,68,85,60,98,58,87,66,52,70,77,62,54,51,99,84,75,78,51,55,79,91,88,63,83,87,72,65,82,51,89,53,87,75,74,58,51,70,59,71,76,59,42,57,88,22,88,73,68,100,62,77,59,54,62,70,66,60,61,66,82,75,49,52,81,96,53,58,68,67,72,94,79,63,43,81,46,71,52,97,62,46,50,65,45,65,80,62,48,77,66,76,62,77,69,61,59,55,45,78,67,65,69,57,59,74,82,81,74,58,80,35,42,60,87,84,83,34,66,61,56,87,55,86,52,45,72,57,68,88,76,46,67,92,83,80,63,64,54,84,73,80,56,59,75,85,89,58,65,68,47,71,60,80,54,62,64,78,70,65,64,79,44,99,76,59,63,69,88,71,69,58,47,65,88,83,85,59,65,73,53,45,73,70,37,81,97,67,88,77,76,86,63,65,78,67,46,71,40,90,81,56,67,80,74,69,99,51,53,49,73,66,67,68,59,71,77,83,63,56,67,75,71,43,41,82,61,28,82,41,71,47,62,90,83,61,76,49,24,35,58,61,69,67,79,72,62,77,75,87,52,66,63,46,59,61,63,42,59,80,58,85,52,27,59,49,69,61,44,73,84,45,74,82,59,46,80,85,71,66,80,87,79,38,38,67,64,57,62,73,73,77,76,57,65,48,50,85,74,60,59,53,49,88,54,63,65,82,52,87,70,84,71,63,51,84,71,74,68,57,82,57,47,59,41,62,86,69,65,68,64,61,61,47,73,50,75,75,70,89,67,78,59,73,79,67,69,86,47,81,64,100,65,65,53,37,79,53,100,72,53,54,71,77,75,84,26,72,77,91,83,63,68,59,90,71,76,80,55,76,73,52,68,59,49,70,61,60,64,79,65,64,83,81,54,68,54,59,66,76,74,94,63,95,40,82,68,55,79,86,76,64,62,54,77,76,74,66,66,67,71,91,69,54,53,68,56,36,29,62,68,47,62,79,73,66,51,51,85,97,75,79,81,82,64,78,92,72,62,79,79,87,40,77,53,32,55,61,53,73,74,63,96,63,48,48,92,61,63,68,71,91,53,50,74,40,61,81,48,53,81,77,63,73,69,65,55,44,54,48,58,71,68,74,92,56,30,53,69,65,54,29,76,60,84,75,85,40,61,58,69,58,94,65,82,60,37,88,95,65,35,62,58,100,61,100,69,61,49,44,67,79,66,75,84,71,67,80,86,76,41,74,72,74,70,65,59,64,50,69,51,68,85,65,73,62,77,69,43,90,74,73,55,65,80,50,63,77,73,81,66,52,69,65,69,50,73,70,81,63,67,60,62,29,62,94,85,77,53,93,49,73,66,77,49,79,75,59,57,66,79,57,87,63,59,62,46,66,89,42,93,80,98,81,60,76,73,96,76,91,62,55,74,50,47,81,65,68,73,53,68,55,87,55,53,67,92,53,81,61,80,37,81,59,55,72,69,69,50,87,71,68,79,77,58,84,55,70,52,69,53,48,78,62,60,74,58,76,68,58,52,75,52,62,66,49,66,35,72,94,46,77,76,52,91,32,72,19,68,52,48,60,66,89,42,57,70,70,69,52,67,76,87,82,73,75,64,41,90,59,51,45,54,87,72,94,45,61,60,77,85,78,49,71,48,62,56,65,69,68,61,74,64,77,58,60,73,75,58,66,39,64,23,74,40,90,91,64,59,80,71,61,87,82,62,97,75,65,52,87,53,81,39,71,97,82,59,61,78,49,59,70,82,90,43,80,81,57,59,64,63,71,64,55,51,62,93,54,69,44,86,85,50,88,59,32,36,63,67,65,85,73,34,93,67,88,57,79,67,70,50,69,52,47,46,68,100,44,57,91,69,35,72,54,74,74,64,65,46,48,67,62,61,70,98,70,67,57,85,77,72,78,81,61,58,54,82,49,49,57,94,75,74,58,62,72,84,92,45,75,56,48,100,65,72,62,66,63,68,75,89,78,53,49,54,64,60,62,55,91,8,81,79,78,74,57,40,81,44,67,86,65,55,62,63,88,62,59,68,77],\"type\":\"histogram\",\"opacity\":0.75},{\"name\":\"Reading Score\",\"x\":[72,90,95,57,78,83,95,43,64,60,54,52,81,72,53,75,89,32,42,58,69,75,54,73,71,74,54,69,70,70,74,65,72,42,87,81,81,64,90,56,61,73,58,65,56,54,65,71,74,84,55,69,44,78,84,41,85,55,59,17,74,39,61,80,58,64,37,72,58,64,63,55,51,57,49,41,26,78,74,68,49,45,47,64,39,80,83,71,70,86,72,34,79,45,86,81,66,72,67,67,67,74,91,44,86,67,100,63,76,64,89,55,53,58,100,77,85,82,63,69,92,89,93,57,80,95,68,77,82,49,84,37,74,81,79,55,54,55,66,61,72,62,55,43,73,39,84,68,75,100,67,67,70,49,67,89,74,60,86,62,78,88,53,53,92,100,51,76,83,75,73,88,86,67,51,91,54,77,70,100,68,64,50,69,52,67,76,66,52,88,65,83,64,62,84,55,69,56,53,79,84,81,77,69,41,71,62,80,81,61,79,28,62,51,91,83,86,42,77,56,68,85,65,80,66,56,72,50,72,95,64,43,86,87,82,75,66,60,52,80,68,83,52,51,74,76,76,70,64,60,49,83,70,80,52,73,73,77,75,81,79,79,50,93,73,42,75,72,92,76,63,49,53,70,85,78,92,63,86,56,52,48,79,78,46,82,82,89,75,76,70,73,60,73,77,62,41,74,46,87,78,54,84,76,75,67,87,52,71,57,76,60,61,67,64,66,82,72,71,65,79,86,81,53,46,90,61,23,75,55,60,37,56,78,93,68,70,51,38,55,61,73,76,72,73,80,61,94,74,74,65,57,78,58,71,72,61,66,62,90,62,84,58,34,60,58,58,66,64,84,77,73,74,97,70,43,90,95,83,64,86,100,81,49,43,76,73,78,64,70,67,68,67,54,74,45,67,89,63,59,54,43,65,99,59,73,65,80,57,84,71,83,66,67,72,73,74,73,59,56,93,58,58,85,39,67,83,71,59,63,66,72,56,59,66,48,68,66,56,88,81,81,73,83,82,74,66,81,46,73,85,92,77,58,61,56,89,54,100,65,58,54,70,90,58,87,31,67,88,74,85,69,86,67,90,76,62,68,64,71,71,59,68,52,52,74,47,75,53,82,85,64,83,88,64,64,48,78,69,71,79,87,61,89,59,82,70,59,78,92,71,50,49,61,97,87,89,74,78,78,49,86,58,59,52,60,61,53,41,74,67,54,61,88,69,83,60,66,66,92,69,82,77,95,63,83,100,67,67,72,76,90,48,62,45,39,72,67,70,66,75,74,90,80,51,43,100,71,48,68,75,96,62,66,81,55,51,91,56,61,97,79,73,75,77,76,73,63,64,66,57,62,68,76,100,79,24,54,77,82,60,29,78,57,89,72,84,58,64,63,60,59,90,77,93,68,45,78,81,73,61,63,51,96,58,97,70,48,57,51,64,60,74,88,84,74,80,92,76,74,52,88,81,79,65,81,70,62,53,79,56,80,86,70,79,67,67,66,60,87,77,66,71,69,63,60,73,85,74,72,76,57,78,84,77,64,78,82,75,61,72,68,55,40,66,99,75,78,58,90,53,76,74,77,63,89,82,72,78,66,81,67,84,64,63,72,34,59,87,61,84,85,100,81,70,94,78,96,76,73,72,59,90,48,43,74,75,51,92,39,77,46,89,47,58,57,79,66,71,60,73,57,84,73,55,79,75,64,60,84,69,72,77,90,55,95,58,68,59,77,72,58,81,62,63,72,75,62,71,60,48,73,67,78,65,58,72,44,79,85,56,90,85,59,81,51,79,38,65,65,62,66,74,84,52,68,70,84,60,55,73,80,94,85,76,81,74,45,75,54,31,47,64,84,80,86,59,70,72,91,90,90,52,87,58,67,68,69,86,54,60,86,60,82,50,64,64,82,57,77,52,58,44,77,65,85,85,54,72,75,67,68,85,67,64,97,68,79,49,73,62,86,42,71,93,82,53,42,74,51,58,72,84,90,62,64,82,61,72,76,64,70,73,46,51,76,100,72,65,51,85,92,67,74,62,34,29,78,54,78,84,78,48,100,84,77,48,84,75,64,42,84,61,62,61,70,100,61,77,96,70,53,66,65,70,64,56,61,43,56,74,57,71,75,87,63,57,58,81,68,66,91,66,62,68,61,82,58,50,75,73,77,74,52,69,57,87,100,63,81,58,54,100,76,57,70,68,63,76,84,100,72,50,65,63,82,62,65,41,95,24,78,85,87,75,51,59,75,45,86,81,82,76,72,63,99,55,71,78,86],\"type\":\"histogram\",\"opacity\":0.75},{\"name\":\"Writing Score\",\"x\":[74,88,93,44,75,78,92,39,67,50,52,43,73,70,58,78,86,28,46,61,63,70,53,73,80,72,55,75,65,75,74,61,65,38,82,79,83,59,88,57,54,68,65,66,54,57,62,76,76,82,48,68,42,75,87,43,86,49,58,10,72,34,55,71,59,61,37,74,56,57,73,63,48,56,41,38,22,81,72,68,50,45,54,63,34,82,88,74,67,82,74,36,71,50,92,82,62,70,62,62,67,74,89,47,90,72,100,64,70,72,98,49,47,54,100,74,82,79,61,65,89,92,93,56,73,86,67,74,74,51,82,40,70,84,75,48,41,56,67,69,71,64,54,47,78,33,75,66,81,93,69,68,66,47,61,88,78,60,87,64,74,85,52,49,91,100,51,78,78,70,74,78,81,70,54,87,58,77,62,100,75,66,47,70,49,65,65,68,45,87,69,79,66,62,85,52,65,51,55,76,86,77,69,68,42,78,62,76,76,66,79,27,60,56,81,75,88,39,70,56,74,73,62,75,73,54,71,54,64,94,66,42,83,78,84,77,67,74,51,80,66,83,55,43,69,71,74,68,62,53,49,83,70,72,52,70,68,77,78,81,77,78,51,90,68,41,81,77,95,70,61,42,58,71,76,73,93,75,80,57,42,46,84,78,46,82,88,82,76,77,68,70,57,75,80,60,43,68,50,75,81,52,81,64,83,69,81,44,67,52,80,57,68,69,75,65,91,78,69,63,84,79,80,53,43,94,62,19,77,51,61,35,53,81,95,66,69,43,27,60,52,63,74,67,67,75,57,95,66,76,69,52,80,57,70,70,61,69,61,89,59,78,58,32,58,60,53,61,58,85,71,70,72,96,73,41,82,100,77,62,83,95,71,45,43,75,70,67,64,75,59,77,67,56,77,41,63,95,57,54,67,43,55,100,62,68,63,77,56,85,74,78,60,67,79,69,68,67,62,54,93,64,67,80,34,62,86,65,53,54,59,70,55,50,66,53,64,73,51,82,79,80,69,76,73,77,60,80,42,72,85,97,74,49,62,47,89,48,100,68,55,45,76,91,62,91,38,65,85,76,90,74,84,61,91,83,66,72,70,67,68,56,61,46,54,71,56,74,57,82,76,70,90,90,68,66,52,76,68,72,82,92,54,92,54,80,66,54,77,87,73,43,52,62,94,85,84,73,78,79,52,84,57,50,49,59,60,43,47,70,73,53,58,94,68,83,58,62,71,86,68,80,79,89,66,80,97,64,64,69,65,88,50,64,40,33,79,66,70,62,79,74,92,80,46,45,100,78,47,67,70,92,56,64,71,53,52,89,58,68,96,80,78,80,77,76,73,62,65,65,54,50,64,73,99,72,15,48,73,81,63,30,80,51,90,62,82,54,62,65,63,66,91,74,93,72,38,83,84,68,54,56,52,86,62,99,63,46,46,55,70,65,81,85,80,64,81,88,74,73,51,90,79,80,60,81,65,68,55,81,53,76,98,74,79,67,64,61,58,85,73,63,69,67,63,60,71,87,61,77,68,50,76,84,78,66,76,76,78,60,74,60,54,44,68,100,68,73,44,83,53,78,81,73,56,86,90,70,79,59,82,72,87,67,64,65,36,52,79,58,90,85,99,84,74,87,72,99,74,80,70,59,88,42,41,71,77,57,84,37,80,43,94,44,57,59,84,73,73,55,72,56,82,72,47,74,71,68,59,86,68,65,75,85,53,92,52,72,65,77,64,54,86,63,59,72,77,60,75,57,49,74,72,79,60,55,70,43,82,82,57,84,82,62,79,44,77,32,61,61,60,70,69,77,51,73,70,81,54,57,68,73,95,87,78,74,75,40,69,51,36,49,67,76,83,87,64,76,68,88,92,93,51,82,52,58,70,76,81,53,57,89,58,89,45,74,57,79,53,73,46,51,36,76,64,84,85,50,68,69,67,63,93,61,55,96,65,81,46,72,53,87,38,80,91,88,52,41,72,51,47,76,78,82,61,66,84,54,80,74,66,70,71,44,54,80,95,59,74,48,91,85,73,75,69,38,27,79,63,82,89,74,41,100,84,77,51,91,72,70,48,82,66,66,55,66,100,52,80,91,67,46,66,65,69,60,52,71,44,51,70,62,73,74,90,58,53,57,85,69,72,96,64,61,61,58,80,60,52,73,71,83,72,54,69,62,81,100,59,71,64,53,100,75,58,72,64,60,67,80,100,69,60,61,67,77,60,58,48,94,23,78,86,91,82,54,51,76,45,83,75,78,76,74,62,95,55,65,77,86],\"type\":\"histogram\",\"opacity\":0.75}],                        {\"template\":{\"data\":{\"bar\":[{\"error_x\":{\"color\":\"#2a3f5f\"},\"error_y\":{\"color\":\"#2a3f5f\"},\"marker\":{\"line\":{\"color\":\"#E5ECF6\",\"width\":0.5},\"pattern\":{\"fillmode\":\"overlay\",\"size\":10,\"solidity\":0.2}},\"type\":\"bar\"}],\"barpolar\":[{\"marker\":{\"line\":{\"color\":\"#E5ECF6\",\"width\":0.5},\"pattern\":{\"fillmode\":\"overlay\",\"size\":10,\"solidity\":0.2}},\"type\":\"barpolar\"}],\"carpet\":[{\"aaxis\":{\"endlinecolor\":\"#2a3f5f\",\"gridcolor\":\"white\",\"linecolor\":\"white\",\"minorgridcolor\":\"white\",\"startlinecolor\":\"#2a3f5f\"},\"baxis\":{\"endlinecolor\":\"#2a3f5f\",\"gridcolor\":\"white\",\"linecolor\":\"white\",\"minorgridcolor\":\"white\",\"startlinecolor\":\"#2a3f5f\"},\"type\":\"carpet\"}],\"choropleth\":[{\"colorbar\":{\"outlinewidth\":0,\"ticks\":\"\"},\"type\":\"choropleth\"}],\"contour\":[{\"colorbar\":{\"outlinewidth\":0,\"ticks\":\"\"},\"colorscale\":[[0.0,\"#0d0887\"],[0.1111111111111111,\"#46039f\"],[0.2222222222222222,\"#7201a8\"],[0.3333333333333333,\"#9c179e\"],[0.4444444444444444,\"#bd3786\"],[0.5555555555555556,\"#d8576b\"],[0.6666666666666666,\"#ed7953\"],[0.7777777777777778,\"#fb9f3a\"],[0.8888888888888888,\"#fdca26\"],[1.0,\"#f0f921\"]],\"type\":\"contour\"}],\"contourcarpet\":[{\"colorbar\":{\"outlinewidth\":0,\"ticks\":\"\"},\"type\":\"contourcarpet\"}],\"heatmap\":[{\"colorbar\":{\"outlinewidth\":0,\"ticks\":\"\"},\"colorscale\":[[0.0,\"#0d0887\"],[0.1111111111111111,\"#46039f\"],[0.2222222222222222,\"#7201a8\"],[0.3333333333333333,\"#9c179e\"],[0.4444444444444444,\"#bd3786\"],[0.5555555555555556,\"#d8576b\"],[0.6666666666666666,\"#ed7953\"],[0.7777777777777778,\"#fb9f3a\"],[0.8888888888888888,\"#fdca26\"],[1.0,\"#f0f921\"]],\"type\":\"heatmap\"}],\"heatmapgl\":[{\"colorbar\":{\"outlinewidth\":0,\"ticks\":\"\"},\"colorscale\":[[0.0,\"#0d0887\"],[0.1111111111111111,\"#46039f\"],[0.2222222222222222,\"#7201a8\"],[0.3333333333333333,\"#9c179e\"],[0.4444444444444444,\"#bd3786\"],[0.5555555555555556,\"#d8576b\"],[0.6666666666666666,\"#ed7953\"],[0.7777777777777778,\"#fb9f3a\"],[0.8888888888888888,\"#fdca26\"],[1.0,\"#f0f921\"]],\"type\":\"heatmapgl\"}],\"histogram\":[{\"marker\":{\"pattern\":{\"fillmode\":\"overlay\",\"size\":10,\"solidity\":0.2}},\"type\":\"histogram\"}],\"histogram2d\":[{\"colorbar\":{\"outlinewidth\":0,\"ticks\":\"\"},\"colorscale\":[[0.0,\"#0d0887\"],[0.1111111111111111,\"#46039f\"],[0.2222222222222222,\"#7201a8\"],[0.3333333333333333,\"#9c179e\"],[0.4444444444444444,\"#bd3786\"],[0.5555555555555556,\"#d8576b\"],[0.6666666666666666,\"#ed7953\"],[0.7777777777777778,\"#fb9f3a\"],[0.8888888888888888,\"#fdca26\"],[1.0,\"#f0f921\"]],\"type\":\"histogram2d\"}],\"histogram2dcontour\":[{\"colorbar\":{\"outlinewidth\":0,\"ticks\":\"\"},\"colorscale\":[[0.0,\"#0d0887\"],[0.1111111111111111,\"#46039f\"],[0.2222222222222222,\"#7201a8\"],[0.3333333333333333,\"#9c179e\"],[0.4444444444444444,\"#bd3786\"],[0.5555555555555556,\"#d8576b\"],[0.6666666666666666,\"#ed7953\"],[0.7777777777777778,\"#fb9f3a\"],[0.8888888888888888,\"#fdca26\"],[1.0,\"#f0f921\"]],\"type\":\"histogram2dcontour\"}],\"mesh3d\":[{\"colorbar\":{\"outlinewidth\":0,\"ticks\":\"\"},\"type\":\"mesh3d\"}],\"parcoords\":[{\"line\":{\"colorbar\":{\"outlinewidth\":0,\"ticks\":\"\"}},\"type\":\"parcoords\"}],\"pie\":[{\"automargin\":true,\"type\":\"pie\"}],\"scatter\":[{\"marker\":{\"colorbar\":{\"outlinewidth\":0,\"ticks\":\"\"}},\"type\":\"scatter\"}],\"scatter3d\":[{\"line\":{\"colorbar\":{\"outlinewidth\":0,\"ticks\":\"\"}},\"marker\":{\"colorbar\":{\"outlinewidth\":0,\"ticks\":\"\"}},\"type\":\"scatter3d\"}],\"scattercarpet\":[{\"marker\":{\"colorbar\":{\"outlinewidth\":0,\"ticks\":\"\"}},\"type\":\"scattercarpet\"}],\"scattergeo\":[{\"marker\":{\"colorbar\":{\"outlinewidth\":0,\"ticks\":\"\"}},\"type\":\"scattergeo\"}],\"scattergl\":[{\"marker\":{\"colorbar\":{\"outlinewidth\":0,\"ticks\":\"\"}},\"type\":\"scattergl\"}],\"scattermapbox\":[{\"marker\":{\"colorbar\":{\"outlinewidth\":0,\"ticks\":\"\"}},\"type\":\"scattermapbox\"}],\"scatterpolar\":[{\"marker\":{\"colorbar\":{\"outlinewidth\":0,\"ticks\":\"\"}},\"type\":\"scatterpolar\"}],\"scatterpolargl\":[{\"marker\":{\"colorbar\":{\"outlinewidth\":0,\"ticks\":\"\"}},\"type\":\"scatterpolargl\"}],\"scatterternary\":[{\"marker\":{\"colorbar\":{\"outlinewidth\":0,\"ticks\":\"\"}},\"type\":\"scatterternary\"}],\"surface\":[{\"colorbar\":{\"outlinewidth\":0,\"ticks\":\"\"},\"colorscale\":[[0.0,\"#0d0887\"],[0.1111111111111111,\"#46039f\"],[0.2222222222222222,\"#7201a8\"],[0.3333333333333333,\"#9c179e\"],[0.4444444444444444,\"#bd3786\"],[0.5555555555555556,\"#d8576b\"],[0.6666666666666666,\"#ed7953\"],[0.7777777777777778,\"#fb9f3a\"],[0.8888888888888888,\"#fdca26\"],[1.0,\"#f0f921\"]],\"type\":\"surface\"}],\"table\":[{\"cells\":{\"fill\":{\"color\":\"#EBF0F8\"},\"line\":{\"color\":\"white\"}},\"header\":{\"fill\":{\"color\":\"#C8D4E3\"},\"line\":{\"color\":\"white\"}},\"type\":\"table\"}]},\"layout\":{\"annotationdefaults\":{\"arrowcolor\":\"#2a3f5f\",\"arrowhead\":0,\"arrowwidth\":1},\"autotypenumbers\":\"strict\",\"coloraxis\":{\"colorbar\":{\"outlinewidth\":0,\"ticks\":\"\"}},\"colorscale\":{\"diverging\":[[0,\"#8e0152\"],[0.1,\"#c51b7d\"],[0.2,\"#de77ae\"],[0.3,\"#f1b6da\"],[0.4,\"#fde0ef\"],[0.5,\"#f7f7f7\"],[0.6,\"#e6f5d0\"],[0.7,\"#b8e186\"],[0.8,\"#7fbc41\"],[0.9,\"#4d9221\"],[1,\"#276419\"]],\"sequential\":[[0.0,\"#0d0887\"],[0.1111111111111111,\"#46039f\"],[0.2222222222222222,\"#7201a8\"],[0.3333333333333333,\"#9c179e\"],[0.4444444444444444,\"#bd3786\"],[0.5555555555555556,\"#d8576b\"],[0.6666666666666666,\"#ed7953\"],[0.7777777777777778,\"#fb9f3a\"],[0.8888888888888888,\"#fdca26\"],[1.0,\"#f0f921\"]],\"sequentialminus\":[[0.0,\"#0d0887\"],[0.1111111111111111,\"#46039f\"],[0.2222222222222222,\"#7201a8\"],[0.3333333333333333,\"#9c179e\"],[0.4444444444444444,\"#bd3786\"],[0.5555555555555556,\"#d8576b\"],[0.6666666666666666,\"#ed7953\"],[0.7777777777777778,\"#fb9f3a\"],[0.8888888888888888,\"#fdca26\"],[1.0,\"#f0f921\"]]},\"colorway\":[\"#636efa\",\"#EF553B\",\"#00cc96\",\"#ab63fa\",\"#FFA15A\",\"#19d3f3\",\"#FF6692\",\"#B6E880\",\"#FF97FF\",\"#FECB52\"],\"font\":{\"color\":\"#2a3f5f\"},\"geo\":{\"bgcolor\":\"white\",\"lakecolor\":\"white\",\"landcolor\":\"#E5ECF6\",\"showlakes\":true,\"showland\":true,\"subunitcolor\":\"white\"},\"hoverlabel\":{\"align\":\"left\"},\"hovermode\":\"closest\",\"mapbox\":{\"style\":\"light\"},\"paper_bgcolor\":\"white\",\"plot_bgcolor\":\"#E5ECF6\",\"polar\":{\"angularaxis\":{\"gridcolor\":\"white\",\"linecolor\":\"white\",\"ticks\":\"\"},\"bgcolor\":\"#E5ECF6\",\"radialaxis\":{\"gridcolor\":\"white\",\"linecolor\":\"white\",\"ticks\":\"\"}},\"scene\":{\"xaxis\":{\"backgroundcolor\":\"#E5ECF6\",\"gridcolor\":\"white\",\"gridwidth\":2,\"linecolor\":\"white\",\"showbackground\":true,\"ticks\":\"\",\"zerolinecolor\":\"white\"},\"yaxis\":{\"backgroundcolor\":\"#E5ECF6\",\"gridcolor\":\"white\",\"gridwidth\":2,\"linecolor\":\"white\",\"showbackground\":true,\"ticks\":\"\",\"zerolinecolor\":\"white\"},\"zaxis\":{\"backgroundcolor\":\"#E5ECF6\",\"gridcolor\":\"white\",\"gridwidth\":2,\"linecolor\":\"white\",\"showbackground\":true,\"ticks\":\"\",\"zerolinecolor\":\"white\"}},\"shapedefaults\":{\"line\":{\"color\":\"#2a3f5f\"}},\"ternary\":{\"aaxis\":{\"gridcolor\":\"white\",\"linecolor\":\"white\",\"ticks\":\"\"},\"baxis\":{\"gridcolor\":\"white\",\"linecolor\":\"white\",\"ticks\":\"\"},\"bgcolor\":\"#E5ECF6\",\"caxis\":{\"gridcolor\":\"white\",\"linecolor\":\"white\",\"ticks\":\"\"}},\"title\":{\"x\":0.05},\"xaxis\":{\"automargin\":true,\"gridcolor\":\"white\",\"linecolor\":\"white\",\"ticks\":\"\",\"title\":{\"standoff\":15},\"zerolinecolor\":\"white\",\"zerolinewidth\":2},\"yaxis\":{\"automargin\":true,\"gridcolor\":\"white\",\"linecolor\":\"white\",\"ticks\":\"\",\"title\":{\"standoff\":15},\"zerolinecolor\":\"white\",\"zerolinewidth\":2}}},\"barmode\":\"overlay\"},                        {\"responsive\": true}                    ).then(function(){\n",
              "                            \n",
              "var gd = document.getElementById('ad5e201c-8bd0-4f16-85d2-02dbb79df0b4');\n",
              "var x = new MutationObserver(function (mutations, observer) {{\n",
              "        var display = window.getComputedStyle(gd).display;\n",
              "        if (!display || display === 'none') {{\n",
              "            console.log([gd, 'removed!']);\n",
              "            Plotly.purge(gd);\n",
              "            observer.disconnect();\n",
              "        }}\n",
              "}});\n",
              "\n",
              "// Listen for the removal of the full notebook cells\n",
              "var notebookContainer = gd.closest('#notebook-container');\n",
              "if (notebookContainer) {{\n",
              "    x.observe(notebookContainer, {childList: true});\n",
              "}}\n",
              "\n",
              "// Listen for the clearing of the current output cell\n",
              "var outputEl = gd.closest('.output');\n",
              "if (outputEl) {{\n",
              "    x.observe(outputEl, {childList: true});\n",
              "}}\n",
              "\n",
              "                        })                };                            </script>        </div>\n",
              "</body>\n",
              "</html>"
            ]
          },
          "metadata": {}
        }
      ]
    },
    {
      "cell_type": "markdown",
      "source": [
        "<p>Based on above, we know <b>distribution of writing > distribution of math</b>. It has same distribution between writing and reading.</p> "
      ],
      "metadata": {
        "id": "w1xlEQ_N3cpE"
      }
    },
    {
      "cell_type": "code",
      "source": [
        "fig = px.histogram(df, x='gender')\n",
        "fig.show()"
      ],
      "metadata": {
        "colab": {
          "base_uri": "https://localhost:8080/",
          "height": 542
        },
        "id": "cM3NJsgu3M64",
        "outputId": "1c0824c6-78e6-47bd-beed-16febb7e0bc0"
      },
      "execution_count": 23,
      "outputs": [
        {
          "output_type": "display_data",
          "data": {
            "text/html": [
              "<html>\n",
              "<head><meta charset=\"utf-8\" /></head>\n",
              "<body>\n",
              "    <div>            <script src=\"https://cdnjs.cloudflare.com/ajax/libs/mathjax/2.7.5/MathJax.js?config=TeX-AMS-MML_SVG\"></script><script type=\"text/javascript\">if (window.MathJax) {MathJax.Hub.Config({SVG: {font: \"STIX-Web\"}});}</script>                <script type=\"text/javascript\">window.PlotlyConfig = {MathJaxConfig: 'local'};</script>\n",
              "        <script src=\"https://cdn.plot.ly/plotly-2.8.3.min.js\"></script>                <div id=\"96eac4bf-391b-45e7-bdc7-3bc22cce3925\" class=\"plotly-graph-div\" style=\"height:525px; width:100%;\"></div>            <script type=\"text/javascript\">                                    window.PLOTLYENV=window.PLOTLYENV || {};                                    if (document.getElementById(\"96eac4bf-391b-45e7-bdc7-3bc22cce3925\")) {                    Plotly.newPlot(                        \"96eac4bf-391b-45e7-bdc7-3bc22cce3925\",                        [{\"alignmentgroup\":\"True\",\"bingroup\":\"x\",\"hovertemplate\":\"gender=%{x}<br>count=%{y}<extra></extra>\",\"legendgroup\":\"\",\"marker\":{\"color\":\"#636efa\",\"pattern\":{\"shape\":\"\"}},\"name\":\"\",\"offsetgroup\":\"\",\"orientation\":\"v\",\"showlegend\":false,\"x\":[\"female\",\"female\",\"female\",\"male\",\"male\",\"female\",\"female\",\"male\",\"male\",\"female\",\"male\",\"male\",\"female\",\"male\",\"female\",\"female\",\"male\",\"female\",\"male\",\"female\",\"male\",\"female\",\"male\",\"female\",\"male\",\"male\",\"male\",\"female\",\"male\",\"female\",\"female\",\"female\",\"female\",\"male\",\"male\",\"male\",\"female\",\"female\",\"female\",\"male\",\"male\",\"female\",\"female\",\"male\",\"female\",\"male\",\"female\",\"female\",\"female\",\"male\",\"male\",\"male\",\"male\",\"male\",\"female\",\"female\",\"female\",\"male\",\"male\",\"female\",\"male\",\"male\",\"male\",\"female\",\"female\",\"male\",\"male\",\"female\",\"male\",\"female\",\"female\",\"male\",\"female\",\"male\",\"male\",\"male\",\"male\",\"male\",\"female\",\"female\",\"female\",\"male\",\"male\",\"male\",\"male\",\"female\",\"female\",\"female\",\"female\",\"female\",\"female\",\"male\",\"male\",\"male\",\"female\",\"male\",\"male\",\"female\",\"female\",\"female\",\"male\",\"male\",\"female\",\"male\",\"male\",\"female\",\"female\",\"male\",\"female\",\"female\",\"female\",\"male\",\"male\",\"female\",\"female\",\"male\",\"female\",\"female\",\"female\",\"female\",\"female\",\"male\",\"female\",\"male\",\"male\",\"female\",\"male\",\"male\",\"male\",\"female\",\"male\",\"male\",\"male\",\"female\",\"male\",\"male\",\"male\",\"male\",\"female\",\"male\",\"female\",\"female\",\"female\",\"male\",\"male\",\"female\",\"male\",\"male\",\"female\",\"male\",\"male\",\"male\",\"female\",\"male\",\"male\",\"female\",\"female\",\"male\",\"female\",\"male\",\"male\",\"female\",\"male\",\"male\",\"female\",\"female\",\"male\",\"female\",\"female\",\"female\",\"male\",\"male\",\"female\",\"female\",\"female\",\"female\",\"female\",\"female\",\"female\",\"female\",\"male\",\"female\",\"female\",\"female\",\"male\",\"male\",\"male\",\"male\",\"male\",\"female\",\"female\",\"male\",\"female\",\"male\",\"female\",\"male\",\"male\",\"male\",\"female\",\"female\",\"female\",\"female\",\"male\",\"female\",\"male\",\"male\",\"male\",\"male\",\"female\",\"female\",\"male\",\"male\",\"female\",\"male\",\"male\",\"male\",\"female\",\"female\",\"male\",\"male\",\"female\",\"male\",\"female\",\"male\",\"female\",\"female\",\"female\",\"male\",\"male\",\"female\",\"male\",\"male\",\"female\",\"male\",\"male\",\"male\",\"male\",\"female\",\"male\",\"male\",\"male\",\"female\",\"female\",\"male\",\"male\",\"male\",\"male\",\"female\",\"female\",\"male\",\"male\",\"female\",\"female\",\"male\",\"male\",\"female\",\"female\",\"male\",\"female\",\"female\",\"female\",\"male\",\"female\",\"female\",\"male\",\"male\",\"female\",\"female\",\"female\",\"female\",\"male\",\"male\",\"female\",\"female\",\"male\",\"male\",\"female\",\"female\",\"female\",\"male\",\"male\",\"male\",\"female\",\"female\",\"female\",\"male\",\"male\",\"female\",\"male\",\"male\",\"male\",\"male\",\"male\",\"female\",\"male\",\"male\",\"male\",\"male\",\"male\",\"male\",\"male\",\"male\",\"female\",\"male\",\"female\",\"male\",\"male\",\"male\",\"female\",\"female\",\"female\",\"male\",\"male\",\"female\",\"female\",\"male\",\"female\",\"male\",\"male\",\"female\",\"female\",\"female\",\"female\",\"female\",\"female\",\"female\",\"male\",\"male\",\"male\",\"female\",\"male\",\"male\",\"male\",\"male\",\"female\",\"female\",\"male\",\"male\",\"female\",\"female\",\"male\",\"female\",\"female\",\"male\",\"male\",\"female\",\"male\",\"female\",\"male\",\"male\",\"female\",\"male\",\"female\",\"female\",\"female\",\"female\",\"male\",\"female\",\"male\",\"female\",\"female\",\"male\",\"female\",\"female\",\"male\",\"male\",\"male\",\"male\",\"female\",\"female\",\"male\",\"female\",\"male\",\"female\",\"female\",\"male\",\"female\",\"female\",\"female\",\"male\",\"female\",\"male\",\"male\",\"female\",\"female\",\"female\",\"female\",\"female\",\"female\",\"male\",\"male\",\"female\",\"male\",\"male\",\"female\",\"male\",\"female\",\"female\",\"male\",\"male\",\"female\",\"male\",\"female\",\"female\",\"female\",\"female\",\"male\",\"female\",\"female\",\"male\",\"female\",\"male\",\"male\",\"male\",\"female\",\"male\",\"male\",\"male\",\"male\",\"male\",\"female\",\"female\",\"female\",\"female\",\"male\",\"female\",\"male\",\"male\",\"male\",\"male\",\"male\",\"female\",\"male\",\"female\",\"male\",\"male\",\"male\",\"male\",\"male\",\"male\",\"female\",\"female\",\"female\",\"female\",\"male\",\"female\",\"male\",\"male\",\"male\",\"male\",\"female\",\"female\",\"female\",\"male\",\"female\",\"male\",\"female\",\"male\",\"female\",\"male\",\"male\",\"male\",\"female\",\"female\",\"male\",\"female\",\"female\",\"male\",\"female\",\"male\",\"female\",\"female\",\"female\",\"female\",\"female\",\"female\",\"male\",\"male\",\"female\",\"male\",\"male\",\"female\",\"male\",\"male\",\"female\",\"male\",\"male\",\"female\",\"male\",\"male\",\"female\",\"female\",\"female\",\"female\",\"female\",\"male\",\"female\",\"female\",\"female\",\"male\",\"female\",\"female\",\"male\",\"female\",\"female\",\"female\",\"male\",\"male\",\"male\",\"female\",\"male\",\"male\",\"male\",\"female\",\"female\",\"female\",\"female\",\"female\",\"female\",\"female\",\"male\",\"female\",\"male\",\"male\",\"male\",\"male\",\"male\",\"female\",\"female\",\"female\",\"female\",\"female\",\"male\",\"female\",\"male\",\"female\",\"male\",\"female\",\"male\",\"male\",\"male\",\"male\",\"female\",\"female\",\"female\",\"male\",\"female\",\"male\",\"female\",\"male\",\"male\",\"male\",\"female\",\"male\",\"male\",\"female\",\"female\",\"male\",\"female\",\"male\",\"female\",\"female\",\"male\",\"female\",\"male\",\"male\",\"female\",\"female\",\"male\",\"male\",\"male\",\"male\",\"female\",\"female\",\"female\",\"male\",\"male\",\"female\",\"female\",\"female\",\"female\",\"female\",\"female\",\"female\",\"female\",\"female\",\"female\",\"female\",\"female\",\"female\",\"male\",\"male\",\"male\",\"female\",\"female\",\"female\",\"male\",\"male\",\"female\",\"female\",\"female\",\"female\",\"female\",\"male\",\"male\",\"male\",\"female\",\"female\",\"female\",\"female\",\"male\",\"female\",\"male\",\"female\",\"female\",\"female\",\"female\",\"male\",\"male\",\"male\",\"female\",\"male\",\"male\",\"male\",\"female\",\"male\",\"male\",\"male\",\"male\",\"female\",\"male\",\"male\",\"female\",\"female\",\"male\",\"male\",\"female\",\"female\",\"male\",\"female\",\"male\",\"female\",\"female\",\"female\",\"male\",\"female\",\"female\",\"female\",\"female\",\"female\",\"male\",\"female\",\"female\",\"female\",\"female\",\"female\",\"male\",\"male\",\"female\",\"male\",\"male\",\"male\",\"female\",\"female\",\"male\",\"female\",\"female\",\"female\",\"male\",\"male\",\"female\",\"male\",\"female\",\"female\",\"female\",\"female\",\"female\",\"female\",\"male\",\"male\",\"female\",\"male\",\"male\",\"female\",\"male\",\"female\",\"male\",\"male\",\"male\",\"male\",\"female\",\"female\",\"female\",\"female\",\"female\",\"female\",\"female\",\"female\",\"female\",\"male\",\"female\",\"female\",\"male\",\"female\",\"female\",\"male\",\"male\",\"male\",\"male\",\"female\",\"male\",\"female\",\"female\",\"male\",\"female\",\"female\",\"male\",\"female\",\"female\",\"male\",\"female\",\"male\",\"female\",\"male\",\"male\",\"male\",\"female\",\"male\",\"female\",\"male\",\"female\",\"male\",\"female\",\"male\",\"female\",\"male\",\"male\",\"female\",\"male\",\"male\",\"male\",\"female\",\"female\",\"female\",\"male\",\"male\",\"male\",\"male\",\"female\",\"male\",\"male\",\"male\",\"male\",\"female\",\"male\",\"female\",\"male\",\"male\",\"female\",\"male\",\"female\",\"female\",\"male\",\"female\",\"male\",\"female\",\"female\",\"male\",\"female\",\"male\",\"male\",\"male\",\"female\",\"female\",\"male\",\"female\",\"female\",\"female\",\"female\",\"male\",\"female\",\"female\",\"female\",\"female\",\"male\",\"female\",\"female\",\"female\",\"male\",\"female\",\"female\",\"female\",\"male\",\"male\",\"female\",\"female\",\"male\",\"female\",\"male\",\"female\",\"male\",\"male\",\"female\",\"female\",\"female\",\"male\",\"female\",\"female\",\"male\",\"male\",\"male\",\"male\",\"female\",\"male\",\"female\",\"male\",\"female\",\"male\",\"female\",\"female\",\"female\",\"female\",\"male\",\"female\",\"female\",\"male\",\"female\",\"female\",\"female\",\"male\",\"female\",\"female\",\"male\",\"female\",\"male\",\"female\",\"male\",\"female\",\"male\",\"female\",\"female\",\"male\",\"female\",\"male\",\"female\",\"male\",\"male\",\"male\",\"female\",\"male\",\"male\",\"female\",\"female\",\"male\",\"male\",\"female\",\"male\",\"female\",\"male\",\"male\",\"female\",\"female\",\"male\",\"female\",\"male\",\"male\",\"male\",\"male\",\"male\",\"male\",\"male\",\"female\",\"male\",\"male\",\"female\",\"male\",\"male\",\"male\",\"female\",\"female\",\"male\",\"female\",\"female\",\"male\",\"female\",\"female\",\"female\",\"male\",\"female\",\"male\",\"female\",\"female\",\"female\",\"male\",\"female\",\"female\",\"male\",\"female\",\"male\",\"female\",\"male\",\"female\",\"female\",\"female\",\"female\",\"male\",\"male\",\"female\",\"female\",\"male\",\"male\",\"female\",\"female\",\"female\",\"female\",\"female\",\"male\",\"female\",\"female\",\"male\",\"male\",\"female\",\"male\",\"female\",\"male\",\"male\",\"male\",\"female\",\"male\",\"female\",\"male\",\"male\",\"male\",\"male\",\"male\",\"male\",\"male\",\"female\",\"male\",\"male\",\"male\",\"female\",\"male\",\"male\",\"female\",\"female\",\"male\",\"female\",\"male\",\"female\",\"male\",\"female\",\"female\",\"male\",\"female\",\"male\",\"male\",\"female\",\"female\",\"male\",\"female\",\"female\",\"female\",\"female\",\"male\",\"female\",\"male\",\"male\",\"female\",\"female\",\"female\",\"male\",\"female\",\"female\",\"female\",\"female\",\"male\",\"male\",\"male\",\"female\",\"female\",\"male\",\"male\",\"female\",\"female\",\"male\",\"female\",\"male\",\"female\",\"female\",\"male\",\"female\",\"female\",\"female\",\"male\",\"female\",\"male\",\"female\",\"female\",\"female\"],\"xaxis\":\"x\",\"yaxis\":\"y\",\"type\":\"histogram\"}],                        {\"template\":{\"data\":{\"bar\":[{\"error_x\":{\"color\":\"#2a3f5f\"},\"error_y\":{\"color\":\"#2a3f5f\"},\"marker\":{\"line\":{\"color\":\"#E5ECF6\",\"width\":0.5},\"pattern\":{\"fillmode\":\"overlay\",\"size\":10,\"solidity\":0.2}},\"type\":\"bar\"}],\"barpolar\":[{\"marker\":{\"line\":{\"color\":\"#E5ECF6\",\"width\":0.5},\"pattern\":{\"fillmode\":\"overlay\",\"size\":10,\"solidity\":0.2}},\"type\":\"barpolar\"}],\"carpet\":[{\"aaxis\":{\"endlinecolor\":\"#2a3f5f\",\"gridcolor\":\"white\",\"linecolor\":\"white\",\"minorgridcolor\":\"white\",\"startlinecolor\":\"#2a3f5f\"},\"baxis\":{\"endlinecolor\":\"#2a3f5f\",\"gridcolor\":\"white\",\"linecolor\":\"white\",\"minorgridcolor\":\"white\",\"startlinecolor\":\"#2a3f5f\"},\"type\":\"carpet\"}],\"choropleth\":[{\"colorbar\":{\"outlinewidth\":0,\"ticks\":\"\"},\"type\":\"choropleth\"}],\"contour\":[{\"colorbar\":{\"outlinewidth\":0,\"ticks\":\"\"},\"colorscale\":[[0.0,\"#0d0887\"],[0.1111111111111111,\"#46039f\"],[0.2222222222222222,\"#7201a8\"],[0.3333333333333333,\"#9c179e\"],[0.4444444444444444,\"#bd3786\"],[0.5555555555555556,\"#d8576b\"],[0.6666666666666666,\"#ed7953\"],[0.7777777777777778,\"#fb9f3a\"],[0.8888888888888888,\"#fdca26\"],[1.0,\"#f0f921\"]],\"type\":\"contour\"}],\"contourcarpet\":[{\"colorbar\":{\"outlinewidth\":0,\"ticks\":\"\"},\"type\":\"contourcarpet\"}],\"heatmap\":[{\"colorbar\":{\"outlinewidth\":0,\"ticks\":\"\"},\"colorscale\":[[0.0,\"#0d0887\"],[0.1111111111111111,\"#46039f\"],[0.2222222222222222,\"#7201a8\"],[0.3333333333333333,\"#9c179e\"],[0.4444444444444444,\"#bd3786\"],[0.5555555555555556,\"#d8576b\"],[0.6666666666666666,\"#ed7953\"],[0.7777777777777778,\"#fb9f3a\"],[0.8888888888888888,\"#fdca26\"],[1.0,\"#f0f921\"]],\"type\":\"heatmap\"}],\"heatmapgl\":[{\"colorbar\":{\"outlinewidth\":0,\"ticks\":\"\"},\"colorscale\":[[0.0,\"#0d0887\"],[0.1111111111111111,\"#46039f\"],[0.2222222222222222,\"#7201a8\"],[0.3333333333333333,\"#9c179e\"],[0.4444444444444444,\"#bd3786\"],[0.5555555555555556,\"#d8576b\"],[0.6666666666666666,\"#ed7953\"],[0.7777777777777778,\"#fb9f3a\"],[0.8888888888888888,\"#fdca26\"],[1.0,\"#f0f921\"]],\"type\":\"heatmapgl\"}],\"histogram\":[{\"marker\":{\"pattern\":{\"fillmode\":\"overlay\",\"size\":10,\"solidity\":0.2}},\"type\":\"histogram\"}],\"histogram2d\":[{\"colorbar\":{\"outlinewidth\":0,\"ticks\":\"\"},\"colorscale\":[[0.0,\"#0d0887\"],[0.1111111111111111,\"#46039f\"],[0.2222222222222222,\"#7201a8\"],[0.3333333333333333,\"#9c179e\"],[0.4444444444444444,\"#bd3786\"],[0.5555555555555556,\"#d8576b\"],[0.6666666666666666,\"#ed7953\"],[0.7777777777777778,\"#fb9f3a\"],[0.8888888888888888,\"#fdca26\"],[1.0,\"#f0f921\"]],\"type\":\"histogram2d\"}],\"histogram2dcontour\":[{\"colorbar\":{\"outlinewidth\":0,\"ticks\":\"\"},\"colorscale\":[[0.0,\"#0d0887\"],[0.1111111111111111,\"#46039f\"],[0.2222222222222222,\"#7201a8\"],[0.3333333333333333,\"#9c179e\"],[0.4444444444444444,\"#bd3786\"],[0.5555555555555556,\"#d8576b\"],[0.6666666666666666,\"#ed7953\"],[0.7777777777777778,\"#fb9f3a\"],[0.8888888888888888,\"#fdca26\"],[1.0,\"#f0f921\"]],\"type\":\"histogram2dcontour\"}],\"mesh3d\":[{\"colorbar\":{\"outlinewidth\":0,\"ticks\":\"\"},\"type\":\"mesh3d\"}],\"parcoords\":[{\"line\":{\"colorbar\":{\"outlinewidth\":0,\"ticks\":\"\"}},\"type\":\"parcoords\"}],\"pie\":[{\"automargin\":true,\"type\":\"pie\"}],\"scatter\":[{\"marker\":{\"colorbar\":{\"outlinewidth\":0,\"ticks\":\"\"}},\"type\":\"scatter\"}],\"scatter3d\":[{\"line\":{\"colorbar\":{\"outlinewidth\":0,\"ticks\":\"\"}},\"marker\":{\"colorbar\":{\"outlinewidth\":0,\"ticks\":\"\"}},\"type\":\"scatter3d\"}],\"scattercarpet\":[{\"marker\":{\"colorbar\":{\"outlinewidth\":0,\"ticks\":\"\"}},\"type\":\"scattercarpet\"}],\"scattergeo\":[{\"marker\":{\"colorbar\":{\"outlinewidth\":0,\"ticks\":\"\"}},\"type\":\"scattergeo\"}],\"scattergl\":[{\"marker\":{\"colorbar\":{\"outlinewidth\":0,\"ticks\":\"\"}},\"type\":\"scattergl\"}],\"scattermapbox\":[{\"marker\":{\"colorbar\":{\"outlinewidth\":0,\"ticks\":\"\"}},\"type\":\"scattermapbox\"}],\"scatterpolar\":[{\"marker\":{\"colorbar\":{\"outlinewidth\":0,\"ticks\":\"\"}},\"type\":\"scatterpolar\"}],\"scatterpolargl\":[{\"marker\":{\"colorbar\":{\"outlinewidth\":0,\"ticks\":\"\"}},\"type\":\"scatterpolargl\"}],\"scatterternary\":[{\"marker\":{\"colorbar\":{\"outlinewidth\":0,\"ticks\":\"\"}},\"type\":\"scatterternary\"}],\"surface\":[{\"colorbar\":{\"outlinewidth\":0,\"ticks\":\"\"},\"colorscale\":[[0.0,\"#0d0887\"],[0.1111111111111111,\"#46039f\"],[0.2222222222222222,\"#7201a8\"],[0.3333333333333333,\"#9c179e\"],[0.4444444444444444,\"#bd3786\"],[0.5555555555555556,\"#d8576b\"],[0.6666666666666666,\"#ed7953\"],[0.7777777777777778,\"#fb9f3a\"],[0.8888888888888888,\"#fdca26\"],[1.0,\"#f0f921\"]],\"type\":\"surface\"}],\"table\":[{\"cells\":{\"fill\":{\"color\":\"#EBF0F8\"},\"line\":{\"color\":\"white\"}},\"header\":{\"fill\":{\"color\":\"#C8D4E3\"},\"line\":{\"color\":\"white\"}},\"type\":\"table\"}]},\"layout\":{\"annotationdefaults\":{\"arrowcolor\":\"#2a3f5f\",\"arrowhead\":0,\"arrowwidth\":1},\"autotypenumbers\":\"strict\",\"coloraxis\":{\"colorbar\":{\"outlinewidth\":0,\"ticks\":\"\"}},\"colorscale\":{\"diverging\":[[0,\"#8e0152\"],[0.1,\"#c51b7d\"],[0.2,\"#de77ae\"],[0.3,\"#f1b6da\"],[0.4,\"#fde0ef\"],[0.5,\"#f7f7f7\"],[0.6,\"#e6f5d0\"],[0.7,\"#b8e186\"],[0.8,\"#7fbc41\"],[0.9,\"#4d9221\"],[1,\"#276419\"]],\"sequential\":[[0.0,\"#0d0887\"],[0.1111111111111111,\"#46039f\"],[0.2222222222222222,\"#7201a8\"],[0.3333333333333333,\"#9c179e\"],[0.4444444444444444,\"#bd3786\"],[0.5555555555555556,\"#d8576b\"],[0.6666666666666666,\"#ed7953\"],[0.7777777777777778,\"#fb9f3a\"],[0.8888888888888888,\"#fdca26\"],[1.0,\"#f0f921\"]],\"sequentialminus\":[[0.0,\"#0d0887\"],[0.1111111111111111,\"#46039f\"],[0.2222222222222222,\"#7201a8\"],[0.3333333333333333,\"#9c179e\"],[0.4444444444444444,\"#bd3786\"],[0.5555555555555556,\"#d8576b\"],[0.6666666666666666,\"#ed7953\"],[0.7777777777777778,\"#fb9f3a\"],[0.8888888888888888,\"#fdca26\"],[1.0,\"#f0f921\"]]},\"colorway\":[\"#636efa\",\"#EF553B\",\"#00cc96\",\"#ab63fa\",\"#FFA15A\",\"#19d3f3\",\"#FF6692\",\"#B6E880\",\"#FF97FF\",\"#FECB52\"],\"font\":{\"color\":\"#2a3f5f\"},\"geo\":{\"bgcolor\":\"white\",\"lakecolor\":\"white\",\"landcolor\":\"#E5ECF6\",\"showlakes\":true,\"showland\":true,\"subunitcolor\":\"white\"},\"hoverlabel\":{\"align\":\"left\"},\"hovermode\":\"closest\",\"mapbox\":{\"style\":\"light\"},\"paper_bgcolor\":\"white\",\"plot_bgcolor\":\"#E5ECF6\",\"polar\":{\"angularaxis\":{\"gridcolor\":\"white\",\"linecolor\":\"white\",\"ticks\":\"\"},\"bgcolor\":\"#E5ECF6\",\"radialaxis\":{\"gridcolor\":\"white\",\"linecolor\":\"white\",\"ticks\":\"\"}},\"scene\":{\"xaxis\":{\"backgroundcolor\":\"#E5ECF6\",\"gridcolor\":\"white\",\"gridwidth\":2,\"linecolor\":\"white\",\"showbackground\":true,\"ticks\":\"\",\"zerolinecolor\":\"white\"},\"yaxis\":{\"backgroundcolor\":\"#E5ECF6\",\"gridcolor\":\"white\",\"gridwidth\":2,\"linecolor\":\"white\",\"showbackground\":true,\"ticks\":\"\",\"zerolinecolor\":\"white\"},\"zaxis\":{\"backgroundcolor\":\"#E5ECF6\",\"gridcolor\":\"white\",\"gridwidth\":2,\"linecolor\":\"white\",\"showbackground\":true,\"ticks\":\"\",\"zerolinecolor\":\"white\"}},\"shapedefaults\":{\"line\":{\"color\":\"#2a3f5f\"}},\"ternary\":{\"aaxis\":{\"gridcolor\":\"white\",\"linecolor\":\"white\",\"ticks\":\"\"},\"baxis\":{\"gridcolor\":\"white\",\"linecolor\":\"white\",\"ticks\":\"\"},\"bgcolor\":\"#E5ECF6\",\"caxis\":{\"gridcolor\":\"white\",\"linecolor\":\"white\",\"ticks\":\"\"}},\"title\":{\"x\":0.05},\"xaxis\":{\"automargin\":true,\"gridcolor\":\"white\",\"linecolor\":\"white\",\"ticks\":\"\",\"title\":{\"standoff\":15},\"zerolinecolor\":\"white\",\"zerolinewidth\":2},\"yaxis\":{\"automargin\":true,\"gridcolor\":\"white\",\"linecolor\":\"white\",\"ticks\":\"\",\"title\":{\"standoff\":15},\"zerolinecolor\":\"white\",\"zerolinewidth\":2}}},\"xaxis\":{\"anchor\":\"y\",\"domain\":[0.0,1.0],\"title\":{\"text\":\"gender\"}},\"yaxis\":{\"anchor\":\"x\",\"domain\":[0.0,1.0],\"title\":{\"text\":\"count\"}},\"legend\":{\"tracegroupgap\":0},\"margin\":{\"t\":60},\"barmode\":\"relative\"},                        {\"responsive\": true}                    ).then(function(){\n",
              "                            \n",
              "var gd = document.getElementById('96eac4bf-391b-45e7-bdc7-3bc22cce3925');\n",
              "var x = new MutationObserver(function (mutations, observer) {{\n",
              "        var display = window.getComputedStyle(gd).display;\n",
              "        if (!display || display === 'none') {{\n",
              "            console.log([gd, 'removed!']);\n",
              "            Plotly.purge(gd);\n",
              "            observer.disconnect();\n",
              "        }}\n",
              "}});\n",
              "\n",
              "// Listen for the removal of the full notebook cells\n",
              "var notebookContainer = gd.closest('#notebook-container');\n",
              "if (notebookContainer) {{\n",
              "    x.observe(notebookContainer, {childList: true});\n",
              "}}\n",
              "\n",
              "// Listen for the clearing of the current output cell\n",
              "var outputEl = gd.closest('.output');\n",
              "if (outputEl) {{\n",
              "    x.observe(outputEl, {childList: true});\n",
              "}}\n",
              "\n",
              "                        })                };                            </script>        </div>\n",
              "</body>\n",
              "</html>"
            ]
          },
          "metadata": {}
        }
      ]
    },
    {
      "cell_type": "markdown",
      "source": [
        "<p>Based on above, the data has <b>almost same</b> counting between male and female."
      ],
      "metadata": {
        "id": "kYXOwR7-351v"
      }
    },
    {
      "cell_type": "code",
      "source": [
        "# Generate Average\n",
        "df['average'] = (df['reading_score'] + df['math_score'] + df['writing_score'])/3\n",
        "\n",
        "df['grade'] = 'na'\n",
        "df.loc[(df.average >= 90) & (df.average <= 100), 'grade'] = 'A+'\n",
        "df.loc[(df.average >= 80) & (df.average <= 90), 'grade'] = 'A-'\n",
        "df.loc[(df.average >= 70) & (df.average <= 80), 'grade'] = 'B+'\n",
        "df.loc[(df.average >= 60) & (df.average <= 70), 'grade'] = 'B-'\n",
        "df.loc[(df.average >= 50) & (df.average <= 60), 'grade'] = 'C'\n",
        "df.loc[(df.average >= 40) & (df.average <= 50), 'grade'] = 'D'\n",
        "df.loc[(df.average >= 0) & (df.average <= 40), 'grade'] = 'F'\n",
        "df.head()"
      ],
      "metadata": {
        "colab": {
          "base_uri": "https://localhost:8080/",
          "height": 206
        },
        "id": "SEulIhSc33M7",
        "outputId": "1cfec156-7394-4462-9cfd-3e55aa02482d"
      },
      "execution_count": 25,
      "outputs": [
        {
          "output_type": "execute_result",
          "data": {
            "text/html": [
              "\n",
              "  <div id=\"df-b7bdbf6c-4621-479a-b310-58941939605a\">\n",
              "    <div class=\"colab-df-container\">\n",
              "      <div>\n",
              "<style scoped>\n",
              "    .dataframe tbody tr th:only-of-type {\n",
              "        vertical-align: middle;\n",
              "    }\n",
              "\n",
              "    .dataframe tbody tr th {\n",
              "        vertical-align: top;\n",
              "    }\n",
              "\n",
              "    .dataframe thead th {\n",
              "        text-align: right;\n",
              "    }\n",
              "</style>\n",
              "<table border=\"1\" class=\"dataframe\">\n",
              "  <thead>\n",
              "    <tr style=\"text-align: right;\">\n",
              "      <th></th>\n",
              "      <th>gender</th>\n",
              "      <th>race</th>\n",
              "      <th>parent_edu</th>\n",
              "      <th>lunch_type</th>\n",
              "      <th>test_completed</th>\n",
              "      <th>math_score</th>\n",
              "      <th>reading_score</th>\n",
              "      <th>writing_score</th>\n",
              "      <th>average</th>\n",
              "      <th>grade</th>\n",
              "    </tr>\n",
              "  </thead>\n",
              "  <tbody>\n",
              "    <tr>\n",
              "      <th>0</th>\n",
              "      <td>female</td>\n",
              "      <td>group B</td>\n",
              "      <td>bachelor's degree</td>\n",
              "      <td>standard</td>\n",
              "      <td>none</td>\n",
              "      <td>72</td>\n",
              "      <td>72</td>\n",
              "      <td>74</td>\n",
              "      <td>72.666667</td>\n",
              "      <td>B+</td>\n",
              "    </tr>\n",
              "    <tr>\n",
              "      <th>1</th>\n",
              "      <td>female</td>\n",
              "      <td>group C</td>\n",
              "      <td>some college</td>\n",
              "      <td>standard</td>\n",
              "      <td>completed</td>\n",
              "      <td>69</td>\n",
              "      <td>90</td>\n",
              "      <td>88</td>\n",
              "      <td>82.333333</td>\n",
              "      <td>A-</td>\n",
              "    </tr>\n",
              "    <tr>\n",
              "      <th>2</th>\n",
              "      <td>female</td>\n",
              "      <td>group B</td>\n",
              "      <td>master's degree</td>\n",
              "      <td>standard</td>\n",
              "      <td>none</td>\n",
              "      <td>90</td>\n",
              "      <td>95</td>\n",
              "      <td>93</td>\n",
              "      <td>92.666667</td>\n",
              "      <td>A+</td>\n",
              "    </tr>\n",
              "    <tr>\n",
              "      <th>3</th>\n",
              "      <td>male</td>\n",
              "      <td>group A</td>\n",
              "      <td>associate's degree</td>\n",
              "      <td>free/reduced</td>\n",
              "      <td>none</td>\n",
              "      <td>47</td>\n",
              "      <td>57</td>\n",
              "      <td>44</td>\n",
              "      <td>49.333333</td>\n",
              "      <td>D</td>\n",
              "    </tr>\n",
              "    <tr>\n",
              "      <th>4</th>\n",
              "      <td>male</td>\n",
              "      <td>group C</td>\n",
              "      <td>some college</td>\n",
              "      <td>standard</td>\n",
              "      <td>none</td>\n",
              "      <td>76</td>\n",
              "      <td>78</td>\n",
              "      <td>75</td>\n",
              "      <td>76.333333</td>\n",
              "      <td>B+</td>\n",
              "    </tr>\n",
              "  </tbody>\n",
              "</table>\n",
              "</div>\n",
              "      <button class=\"colab-df-convert\" onclick=\"convertToInteractive('df-b7bdbf6c-4621-479a-b310-58941939605a')\"\n",
              "              title=\"Convert this dataframe to an interactive table.\"\n",
              "              style=\"display:none;\">\n",
              "        \n",
              "  <svg xmlns=\"http://www.w3.org/2000/svg\" height=\"24px\"viewBox=\"0 0 24 24\"\n",
              "       width=\"24px\">\n",
              "    <path d=\"M0 0h24v24H0V0z\" fill=\"none\"/>\n",
              "    <path d=\"M18.56 5.44l.94 2.06.94-2.06 2.06-.94-2.06-.94-.94-2.06-.94 2.06-2.06.94zm-11 1L8.5 8.5l.94-2.06 2.06-.94-2.06-.94L8.5 2.5l-.94 2.06-2.06.94zm10 10l.94 2.06.94-2.06 2.06-.94-2.06-.94-.94-2.06-.94 2.06-2.06.94z\"/><path d=\"M17.41 7.96l-1.37-1.37c-.4-.4-.92-.59-1.43-.59-.52 0-1.04.2-1.43.59L10.3 9.45l-7.72 7.72c-.78.78-.78 2.05 0 2.83L4 21.41c.39.39.9.59 1.41.59.51 0 1.02-.2 1.41-.59l7.78-7.78 2.81-2.81c.8-.78.8-2.07 0-2.86zM5.41 20L4 18.59l7.72-7.72 1.47 1.35L5.41 20z\"/>\n",
              "  </svg>\n",
              "      </button>\n",
              "      \n",
              "  <style>\n",
              "    .colab-df-container {\n",
              "      display:flex;\n",
              "      flex-wrap:wrap;\n",
              "      gap: 12px;\n",
              "    }\n",
              "\n",
              "    .colab-df-convert {\n",
              "      background-color: #E8F0FE;\n",
              "      border: none;\n",
              "      border-radius: 50%;\n",
              "      cursor: pointer;\n",
              "      display: none;\n",
              "      fill: #1967D2;\n",
              "      height: 32px;\n",
              "      padding: 0 0 0 0;\n",
              "      width: 32px;\n",
              "    }\n",
              "\n",
              "    .colab-df-convert:hover {\n",
              "      background-color: #E2EBFA;\n",
              "      box-shadow: 0px 1px 2px rgba(60, 64, 67, 0.3), 0px 1px 3px 1px rgba(60, 64, 67, 0.15);\n",
              "      fill: #174EA6;\n",
              "    }\n",
              "\n",
              "    [theme=dark] .colab-df-convert {\n",
              "      background-color: #3B4455;\n",
              "      fill: #D2E3FC;\n",
              "    }\n",
              "\n",
              "    [theme=dark] .colab-df-convert:hover {\n",
              "      background-color: #434B5C;\n",
              "      box-shadow: 0px 1px 3px 1px rgba(0, 0, 0, 0.15);\n",
              "      filter: drop-shadow(0px 1px 2px rgba(0, 0, 0, 0.3));\n",
              "      fill: #FFFFFF;\n",
              "    }\n",
              "  </style>\n",
              "\n",
              "      <script>\n",
              "        const buttonEl =\n",
              "          document.querySelector('#df-b7bdbf6c-4621-479a-b310-58941939605a button.colab-df-convert');\n",
              "        buttonEl.style.display =\n",
              "          google.colab.kernel.accessAllowed ? 'block' : 'none';\n",
              "\n",
              "        async function convertToInteractive(key) {\n",
              "          const element = document.querySelector('#df-b7bdbf6c-4621-479a-b310-58941939605a');\n",
              "          const dataTable =\n",
              "            await google.colab.kernel.invokeFunction('convertToInteractive',\n",
              "                                                     [key], {});\n",
              "          if (!dataTable) return;\n",
              "\n",
              "          const docLinkHtml = 'Like what you see? Visit the ' +\n",
              "            '<a target=\"_blank\" href=https://colab.research.google.com/notebooks/data_table.ipynb>data table notebook</a>'\n",
              "            + ' to learn more about interactive tables.';\n",
              "          element.innerHTML = '';\n",
              "          dataTable['output_type'] = 'display_data';\n",
              "          await google.colab.output.renderOutput(dataTable, element);\n",
              "          const docLink = document.createElement('div');\n",
              "          docLink.innerHTML = docLinkHtml;\n",
              "          element.appendChild(docLink);\n",
              "        }\n",
              "      </script>\n",
              "    </div>\n",
              "  </div>\n",
              "  "
            ],
            "text/plain": [
              "   gender     race          parent_edu  ... writing_score    average  grade\n",
              "0  female  group B   bachelor's degree  ...            74  72.666667     B+\n",
              "1  female  group C        some college  ...            88  82.333333     A-\n",
              "2  female  group B     master's degree  ...            93  92.666667     A+\n",
              "3    male  group A  associate's degree  ...            44  49.333333      D\n",
              "4    male  group C        some college  ...            75  76.333333     B+\n",
              "\n",
              "[5 rows x 10 columns]"
            ]
          },
          "metadata": {},
          "execution_count": 25
        }
      ]
    },
    {
      "cell_type": "code",
      "source": [
        "fig = px.histogram(df,x='grade', title='Grade Distribution')\n",
        "fig.update_xaxes(categoryorder=\"category ascending\")\n",
        "fig.show()"
      ],
      "metadata": {
        "colab": {
          "base_uri": "https://localhost:8080/",
          "height": 542
        },
        "id": "Hf1tkPbz46DA",
        "outputId": "ae608a75-b0a8-45ea-aae9-7398a719d2b0"
      },
      "execution_count": 27,
      "outputs": [
        {
          "output_type": "display_data",
          "data": {
            "text/html": [
              "<html>\n",
              "<head><meta charset=\"utf-8\" /></head>\n",
              "<body>\n",
              "    <div>            <script src=\"https://cdnjs.cloudflare.com/ajax/libs/mathjax/2.7.5/MathJax.js?config=TeX-AMS-MML_SVG\"></script><script type=\"text/javascript\">if (window.MathJax) {MathJax.Hub.Config({SVG: {font: \"STIX-Web\"}});}</script>                <script type=\"text/javascript\">window.PlotlyConfig = {MathJaxConfig: 'local'};</script>\n",
              "        <script src=\"https://cdn.plot.ly/plotly-2.8.3.min.js\"></script>                <div id=\"17c024f6-eec3-48fb-a8f6-75927a9268dd\" class=\"plotly-graph-div\" style=\"height:525px; width:100%;\"></div>            <script type=\"text/javascript\">                                    window.PLOTLYENV=window.PLOTLYENV || {};                                    if (document.getElementById(\"17c024f6-eec3-48fb-a8f6-75927a9268dd\")) {                    Plotly.newPlot(                        \"17c024f6-eec3-48fb-a8f6-75927a9268dd\",                        [{\"alignmentgroup\":\"True\",\"bingroup\":\"x\",\"hovertemplate\":\"grade=%{x}<br>count=%{y}<extra></extra>\",\"legendgroup\":\"\",\"marker\":{\"color\":\"#636efa\",\"pattern\":{\"shape\":\"\"}},\"name\":\"\",\"offsetgroup\":\"\",\"orientation\":\"v\",\"showlegend\":false,\"x\":[\"B+\",\"A-\",\"A+\",\"D\",\"B+\",\"B+\",\"A+\",\"D\",\"B-\",\"D\",\"C\",\"D\",\"B+\",\"B+\",\"C\",\"B+\",\"A-\",\"F\",\"D\",\"C\",\"B-\",\"B-\",\"C\",\"B+\",\"B+\",\"B+\",\"C\",\"B+\",\"B-\",\"B-\",\"B+\",\"B-\",\"B-\",\"F\",\"A-\",\"A-\",\"B+\",\"C\",\"A-\",\"C\",\"C\",\"B-\",\"C\",\"B-\",\"C\",\"C\",\"B-\",\"B+\",\"B-\",\"A-\",\"C\",\"B+\",\"D\",\"A-\",\"A-\",\"F\",\"A-\",\"C\",\"C\",\"F\",\"B+\",\"F\",\"C\",\"B+\",\"C\",\"B-\",\"F\",\"B-\",\"C\",\"C\",\"B-\",\"B-\",\"D\",\"C\",\"D\",\"D\",\"F\",\"B+\",\"B-\",\"B-\",\"D\",\"D\",\"C\",\"B-\",\"F\",\"B+\",\"A-\",\"B+\",\"B-\",\"A-\",\"B+\",\"F\",\"B+\",\"D\",\"A-\",\"A-\",\"B-\",\"B-\",\"B-\",\"B-\",\"B+\",\"B+\",\"A-\",\"C\",\"A+\",\"B-\",\"A+\",\"B-\",\"B-\",\"B-\",\"A-\",\"C\",\"C\",\"C\",\"A+\",\"B+\",\"A-\",\"B+\",\"C\",\"B-\",\"A-\",\"A+\",\"A+\",\"C\",\"B+\",\"A-\",\"B-\",\"B+\",\"B+\",\"C\",\"A-\",\"D\",\"B+\",\"B+\",\"B+\",\"C\",\"D\",\"B-\",\"B-\",\"B-\",\"B+\",\"B-\",\"C\",\"D\",\"B+\",\"F\",\"A-\",\"B-\",\"B+\",\"A+\",\"B-\",\"B+\",\"B-\",\"D\",\"B-\",\"A-\",\"B+\",\"C\",\"B+\",\"B-\",\"B+\",\"A-\",\"C\",\"C\",\"A-\",\"A+\",\"C\",\"B+\",\"B+\",\"B+\",\"B+\",\"A-\",\"A-\",\"B-\",\"D\",\"A-\",\"C\",\"B+\",\"B-\",\"A+\",\"B-\",\"C\",\"D\",\"B-\",\"D\",\"B-\",\"B+\",\"B-\",\"D\",\"A-\",\"B-\",\"B+\",\"B-\",\"B-\",\"B+\",\"C\",\"B-\",\"C\",\"C\",\"B+\",\"B+\",\"B+\",\"B+\",\"B-\",\"D\",\"B+\",\"B-\",\"B+\",\"B+\",\"B-\",\"B+\",\"F\",\"C\",\"C\",\"A-\",\"A-\",\"A-\",\"F\",\"B+\",\"C\",\"B-\",\"A-\",\"B-\",\"A-\",\"B-\",\"C\",\"B+\",\"C\",\"B-\",\"A+\",\"B-\",\"D\",\"B+\",\"A-\",\"A-\",\"B+\",\"B-\",\"B-\",\"C\",\"A-\",\"B-\",\"A-\",\"C\",\"C\",\"B+\",\"B+\",\"B+\",\"B-\",\"B-\",\"B-\",\"D\",\"B+\",\"B-\",\"B+\",\"C\",\"B-\",\"B-\",\"B+\",\"B+\",\"B+\",\"B+\",\"B+\",\"D\",\"A+\",\"B+\",\"D\",\"B+\",\"B+\",\"A+\",\"B+\",\"B-\",\"D\",\"C\",\"B-\",\"A-\",\"B+\",\"A-\",\"B-\",\"B+\",\"B-\",\"D\",\"D\",\"B+\",\"B+\",\"D\",\"A-\",\"A-\",\"B+\",\"B+\",\"B+\",\"B+\",\"B+\",\"C\",\"B+\",\"B+\",\"B-\",\"D\",\"B+\",\"D\",\"A-\",\"B+\",\"C\",\"B+\",\"B+\",\"B+\",\"B-\",\"A-\",\"D\",\"B-\",\"C\",\"B+\",\"B-\",\"B-\",\"B-\",\"B-\",\"B-\",\"A-\",\"B+\",\"B-\",\"B-\",\"B+\",\"B+\",\"B+\",\"D\",\"D\",\"A-\",\"B-\",\"F\",\"B+\",\"D\",\"B-\",\"F\",\"C\",\"A-\",\"A+\",\"B-\",\"B+\",\"D\",\"F\",\"D\",\"C\",\"B-\",\"B+\",\"B-\",\"B+\",\"B+\",\"C\",\"A-\",\"B+\",\"B+\",\"B-\",\"C\",\"B+\",\"C\",\"B-\",\"B-\",\"B-\",\"C\",\"B-\",\"A-\",\"C\",\"A-\",\"C\",\"F\",\"C\",\"C\",\"C\",\"B-\",\"C\",\"A-\",\"B+\",\"B-\",\"B+\",\"A+\",\"B-\",\"D\",\"A-\",\"A+\",\"B+\",\"B-\",\"A-\",\"A+\",\"B+\",\"D\",\"D\",\"B+\",\"B-\",\"B-\",\"B-\",\"B+\",\"B-\",\"B+\",\"B-\",\"C\",\"B+\",\"D\",\"C\",\"A-\",\"B-\",\"C\",\"C\",\"D\",\"C\",\"A+\",\"C\",\"B-\",\"B-\",\"B+\",\"C\",\"A-\",\"B+\",\"A-\",\"B-\",\"B-\",\"B-\",\"B+\",\"B+\",\"B+\",\"B-\",\"C\",\"A-\",\"C\",\"C\",\"B+\",\"F\",\"B-\",\"A-\",\"B-\",\"C\",\"B-\",\"B-\",\"B-\",\"C\",\"C\",\"B-\",\"C\",\"B-\",\"B+\",\"C\",\"A-\",\"B+\",\"B+\",\"B-\",\"B+\",\"B+\",\"B+\",\"B-\",\"A-\",\"D\",\"B+\",\"B+\",\"A+\",\"B+\",\"C\",\"C\",\"D\",\"A-\",\"C\",\"A+\",\"B-\",\"C\",\"C\",\"B+\",\"A-\",\"B-\",\"A-\",\"F\",\"B-\",\"A-\",\"A-\",\"A-\",\"B-\",\"B+\",\"B-\",\"A+\",\"B+\",\"B-\",\"B+\",\"B-\",\"B+\",\"B+\",\"C\",\"B-\",\"C\",\"C\",\"B+\",\"C\",\"B-\",\"C\",\"A-\",\"B+\",\"B-\",\"A-\",\"A-\",\"B-\",\"B-\",\"C\",\"B+\",\"B-\",\"B+\",\"B+\",\"A+\",\"C\",\"A+\",\"C\",\"A-\",\"B-\",\"C\",\"B+\",\"A-\",\"B+\",\"C\",\"C\",\"C\",\"A-\",\"A-\",\"A-\",\"B+\",\"B+\",\"B+\",\"C\",\"A-\",\"B-\",\"C\",\"C\",\"B-\",\"C\",\"D\",\"F\",\"B-\",\"B-\",\"C\",\"B-\",\"A-\",\"B-\",\"B+\",\"C\",\"C\",\"B+\",\"A+\",\"B+\",\"A-\",\"B+\",\"A-\",\"B-\",\"A-\",\"A+\",\"B-\",\"B-\",\"B+\",\"B+\",\"A-\",\"D\",\"B-\",\"D\",\"F\",\"B-\",\"B-\",\"B-\",\"B-\",\"B+\",\"B+\",\"A+\",\"B+\",\"D\",\"D\",\"A+\",\"B-\",\"C\",\"B-\",\"B+\",\"A+\",\"C\",\"C\",\"B+\",\"D\",\"C\",\"A-\",\"C\",\"B-\",\"A+\",\"B+\",\"B+\",\"B+\",\"B+\",\"B+\",\"B-\",\"C\",\"B-\",\"C\",\"C\",\"B-\",\"B-\",\"B+\",\"A+\",\"B-\",\"F\",\"C\",\"B+\",\"B+\",\"C\",\"F\",\"B+\",\"C\",\"A-\",\"B-\",\"A-\",\"C\",\"B-\",\"B-\",\"B-\",\"B-\",\"A+\",\"B+\",\"A-\",\"B-\",\"F\",\"A-\",\"A-\",\"B-\",\"D\",\"B-\",\"C\",\"A+\",\"B-\",\"A+\",\"B-\",\"C\",\"C\",\"D\",\"B-\",\"B-\",\"B+\",\"A-\",\"A-\",\"B-\",\"B+\",\"A-\",\"B+\",\"B+\",\"D\",\"A-\",\"B+\",\"B+\",\"B-\",\"B+\",\"B-\",\"B-\",\"C\",\"B+\",\"C\",\"B+\",\"A-\",\"B-\",\"B+\",\"B-\",\"B-\",\"B-\",\"C\",\"A-\",\"B+\",\"B-\",\"B-\",\"B-\",\"B-\",\"C\",\"B-\",\"A-\",\"B-\",\"B+\",\"B-\",\"C\",\"B+\",\"B+\",\"B+\",\"C\",\"B+\",\"B+\",\"B+\",\"B-\",\"B+\",\"B-\",\"C\",\"F\",\"B-\",\"A+\",\"B+\",\"B+\",\"C\",\"A-\",\"C\",\"B+\",\"B+\",\"B+\",\"C\",\"A-\",\"A-\",\"B-\",\"B+\",\"B-\",\"A-\",\"B-\",\"A-\",\"B-\",\"B-\",\"B-\",\"F\",\"C\",\"A-\",\"C\",\"A-\",\"A-\",\"A+\",\"A-\",\"B-\",\"A-\",\"B+\",\"A+\",\"B+\",\"A-\",\"B-\",\"C\",\"A-\",\"D\",\"D\",\"B+\",\"B+\",\"C\",\"A-\",\"D\",\"B+\",\"D\",\"A-\",\"D\",\"C\",\"B-\",\"A-\",\"B-\",\"B+\",\"C\",\"B+\",\"D\",\"A-\",\"B-\",\"C\",\"B+\",\"B+\",\"B-\",\"C\",\"A-\",\"B-\",\"B-\",\"B+\",\"A-\",\"C\",\"A+\",\"C\",\"B-\",\"C\",\"B+\",\"B-\",\"C\",\"A-\",\"B-\",\"B-\",\"B+\",\"B-\",\"B-\",\"B+\",\"C\",\"D\",\"B+\",\"B-\",\"B+\",\"B-\",\"C\",\"B-\",\"D\",\"B+\",\"A-\",\"C\",\"A-\",\"A-\",\"C\",\"A-\",\"D\",\"B+\",\"F\",\"B-\",\"C\",\"C\",\"B-\",\"B-\",\"A-\",\"D\",\"B-\",\"B-\",\"B+\",\"B-\",\"C\",\"B-\",\"B+\",\"A+\",\"A-\",\"B+\",\"B+\",\"B+\",\"D\",\"B+\",\"C\",\"F\",\"D\",\"B-\",\"A-\",\"B+\",\"A-\",\"C\",\"B-\",\"B-\",\"A-\",\"A-\",\"A-\",\"C\",\"B+\",\"C\",\"B-\",\"B-\",\"B-\",\"B+\",\"C\",\"C\",\"A-\",\"B-\",\"A-\",\"C\",\"B-\",\"B-\",\"B+\",\"C\",\"B+\",\"D\",\"C\",\"F\",\"B+\",\"C\",\"A-\",\"A-\",\"C\",\"B-\",\"B+\",\"B-\",\"B-\",\"A-\",\"B-\",\"B-\",\"A+\",\"B-\",\"B+\",\"D\",\"B+\",\"C\",\"A-\",\"F\",\"B+\",\"A+\",\"A-\",\"C\",\"D\",\"B+\",\"C\",\"C\",\"B+\",\"A-\",\"A-\",\"C\",\"B-\",\"A-\",\"C\",\"B+\",\"B+\",\"B-\",\"B+\",\"B-\",\"D\",\"C\",\"B+\",\"A+\",\"B-\",\"B-\",\"D\",\"A-\",\"A-\",\"B-\",\"B+\",\"B-\",\"F\",\"F\",\"B+\",\"B-\",\"B+\",\"A-\",\"B+\",\"D\",\"A+\",\"B+\",\"A-\",\"C\",\"A-\",\"B+\",\"B-\",\"D\",\"B+\",\"C\",\"C\",\"C\",\"B-\",\"A+\",\"C\",\"B+\",\"A+\",\"B-\",\"D\",\"B-\",\"B-\",\"B+\",\"B-\",\"C\",\"B-\",\"D\",\"C\",\"B+\",\"B-\",\"B-\",\"B+\",\"A+\",\"B-\",\"C\",\"C\",\"A-\",\"B+\",\"B-\",\"A-\",\"B+\",\"B-\",\"B-\",\"C\",\"A-\",\"C\",\"C\",\"B-\",\"B+\",\"B+\",\"B+\",\"C\",\"B-\",\"B-\",\"A-\",\"A+\",\"C\",\"B+\",\"C\",\"C\",\"A+\",\"B+\",\"B-\",\"B-\",\"B-\",\"B-\",\"B+\",\"B+\",\"A+\",\"B+\",\"C\",\"C\",\"B-\",\"B+\",\"B-\",\"B-\",\"D\",\"A+\",\"F\",\"B+\",\"A-\",\"A-\",\"B+\",\"C\",\"D\",\"B+\",\"D\",\"B+\",\"A-\",\"B+\",\"B-\",\"B-\",\"B-\",\"A+\",\"C\",\"B-\",\"B+\",\"A-\"],\"xaxis\":\"x\",\"yaxis\":\"y\",\"type\":\"histogram\"}],                        {\"template\":{\"data\":{\"bar\":[{\"error_x\":{\"color\":\"#2a3f5f\"},\"error_y\":{\"color\":\"#2a3f5f\"},\"marker\":{\"line\":{\"color\":\"#E5ECF6\",\"width\":0.5},\"pattern\":{\"fillmode\":\"overlay\",\"size\":10,\"solidity\":0.2}},\"type\":\"bar\"}],\"barpolar\":[{\"marker\":{\"line\":{\"color\":\"#E5ECF6\",\"width\":0.5},\"pattern\":{\"fillmode\":\"overlay\",\"size\":10,\"solidity\":0.2}},\"type\":\"barpolar\"}],\"carpet\":[{\"aaxis\":{\"endlinecolor\":\"#2a3f5f\",\"gridcolor\":\"white\",\"linecolor\":\"white\",\"minorgridcolor\":\"white\",\"startlinecolor\":\"#2a3f5f\"},\"baxis\":{\"endlinecolor\":\"#2a3f5f\",\"gridcolor\":\"white\",\"linecolor\":\"white\",\"minorgridcolor\":\"white\",\"startlinecolor\":\"#2a3f5f\"},\"type\":\"carpet\"}],\"choropleth\":[{\"colorbar\":{\"outlinewidth\":0,\"ticks\":\"\"},\"type\":\"choropleth\"}],\"contour\":[{\"colorbar\":{\"outlinewidth\":0,\"ticks\":\"\"},\"colorscale\":[[0.0,\"#0d0887\"],[0.1111111111111111,\"#46039f\"],[0.2222222222222222,\"#7201a8\"],[0.3333333333333333,\"#9c179e\"],[0.4444444444444444,\"#bd3786\"],[0.5555555555555556,\"#d8576b\"],[0.6666666666666666,\"#ed7953\"],[0.7777777777777778,\"#fb9f3a\"],[0.8888888888888888,\"#fdca26\"],[1.0,\"#f0f921\"]],\"type\":\"contour\"}],\"contourcarpet\":[{\"colorbar\":{\"outlinewidth\":0,\"ticks\":\"\"},\"type\":\"contourcarpet\"}],\"heatmap\":[{\"colorbar\":{\"outlinewidth\":0,\"ticks\":\"\"},\"colorscale\":[[0.0,\"#0d0887\"],[0.1111111111111111,\"#46039f\"],[0.2222222222222222,\"#7201a8\"],[0.3333333333333333,\"#9c179e\"],[0.4444444444444444,\"#bd3786\"],[0.5555555555555556,\"#d8576b\"],[0.6666666666666666,\"#ed7953\"],[0.7777777777777778,\"#fb9f3a\"],[0.8888888888888888,\"#fdca26\"],[1.0,\"#f0f921\"]],\"type\":\"heatmap\"}],\"heatmapgl\":[{\"colorbar\":{\"outlinewidth\":0,\"ticks\":\"\"},\"colorscale\":[[0.0,\"#0d0887\"],[0.1111111111111111,\"#46039f\"],[0.2222222222222222,\"#7201a8\"],[0.3333333333333333,\"#9c179e\"],[0.4444444444444444,\"#bd3786\"],[0.5555555555555556,\"#d8576b\"],[0.6666666666666666,\"#ed7953\"],[0.7777777777777778,\"#fb9f3a\"],[0.8888888888888888,\"#fdca26\"],[1.0,\"#f0f921\"]],\"type\":\"heatmapgl\"}],\"histogram\":[{\"marker\":{\"pattern\":{\"fillmode\":\"overlay\",\"size\":10,\"solidity\":0.2}},\"type\":\"histogram\"}],\"histogram2d\":[{\"colorbar\":{\"outlinewidth\":0,\"ticks\":\"\"},\"colorscale\":[[0.0,\"#0d0887\"],[0.1111111111111111,\"#46039f\"],[0.2222222222222222,\"#7201a8\"],[0.3333333333333333,\"#9c179e\"],[0.4444444444444444,\"#bd3786\"],[0.5555555555555556,\"#d8576b\"],[0.6666666666666666,\"#ed7953\"],[0.7777777777777778,\"#fb9f3a\"],[0.8888888888888888,\"#fdca26\"],[1.0,\"#f0f921\"]],\"type\":\"histogram2d\"}],\"histogram2dcontour\":[{\"colorbar\":{\"outlinewidth\":0,\"ticks\":\"\"},\"colorscale\":[[0.0,\"#0d0887\"],[0.1111111111111111,\"#46039f\"],[0.2222222222222222,\"#7201a8\"],[0.3333333333333333,\"#9c179e\"],[0.4444444444444444,\"#bd3786\"],[0.5555555555555556,\"#d8576b\"],[0.6666666666666666,\"#ed7953\"],[0.7777777777777778,\"#fb9f3a\"],[0.8888888888888888,\"#fdca26\"],[1.0,\"#f0f921\"]],\"type\":\"histogram2dcontour\"}],\"mesh3d\":[{\"colorbar\":{\"outlinewidth\":0,\"ticks\":\"\"},\"type\":\"mesh3d\"}],\"parcoords\":[{\"line\":{\"colorbar\":{\"outlinewidth\":0,\"ticks\":\"\"}},\"type\":\"parcoords\"}],\"pie\":[{\"automargin\":true,\"type\":\"pie\"}],\"scatter\":[{\"marker\":{\"colorbar\":{\"outlinewidth\":0,\"ticks\":\"\"}},\"type\":\"scatter\"}],\"scatter3d\":[{\"line\":{\"colorbar\":{\"outlinewidth\":0,\"ticks\":\"\"}},\"marker\":{\"colorbar\":{\"outlinewidth\":0,\"ticks\":\"\"}},\"type\":\"scatter3d\"}],\"scattercarpet\":[{\"marker\":{\"colorbar\":{\"outlinewidth\":0,\"ticks\":\"\"}},\"type\":\"scattercarpet\"}],\"scattergeo\":[{\"marker\":{\"colorbar\":{\"outlinewidth\":0,\"ticks\":\"\"}},\"type\":\"scattergeo\"}],\"scattergl\":[{\"marker\":{\"colorbar\":{\"outlinewidth\":0,\"ticks\":\"\"}},\"type\":\"scattergl\"}],\"scattermapbox\":[{\"marker\":{\"colorbar\":{\"outlinewidth\":0,\"ticks\":\"\"}},\"type\":\"scattermapbox\"}],\"scatterpolar\":[{\"marker\":{\"colorbar\":{\"outlinewidth\":0,\"ticks\":\"\"}},\"type\":\"scatterpolar\"}],\"scatterpolargl\":[{\"marker\":{\"colorbar\":{\"outlinewidth\":0,\"ticks\":\"\"}},\"type\":\"scatterpolargl\"}],\"scatterternary\":[{\"marker\":{\"colorbar\":{\"outlinewidth\":0,\"ticks\":\"\"}},\"type\":\"scatterternary\"}],\"surface\":[{\"colorbar\":{\"outlinewidth\":0,\"ticks\":\"\"},\"colorscale\":[[0.0,\"#0d0887\"],[0.1111111111111111,\"#46039f\"],[0.2222222222222222,\"#7201a8\"],[0.3333333333333333,\"#9c179e\"],[0.4444444444444444,\"#bd3786\"],[0.5555555555555556,\"#d8576b\"],[0.6666666666666666,\"#ed7953\"],[0.7777777777777778,\"#fb9f3a\"],[0.8888888888888888,\"#fdca26\"],[1.0,\"#f0f921\"]],\"type\":\"surface\"}],\"table\":[{\"cells\":{\"fill\":{\"color\":\"#EBF0F8\"},\"line\":{\"color\":\"white\"}},\"header\":{\"fill\":{\"color\":\"#C8D4E3\"},\"line\":{\"color\":\"white\"}},\"type\":\"table\"}]},\"layout\":{\"annotationdefaults\":{\"arrowcolor\":\"#2a3f5f\",\"arrowhead\":0,\"arrowwidth\":1},\"autotypenumbers\":\"strict\",\"coloraxis\":{\"colorbar\":{\"outlinewidth\":0,\"ticks\":\"\"}},\"colorscale\":{\"diverging\":[[0,\"#8e0152\"],[0.1,\"#c51b7d\"],[0.2,\"#de77ae\"],[0.3,\"#f1b6da\"],[0.4,\"#fde0ef\"],[0.5,\"#f7f7f7\"],[0.6,\"#e6f5d0\"],[0.7,\"#b8e186\"],[0.8,\"#7fbc41\"],[0.9,\"#4d9221\"],[1,\"#276419\"]],\"sequential\":[[0.0,\"#0d0887\"],[0.1111111111111111,\"#46039f\"],[0.2222222222222222,\"#7201a8\"],[0.3333333333333333,\"#9c179e\"],[0.4444444444444444,\"#bd3786\"],[0.5555555555555556,\"#d8576b\"],[0.6666666666666666,\"#ed7953\"],[0.7777777777777778,\"#fb9f3a\"],[0.8888888888888888,\"#fdca26\"],[1.0,\"#f0f921\"]],\"sequentialminus\":[[0.0,\"#0d0887\"],[0.1111111111111111,\"#46039f\"],[0.2222222222222222,\"#7201a8\"],[0.3333333333333333,\"#9c179e\"],[0.4444444444444444,\"#bd3786\"],[0.5555555555555556,\"#d8576b\"],[0.6666666666666666,\"#ed7953\"],[0.7777777777777778,\"#fb9f3a\"],[0.8888888888888888,\"#fdca26\"],[1.0,\"#f0f921\"]]},\"colorway\":[\"#636efa\",\"#EF553B\",\"#00cc96\",\"#ab63fa\",\"#FFA15A\",\"#19d3f3\",\"#FF6692\",\"#B6E880\",\"#FF97FF\",\"#FECB52\"],\"font\":{\"color\":\"#2a3f5f\"},\"geo\":{\"bgcolor\":\"white\",\"lakecolor\":\"white\",\"landcolor\":\"#E5ECF6\",\"showlakes\":true,\"showland\":true,\"subunitcolor\":\"white\"},\"hoverlabel\":{\"align\":\"left\"},\"hovermode\":\"closest\",\"mapbox\":{\"style\":\"light\"},\"paper_bgcolor\":\"white\",\"plot_bgcolor\":\"#E5ECF6\",\"polar\":{\"angularaxis\":{\"gridcolor\":\"white\",\"linecolor\":\"white\",\"ticks\":\"\"},\"bgcolor\":\"#E5ECF6\",\"radialaxis\":{\"gridcolor\":\"white\",\"linecolor\":\"white\",\"ticks\":\"\"}},\"scene\":{\"xaxis\":{\"backgroundcolor\":\"#E5ECF6\",\"gridcolor\":\"white\",\"gridwidth\":2,\"linecolor\":\"white\",\"showbackground\":true,\"ticks\":\"\",\"zerolinecolor\":\"white\"},\"yaxis\":{\"backgroundcolor\":\"#E5ECF6\",\"gridcolor\":\"white\",\"gridwidth\":2,\"linecolor\":\"white\",\"showbackground\":true,\"ticks\":\"\",\"zerolinecolor\":\"white\"},\"zaxis\":{\"backgroundcolor\":\"#E5ECF6\",\"gridcolor\":\"white\",\"gridwidth\":2,\"linecolor\":\"white\",\"showbackground\":true,\"ticks\":\"\",\"zerolinecolor\":\"white\"}},\"shapedefaults\":{\"line\":{\"color\":\"#2a3f5f\"}},\"ternary\":{\"aaxis\":{\"gridcolor\":\"white\",\"linecolor\":\"white\",\"ticks\":\"\"},\"baxis\":{\"gridcolor\":\"white\",\"linecolor\":\"white\",\"ticks\":\"\"},\"bgcolor\":\"#E5ECF6\",\"caxis\":{\"gridcolor\":\"white\",\"linecolor\":\"white\",\"ticks\":\"\"}},\"title\":{\"x\":0.05},\"xaxis\":{\"automargin\":true,\"gridcolor\":\"white\",\"linecolor\":\"white\",\"ticks\":\"\",\"title\":{\"standoff\":15},\"zerolinecolor\":\"white\",\"zerolinewidth\":2},\"yaxis\":{\"automargin\":true,\"gridcolor\":\"white\",\"linecolor\":\"white\",\"ticks\":\"\",\"title\":{\"standoff\":15},\"zerolinecolor\":\"white\",\"zerolinewidth\":2}}},\"xaxis\":{\"anchor\":\"y\",\"domain\":[0.0,1.0],\"title\":{\"text\":\"grade\"},\"categoryorder\":\"category ascending\"},\"yaxis\":{\"anchor\":\"x\",\"domain\":[0.0,1.0],\"title\":{\"text\":\"count\"}},\"legend\":{\"tracegroupgap\":0},\"title\":{\"text\":\"Grade Distribution\"},\"barmode\":\"relative\"},                        {\"responsive\": true}                    ).then(function(){\n",
              "                            \n",
              "var gd = document.getElementById('17c024f6-eec3-48fb-a8f6-75927a9268dd');\n",
              "var x = new MutationObserver(function (mutations, observer) {{\n",
              "        var display = window.getComputedStyle(gd).display;\n",
              "        if (!display || display === 'none') {{\n",
              "            console.log([gd, 'removed!']);\n",
              "            Plotly.purge(gd);\n",
              "            observer.disconnect();\n",
              "        }}\n",
              "}});\n",
              "\n",
              "// Listen for the removal of the full notebook cells\n",
              "var notebookContainer = gd.closest('#notebook-container');\n",
              "if (notebookContainer) {{\n",
              "    x.observe(notebookContainer, {childList: true});\n",
              "}}\n",
              "\n",
              "// Listen for the clearing of the current output cell\n",
              "var outputEl = gd.closest('.output');\n",
              "if (outputEl) {{\n",
              "    x.observe(outputEl, {childList: true});\n",
              "}}\n",
              "\n",
              "                        })                };                            </script>        </div>\n",
              "</body>\n",
              "</html>"
            ]
          },
          "metadata": {}
        }
      ]
    },
    {
      "cell_type": "markdown",
      "source": [
        "<p>From above, we know about grade distribution that inform us about <b>B- is majority in class</b></p>."
      ],
      "metadata": {
        "id": "0kXI3Kfk568q"
      }
    },
    {
      "cell_type": "code",
      "source": [
        "fig = px.histogram(df, x='parent_edu', color='grade', title='Parents Education vs Grade Distribution')\n",
        "fig.show()"
      ],
      "metadata": {
        "colab": {
          "base_uri": "https://localhost:8080/",
          "height": 542
        },
        "id": "KJFFmT-45tFc",
        "outputId": "d8ce3d7a-247c-4005-ef81-51acafaaea9f"
      },
      "execution_count": 32,
      "outputs": [
        {
          "output_type": "display_data",
          "data": {
            "text/html": [
              "<html>\n",
              "<head><meta charset=\"utf-8\" /></head>\n",
              "<body>\n",
              "    <div>            <script src=\"https://cdnjs.cloudflare.com/ajax/libs/mathjax/2.7.5/MathJax.js?config=TeX-AMS-MML_SVG\"></script><script type=\"text/javascript\">if (window.MathJax) {MathJax.Hub.Config({SVG: {font: \"STIX-Web\"}});}</script>                <script type=\"text/javascript\">window.PlotlyConfig = {MathJaxConfig: 'local'};</script>\n",
              "        <script src=\"https://cdn.plot.ly/plotly-2.8.3.min.js\"></script>                <div id=\"3d60e9b2-90d6-43a1-898f-2e6c24372a13\" class=\"plotly-graph-div\" style=\"height:525px; width:100%;\"></div>            <script type=\"text/javascript\">                                    window.PLOTLYENV=window.PLOTLYENV || {};                                    if (document.getElementById(\"3d60e9b2-90d6-43a1-898f-2e6c24372a13\")) {                    Plotly.newPlot(                        \"3d60e9b2-90d6-43a1-898f-2e6c24372a13\",                        [{\"alignmentgroup\":\"True\",\"bingroup\":\"x\",\"hovertemplate\":\"grade=B+<br>parent_edu=%{x}<br>count=%{y}<extra></extra>\",\"legendgroup\":\"B+\",\"marker\":{\"color\":\"#636efa\",\"pattern\":{\"shape\":\"\"}},\"name\":\"B+\",\"offsetgroup\":\"B+\",\"orientation\":\"v\",\"showlegend\":true,\"x\":[\"bachelor's degree\",\"some college\",\"associate's degree\",\"high school\",\"some college\",\"some high school\",\"some high school\",\"bachelor's degree\",\"master's degree\",\"bachelor's degree\",\"some college\",\"associate's degree\",\"high school\",\"associate's degree\",\"bachelor's degree\",\"associate's degree\",\"bachelor's degree\",\"some college\",\"associate's degree\",\"bachelor's degree\",\"high school\",\"some college\",\"bachelor's degree\",\"high school\",\"bachelor's degree\",\"some college\",\"some college\",\"master's degree\",\"some college\",\"some college\",\"bachelor's degree\",\"some high school\",\"some college\",\"bachelor's degree\",\"bachelor's degree\",\"high school\",\"associate's degree\",\"associate's degree\",\"master's degree\",\"high school\",\"some college\",\"high school\",\"associate's degree\",\"high school\",\"some college\",\"master's degree\",\"bachelor's degree\",\"associate's degree\",\"some college\",\"associate's degree\",\"some high school\",\"high school\",\"some college\",\"some high school\",\"high school\",\"some college\",\"bachelor's degree\",\"associate's degree\",\"some high school\",\"associate's degree\",\"associate's degree\",\"some college\",\"master's degree\",\"associate's degree\",\"some college\",\"master's degree\",\"some high school\",\"some college\",\"high school\",\"bachelor's degree\",\"high school\",\"some college\",\"bachelor's degree\",\"some high school\",\"bachelor's degree\",\"some college\",\"some high school\",\"bachelor's degree\",\"some high school\",\"associate's degree\",\"some high school\",\"bachelor's degree\",\"high school\",\"associate's degree\",\"some college\",\"associate's degree\",\"associate's degree\",\"associate's degree\",\"associate's degree\",\"associate's degree\",\"high school\",\"high school\",\"some college\",\"associate's degree\",\"some high school\",\"high school\",\"some college\",\"high school\",\"high school\",\"associate's degree\",\"some college\",\"some college\",\"some high school\",\"some high school\",\"master's degree\",\"some college\",\"master's degree\",\"some college\",\"some high school\",\"associate's degree\",\"master's degree\",\"high school\",\"bachelor's degree\",\"associate's degree\",\"some high school\",\"associate's degree\",\"some college\",\"high school\",\"associate's degree\",\"some high school\",\"some high school\",\"associate's degree\",\"some college\",\"associate's degree\",\"some college\",\"associate's degree\",\"bachelor's degree\",\"associate's degree\",\"associate's degree\",\"high school\",\"high school\",\"associate's degree\",\"some college\",\"some college\",\"master's degree\",\"master's degree\",\"some college\",\"some college\",\"some high school\",\"high school\",\"bachelor's degree\",\"bachelor's degree\",\"high school\",\"associate's degree\",\"master's degree\",\"some high school\",\"some college\",\"some college\",\"some college\",\"some college\",\"high school\",\"some high school\",\"bachelor's degree\",\"associate's degree\",\"some college\",\"associate's degree\",\"high school\",\"high school\",\"some high school\",\"some college\",\"associate's degree\",\"bachelor's degree\",\"high school\",\"some college\",\"associate's degree\",\"some high school\",\"high school\",\"bachelor's degree\",\"some college\",\"high school\",\"some high school\",\"some college\",\"associate's degree\",\"some college\",\"associate's degree\",\"high school\",\"some college\",\"some high school\",\"associate's degree\",\"high school\",\"some college\",\"associate's degree\",\"associate's degree\",\"bachelor's degree\",\"associate's degree\",\"associate's degree\",\"associate's degree\",\"high school\",\"some college\",\"associate's degree\",\"associate's degree\",\"associate's degree\",\"bachelor's degree\",\"associate's degree\",\"high school\",\"master's degree\",\"some college\",\"high school\",\"some high school\",\"bachelor's degree\",\"bachelor's degree\",\"some college\",\"some high school\",\"associate's degree\",\"some high school\",\"some college\",\"some college\",\"some college\",\"high school\",\"high school\",\"high school\",\"some high school\",\"high school\",\"associate's degree\",\"some college\",\"associate's degree\",\"bachelor's degree\",\"associate's degree\",\"some college\",\"associate's degree\",\"some college\",\"some high school\",\"associate's degree\",\"bachelor's degree\",\"associate's degree\",\"some high school\",\"some high school\",\"some high school\",\"master's degree\",\"some high school\",\"bachelor's degree\",\"some college\",\"associate's degree\",\"high school\",\"some college\",\"bachelor's degree\",\"some high school\",\"high school\",\"high school\",\"some college\",\"some high school\",\"high school\",\"some high school\",\"associate's degree\",\"bachelor's degree\",\"some high school\",\"some college\",\"some high school\",\"some high school\",\"some high school\",\"some college\",\"some high school\",\"some college\"],\"xaxis\":\"x\",\"yaxis\":\"y\",\"type\":\"histogram\"},{\"alignmentgroup\":\"True\",\"bingroup\":\"x\",\"hovertemplate\":\"grade=A-<br>parent_edu=%{x}<br>count=%{y}<extra></extra>\",\"legendgroup\":\"A-\",\"marker\":{\"color\":\"#EF553B\",\"pattern\":{\"shape\":\"\"}},\"name\":\"A-\",\"offsetgroup\":\"A-\",\"orientation\":\"v\",\"showlegend\":true,\"x\":[\"some college\",\"high school\",\"some college\",\"associate's degree\",\"associate's degree\",\"high school\",\"high school\",\"some high school\",\"associate's degree\",\"some college\",\"some high school\",\"some college\",\"associate's degree\",\"associate's degree\",\"associate's degree\",\"bachelor's degree\",\"bachelor's degree\",\"high school\",\"master's degree\",\"some high school\",\"some college\",\"some college\",\"master's degree\",\"some high school\",\"some college\",\"master's degree\",\"bachelor's degree\",\"high school\",\"some high school\",\"associate's degree\",\"associate's degree\",\"some high school\",\"some high school\",\"bachelor's degree\",\"associate's degree\",\"bachelor's degree\",\"some college\",\"some high school\",\"associate's degree\",\"associate's degree\",\"associate's degree\",\"some college\",\"master's degree\",\"some college\",\"associate's degree\",\"bachelor's degree\",\"some college\",\"some high school\",\"some high school\",\"some high school\",\"associate's degree\",\"associate's degree\",\"associate's degree\",\"some college\",\"associate's degree\",\"bachelor's degree\",\"some high school\",\"high school\",\"bachelor's degree\",\"some college\",\"some college\",\"high school\",\"some college\",\"associate's degree\",\"associate's degree\",\"some college\",\"bachelor's degree\",\"some high school\",\"bachelor's degree\",\"master's degree\",\"some high school\",\"some college\",\"associate's degree\",\"associate's degree\",\"associate's degree\",\"associate's degree\",\"some high school\",\"bachelor's degree\",\"high school\",\"master's degree\",\"associate's degree\",\"associate's degree\",\"bachelor's degree\",\"master's degree\",\"high school\",\"some high school\",\"some high school\",\"associate's degree\",\"some college\",\"associate's degree\",\"bachelor's degree\",\"some college\",\"some college\",\"associate's degree\",\"bachelor's degree\",\"bachelor's degree\",\"high school\",\"some college\",\"some high school\",\"master's degree\",\"associate's degree\",\"associate's degree\",\"some high school\",\"high school\",\"some college\",\"associate's degree\",\"high school\",\"some college\",\"some high school\",\"some high school\",\"associate's degree\",\"master's degree\",\"high school\",\"bachelor's degree\",\"some high school\",\"some college\",\"some high school\",\"some high school\",\"some high school\",\"some high school\",\"bachelor's degree\",\"bachelor's degree\",\"high school\",\"master's degree\",\"master's degree\",\"some college\",\"master's degree\",\"some college\",\"associate's degree\",\"associate's degree\",\"some college\",\"some college\",\"associate's degree\",\"master's degree\",\"some college\",\"some college\",\"some college\",\"master's degree\",\"high school\",\"some college\",\"some high school\",\"some college\",\"high school\",\"some college\"],\"xaxis\":\"x\",\"yaxis\":\"y\",\"type\":\"histogram\"},{\"alignmentgroup\":\"True\",\"bingroup\":\"x\",\"hovertemplate\":\"grade=A+<br>parent_edu=%{x}<br>count=%{y}<extra></extra>\",\"legendgroup\":\"A+\",\"marker\":{\"color\":\"#00cc96\",\"pattern\":{\"shape\":\"\"}},\"name\":\"A+\",\"offsetgroup\":\"A+\",\"orientation\":\"v\",\"showlegend\":true,\"x\":[\"master's degree\",\"some college\",\"some college\",\"master's degree\",\"bachelor's degree\",\"associate's degree\",\"some college\",\"associate's degree\",\"bachelor's degree\",\"some high school\",\"some college\",\"high school\",\"associate's degree\",\"bachelor's degree\",\"some college\",\"master's degree\",\"associate's degree\",\"high school\",\"some college\",\"bachelor's degree\",\"associate's degree\",\"associate's degree\",\"associate's degree\",\"associate's degree\",\"some high school\",\"bachelor's degree\",\"bachelor's degree\",\"bachelor's degree\",\"some high school\",\"bachelor's degree\",\"bachelor's degree\",\"some college\",\"some college\",\"master's degree\",\"some college\",\"associate's degree\",\"associate's degree\",\"associate's degree\",\"bachelor's degree\",\"associate's degree\",\"associate's degree\",\"bachelor's degree\",\"bachelor's degree\",\"some college\",\"associate's degree\",\"master's degree\",\"associate's degree\",\"bachelor's degree\",\"associate's degree\",\"master's degree\"],\"xaxis\":\"x\",\"yaxis\":\"y\",\"type\":\"histogram\"},{\"alignmentgroup\":\"True\",\"bingroup\":\"x\",\"hovertemplate\":\"grade=D<br>parent_edu=%{x}<br>count=%{y}<extra></extra>\",\"legendgroup\":\"D\",\"marker\":{\"color\":\"#ab63fa\",\"pattern\":{\"shape\":\"\"}},\"name\":\"D\",\"offsetgroup\":\"D\",\"orientation\":\"v\",\"showlegend\":true,\"x\":[\"associate's degree\",\"some college\",\"high school\",\"associate's degree\",\"master's degree\",\"some college\",\"associate's degree\",\"some high school\",\"associate's degree\",\"associate's degree\",\"high school\",\"associate's degree\",\"some high school\",\"some high school\",\"high school\",\"bachelor's degree\",\"bachelor's degree\",\"high school\",\"some high school\",\"some high school\",\"some college\",\"associate's degree\",\"some high school\",\"some high school\",\"some high school\",\"some college\",\"high school\",\"high school\",\"some high school\",\"some high school\",\"high school\",\"some high school\",\"some high school\",\"high school\",\"some high school\",\"associate's degree\",\"some high school\",\"associate's degree\",\"some high school\",\"some high school\",\"high school\",\"some college\",\"high school\",\"bachelor's degree\",\"high school\",\"associate's degree\",\"associate's degree\",\"bachelor's degree\",\"associate's degree\",\"associate's degree\",\"high school\",\"some high school\",\"high school\",\"high school\",\"some college\",\"some college\",\"some high school\",\"some high school\",\"associate's degree\",\"high school\",\"some college\",\"some high school\",\"high school\",\"high school\",\"high school\",\"high school\",\"high school\",\"associate's degree\",\"bachelor's degree\",\"high school\",\"high school\",\"bachelor's degree\",\"high school\",\"associate's degree\",\"high school\",\"associate's degree\",\"some high school\"],\"xaxis\":\"x\",\"yaxis\":\"y\",\"type\":\"histogram\"},{\"alignmentgroup\":\"True\",\"bingroup\":\"x\",\"hovertemplate\":\"grade=B-<br>parent_edu=%{x}<br>count=%{y}<extra></extra>\",\"legendgroup\":\"B-\",\"marker\":{\"color\":\"#FFA15A\",\"pattern\":{\"shape\":\"\"}},\"name\":\"B-\",\"offsetgroup\":\"B-\",\"orientation\":\"v\",\"showlegend\":true,\"x\":[\"high school\",\"high school\",\"some college\",\"high school\",\"master's degree\",\"some college\",\"master's degree\",\"associate's degree\",\"some college\",\"associate's degree\",\"associate's degree\",\"some high school\",\"some college\",\"some college\",\"some college\",\"some high school\",\"master's degree\",\"associate's degree\",\"some college\",\"some high school\",\"some college\",\"some college\",\"bachelor's degree\",\"some college\",\"associate's degree\",\"associate's degree\",\"some high school\",\"some college\",\"some high school\",\"high school\",\"associate's degree\",\"some college\",\"some college\",\"associate's degree\",\"some high school\",\"associate's degree\",\"some high school\",\"associate's degree\",\"associate's degree\",\"master's degree\",\"master's degree\",\"associate's degree\",\"associate's degree\",\"some high school\",\"associate's degree\",\"some high school\",\"some college\",\"some high school\",\"associate's degree\",\"bachelor's degree\",\"some college\",\"high school\",\"some high school\",\"associate's degree\",\"some high school\",\"some college\",\"bachelor's degree\",\"some high school\",\"high school\",\"high school\",\"high school\",\"high school\",\"some high school\",\"some college\",\"associate's degree\",\"bachelor's degree\",\"some college\",\"high school\",\"bachelor's degree\",\"associate's degree\",\"some college\",\"associate's degree\",\"bachelor's degree\",\"bachelor's degree\",\"associate's degree\",\"bachelor's degree\",\"high school\",\"bachelor's degree\",\"associate's degree\",\"some college\",\"high school\",\"some college\",\"high school\",\"associate's degree\",\"bachelor's degree\",\"some college\",\"bachelor's degree\",\"associate's degree\",\"some college\",\"bachelor's degree\",\"some college\",\"bachelor's degree\",\"bachelor's degree\",\"bachelor's degree\",\"associate's degree\",\"high school\",\"some high school\",\"some college\",\"some high school\",\"some high school\",\"associate's degree\",\"associate's degree\",\"some high school\",\"bachelor's degree\",\"some college\",\"some college\",\"some high school\",\"some high school\",\"associate's degree\",\"high school\",\"some high school\",\"associate's degree\",\"some high school\",\"some college\",\"high school\",\"bachelor's degree\",\"high school\",\"high school\",\"some high school\",\"bachelor's degree\",\"master's degree\",\"some college\",\"associate's degree\",\"associate's degree\",\"high school\",\"high school\",\"some high school\",\"high school\",\"bachelor's degree\",\"some college\",\"associate's degree\",\"associate's degree\",\"associate's degree\",\"high school\",\"master's degree\",\"high school\",\"high school\",\"some college\",\"associate's degree\",\"master's degree\",\"associate's degree\",\"some high school\",\"master's degree\",\"bachelor's degree\",\"master's degree\",\"high school\",\"some college\",\"some high school\",\"bachelor's degree\",\"bachelor's degree\",\"some high school\",\"some college\",\"associate's degree\",\"some college\",\"some college\",\"high school\",\"associate's degree\",\"bachelor's degree\",\"bachelor's degree\",\"associate's degree\",\"some college\",\"high school\",\"high school\",\"high school\",\"associate's degree\",\"high school\",\"associate's degree\",\"some college\",\"associate's degree\",\"some high school\",\"some high school\",\"some college\",\"high school\",\"associate's degree\",\"some college\",\"some college\",\"high school\",\"some college\",\"high school\",\"some college\",\"bachelor's degree\",\"high school\",\"some high school\",\"some college\",\"some high school\",\"bachelor's degree\",\"some high school\",\"some college\",\"master's degree\",\"some college\",\"associate's degree\",\"some college\",\"some high school\",\"some college\",\"bachelor's degree\",\"high school\",\"high school\",\"some college\",\"high school\",\"high school\",\"some high school\",\"some college\",\"high school\",\"associate's degree\",\"some college\",\"high school\",\"associate's degree\",\"high school\",\"some college\",\"some high school\",\"master's degree\",\"bachelor's degree\",\"high school\",\"high school\",\"associate's degree\",\"some high school\",\"bachelor's degree\",\"high school\",\"high school\",\"high school\",\"master's degree\",\"high school\",\"some high school\",\"some high school\",\"some college\",\"some college\",\"bachelor's degree\",\"high school\",\"high school\",\"some college\",\"master's degree\",\"associate's degree\",\"associate's degree\",\"bachelor's degree\",\"some college\",\"high school\",\"high school\",\"associate's degree\",\"some high school\",\"high school\",\"some college\",\"associate's degree\",\"some college\",\"master's degree\",\"some high school\",\"high school\",\"high school\",\"some college\",\"associate's degree\",\"some college\",\"some college\",\"some high school\",\"some college\",\"some college\",\"some college\",\"associate's degree\",\"associate's degree\",\"bachelor's degree\",\"high school\",\"high school\"],\"xaxis\":\"x\",\"yaxis\":\"y\",\"type\":\"histogram\"},{\"alignmentgroup\":\"True\",\"bingroup\":\"x\",\"hovertemplate\":\"grade=C<br>parent_edu=%{x}<br>count=%{y}<extra></extra>\",\"legendgroup\":\"C\",\"marker\":{\"color\":\"#19d3f3\",\"pattern\":{\"shape\":\"\"}},\"name\":\"C\",\"offsetgroup\":\"C\",\"orientation\":\"v\",\"showlegend\":true,\"x\":[\"associate's degree\",\"master's degree\",\"associate's degree\",\"some college\",\"some college\",\"some high school\",\"associate's degree\",\"associate's degree\",\"associate's degree\",\"associate's degree\",\"associate's degree\",\"some college\",\"associate's degree\",\"some college\",\"associate's degree\",\"some high school\",\"associate's degree\",\"associate's degree\",\"some high school\",\"some college\",\"high school\",\"high school\",\"associate's degree\",\"some college\",\"some high school\",\"high school\",\"bachelor's degree\",\"bachelor's degree\",\"some college\",\"some college\",\"master's degree\",\"high school\",\"high school\",\"high school\",\"some college\",\"associate's degree\",\"high school\",\"some college\",\"high school\",\"associate's degree\",\"some high school\",\"master's degree\",\"high school\",\"some college\",\"high school\",\"some college\",\"high school\",\"associate's degree\",\"some high school\",\"some high school\",\"high school\",\"associate's degree\",\"high school\",\"some college\",\"some college\",\"associate's degree\",\"some college\",\"high school\",\"some college\",\"some college\",\"bachelor's degree\",\"high school\",\"some high school\",\"associate's degree\",\"high school\",\"some high school\",\"some high school\",\"some college\",\"high school\",\"high school\",\"high school\",\"high school\",\"master's degree\",\"some high school\",\"high school\",\"some high school\",\"some college\",\"high school\",\"some college\",\"associate's degree\",\"associate's degree\",\"bachelor's degree\",\"some college\",\"associate's degree\",\"high school\",\"associate's degree\",\"some college\",\"some high school\",\"some college\",\"some college\",\"master's degree\",\"bachelor's degree\",\"some high school\",\"some high school\",\"some high school\",\"some college\",\"master's degree\",\"high school\",\"some high school\",\"some high school\",\"associate's degree\",\"high school\",\"high school\",\"some college\",\"high school\",\"some college\",\"some college\",\"bachelor's degree\",\"some high school\",\"some college\",\"some high school\",\"master's degree\",\"high school\",\"master's degree\",\"high school\",\"associate's degree\",\"some college\",\"high school\",\"some high school\",\"associate's degree\",\"some high school\",\"associate's degree\",\"some college\",\"high school\",\"high school\",\"associate's degree\",\"some high school\",\"some college\",\"associate's degree\",\"some high school\",\"some high school\",\"some college\",\"high school\",\"some college\",\"bachelor's degree\",\"associate's degree\",\"some college\",\"some college\",\"some high school\",\"some college\",\"some high school\",\"associate's degree\",\"associate's degree\",\"master's degree\",\"high school\",\"associate's degree\",\"bachelor's degree\",\"bachelor's degree\",\"some college\",\"some high school\",\"some high school\",\"some college\",\"some college\",\"associate's degree\",\"some high school\",\"some high school\",\"high school\",\"associate's degree\",\"high school\",\"associate's degree\",\"high school\",\"bachelor's degree\",\"some high school\",\"associate's degree\",\"high school\",\"bachelor's degree\",\"bachelor's degree\",\"associate's degree\",\"high school\",\"associate's degree\",\"some high school\",\"associate's degree\",\"high school\",\"associate's degree\",\"some college\",\"some high school\",\"high school\",\"high school\",\"some college\",\"some high school\",\"high school\",\"some college\",\"high school\",\"high school\"],\"xaxis\":\"x\",\"yaxis\":\"y\",\"type\":\"histogram\"},{\"alignmentgroup\":\"True\",\"bingroup\":\"x\",\"hovertemplate\":\"grade=F<br>parent_edu=%{x}<br>count=%{y}<extra></extra>\",\"legendgroup\":\"F\",\"marker\":{\"color\":\"#FF6692\",\"pattern\":{\"shape\":\"\"}},\"name\":\"F\",\"offsetgroup\":\"F\",\"orientation\":\"v\",\"showlegend\":true,\"x\":[\"some high school\",\"some college\",\"high school\",\"some high school\",\"some high school\",\"some high school\",\"some high school\",\"high school\",\"high school\",\"some college\",\"some college\",\"high school\",\"some college\",\"associate's degree\",\"some high school\",\"some high school\",\"some college\",\"associate's degree\",\"bachelor's degree\",\"some college\",\"high school\",\"high school\",\"bachelor's degree\",\"some high school\",\"high school\",\"some college\",\"some high school\",\"high school\",\"bachelor's degree\",\"some high school\",\"high school\",\"high school\"],\"xaxis\":\"x\",\"yaxis\":\"y\",\"type\":\"histogram\"}],                        {\"template\":{\"data\":{\"bar\":[{\"error_x\":{\"color\":\"#2a3f5f\"},\"error_y\":{\"color\":\"#2a3f5f\"},\"marker\":{\"line\":{\"color\":\"#E5ECF6\",\"width\":0.5},\"pattern\":{\"fillmode\":\"overlay\",\"size\":10,\"solidity\":0.2}},\"type\":\"bar\"}],\"barpolar\":[{\"marker\":{\"line\":{\"color\":\"#E5ECF6\",\"width\":0.5},\"pattern\":{\"fillmode\":\"overlay\",\"size\":10,\"solidity\":0.2}},\"type\":\"barpolar\"}],\"carpet\":[{\"aaxis\":{\"endlinecolor\":\"#2a3f5f\",\"gridcolor\":\"white\",\"linecolor\":\"white\",\"minorgridcolor\":\"white\",\"startlinecolor\":\"#2a3f5f\"},\"baxis\":{\"endlinecolor\":\"#2a3f5f\",\"gridcolor\":\"white\",\"linecolor\":\"white\",\"minorgridcolor\":\"white\",\"startlinecolor\":\"#2a3f5f\"},\"type\":\"carpet\"}],\"choropleth\":[{\"colorbar\":{\"outlinewidth\":0,\"ticks\":\"\"},\"type\":\"choropleth\"}],\"contour\":[{\"colorbar\":{\"outlinewidth\":0,\"ticks\":\"\"},\"colorscale\":[[0.0,\"#0d0887\"],[0.1111111111111111,\"#46039f\"],[0.2222222222222222,\"#7201a8\"],[0.3333333333333333,\"#9c179e\"],[0.4444444444444444,\"#bd3786\"],[0.5555555555555556,\"#d8576b\"],[0.6666666666666666,\"#ed7953\"],[0.7777777777777778,\"#fb9f3a\"],[0.8888888888888888,\"#fdca26\"],[1.0,\"#f0f921\"]],\"type\":\"contour\"}],\"contourcarpet\":[{\"colorbar\":{\"outlinewidth\":0,\"ticks\":\"\"},\"type\":\"contourcarpet\"}],\"heatmap\":[{\"colorbar\":{\"outlinewidth\":0,\"ticks\":\"\"},\"colorscale\":[[0.0,\"#0d0887\"],[0.1111111111111111,\"#46039f\"],[0.2222222222222222,\"#7201a8\"],[0.3333333333333333,\"#9c179e\"],[0.4444444444444444,\"#bd3786\"],[0.5555555555555556,\"#d8576b\"],[0.6666666666666666,\"#ed7953\"],[0.7777777777777778,\"#fb9f3a\"],[0.8888888888888888,\"#fdca26\"],[1.0,\"#f0f921\"]],\"type\":\"heatmap\"}],\"heatmapgl\":[{\"colorbar\":{\"outlinewidth\":0,\"ticks\":\"\"},\"colorscale\":[[0.0,\"#0d0887\"],[0.1111111111111111,\"#46039f\"],[0.2222222222222222,\"#7201a8\"],[0.3333333333333333,\"#9c179e\"],[0.4444444444444444,\"#bd3786\"],[0.5555555555555556,\"#d8576b\"],[0.6666666666666666,\"#ed7953\"],[0.7777777777777778,\"#fb9f3a\"],[0.8888888888888888,\"#fdca26\"],[1.0,\"#f0f921\"]],\"type\":\"heatmapgl\"}],\"histogram\":[{\"marker\":{\"pattern\":{\"fillmode\":\"overlay\",\"size\":10,\"solidity\":0.2}},\"type\":\"histogram\"}],\"histogram2d\":[{\"colorbar\":{\"outlinewidth\":0,\"ticks\":\"\"},\"colorscale\":[[0.0,\"#0d0887\"],[0.1111111111111111,\"#46039f\"],[0.2222222222222222,\"#7201a8\"],[0.3333333333333333,\"#9c179e\"],[0.4444444444444444,\"#bd3786\"],[0.5555555555555556,\"#d8576b\"],[0.6666666666666666,\"#ed7953\"],[0.7777777777777778,\"#fb9f3a\"],[0.8888888888888888,\"#fdca26\"],[1.0,\"#f0f921\"]],\"type\":\"histogram2d\"}],\"histogram2dcontour\":[{\"colorbar\":{\"outlinewidth\":0,\"ticks\":\"\"},\"colorscale\":[[0.0,\"#0d0887\"],[0.1111111111111111,\"#46039f\"],[0.2222222222222222,\"#7201a8\"],[0.3333333333333333,\"#9c179e\"],[0.4444444444444444,\"#bd3786\"],[0.5555555555555556,\"#d8576b\"],[0.6666666666666666,\"#ed7953\"],[0.7777777777777778,\"#fb9f3a\"],[0.8888888888888888,\"#fdca26\"],[1.0,\"#f0f921\"]],\"type\":\"histogram2dcontour\"}],\"mesh3d\":[{\"colorbar\":{\"outlinewidth\":0,\"ticks\":\"\"},\"type\":\"mesh3d\"}],\"parcoords\":[{\"line\":{\"colorbar\":{\"outlinewidth\":0,\"ticks\":\"\"}},\"type\":\"parcoords\"}],\"pie\":[{\"automargin\":true,\"type\":\"pie\"}],\"scatter\":[{\"marker\":{\"colorbar\":{\"outlinewidth\":0,\"ticks\":\"\"}},\"type\":\"scatter\"}],\"scatter3d\":[{\"line\":{\"colorbar\":{\"outlinewidth\":0,\"ticks\":\"\"}},\"marker\":{\"colorbar\":{\"outlinewidth\":0,\"ticks\":\"\"}},\"type\":\"scatter3d\"}],\"scattercarpet\":[{\"marker\":{\"colorbar\":{\"outlinewidth\":0,\"ticks\":\"\"}},\"type\":\"scattercarpet\"}],\"scattergeo\":[{\"marker\":{\"colorbar\":{\"outlinewidth\":0,\"ticks\":\"\"}},\"type\":\"scattergeo\"}],\"scattergl\":[{\"marker\":{\"colorbar\":{\"outlinewidth\":0,\"ticks\":\"\"}},\"type\":\"scattergl\"}],\"scattermapbox\":[{\"marker\":{\"colorbar\":{\"outlinewidth\":0,\"ticks\":\"\"}},\"type\":\"scattermapbox\"}],\"scatterpolar\":[{\"marker\":{\"colorbar\":{\"outlinewidth\":0,\"ticks\":\"\"}},\"type\":\"scatterpolar\"}],\"scatterpolargl\":[{\"marker\":{\"colorbar\":{\"outlinewidth\":0,\"ticks\":\"\"}},\"type\":\"scatterpolargl\"}],\"scatterternary\":[{\"marker\":{\"colorbar\":{\"outlinewidth\":0,\"ticks\":\"\"}},\"type\":\"scatterternary\"}],\"surface\":[{\"colorbar\":{\"outlinewidth\":0,\"ticks\":\"\"},\"colorscale\":[[0.0,\"#0d0887\"],[0.1111111111111111,\"#46039f\"],[0.2222222222222222,\"#7201a8\"],[0.3333333333333333,\"#9c179e\"],[0.4444444444444444,\"#bd3786\"],[0.5555555555555556,\"#d8576b\"],[0.6666666666666666,\"#ed7953\"],[0.7777777777777778,\"#fb9f3a\"],[0.8888888888888888,\"#fdca26\"],[1.0,\"#f0f921\"]],\"type\":\"surface\"}],\"table\":[{\"cells\":{\"fill\":{\"color\":\"#EBF0F8\"},\"line\":{\"color\":\"white\"}},\"header\":{\"fill\":{\"color\":\"#C8D4E3\"},\"line\":{\"color\":\"white\"}},\"type\":\"table\"}]},\"layout\":{\"annotationdefaults\":{\"arrowcolor\":\"#2a3f5f\",\"arrowhead\":0,\"arrowwidth\":1},\"autotypenumbers\":\"strict\",\"coloraxis\":{\"colorbar\":{\"outlinewidth\":0,\"ticks\":\"\"}},\"colorscale\":{\"diverging\":[[0,\"#8e0152\"],[0.1,\"#c51b7d\"],[0.2,\"#de77ae\"],[0.3,\"#f1b6da\"],[0.4,\"#fde0ef\"],[0.5,\"#f7f7f7\"],[0.6,\"#e6f5d0\"],[0.7,\"#b8e186\"],[0.8,\"#7fbc41\"],[0.9,\"#4d9221\"],[1,\"#276419\"]],\"sequential\":[[0.0,\"#0d0887\"],[0.1111111111111111,\"#46039f\"],[0.2222222222222222,\"#7201a8\"],[0.3333333333333333,\"#9c179e\"],[0.4444444444444444,\"#bd3786\"],[0.5555555555555556,\"#d8576b\"],[0.6666666666666666,\"#ed7953\"],[0.7777777777777778,\"#fb9f3a\"],[0.8888888888888888,\"#fdca26\"],[1.0,\"#f0f921\"]],\"sequentialminus\":[[0.0,\"#0d0887\"],[0.1111111111111111,\"#46039f\"],[0.2222222222222222,\"#7201a8\"],[0.3333333333333333,\"#9c179e\"],[0.4444444444444444,\"#bd3786\"],[0.5555555555555556,\"#d8576b\"],[0.6666666666666666,\"#ed7953\"],[0.7777777777777778,\"#fb9f3a\"],[0.8888888888888888,\"#fdca26\"],[1.0,\"#f0f921\"]]},\"colorway\":[\"#636efa\",\"#EF553B\",\"#00cc96\",\"#ab63fa\",\"#FFA15A\",\"#19d3f3\",\"#FF6692\",\"#B6E880\",\"#FF97FF\",\"#FECB52\"],\"font\":{\"color\":\"#2a3f5f\"},\"geo\":{\"bgcolor\":\"white\",\"lakecolor\":\"white\",\"landcolor\":\"#E5ECF6\",\"showlakes\":true,\"showland\":true,\"subunitcolor\":\"white\"},\"hoverlabel\":{\"align\":\"left\"},\"hovermode\":\"closest\",\"mapbox\":{\"style\":\"light\"},\"paper_bgcolor\":\"white\",\"plot_bgcolor\":\"#E5ECF6\",\"polar\":{\"angularaxis\":{\"gridcolor\":\"white\",\"linecolor\":\"white\",\"ticks\":\"\"},\"bgcolor\":\"#E5ECF6\",\"radialaxis\":{\"gridcolor\":\"white\",\"linecolor\":\"white\",\"ticks\":\"\"}},\"scene\":{\"xaxis\":{\"backgroundcolor\":\"#E5ECF6\",\"gridcolor\":\"white\",\"gridwidth\":2,\"linecolor\":\"white\",\"showbackground\":true,\"ticks\":\"\",\"zerolinecolor\":\"white\"},\"yaxis\":{\"backgroundcolor\":\"#E5ECF6\",\"gridcolor\":\"white\",\"gridwidth\":2,\"linecolor\":\"white\",\"showbackground\":true,\"ticks\":\"\",\"zerolinecolor\":\"white\"},\"zaxis\":{\"backgroundcolor\":\"#E5ECF6\",\"gridcolor\":\"white\",\"gridwidth\":2,\"linecolor\":\"white\",\"showbackground\":true,\"ticks\":\"\",\"zerolinecolor\":\"white\"}},\"shapedefaults\":{\"line\":{\"color\":\"#2a3f5f\"}},\"ternary\":{\"aaxis\":{\"gridcolor\":\"white\",\"linecolor\":\"white\",\"ticks\":\"\"},\"baxis\":{\"gridcolor\":\"white\",\"linecolor\":\"white\",\"ticks\":\"\"},\"bgcolor\":\"#E5ECF6\",\"caxis\":{\"gridcolor\":\"white\",\"linecolor\":\"white\",\"ticks\":\"\"}},\"title\":{\"x\":0.05},\"xaxis\":{\"automargin\":true,\"gridcolor\":\"white\",\"linecolor\":\"white\",\"ticks\":\"\",\"title\":{\"standoff\":15},\"zerolinecolor\":\"white\",\"zerolinewidth\":2},\"yaxis\":{\"automargin\":true,\"gridcolor\":\"white\",\"linecolor\":\"white\",\"ticks\":\"\",\"title\":{\"standoff\":15},\"zerolinecolor\":\"white\",\"zerolinewidth\":2}}},\"xaxis\":{\"anchor\":\"y\",\"domain\":[0.0,1.0],\"title\":{\"text\":\"parent_edu\"}},\"yaxis\":{\"anchor\":\"x\",\"domain\":[0.0,1.0],\"title\":{\"text\":\"count\"}},\"legend\":{\"title\":{\"text\":\"grade\"},\"tracegroupgap\":0},\"title\":{\"text\":\"Parents Education vs Grade Distribution\"},\"barmode\":\"relative\"},                        {\"responsive\": true}                    ).then(function(){\n",
              "                            \n",
              "var gd = document.getElementById('3d60e9b2-90d6-43a1-898f-2e6c24372a13');\n",
              "var x = new MutationObserver(function (mutations, observer) {{\n",
              "        var display = window.getComputedStyle(gd).display;\n",
              "        if (!display || display === 'none') {{\n",
              "            console.log([gd, 'removed!']);\n",
              "            Plotly.purge(gd);\n",
              "            observer.disconnect();\n",
              "        }}\n",
              "}});\n",
              "\n",
              "// Listen for the removal of the full notebook cells\n",
              "var notebookContainer = gd.closest('#notebook-container');\n",
              "if (notebookContainer) {{\n",
              "    x.observe(notebookContainer, {childList: true});\n",
              "}}\n",
              "\n",
              "// Listen for the clearing of the current output cell\n",
              "var outputEl = gd.closest('.output');\n",
              "if (outputEl) {{\n",
              "    x.observe(outputEl, {childList: true});\n",
              "}}\n",
              "\n",
              "                        })                };                            </script>        </div>\n",
              "</body>\n",
              "</html>"
            ]
          },
          "metadata": {}
        }
      ]
    },
    {
      "cell_type": "markdown",
      "source": [
        "<p>From above, we can concluded <b>\"the higher of parents education can impact score of students\"</b></p>"
      ],
      "metadata": {
        "id": "cbqcUzdYGoiQ"
      }
    },
    {
      "cell_type": "code",
      "source": [
        "fig = px.box(df, y='race', color='grade', title='Race vs Grade Distribution')\n",
        "fig.show()"
      ],
      "metadata": {
        "colab": {
          "base_uri": "https://localhost:8080/",
          "height": 542
        },
        "id": "aypUItLx6Rpn",
        "outputId": "c6059beb-da47-4822-a2f1-114e4a028456"
      },
      "execution_count": 33,
      "outputs": [
        {
          "output_type": "display_data",
          "data": {
            "text/html": [
              "<html>\n",
              "<head><meta charset=\"utf-8\" /></head>\n",
              "<body>\n",
              "    <div>            <script src=\"https://cdnjs.cloudflare.com/ajax/libs/mathjax/2.7.5/MathJax.js?config=TeX-AMS-MML_SVG\"></script><script type=\"text/javascript\">if (window.MathJax) {MathJax.Hub.Config({SVG: {font: \"STIX-Web\"}});}</script>                <script type=\"text/javascript\">window.PlotlyConfig = {MathJaxConfig: 'local'};</script>\n",
              "        <script src=\"https://cdn.plot.ly/plotly-2.8.3.min.js\"></script>                <div id=\"88186eaf-bf47-4740-b2e3-7c555ebba62b\" class=\"plotly-graph-div\" style=\"height:525px; width:100%;\"></div>            <script type=\"text/javascript\">                                    window.PLOTLYENV=window.PLOTLYENV || {};                                    if (document.getElementById(\"88186eaf-bf47-4740-b2e3-7c555ebba62b\")) {                    Plotly.newPlot(                        \"88186eaf-bf47-4740-b2e3-7c555ebba62b\",                        [{\"alignmentgroup\":\"True\",\"hovertemplate\":\"grade=B+<br>race=%{y}<extra></extra>\",\"legendgroup\":\"B+\",\"marker\":{\"color\":\"#636efa\"},\"name\":\"B+\",\"notched\":false,\"offsetgroup\":\"B+\",\"orientation\":\"v\",\"showlegend\":true,\"x0\":\" \",\"xaxis\":\"x\",\"y\":[\"group B\",\"group C\",\"group B\",\"group B\",\"group A\",\"group C\",\"group C\",\"group D\",\"group A\",\"group C\",\"group D\",\"group D\",\"group C\",\"group E\",\"group E\",\"group C\",\"group A\",\"group C\",\"group D\",\"group C\",\"group C\",\"group B\",\"group D\",\"group C\",\"group D\",\"group E\",\"group D\",\"group D\",\"group E\",\"group C\",\"group D\",\"group D\",\"group D\",\"group D\",\"group A\",\"group E\",\"group B\",\"group B\",\"group B\",\"group B\",\"group C\",\"group A\",\"group C\",\"group E\",\"group D\",\"group C\",\"group B\",\"group C\",\"group D\",\"group C\",\"group D\",\"group E\",\"group B\",\"group D\",\"group B\",\"group C\",\"group B\",\"group D\",\"group D\",\"group C\",\"group E\",\"group D\",\"group D\",\"group C\",\"group B\",\"group C\",\"group C\",\"group C\",\"group D\",\"group C\",\"group D\",\"group E\",\"group C\",\"group C\",\"group D\",\"group D\",\"group B\",\"group B\",\"group E\",\"group C\",\"group D\",\"group E\",\"group D\",\"group E\",\"group A\",\"group C\",\"group B\",\"group C\",\"group B\",\"group C\",\"group C\",\"group E\",\"group C\",\"group C\",\"group D\",\"group B\",\"group D\",\"group C\",\"group D\",\"group E\",\"group C\",\"group E\",\"group D\",\"group A\",\"group C\",\"group E\",\"group D\",\"group D\",\"group C\",\"group B\",\"group D\",\"group E\",\"group C\",\"group C\",\"group A\",\"group D\",\"group C\",\"group D\",\"group B\",\"group A\",\"group C\",\"group B\",\"group C\",\"group C\",\"group E\",\"group C\",\"group D\",\"group D\",\"group E\",\"group B\",\"group C\",\"group A\",\"group D\",\"group E\",\"group D\",\"group C\",\"group D\",\"group E\",\"group D\",\"group B\",\"group C\",\"group E\",\"group C\",\"group C\",\"group C\",\"group C\",\"group D\",\"group C\",\"group D\",\"group B\",\"group E\",\"group E\",\"group D\",\"group D\",\"group D\",\"group C\",\"group E\",\"group D\",\"group D\",\"group E\",\"group C\",\"group B\",\"group B\",\"group E\",\"group D\",\"group B\",\"group E\",\"group B\",\"group D\",\"group A\",\"group B\",\"group C\",\"group D\",\"group C\",\"group C\",\"group D\",\"group E\",\"group C\",\"group D\",\"group D\",\"group E\",\"group D\",\"group E\",\"group C\",\"group D\",\"group D\",\"group C\",\"group C\",\"group E\",\"group E\",\"group B\",\"group D\",\"group D\",\"group D\",\"group D\",\"group C\",\"group B\",\"group B\",\"group D\",\"group D\",\"group C\",\"group A\",\"group E\",\"group E\",\"group C\",\"group C\",\"group A\",\"group D\",\"group C\",\"group C\",\"group B\",\"group D\",\"group A\",\"group C\",\"group B\",\"group D\",\"group C\",\"group C\",\"group C\",\"group E\",\"group C\",\"group D\",\"group D\",\"group E\",\"group C\",\"group D\",\"group B\",\"group D\",\"group C\",\"group D\",\"group C\",\"group A\",\"group C\",\"group D\",\"group C\",\"group C\",\"group D\",\"group C\",\"group E\",\"group D\",\"group E\",\"group C\",\"group C\",\"group E\",\"group B\",\"group C\",\"group C\",\"group D\",\"group C\",\"group E\",\"group D\",\"group B\",\"group D\"],\"y0\":\" \",\"yaxis\":\"y\",\"type\":\"box\"},{\"alignmentgroup\":\"True\",\"hovertemplate\":\"grade=A-<br>race=%{y}<extra></extra>\",\"legendgroup\":\"A-\",\"marker\":{\"color\":\"#EF553B\"},\"name\":\"A-\",\"notched\":false,\"offsetgroup\":\"A-\",\"orientation\":\"v\",\"showlegend\":true,\"x0\":\" \",\"xaxis\":\"x\",\"y\":[\"group C\",\"group C\",\"group E\",\"group E\",\"group D\",\"group C\",\"group D\",\"group C\",\"group E\",\"group C\",\"group D\",\"group B\",\"group C\",\"group D\",\"group D\",\"group B\",\"group C\",\"group B\",\"group D\",\"group B\",\"group C\",\"group E\",\"group E\",\"group E\",\"group D\",\"group C\",\"group C\",\"group E\",\"group B\",\"group E\",\"group B\",\"group D\",\"group E\",\"group C\",\"group C\",\"group E\",\"group B\",\"group C\",\"group B\",\"group E\",\"group D\",\"group E\",\"group D\",\"group C\",\"group B\",\"group C\",\"group D\",\"group B\",\"group D\",\"group D\",\"group B\",\"group C\",\"group D\",\"group E\",\"group C\",\"group C\",\"group D\",\"group C\",\"group D\",\"group C\",\"group C\",\"group A\",\"group C\",\"group C\",\"group A\",\"group C\",\"group C\",\"group B\",\"group C\",\"group B\",\"group C\",\"group D\",\"group C\",\"group E\",\"group D\",\"group D\",\"group E\",\"group B\",\"group B\",\"group D\",\"group C\",\"group A\",\"group D\",\"group D\",\"group C\",\"group D\",\"group D\",\"group D\",\"group D\",\"group D\",\"group B\",\"group E\",\"group D\",\"group C\",\"group E\",\"group A\",\"group D\",\"group C\",\"group E\",\"group D\",\"group B\",\"group E\",\"group B\",\"group D\",\"group C\",\"group C\",\"group C\",\"group B\",\"group C\",\"group D\",\"group E\",\"group B\",\"group B\",\"group C\",\"group E\",\"group B\",\"group E\",\"group B\",\"group C\",\"group A\",\"group D\",\"group C\",\"group B\",\"group E\",\"group C\",\"group E\",\"group E\",\"group D\",\"group B\",\"group E\",\"group D\",\"group E\",\"group E\",\"group D\",\"group D\",\"group D\",\"group D\",\"group D\",\"group B\",\"group C\",\"group B\",\"group A\",\"group E\",\"group D\"],\"y0\":\" \",\"yaxis\":\"y\",\"type\":\"box\"},{\"alignmentgroup\":\"True\",\"hovertemplate\":\"grade=A+<br>race=%{y}<extra></extra>\",\"legendgroup\":\"A+\",\"marker\":{\"color\":\"#00cc96\"},\"name\":\"A+\",\"notched\":false,\"offsetgroup\":\"A+\",\"orientation\":\"v\",\"showlegend\":true,\"x0\":\" \",\"xaxis\":\"x\",\"y\":[\"group B\",\"group B\",\"group C\",\"group D\",\"group E\",\"group B\",\"group C\",\"group E\",\"group C\",\"group D\",\"group C\",\"group E\",\"group D\",\"group C\",\"group D\",\"group D\",\"group C\",\"group D\",\"group E\",\"group E\",\"group B\",\"group B\",\"group E\",\"group A\",\"group A\",\"group C\",\"group E\",\"group A\",\"group D\",\"group C\",\"group C\",\"group A\",\"group D\",\"group E\",\"group D\",\"group C\",\"group E\",\"group E\",\"group B\",\"group C\",\"group E\",\"group D\",\"group E\",\"group B\",\"group C\",\"group D\",\"group E\",\"group D\",\"group C\",\"group E\"],\"y0\":\" \",\"yaxis\":\"y\",\"type\":\"box\"},{\"alignmentgroup\":\"True\",\"hovertemplate\":\"grade=D<br>race=%{y}<extra></extra>\",\"legendgroup\":\"D\",\"marker\":{\"color\":\"#ab63fa\"},\"name\":\"D\",\"notched\":false,\"offsetgroup\":\"D\",\"orientation\":\"v\",\"showlegend\":true,\"x0\":\" \",\"xaxis\":\"x\",\"y\":[\"group A\",\"group B\",\"group B\",\"group D\",\"group C\",\"group C\",\"group A\",\"group C\",\"group B\",\"group B\",\"group B\",\"group C\",\"group C\",\"group B\",\"group A\",\"group D\",\"group C\",\"group E\",\"group C\",\"group B\",\"group C\",\"group C\",\"group A\",\"group C\",\"group D\",\"group C\",\"group D\",\"group D\",\"group B\",\"group A\",\"group C\",\"group C\",\"group C\",\"group C\",\"group B\",\"group C\",\"group D\",\"group E\",\"group E\",\"group A\",\"group A\",\"group A\",\"group B\",\"group C\",\"group C\",\"group B\",\"group E\",\"group B\",\"group B\",\"group A\",\"group C\",\"group C\",\"group D\",\"group C\",\"group B\",\"group C\",\"group A\",\"group D\",\"group A\",\"group B\",\"group C\",\"group B\",\"group B\",\"group E\",\"group A\",\"group D\",\"group B\",\"group B\",\"group D\",\"group D\",\"group A\",\"group D\",\"group C\",\"group E\",\"group D\",\"group C\",\"group A\"],\"y0\":\" \",\"yaxis\":\"y\",\"type\":\"box\"},{\"alignmentgroup\":\"True\",\"hovertemplate\":\"grade=B-<br>race=%{y}<extra></extra>\",\"legendgroup\":\"B-\",\"marker\":{\"color\":\"#FFA15A\"},\"name\":\"B-\",\"notched\":false,\"offsetgroup\":\"B-\",\"orientation\":\"v\",\"showlegend\":true,\"x0\":\" \",\"xaxis\":\"x\",\"y\":[\"group D\",\"group D\",\"group B\",\"group C\",\"group D\",\"group B\",\"group E\",\"group C\",\"group B\",\"group A\",\"group D\",\"group B\",\"group C\",\"group D\",\"group D\",\"group D\",\"group E\",\"group E\",\"group A\",\"group B\",\"group E\",\"group D\",\"group D\",\"group C\",\"group E\",\"group B\",\"group B\",\"group C\",\"group B\",\"group E\",\"group C\",\"group D\",\"group C\",\"group C\",\"group A\",\"group B\",\"group D\",\"group D\",\"group C\",\"group B\",\"group C\",\"group D\",\"group C\",\"group D\",\"group E\",\"group B\",\"group D\",\"group C\",\"group B\",\"group E\",\"group B\",\"group D\",\"group C\",\"group B\",\"group A\",\"group D\",\"group D\",\"group D\",\"group D\",\"group B\",\"group B\",\"group C\",\"group B\",\"group E\",\"group C\",\"group C\",\"group D\",\"group E\",\"group B\",\"group B\",\"group A\",\"group B\",\"group B\",\"group D\",\"group C\",\"group C\",\"group C\",\"group B\",\"group D\",\"group C\",\"group C\",\"group B\",\"group C\",\"group D\",\"group B\",\"group C\",\"group B\",\"group A\",\"group D\",\"group C\",\"group C\",\"group D\",\"group A\",\"group E\",\"group C\",\"group D\",\"group E\",\"group E\",\"group B\",\"group C\",\"group B\",\"group D\",\"group B\",\"group C\",\"group D\",\"group C\",\"group C\",\"group C\",\"group C\",\"group C\",\"group C\",\"group D\",\"group A\",\"group D\",\"group B\",\"group A\",\"group A\",\"group C\",\"group D\",\"group E\",\"group D\",\"group C\",\"group C\",\"group C\",\"group B\",\"group D\",\"group B\",\"group A\",\"group D\",\"group E\",\"group C\",\"group C\",\"group E\",\"group B\",\"group D\",\"group C\",\"group C\",\"group D\",\"group C\",\"group C\",\"group B\",\"group D\",\"group D\",\"group D\",\"group D\",\"group A\",\"group C\",\"group A\",\"group E\",\"group C\",\"group C\",\"group E\",\"group B\",\"group D\",\"group C\",\"group C\",\"group C\",\"group B\",\"group E\",\"group B\",\"group D\",\"group B\",\"group A\",\"group B\",\"group D\",\"group E\",\"group A\",\"group B\",\"group C\",\"group D\",\"group C\",\"group D\",\"group C\",\"group D\",\"group C\",\"group C\",\"group C\",\"group D\",\"group B\",\"group B\",\"group A\",\"group C\",\"group B\",\"group D\",\"group B\",\"group A\",\"group B\",\"group C\",\"group C\",\"group B\",\"group C\",\"group C\",\"group D\",\"group E\",\"group E\",\"group C\",\"group B\",\"group D\",\"group C\",\"group B\",\"group B\",\"group B\",\"group B\",\"group C\",\"group D\",\"group D\",\"group E\",\"group D\",\"group E\",\"group C\",\"group C\",\"group D\",\"group B\",\"group C\",\"group C\",\"group C\",\"group A\",\"group C\",\"group E\",\"group C\",\"group C\",\"group A\",\"group E\",\"group C\",\"group B\",\"group C\",\"group C\",\"group B\",\"group C\",\"group D\",\"group A\",\"group E\",\"group D\",\"group E\",\"group E\",\"group D\",\"group D\",\"group B\",\"group E\",\"group D\",\"group D\",\"group D\",\"group D\",\"group C\",\"group A\",\"group B\",\"group E\",\"group C\",\"group E\",\"group D\",\"group D\",\"group A\",\"group C\",\"group A\",\"group B\",\"group C\",\"group D\",\"group D\",\"group A\",\"group C\"],\"y0\":\" \",\"yaxis\":\"y\",\"type\":\"box\"},{\"alignmentgroup\":\"True\",\"hovertemplate\":\"grade=C<br>race=%{y}<extra></extra>\",\"legendgroup\":\"C\",\"marker\":{\"color\":\"#19d3f3\"},\"name\":\"C\",\"notched\":false,\"offsetgroup\":\"C\",\"orientation\":\"v\",\"showlegend\":true,\"x0\":\" \",\"xaxis\":\"x\",\"y\":[\"group C\",\"group A\",\"group C\",\"group D\",\"group B\",\"group D\",\"group B\",\"group C\",\"group B\",\"group E\",\"group B\",\"group E\",\"group D\",\"group D\",\"group A\",\"group D\",\"group B\",\"group C\",\"group C\",\"group A\",\"group B\",\"group C\",\"group A\",\"group D\",\"group D\",\"group D\",\"group A\",\"group C\",\"group E\",\"group B\",\"group B\",\"group C\",\"group C\",\"group B\",\"group C\",\"group D\",\"group E\",\"group B\",\"group C\",\"group C\",\"group B\",\"group E\",\"group D\",\"group B\",\"group D\",\"group E\",\"group D\",\"group D\",\"group C\",\"group D\",\"group D\",\"group E\",\"group C\",\"group B\",\"group E\",\"group C\",\"group C\",\"group B\",\"group C\",\"group C\",\"group A\",\"group C\",\"group A\",\"group C\",\"group B\",\"group D\",\"group C\",\"group A\",\"group C\",\"group D\",\"group E\",\"group D\",\"group D\",\"group A\",\"group C\",\"group A\",\"group C\",\"group C\",\"group C\",\"group C\",\"group D\",\"group C\",\"group B\",\"group D\",\"group A\",\"group B\",\"group D\",\"group B\",\"group C\",\"group C\",\"group D\",\"group B\",\"group A\",\"group D\",\"group B\",\"group D\",\"group C\",\"group C\",\"group C\",\"group C\",\"group C\",\"group D\",\"group B\",\"group C\",\"group C\",\"group A\",\"group B\",\"group C\",\"group A\",\"group C\",\"group A\",\"group D\",\"group D\",\"group C\",\"group C\",\"group D\",\"group D\",\"group B\",\"group C\",\"group D\",\"group C\",\"group D\",\"group B\",\"group B\",\"group A\",\"group C\",\"group C\",\"group C\",\"group D\",\"group D\",\"group E\",\"group E\",\"group C\",\"group B\",\"group C\",\"group C\",\"group D\",\"group D\",\"group D\",\"group A\",\"group B\",\"group D\",\"group C\",\"group C\",\"group B\",\"group C\",\"group B\",\"group A\",\"group E\",\"group C\",\"group B\",\"group A\",\"group B\",\"group B\",\"group C\",\"group D\",\"group D\",\"group C\",\"group C\",\"group C\",\"group B\",\"group C\",\"group C\",\"group E\",\"group B\",\"group C\",\"group C\",\"group B\",\"group C\",\"group E\",\"group C\",\"group A\",\"group E\",\"group C\",\"group D\",\"group B\",\"group C\",\"group D\",\"group A\",\"group D\",\"group A\",\"group D\",\"group A\",\"group C\"],\"y0\":\" \",\"yaxis\":\"y\",\"type\":\"box\"},{\"alignmentgroup\":\"True\",\"hovertemplate\":\"grade=F<br>race=%{y}<extra></extra>\",\"legendgroup\":\"F\",\"marker\":{\"color\":\"#FF6692\"},\"name\":\"F\",\"notched\":false,\"offsetgroup\":\"F\",\"orientation\":\"v\",\"showlegend\":true,\"x0\":\" \",\"xaxis\":\"x\",\"y\":[\"group B\",\"group D\",\"group C\",\"group C\",\"group A\",\"group D\",\"group E\",\"group D\",\"group C\",\"group C\",\"group C\",\"group C\",\"group A\",\"group C\",\"group B\",\"group D\",\"group B\",\"group D\",\"group D\",\"group C\",\"group B\",\"group C\",\"group E\",\"group C\",\"group D\",\"group B\",\"group A\",\"group B\",\"group D\",\"group E\",\"group B\",\"group B\"],\"y0\":\" \",\"yaxis\":\"y\",\"type\":\"box\"}],                        {\"template\":{\"data\":{\"bar\":[{\"error_x\":{\"color\":\"#2a3f5f\"},\"error_y\":{\"color\":\"#2a3f5f\"},\"marker\":{\"line\":{\"color\":\"#E5ECF6\",\"width\":0.5},\"pattern\":{\"fillmode\":\"overlay\",\"size\":10,\"solidity\":0.2}},\"type\":\"bar\"}],\"barpolar\":[{\"marker\":{\"line\":{\"color\":\"#E5ECF6\",\"width\":0.5},\"pattern\":{\"fillmode\":\"overlay\",\"size\":10,\"solidity\":0.2}},\"type\":\"barpolar\"}],\"carpet\":[{\"aaxis\":{\"endlinecolor\":\"#2a3f5f\",\"gridcolor\":\"white\",\"linecolor\":\"white\",\"minorgridcolor\":\"white\",\"startlinecolor\":\"#2a3f5f\"},\"baxis\":{\"endlinecolor\":\"#2a3f5f\",\"gridcolor\":\"white\",\"linecolor\":\"white\",\"minorgridcolor\":\"white\",\"startlinecolor\":\"#2a3f5f\"},\"type\":\"carpet\"}],\"choropleth\":[{\"colorbar\":{\"outlinewidth\":0,\"ticks\":\"\"},\"type\":\"choropleth\"}],\"contour\":[{\"colorbar\":{\"outlinewidth\":0,\"ticks\":\"\"},\"colorscale\":[[0.0,\"#0d0887\"],[0.1111111111111111,\"#46039f\"],[0.2222222222222222,\"#7201a8\"],[0.3333333333333333,\"#9c179e\"],[0.4444444444444444,\"#bd3786\"],[0.5555555555555556,\"#d8576b\"],[0.6666666666666666,\"#ed7953\"],[0.7777777777777778,\"#fb9f3a\"],[0.8888888888888888,\"#fdca26\"],[1.0,\"#f0f921\"]],\"type\":\"contour\"}],\"contourcarpet\":[{\"colorbar\":{\"outlinewidth\":0,\"ticks\":\"\"},\"type\":\"contourcarpet\"}],\"heatmap\":[{\"colorbar\":{\"outlinewidth\":0,\"ticks\":\"\"},\"colorscale\":[[0.0,\"#0d0887\"],[0.1111111111111111,\"#46039f\"],[0.2222222222222222,\"#7201a8\"],[0.3333333333333333,\"#9c179e\"],[0.4444444444444444,\"#bd3786\"],[0.5555555555555556,\"#d8576b\"],[0.6666666666666666,\"#ed7953\"],[0.7777777777777778,\"#fb9f3a\"],[0.8888888888888888,\"#fdca26\"],[1.0,\"#f0f921\"]],\"type\":\"heatmap\"}],\"heatmapgl\":[{\"colorbar\":{\"outlinewidth\":0,\"ticks\":\"\"},\"colorscale\":[[0.0,\"#0d0887\"],[0.1111111111111111,\"#46039f\"],[0.2222222222222222,\"#7201a8\"],[0.3333333333333333,\"#9c179e\"],[0.4444444444444444,\"#bd3786\"],[0.5555555555555556,\"#d8576b\"],[0.6666666666666666,\"#ed7953\"],[0.7777777777777778,\"#fb9f3a\"],[0.8888888888888888,\"#fdca26\"],[1.0,\"#f0f921\"]],\"type\":\"heatmapgl\"}],\"histogram\":[{\"marker\":{\"pattern\":{\"fillmode\":\"overlay\",\"size\":10,\"solidity\":0.2}},\"type\":\"histogram\"}],\"histogram2d\":[{\"colorbar\":{\"outlinewidth\":0,\"ticks\":\"\"},\"colorscale\":[[0.0,\"#0d0887\"],[0.1111111111111111,\"#46039f\"],[0.2222222222222222,\"#7201a8\"],[0.3333333333333333,\"#9c179e\"],[0.4444444444444444,\"#bd3786\"],[0.5555555555555556,\"#d8576b\"],[0.6666666666666666,\"#ed7953\"],[0.7777777777777778,\"#fb9f3a\"],[0.8888888888888888,\"#fdca26\"],[1.0,\"#f0f921\"]],\"type\":\"histogram2d\"}],\"histogram2dcontour\":[{\"colorbar\":{\"outlinewidth\":0,\"ticks\":\"\"},\"colorscale\":[[0.0,\"#0d0887\"],[0.1111111111111111,\"#46039f\"],[0.2222222222222222,\"#7201a8\"],[0.3333333333333333,\"#9c179e\"],[0.4444444444444444,\"#bd3786\"],[0.5555555555555556,\"#d8576b\"],[0.6666666666666666,\"#ed7953\"],[0.7777777777777778,\"#fb9f3a\"],[0.8888888888888888,\"#fdca26\"],[1.0,\"#f0f921\"]],\"type\":\"histogram2dcontour\"}],\"mesh3d\":[{\"colorbar\":{\"outlinewidth\":0,\"ticks\":\"\"},\"type\":\"mesh3d\"}],\"parcoords\":[{\"line\":{\"colorbar\":{\"outlinewidth\":0,\"ticks\":\"\"}},\"type\":\"parcoords\"}],\"pie\":[{\"automargin\":true,\"type\":\"pie\"}],\"scatter\":[{\"marker\":{\"colorbar\":{\"outlinewidth\":0,\"ticks\":\"\"}},\"type\":\"scatter\"}],\"scatter3d\":[{\"line\":{\"colorbar\":{\"outlinewidth\":0,\"ticks\":\"\"}},\"marker\":{\"colorbar\":{\"outlinewidth\":0,\"ticks\":\"\"}},\"type\":\"scatter3d\"}],\"scattercarpet\":[{\"marker\":{\"colorbar\":{\"outlinewidth\":0,\"ticks\":\"\"}},\"type\":\"scattercarpet\"}],\"scattergeo\":[{\"marker\":{\"colorbar\":{\"outlinewidth\":0,\"ticks\":\"\"}},\"type\":\"scattergeo\"}],\"scattergl\":[{\"marker\":{\"colorbar\":{\"outlinewidth\":0,\"ticks\":\"\"}},\"type\":\"scattergl\"}],\"scattermapbox\":[{\"marker\":{\"colorbar\":{\"outlinewidth\":0,\"ticks\":\"\"}},\"type\":\"scattermapbox\"}],\"scatterpolar\":[{\"marker\":{\"colorbar\":{\"outlinewidth\":0,\"ticks\":\"\"}},\"type\":\"scatterpolar\"}],\"scatterpolargl\":[{\"marker\":{\"colorbar\":{\"outlinewidth\":0,\"ticks\":\"\"}},\"type\":\"scatterpolargl\"}],\"scatterternary\":[{\"marker\":{\"colorbar\":{\"outlinewidth\":0,\"ticks\":\"\"}},\"type\":\"scatterternary\"}],\"surface\":[{\"colorbar\":{\"outlinewidth\":0,\"ticks\":\"\"},\"colorscale\":[[0.0,\"#0d0887\"],[0.1111111111111111,\"#46039f\"],[0.2222222222222222,\"#7201a8\"],[0.3333333333333333,\"#9c179e\"],[0.4444444444444444,\"#bd3786\"],[0.5555555555555556,\"#d8576b\"],[0.6666666666666666,\"#ed7953\"],[0.7777777777777778,\"#fb9f3a\"],[0.8888888888888888,\"#fdca26\"],[1.0,\"#f0f921\"]],\"type\":\"surface\"}],\"table\":[{\"cells\":{\"fill\":{\"color\":\"#EBF0F8\"},\"line\":{\"color\":\"white\"}},\"header\":{\"fill\":{\"color\":\"#C8D4E3\"},\"line\":{\"color\":\"white\"}},\"type\":\"table\"}]},\"layout\":{\"annotationdefaults\":{\"arrowcolor\":\"#2a3f5f\",\"arrowhead\":0,\"arrowwidth\":1},\"autotypenumbers\":\"strict\",\"coloraxis\":{\"colorbar\":{\"outlinewidth\":0,\"ticks\":\"\"}},\"colorscale\":{\"diverging\":[[0,\"#8e0152\"],[0.1,\"#c51b7d\"],[0.2,\"#de77ae\"],[0.3,\"#f1b6da\"],[0.4,\"#fde0ef\"],[0.5,\"#f7f7f7\"],[0.6,\"#e6f5d0\"],[0.7,\"#b8e186\"],[0.8,\"#7fbc41\"],[0.9,\"#4d9221\"],[1,\"#276419\"]],\"sequential\":[[0.0,\"#0d0887\"],[0.1111111111111111,\"#46039f\"],[0.2222222222222222,\"#7201a8\"],[0.3333333333333333,\"#9c179e\"],[0.4444444444444444,\"#bd3786\"],[0.5555555555555556,\"#d8576b\"],[0.6666666666666666,\"#ed7953\"],[0.7777777777777778,\"#fb9f3a\"],[0.8888888888888888,\"#fdca26\"],[1.0,\"#f0f921\"]],\"sequentialminus\":[[0.0,\"#0d0887\"],[0.1111111111111111,\"#46039f\"],[0.2222222222222222,\"#7201a8\"],[0.3333333333333333,\"#9c179e\"],[0.4444444444444444,\"#bd3786\"],[0.5555555555555556,\"#d8576b\"],[0.6666666666666666,\"#ed7953\"],[0.7777777777777778,\"#fb9f3a\"],[0.8888888888888888,\"#fdca26\"],[1.0,\"#f0f921\"]]},\"colorway\":[\"#636efa\",\"#EF553B\",\"#00cc96\",\"#ab63fa\",\"#FFA15A\",\"#19d3f3\",\"#FF6692\",\"#B6E880\",\"#FF97FF\",\"#FECB52\"],\"font\":{\"color\":\"#2a3f5f\"},\"geo\":{\"bgcolor\":\"white\",\"lakecolor\":\"white\",\"landcolor\":\"#E5ECF6\",\"showlakes\":true,\"showland\":true,\"subunitcolor\":\"white\"},\"hoverlabel\":{\"align\":\"left\"},\"hovermode\":\"closest\",\"mapbox\":{\"style\":\"light\"},\"paper_bgcolor\":\"white\",\"plot_bgcolor\":\"#E5ECF6\",\"polar\":{\"angularaxis\":{\"gridcolor\":\"white\",\"linecolor\":\"white\",\"ticks\":\"\"},\"bgcolor\":\"#E5ECF6\",\"radialaxis\":{\"gridcolor\":\"white\",\"linecolor\":\"white\",\"ticks\":\"\"}},\"scene\":{\"xaxis\":{\"backgroundcolor\":\"#E5ECF6\",\"gridcolor\":\"white\",\"gridwidth\":2,\"linecolor\":\"white\",\"showbackground\":true,\"ticks\":\"\",\"zerolinecolor\":\"white\"},\"yaxis\":{\"backgroundcolor\":\"#E5ECF6\",\"gridcolor\":\"white\",\"gridwidth\":2,\"linecolor\":\"white\",\"showbackground\":true,\"ticks\":\"\",\"zerolinecolor\":\"white\"},\"zaxis\":{\"backgroundcolor\":\"#E5ECF6\",\"gridcolor\":\"white\",\"gridwidth\":2,\"linecolor\":\"white\",\"showbackground\":true,\"ticks\":\"\",\"zerolinecolor\":\"white\"}},\"shapedefaults\":{\"line\":{\"color\":\"#2a3f5f\"}},\"ternary\":{\"aaxis\":{\"gridcolor\":\"white\",\"linecolor\":\"white\",\"ticks\":\"\"},\"baxis\":{\"gridcolor\":\"white\",\"linecolor\":\"white\",\"ticks\":\"\"},\"bgcolor\":\"#E5ECF6\",\"caxis\":{\"gridcolor\":\"white\",\"linecolor\":\"white\",\"ticks\":\"\"}},\"title\":{\"x\":0.05},\"xaxis\":{\"automargin\":true,\"gridcolor\":\"white\",\"linecolor\":\"white\",\"ticks\":\"\",\"title\":{\"standoff\":15},\"zerolinecolor\":\"white\",\"zerolinewidth\":2},\"yaxis\":{\"automargin\":true,\"gridcolor\":\"white\",\"linecolor\":\"white\",\"ticks\":\"\",\"title\":{\"standoff\":15},\"zerolinecolor\":\"white\",\"zerolinewidth\":2}}},\"xaxis\":{\"anchor\":\"y\",\"domain\":[0.0,1.0]},\"yaxis\":{\"anchor\":\"x\",\"domain\":[0.0,1.0],\"title\":{\"text\":\"race\"}},\"legend\":{\"title\":{\"text\":\"grade\"},\"tracegroupgap\":0},\"title\":{\"text\":\"Race vs Grade Distribution\"},\"boxmode\":\"group\"},                        {\"responsive\": true}                    ).then(function(){\n",
              "                            \n",
              "var gd = document.getElementById('88186eaf-bf47-4740-b2e3-7c555ebba62b');\n",
              "var x = new MutationObserver(function (mutations, observer) {{\n",
              "        var display = window.getComputedStyle(gd).display;\n",
              "        if (!display || display === 'none') {{\n",
              "            console.log([gd, 'removed!']);\n",
              "            Plotly.purge(gd);\n",
              "            observer.disconnect();\n",
              "        }}\n",
              "}});\n",
              "\n",
              "// Listen for the removal of the full notebook cells\n",
              "var notebookContainer = gd.closest('#notebook-container');\n",
              "if (notebookContainer) {{\n",
              "    x.observe(notebookContainer, {childList: true});\n",
              "}}\n",
              "\n",
              "// Listen for the clearing of the current output cell\n",
              "var outputEl = gd.closest('.output');\n",
              "if (outputEl) {{\n",
              "    x.observe(outputEl, {childList: true});\n",
              "}}\n",
              "\n",
              "                        })                };                            </script>        </div>\n",
              "</body>\n",
              "</html>"
            ]
          },
          "metadata": {}
        }
      ]
    },
    {
      "cell_type": "markdown",
      "source": [
        "<p>From Above, <b>Race Group A</b> has good grade than another</p>"
      ],
      "metadata": {
        "id": "KPSaelbJH275"
      }
    },
    {
      "cell_type": "code",
      "source": [
        "fig = px.histogram(df, y='gender', color='grade', title='Gender vs Grade DIstribution')\n",
        "fig.update_yaxes(categoryorder='category ascending')\n",
        "fig.show()"
      ],
      "metadata": {
        "colab": {
          "base_uri": "https://localhost:8080/",
          "height": 542
        },
        "id": "B6sz2PX-HA4o",
        "outputId": "e338aa20-7920-44be-d913-12495b8a4889"
      },
      "execution_count": 39,
      "outputs": [
        {
          "output_type": "display_data",
          "data": {
            "text/html": [
              "<html>\n",
              "<head><meta charset=\"utf-8\" /></head>\n",
              "<body>\n",
              "    <div>            <script src=\"https://cdnjs.cloudflare.com/ajax/libs/mathjax/2.7.5/MathJax.js?config=TeX-AMS-MML_SVG\"></script><script type=\"text/javascript\">if (window.MathJax) {MathJax.Hub.Config({SVG: {font: \"STIX-Web\"}});}</script>                <script type=\"text/javascript\">window.PlotlyConfig = {MathJaxConfig: 'local'};</script>\n",
              "        <script src=\"https://cdn.plot.ly/plotly-2.8.3.min.js\"></script>                <div id=\"91505b15-12ed-43c4-9ba9-c309f4b51dd1\" class=\"plotly-graph-div\" style=\"height:525px; width:100%;\"></div>            <script type=\"text/javascript\">                                    window.PLOTLYENV=window.PLOTLYENV || {};                                    if (document.getElementById(\"91505b15-12ed-43c4-9ba9-c309f4b51dd1\")) {                    Plotly.newPlot(                        \"91505b15-12ed-43c4-9ba9-c309f4b51dd1\",                        [{\"alignmentgroup\":\"True\",\"bingroup\":\"y\",\"hovertemplate\":\"grade=B+<br>count=%{x}<br>gender=%{y}<extra></extra>\",\"legendgroup\":\"B+\",\"marker\":{\"color\":\"#636efa\",\"pattern\":{\"shape\":\"\"}},\"name\":\"B+\",\"offsetgroup\":\"B+\",\"orientation\":\"h\",\"showlegend\":true,\"xaxis\":\"x\",\"y\":[\"female\",\"male\",\"female\",\"female\",\"male\",\"female\",\"female\",\"male\",\"male\",\"female\",\"female\",\"female\",\"female\",\"male\",\"male\",\"female\",\"male\",\"female\",\"female\",\"female\",\"male\",\"male\",\"male\",\"male\",\"female\",\"male\",\"male\",\"male\",\"male\",\"female\",\"male\",\"female\",\"male\",\"female\",\"male\",\"female\",\"female\",\"male\",\"female\",\"female\",\"female\",\"male\",\"female\",\"male\",\"male\",\"female\",\"female\",\"female\",\"female\",\"male\",\"male\",\"male\",\"female\",\"male\",\"male\",\"female\",\"female\",\"male\",\"male\",\"male\",\"male\",\"female\",\"male\",\"male\",\"female\",\"female\",\"female\",\"male\",\"male\",\"female\",\"female\",\"female\",\"male\",\"female\",\"female\",\"female\",\"female\",\"male\",\"male\",\"male\",\"male\",\"female\",\"male\",\"male\",\"male\",\"female\",\"male\",\"female\",\"female\",\"male\",\"female\",\"female\",\"female\",\"male\",\"male\",\"female\",\"male\",\"female\",\"male\",\"male\",\"female\",\"male\",\"male\",\"female\",\"male\",\"female\",\"male\",\"female\",\"female\",\"female\",\"female\",\"male\",\"male\",\"male\",\"female\",\"male\",\"female\",\"female\",\"female\",\"male\",\"female\",\"male\",\"female\",\"female\",\"female\",\"female\",\"female\",\"male\",\"male\",\"male\",\"male\",\"female\",\"female\",\"male\",\"female\",\"male\",\"male\",\"female\",\"female\",\"female\",\"female\",\"male\",\"male\",\"female\",\"male\",\"male\",\"female\",\"female\",\"female\",\"male\",\"female\",\"female\",\"female\",\"female\",\"female\",\"female\",\"female\",\"female\",\"female\",\"female\",\"female\",\"female\",\"female\",\"male\",\"female\",\"female\",\"female\",\"female\",\"female\",\"female\",\"female\",\"male\",\"male\",\"female\",\"female\",\"female\",\"female\",\"female\",\"male\",\"female\",\"male\",\"male\",\"female\",\"female\",\"female\",\"female\",\"male\",\"female\",\"male\",\"female\",\"female\",\"male\",\"male\",\"male\",\"male\",\"male\",\"male\",\"female\",\"female\",\"male\",\"female\",\"female\",\"female\",\"female\",\"male\",\"female\",\"male\",\"female\",\"male\",\"female\",\"female\",\"female\",\"female\",\"female\",\"male\",\"male\",\"female\",\"male\",\"female\",\"male\",\"female\",\"female\",\"female\",\"female\",\"female\",\"male\",\"female\",\"female\",\"female\",\"female\",\"female\",\"female\",\"female\",\"male\",\"male\",\"male\",\"male\",\"male\",\"male\",\"female\",\"female\",\"male\",\"female\",\"female\",\"female\",\"male\",\"female\",\"male\",\"female\",\"male\",\"female\",\"female\",\"female\"],\"yaxis\":\"y\",\"type\":\"histogram\"},{\"alignmentgroup\":\"True\",\"bingroup\":\"y\",\"hovertemplate\":\"grade=A-<br>count=%{x}<br>gender=%{y}<extra></extra>\",\"legendgroup\":\"A-\",\"marker\":{\"color\":\"#EF553B\",\"pattern\":{\"shape\":\"\"}},\"name\":\"A-\",\"offsetgroup\":\"A-\",\"orientation\":\"h\",\"showlegend\":true,\"xaxis\":\"x\",\"y\":[\"female\",\"male\",\"male\",\"male\",\"female\",\"male\",\"male\",\"female\",\"female\",\"female\",\"female\",\"female\",\"male\",\"female\",\"female\",\"female\",\"female\",\"female\",\"male\",\"male\",\"female\",\"female\",\"female\",\"male\",\"female\",\"female\",\"female\",\"male\",\"male\",\"female\",\"male\",\"male\",\"male\",\"male\",\"male\",\"female\",\"male\",\"female\",\"male\",\"male\",\"male\",\"male\",\"female\",\"female\",\"male\",\"female\",\"female\",\"male\",\"female\",\"female\",\"female\",\"female\",\"male\",\"male\",\"female\",\"male\",\"male\",\"male\",\"female\",\"female\",\"female\",\"female\",\"male\",\"female\",\"male\",\"female\",\"female\",\"female\",\"female\",\"female\",\"female\",\"female\",\"female\",\"female\",\"male\",\"female\",\"male\",\"male\",\"female\",\"male\",\"female\",\"female\",\"male\",\"male\",\"female\",\"male\",\"female\",\"female\",\"female\",\"male\",\"female\",\"male\",\"female\",\"female\",\"female\",\"male\",\"male\",\"male\",\"female\",\"male\",\"female\",\"male\",\"female\",\"female\",\"female\",\"male\",\"female\",\"male\",\"female\",\"male\",\"male\",\"female\",\"female\",\"male\",\"male\",\"female\",\"male\",\"male\",\"female\",\"female\",\"female\",\"female\",\"female\",\"male\",\"male\",\"female\",\"female\",\"male\",\"male\",\"male\",\"male\",\"female\",\"female\",\"male\",\"male\",\"female\",\"male\",\"female\",\"male\",\"male\",\"male\",\"female\",\"male\",\"female\"],\"yaxis\":\"y\",\"type\":\"histogram\"},{\"alignmentgroup\":\"True\",\"bingroup\":\"y\",\"hovertemplate\":\"grade=A+<br>count=%{x}<br>gender=%{y}<extra></extra>\",\"legendgroup\":\"A+\",\"marker\":{\"color\":\"#00cc96\",\"pattern\":{\"shape\":\"\"}},\"name\":\"A+\",\"offsetgroup\":\"A+\",\"orientation\":\"h\",\"showlegend\":true,\"xaxis\":\"x\",\"y\":[\"female\",\"female\",\"male\",\"female\",\"female\",\"male\",\"female\",\"male\",\"female\",\"female\",\"female\",\"female\",\"female\",\"female\",\"female\",\"female\",\"male\",\"female\",\"female\",\"female\",\"female\",\"female\",\"female\",\"male\",\"female\",\"male\",\"female\",\"male\",\"female\",\"female\",\"male\",\"male\",\"male\",\"female\",\"female\",\"female\",\"female\",\"female\",\"female\",\"male\",\"female\",\"female\",\"male\",\"male\",\"male\",\"female\",\"female\",\"female\",\"female\",\"female\"],\"yaxis\":\"y\",\"type\":\"histogram\"},{\"alignmentgroup\":\"True\",\"bingroup\":\"y\",\"hovertemplate\":\"grade=D<br>count=%{x}<br>gender=%{y}<extra></extra>\",\"legendgroup\":\"D\",\"marker\":{\"color\":\"#ab63fa\",\"pattern\":{\"shape\":\"\"}},\"name\":\"D\",\"offsetgroup\":\"D\",\"orientation\":\"h\",\"showlegend\":true,\"xaxis\":\"x\",\"y\":[\"male\",\"male\",\"female\",\"male\",\"male\",\"male\",\"female\",\"male\",\"male\",\"female\",\"male\",\"male\",\"male\",\"male\",\"male\",\"male\",\"female\",\"female\",\"male\",\"male\",\"male\",\"male\",\"male\",\"female\",\"male\",\"male\",\"male\",\"male\",\"female\",\"male\",\"male\",\"male\",\"female\",\"female\",\"female\",\"male\",\"female\",\"male\",\"female\",\"female\",\"male\",\"male\",\"male\",\"male\",\"female\",\"female\",\"male\",\"male\",\"male\",\"male\",\"female\",\"female\",\"male\",\"male\",\"male\",\"male\",\"male\",\"male\",\"female\",\"male\",\"female\",\"female\",\"female\",\"female\",\"male\",\"female\",\"male\",\"male\",\"male\",\"male\",\"female\",\"male\",\"female\",\"male\",\"male\",\"female\",\"female\"],\"yaxis\":\"y\",\"type\":\"histogram\"},{\"alignmentgroup\":\"True\",\"bingroup\":\"y\",\"hovertemplate\":\"grade=B-<br>count=%{x}<br>gender=%{y}<extra></extra>\",\"legendgroup\":\"B-\",\"marker\":{\"color\":\"#FFA15A\",\"pattern\":{\"shape\":\"\"}},\"name\":\"B-\",\"offsetgroup\":\"B-\",\"orientation\":\"h\",\"showlegend\":true,\"xaxis\":\"x\",\"y\":[\"male\",\"male\",\"female\",\"male\",\"female\",\"female\",\"female\",\"female\",\"male\",\"female\",\"female\",\"male\",\"female\",\"female\",\"male\",\"female\",\"female\",\"male\",\"female\",\"male\",\"female\",\"female\",\"female\",\"female\",\"male\",\"female\",\"female\",\"female\",\"male\",\"male\",\"female\",\"male\",\"female\",\"male\",\"male\",\"female\",\"male\",\"male\",\"female\",\"female\",\"male\",\"female\",\"male\",\"male\",\"female\",\"female\",\"male\",\"male\",\"female\",\"male\",\"female\",\"female\",\"female\",\"female\",\"male\",\"male\",\"male\",\"female\",\"male\",\"female\",\"female\",\"male\",\"female\",\"female\",\"female\",\"male\",\"female\",\"female\",\"male\",\"male\",\"male\",\"female\",\"male\",\"male\",\"female\",\"female\",\"male\",\"male\",\"female\",\"male\",\"male\",\"female\",\"female\",\"male\",\"female\",\"female\",\"female\",\"male\",\"male\",\"male\",\"female\",\"female\",\"male\",\"female\",\"female\",\"female\",\"male\",\"male\",\"male\",\"female\",\"male\",\"male\",\"male\",\"female\",\"male\",\"female\",\"male\",\"male\",\"male\",\"female\",\"male\",\"male\",\"female\",\"male\",\"male\",\"male\",\"male\",\"female\",\"female\",\"male\",\"female\",\"male\",\"female\",\"female\",\"female\",\"male\",\"female\",\"male\",\"male\",\"male\",\"female\",\"female\",\"male\",\"male\",\"female\",\"male\",\"female\",\"male\",\"female\",\"male\",\"female\",\"male\",\"female\",\"male\",\"female\",\"female\",\"female\",\"male\",\"male\",\"female\",\"male\",\"female\",\"female\",\"male\",\"female\",\"female\",\"male\",\"male\",\"female\",\"male\",\"male\",\"male\",\"male\",\"male\",\"female\",\"female\",\"female\",\"female\",\"male\",\"male\",\"male\",\"female\",\"female\",\"male\",\"female\",\"male\",\"female\",\"male\",\"male\",\"male\",\"female\",\"male\",\"female\",\"female\",\"female\",\"male\",\"female\",\"female\",\"male\",\"female\",\"female\",\"male\",\"male\",\"male\",\"male\",\"female\",\"female\",\"male\",\"female\",\"male\",\"female\",\"male\",\"female\",\"male\",\"female\",\"male\",\"female\",\"male\",\"male\",\"male\",\"female\",\"male\",\"female\",\"male\",\"female\",\"female\",\"male\",\"female\",\"male\",\"female\",\"male\",\"female\",\"male\",\"male\",\"male\",\"male\",\"male\",\"female\",\"male\",\"female\",\"female\",\"female\",\"male\",\"male\",\"female\",\"male\",\"male\",\"female\",\"male\",\"female\",\"male\",\"male\",\"male\",\"male\",\"male\",\"female\",\"female\",\"female\",\"male\",\"male\",\"female\",\"male\",\"male\",\"female\",\"male\",\"male\",\"female\",\"female\",\"male\",\"female\"],\"yaxis\":\"y\",\"type\":\"histogram\"},{\"alignmentgroup\":\"True\",\"bingroup\":\"y\",\"hovertemplate\":\"grade=C<br>count=%{x}<br>gender=%{y}<extra></extra>\",\"legendgroup\":\"C\",\"marker\":{\"color\":\"#19d3f3\",\"pattern\":{\"shape\":\"\"}},\"name\":\"C\",\"offsetgroup\":\"C\",\"orientation\":\"h\",\"showlegend\":true,\"xaxis\":\"x\",\"y\":[\"male\",\"female\",\"female\",\"male\",\"male\",\"female\",\"male\",\"male\",\"female\",\"female\",\"male\",\"male\",\"male\",\"male\",\"male\",\"female\",\"male\",\"female\",\"male\",\"male\",\"male\",\"male\",\"male\",\"female\",\"female\",\"male\",\"female\",\"male\",\"female\",\"male\",\"male\",\"male\",\"male\",\"female\",\"female\",\"male\",\"male\",\"female\",\"female\",\"male\",\"male\",\"female\",\"male\",\"male\",\"female\",\"male\",\"male\",\"female\",\"male\",\"male\",\"female\",\"male\",\"male\",\"male\",\"male\",\"female\",\"female\",\"female\",\"female\",\"male\",\"male\",\"male\",\"female\",\"male\",\"female\",\"male\",\"female\",\"female\",\"female\",\"female\",\"male\",\"female\",\"female\",\"male\",\"male\",\"female\",\"male\",\"male\",\"male\",\"female\",\"male\",\"male\",\"male\",\"female\",\"male\",\"female\",\"male\",\"male\",\"female\",\"male\",\"female\",\"male\",\"male\",\"male\",\"female\",\"male\",\"male\",\"male\",\"male\",\"female\",\"male\",\"female\",\"male\",\"female\",\"female\",\"male\",\"female\",\"female\",\"female\",\"male\",\"male\",\"female\",\"male\",\"female\",\"male\",\"male\",\"male\",\"female\",\"male\",\"female\",\"female\",\"male\",\"female\",\"male\",\"male\",\"female\",\"female\",\"male\",\"female\",\"male\",\"male\",\"female\",\"male\",\"male\",\"female\",\"male\",\"male\",\"female\",\"female\",\"male\",\"female\",\"female\",\"female\",\"female\",\"female\",\"female\",\"male\",\"female\",\"male\",\"female\",\"male\",\"female\",\"male\",\"male\",\"male\",\"female\",\"male\",\"female\",\"male\",\"male\",\"male\",\"female\",\"male\",\"female\",\"male\",\"female\",\"female\",\"female\",\"female\",\"male\",\"female\",\"male\",\"female\",\"female\",\"female\",\"male\",\"male\",\"female\",\"female\",\"female\",\"female\",\"female\",\"male\",\"male\"],\"yaxis\":\"y\",\"type\":\"histogram\"},{\"alignmentgroup\":\"True\",\"bingroup\":\"y\",\"hovertemplate\":\"grade=F<br>count=%{x}<br>gender=%{y}<extra></extra>\",\"legendgroup\":\"F\",\"marker\":{\"color\":\"#FF6692\",\"pattern\":{\"shape\":\"\"}},\"name\":\"F\",\"offsetgroup\":\"F\",\"orientation\":\"h\",\"showlegend\":true,\"xaxis\":\"x\",\"y\":[\"female\",\"male\",\"female\",\"female\",\"male\",\"male\",\"male\",\"male\",\"male\",\"female\",\"male\",\"female\",\"male\",\"male\",\"female\",\"female\",\"male\",\"female\",\"female\",\"female\",\"male\",\"female\",\"female\",\"female\",\"male\",\"female\",\"male\",\"female\",\"male\",\"female\",\"male\",\"female\"],\"yaxis\":\"y\",\"type\":\"histogram\"}],                        {\"template\":{\"data\":{\"bar\":[{\"error_x\":{\"color\":\"#2a3f5f\"},\"error_y\":{\"color\":\"#2a3f5f\"},\"marker\":{\"line\":{\"color\":\"#E5ECF6\",\"width\":0.5},\"pattern\":{\"fillmode\":\"overlay\",\"size\":10,\"solidity\":0.2}},\"type\":\"bar\"}],\"barpolar\":[{\"marker\":{\"line\":{\"color\":\"#E5ECF6\",\"width\":0.5},\"pattern\":{\"fillmode\":\"overlay\",\"size\":10,\"solidity\":0.2}},\"type\":\"barpolar\"}],\"carpet\":[{\"aaxis\":{\"endlinecolor\":\"#2a3f5f\",\"gridcolor\":\"white\",\"linecolor\":\"white\",\"minorgridcolor\":\"white\",\"startlinecolor\":\"#2a3f5f\"},\"baxis\":{\"endlinecolor\":\"#2a3f5f\",\"gridcolor\":\"white\",\"linecolor\":\"white\",\"minorgridcolor\":\"white\",\"startlinecolor\":\"#2a3f5f\"},\"type\":\"carpet\"}],\"choropleth\":[{\"colorbar\":{\"outlinewidth\":0,\"ticks\":\"\"},\"type\":\"choropleth\"}],\"contour\":[{\"colorbar\":{\"outlinewidth\":0,\"ticks\":\"\"},\"colorscale\":[[0.0,\"#0d0887\"],[0.1111111111111111,\"#46039f\"],[0.2222222222222222,\"#7201a8\"],[0.3333333333333333,\"#9c179e\"],[0.4444444444444444,\"#bd3786\"],[0.5555555555555556,\"#d8576b\"],[0.6666666666666666,\"#ed7953\"],[0.7777777777777778,\"#fb9f3a\"],[0.8888888888888888,\"#fdca26\"],[1.0,\"#f0f921\"]],\"type\":\"contour\"}],\"contourcarpet\":[{\"colorbar\":{\"outlinewidth\":0,\"ticks\":\"\"},\"type\":\"contourcarpet\"}],\"heatmap\":[{\"colorbar\":{\"outlinewidth\":0,\"ticks\":\"\"},\"colorscale\":[[0.0,\"#0d0887\"],[0.1111111111111111,\"#46039f\"],[0.2222222222222222,\"#7201a8\"],[0.3333333333333333,\"#9c179e\"],[0.4444444444444444,\"#bd3786\"],[0.5555555555555556,\"#d8576b\"],[0.6666666666666666,\"#ed7953\"],[0.7777777777777778,\"#fb9f3a\"],[0.8888888888888888,\"#fdca26\"],[1.0,\"#f0f921\"]],\"type\":\"heatmap\"}],\"heatmapgl\":[{\"colorbar\":{\"outlinewidth\":0,\"ticks\":\"\"},\"colorscale\":[[0.0,\"#0d0887\"],[0.1111111111111111,\"#46039f\"],[0.2222222222222222,\"#7201a8\"],[0.3333333333333333,\"#9c179e\"],[0.4444444444444444,\"#bd3786\"],[0.5555555555555556,\"#d8576b\"],[0.6666666666666666,\"#ed7953\"],[0.7777777777777778,\"#fb9f3a\"],[0.8888888888888888,\"#fdca26\"],[1.0,\"#f0f921\"]],\"type\":\"heatmapgl\"}],\"histogram\":[{\"marker\":{\"pattern\":{\"fillmode\":\"overlay\",\"size\":10,\"solidity\":0.2}},\"type\":\"histogram\"}],\"histogram2d\":[{\"colorbar\":{\"outlinewidth\":0,\"ticks\":\"\"},\"colorscale\":[[0.0,\"#0d0887\"],[0.1111111111111111,\"#46039f\"],[0.2222222222222222,\"#7201a8\"],[0.3333333333333333,\"#9c179e\"],[0.4444444444444444,\"#bd3786\"],[0.5555555555555556,\"#d8576b\"],[0.6666666666666666,\"#ed7953\"],[0.7777777777777778,\"#fb9f3a\"],[0.8888888888888888,\"#fdca26\"],[1.0,\"#f0f921\"]],\"type\":\"histogram2d\"}],\"histogram2dcontour\":[{\"colorbar\":{\"outlinewidth\":0,\"ticks\":\"\"},\"colorscale\":[[0.0,\"#0d0887\"],[0.1111111111111111,\"#46039f\"],[0.2222222222222222,\"#7201a8\"],[0.3333333333333333,\"#9c179e\"],[0.4444444444444444,\"#bd3786\"],[0.5555555555555556,\"#d8576b\"],[0.6666666666666666,\"#ed7953\"],[0.7777777777777778,\"#fb9f3a\"],[0.8888888888888888,\"#fdca26\"],[1.0,\"#f0f921\"]],\"type\":\"histogram2dcontour\"}],\"mesh3d\":[{\"colorbar\":{\"outlinewidth\":0,\"ticks\":\"\"},\"type\":\"mesh3d\"}],\"parcoords\":[{\"line\":{\"colorbar\":{\"outlinewidth\":0,\"ticks\":\"\"}},\"type\":\"parcoords\"}],\"pie\":[{\"automargin\":true,\"type\":\"pie\"}],\"scatter\":[{\"marker\":{\"colorbar\":{\"outlinewidth\":0,\"ticks\":\"\"}},\"type\":\"scatter\"}],\"scatter3d\":[{\"line\":{\"colorbar\":{\"outlinewidth\":0,\"ticks\":\"\"}},\"marker\":{\"colorbar\":{\"outlinewidth\":0,\"ticks\":\"\"}},\"type\":\"scatter3d\"}],\"scattercarpet\":[{\"marker\":{\"colorbar\":{\"outlinewidth\":0,\"ticks\":\"\"}},\"type\":\"scattercarpet\"}],\"scattergeo\":[{\"marker\":{\"colorbar\":{\"outlinewidth\":0,\"ticks\":\"\"}},\"type\":\"scattergeo\"}],\"scattergl\":[{\"marker\":{\"colorbar\":{\"outlinewidth\":0,\"ticks\":\"\"}},\"type\":\"scattergl\"}],\"scattermapbox\":[{\"marker\":{\"colorbar\":{\"outlinewidth\":0,\"ticks\":\"\"}},\"type\":\"scattermapbox\"}],\"scatterpolar\":[{\"marker\":{\"colorbar\":{\"outlinewidth\":0,\"ticks\":\"\"}},\"type\":\"scatterpolar\"}],\"scatterpolargl\":[{\"marker\":{\"colorbar\":{\"outlinewidth\":0,\"ticks\":\"\"}},\"type\":\"scatterpolargl\"}],\"scatterternary\":[{\"marker\":{\"colorbar\":{\"outlinewidth\":0,\"ticks\":\"\"}},\"type\":\"scatterternary\"}],\"surface\":[{\"colorbar\":{\"outlinewidth\":0,\"ticks\":\"\"},\"colorscale\":[[0.0,\"#0d0887\"],[0.1111111111111111,\"#46039f\"],[0.2222222222222222,\"#7201a8\"],[0.3333333333333333,\"#9c179e\"],[0.4444444444444444,\"#bd3786\"],[0.5555555555555556,\"#d8576b\"],[0.6666666666666666,\"#ed7953\"],[0.7777777777777778,\"#fb9f3a\"],[0.8888888888888888,\"#fdca26\"],[1.0,\"#f0f921\"]],\"type\":\"surface\"}],\"table\":[{\"cells\":{\"fill\":{\"color\":\"#EBF0F8\"},\"line\":{\"color\":\"white\"}},\"header\":{\"fill\":{\"color\":\"#C8D4E3\"},\"line\":{\"color\":\"white\"}},\"type\":\"table\"}]},\"layout\":{\"annotationdefaults\":{\"arrowcolor\":\"#2a3f5f\",\"arrowhead\":0,\"arrowwidth\":1},\"autotypenumbers\":\"strict\",\"coloraxis\":{\"colorbar\":{\"outlinewidth\":0,\"ticks\":\"\"}},\"colorscale\":{\"diverging\":[[0,\"#8e0152\"],[0.1,\"#c51b7d\"],[0.2,\"#de77ae\"],[0.3,\"#f1b6da\"],[0.4,\"#fde0ef\"],[0.5,\"#f7f7f7\"],[0.6,\"#e6f5d0\"],[0.7,\"#b8e186\"],[0.8,\"#7fbc41\"],[0.9,\"#4d9221\"],[1,\"#276419\"]],\"sequential\":[[0.0,\"#0d0887\"],[0.1111111111111111,\"#46039f\"],[0.2222222222222222,\"#7201a8\"],[0.3333333333333333,\"#9c179e\"],[0.4444444444444444,\"#bd3786\"],[0.5555555555555556,\"#d8576b\"],[0.6666666666666666,\"#ed7953\"],[0.7777777777777778,\"#fb9f3a\"],[0.8888888888888888,\"#fdca26\"],[1.0,\"#f0f921\"]],\"sequentialminus\":[[0.0,\"#0d0887\"],[0.1111111111111111,\"#46039f\"],[0.2222222222222222,\"#7201a8\"],[0.3333333333333333,\"#9c179e\"],[0.4444444444444444,\"#bd3786\"],[0.5555555555555556,\"#d8576b\"],[0.6666666666666666,\"#ed7953\"],[0.7777777777777778,\"#fb9f3a\"],[0.8888888888888888,\"#fdca26\"],[1.0,\"#f0f921\"]]},\"colorway\":[\"#636efa\",\"#EF553B\",\"#00cc96\",\"#ab63fa\",\"#FFA15A\",\"#19d3f3\",\"#FF6692\",\"#B6E880\",\"#FF97FF\",\"#FECB52\"],\"font\":{\"color\":\"#2a3f5f\"},\"geo\":{\"bgcolor\":\"white\",\"lakecolor\":\"white\",\"landcolor\":\"#E5ECF6\",\"showlakes\":true,\"showland\":true,\"subunitcolor\":\"white\"},\"hoverlabel\":{\"align\":\"left\"},\"hovermode\":\"closest\",\"mapbox\":{\"style\":\"light\"},\"paper_bgcolor\":\"white\",\"plot_bgcolor\":\"#E5ECF6\",\"polar\":{\"angularaxis\":{\"gridcolor\":\"white\",\"linecolor\":\"white\",\"ticks\":\"\"},\"bgcolor\":\"#E5ECF6\",\"radialaxis\":{\"gridcolor\":\"white\",\"linecolor\":\"white\",\"ticks\":\"\"}},\"scene\":{\"xaxis\":{\"backgroundcolor\":\"#E5ECF6\",\"gridcolor\":\"white\",\"gridwidth\":2,\"linecolor\":\"white\",\"showbackground\":true,\"ticks\":\"\",\"zerolinecolor\":\"white\"},\"yaxis\":{\"backgroundcolor\":\"#E5ECF6\",\"gridcolor\":\"white\",\"gridwidth\":2,\"linecolor\":\"white\",\"showbackground\":true,\"ticks\":\"\",\"zerolinecolor\":\"white\"},\"zaxis\":{\"backgroundcolor\":\"#E5ECF6\",\"gridcolor\":\"white\",\"gridwidth\":2,\"linecolor\":\"white\",\"showbackground\":true,\"ticks\":\"\",\"zerolinecolor\":\"white\"}},\"shapedefaults\":{\"line\":{\"color\":\"#2a3f5f\"}},\"ternary\":{\"aaxis\":{\"gridcolor\":\"white\",\"linecolor\":\"white\",\"ticks\":\"\"},\"baxis\":{\"gridcolor\":\"white\",\"linecolor\":\"white\",\"ticks\":\"\"},\"bgcolor\":\"#E5ECF6\",\"caxis\":{\"gridcolor\":\"white\",\"linecolor\":\"white\",\"ticks\":\"\"}},\"title\":{\"x\":0.05},\"xaxis\":{\"automargin\":true,\"gridcolor\":\"white\",\"linecolor\":\"white\",\"ticks\":\"\",\"title\":{\"standoff\":15},\"zerolinecolor\":\"white\",\"zerolinewidth\":2},\"yaxis\":{\"automargin\":true,\"gridcolor\":\"white\",\"linecolor\":\"white\",\"ticks\":\"\",\"title\":{\"standoff\":15},\"zerolinecolor\":\"white\",\"zerolinewidth\":2}}},\"xaxis\":{\"anchor\":\"y\",\"domain\":[0.0,1.0],\"title\":{\"text\":\"count\"}},\"yaxis\":{\"anchor\":\"x\",\"domain\":[0.0,1.0],\"title\":{\"text\":\"gender\"},\"categoryorder\":\"category ascending\"},\"legend\":{\"title\":{\"text\":\"grade\"},\"tracegroupgap\":0},\"title\":{\"text\":\"Gender vs Grade DIstribution\"},\"barmode\":\"relative\"},                        {\"responsive\": true}                    ).then(function(){\n",
              "                            \n",
              "var gd = document.getElementById('91505b15-12ed-43c4-9ba9-c309f4b51dd1');\n",
              "var x = new MutationObserver(function (mutations, observer) {{\n",
              "        var display = window.getComputedStyle(gd).display;\n",
              "        if (!display || display === 'none') {{\n",
              "            console.log([gd, 'removed!']);\n",
              "            Plotly.purge(gd);\n",
              "            observer.disconnect();\n",
              "        }}\n",
              "}});\n",
              "\n",
              "// Listen for the removal of the full notebook cells\n",
              "var notebookContainer = gd.closest('#notebook-container');\n",
              "if (notebookContainer) {{\n",
              "    x.observe(notebookContainer, {childList: true});\n",
              "}}\n",
              "\n",
              "// Listen for the clearing of the current output cell\n",
              "var outputEl = gd.closest('.output');\n",
              "if (outputEl) {{\n",
              "    x.observe(outputEl, {childList: true});\n",
              "}}\n",
              "\n",
              "                        })                };                            </script>        </div>\n",
              "</body>\n",
              "</html>"
            ]
          },
          "metadata": {}
        }
      ]
    },
    {
      "cell_type": "markdown",
      "source": [
        "<p>From above, women <b>is better</b> than men</p>"
      ],
      "metadata": {
        "id": "1M-hf1qlRrOU"
      }
    },
    {
      "cell_type": "code",
      "source": [
        "fig = px.scatter(df, x='reading_score',y='writing_score',\n",
        "                 color='grade', size='math_score', \n",
        "                 hover_data=['parent_edu'],\n",
        "                 title='Bubble Chart')\n",
        "fig.show()"
      ],
      "metadata": {
        "colab": {
          "base_uri": "https://localhost:8080/",
          "height": 542
        },
        "id": "-u8j998ps_i9",
        "outputId": "98db9f9b-b436-403e-a029-d5104093994d"
      },
      "execution_count": 41,
      "outputs": [
        {
          "output_type": "display_data",
          "data": {
            "text/html": [
              "<html>\n",
              "<head><meta charset=\"utf-8\" /></head>\n",
              "<body>\n",
              "    <div>            <script src=\"https://cdnjs.cloudflare.com/ajax/libs/mathjax/2.7.5/MathJax.js?config=TeX-AMS-MML_SVG\"></script><script type=\"text/javascript\">if (window.MathJax) {MathJax.Hub.Config({SVG: {font: \"STIX-Web\"}});}</script>                <script type=\"text/javascript\">window.PlotlyConfig = {MathJaxConfig: 'local'};</script>\n",
              "        <script src=\"https://cdn.plot.ly/plotly-2.8.3.min.js\"></script>                <div id=\"9673653e-cae6-4f5f-b4ff-c17647734e10\" class=\"plotly-graph-div\" style=\"height:525px; width:100%;\"></div>            <script type=\"text/javascript\">                                    window.PLOTLYENV=window.PLOTLYENV || {};                                    if (document.getElementById(\"9673653e-cae6-4f5f-b4ff-c17647734e10\")) {                    Plotly.newPlot(                        \"9673653e-cae6-4f5f-b4ff-c17647734e10\",                        [{\"customdata\":[[\"bachelor's degree\"],[\"some college\"],[\"associate's degree\"],[\"high school\"],[\"some college\"],[\"some high school\"],[\"some high school\"],[\"bachelor's degree\"],[\"master's degree\"],[\"bachelor's degree\"],[\"some college\"],[\"associate's degree\"],[\"high school\"],[\"associate's degree\"],[\"bachelor's degree\"],[\"associate's degree\"],[\"bachelor's degree\"],[\"some college\"],[\"associate's degree\"],[\"bachelor's degree\"],[\"high school\"],[\"some college\"],[\"bachelor's degree\"],[\"high school\"],[\"bachelor's degree\"],[\"some college\"],[\"some college\"],[\"master's degree\"],[\"some college\"],[\"some college\"],[\"bachelor's degree\"],[\"some high school\"],[\"some college\"],[\"bachelor's degree\"],[\"bachelor's degree\"],[\"high school\"],[\"associate's degree\"],[\"associate's degree\"],[\"master's degree\"],[\"high school\"],[\"some college\"],[\"high school\"],[\"associate's degree\"],[\"high school\"],[\"some college\"],[\"master's degree\"],[\"bachelor's degree\"],[\"associate's degree\"],[\"some college\"],[\"associate's degree\"],[\"some high school\"],[\"high school\"],[\"some college\"],[\"some high school\"],[\"high school\"],[\"some college\"],[\"bachelor's degree\"],[\"associate's degree\"],[\"some high school\"],[\"associate's degree\"],[\"associate's degree\"],[\"some college\"],[\"master's degree\"],[\"associate's degree\"],[\"some college\"],[\"master's degree\"],[\"some high school\"],[\"some college\"],[\"high school\"],[\"bachelor's degree\"],[\"high school\"],[\"some college\"],[\"bachelor's degree\"],[\"some high school\"],[\"bachelor's degree\"],[\"some college\"],[\"some high school\"],[\"bachelor's degree\"],[\"some high school\"],[\"associate's degree\"],[\"some high school\"],[\"bachelor's degree\"],[\"high school\"],[\"associate's degree\"],[\"some college\"],[\"associate's degree\"],[\"associate's degree\"],[\"associate's degree\"],[\"associate's degree\"],[\"associate's degree\"],[\"high school\"],[\"high school\"],[\"some college\"],[\"associate's degree\"],[\"some high school\"],[\"high school\"],[\"some college\"],[\"high school\"],[\"high school\"],[\"associate's degree\"],[\"some college\"],[\"some college\"],[\"some high school\"],[\"some high school\"],[\"master's degree\"],[\"some college\"],[\"master's degree\"],[\"some college\"],[\"some high school\"],[\"associate's degree\"],[\"master's degree\"],[\"high school\"],[\"bachelor's degree\"],[\"associate's degree\"],[\"some high school\"],[\"associate's degree\"],[\"some college\"],[\"high school\"],[\"associate's degree\"],[\"some high school\"],[\"some high school\"],[\"associate's degree\"],[\"some college\"],[\"associate's degree\"],[\"some college\"],[\"associate's degree\"],[\"bachelor's degree\"],[\"associate's degree\"],[\"associate's degree\"],[\"high school\"],[\"high school\"],[\"associate's degree\"],[\"some college\"],[\"some college\"],[\"master's degree\"],[\"master's degree\"],[\"some college\"],[\"some college\"],[\"some high school\"],[\"high school\"],[\"bachelor's degree\"],[\"bachelor's degree\"],[\"high school\"],[\"associate's degree\"],[\"master's degree\"],[\"some high school\"],[\"some college\"],[\"some college\"],[\"some college\"],[\"some college\"],[\"high school\"],[\"some high school\"],[\"bachelor's degree\"],[\"associate's degree\"],[\"some college\"],[\"associate's degree\"],[\"high school\"],[\"high school\"],[\"some high school\"],[\"some college\"],[\"associate's degree\"],[\"bachelor's degree\"],[\"high school\"],[\"some college\"],[\"associate's degree\"],[\"some high school\"],[\"high school\"],[\"bachelor's degree\"],[\"some college\"],[\"high school\"],[\"some high school\"],[\"some college\"],[\"associate's degree\"],[\"some college\"],[\"associate's degree\"],[\"high school\"],[\"some college\"],[\"some high school\"],[\"associate's degree\"],[\"high school\"],[\"some college\"],[\"associate's degree\"],[\"associate's degree\"],[\"bachelor's degree\"],[\"associate's degree\"],[\"associate's degree\"],[\"associate's degree\"],[\"high school\"],[\"some college\"],[\"associate's degree\"],[\"associate's degree\"],[\"associate's degree\"],[\"bachelor's degree\"],[\"associate's degree\"],[\"high school\"],[\"master's degree\"],[\"some college\"],[\"high school\"],[\"some high school\"],[\"bachelor's degree\"],[\"bachelor's degree\"],[\"some college\"],[\"some high school\"],[\"associate's degree\"],[\"some high school\"],[\"some college\"],[\"some college\"],[\"some college\"],[\"high school\"],[\"high school\"],[\"high school\"],[\"some high school\"],[\"high school\"],[\"associate's degree\"],[\"some college\"],[\"associate's degree\"],[\"bachelor's degree\"],[\"associate's degree\"],[\"some college\"],[\"associate's degree\"],[\"some college\"],[\"some high school\"],[\"associate's degree\"],[\"bachelor's degree\"],[\"associate's degree\"],[\"some high school\"],[\"some high school\"],[\"some high school\"],[\"master's degree\"],[\"some high school\"],[\"bachelor's degree\"],[\"some college\"],[\"associate's degree\"],[\"high school\"],[\"some college\"],[\"bachelor's degree\"],[\"some high school\"],[\"high school\"],[\"high school\"],[\"some college\"],[\"some high school\"],[\"high school\"],[\"some high school\"],[\"associate's degree\"],[\"bachelor's degree\"],[\"some high school\"],[\"some college\"],[\"some high school\"],[\"some high school\"],[\"some high school\"],[\"some college\"],[\"some high school\"],[\"some college\"]],\"hovertemplate\":\"grade=B+<br>reading_score=%{x}<br>writing_score=%{y}<br>math_score=%{marker.size}<br>parent_edu=%{customdata[0]}<extra></extra>\",\"legendgroup\":\"B+\",\"marker\":{\"color\":\"#636efa\",\"size\":[72,76,71,65,78,69,69,74,73,67,69,74,66,77,79,69,80,73,71,65,71,79,68,84,78,83,65,82,87,75,74,76,88,68,77,66,61,82,58,68,67,72,71,80,76,69,78,67,65,69,74,81,74,80,66,72,67,80,75,85,89,71,80,78,70,65,64,79,76,63,69,71,83,65,73,70,67,88,77,76,86,65,78,71,81,67,80,74,73,83,67,75,71,82,76,69,79,72,75,87,63,84,74,71,79,67,73,77,65,82,70,84,71,74,59,75,67,78,73,79,67,81,64,65,71,68,71,80,76,73,70,65,59,76,74,79,76,66,66,67,66,85,75,81,79,79,74,63,63,71,74,77,63,73,69,65,74,69,65,76,65,66,67,86,76,72,74,65,69,68,73,74,81,69,65,69,73,70,81,67,85,77,73,66,77,57,73,76,81,65,68,81,80,72,69,79,69,74,68,75,62,72,72,70,76,73,75,64,90,72,71,69,75,66,74,80,65,87,71,78,70,59,64,71,62,88,63,65,73,67,67,69,57,74,67,70,77,81,94,75,74,75,65,68,75,78,64,81,74,81,67,65,68],\"sizemode\":\"area\",\"sizeref\":0.25,\"symbol\":\"circle\"},\"mode\":\"markers\",\"name\":\"B+\",\"orientation\":\"v\",\"showlegend\":true,\"x\":[72,78,83,81,72,75,73,71,74,69,74,81,71,69,74,80,78,80,71,72,79,67,74,77,82,80,77,82,74,81,79,72,73,75,67,74,86,78,76,83,75,73,77,76,83,84,79,84,81,77,71,80,81,79,77,72,86,75,74,76,76,83,80,77,75,81,79,79,73,75,72,76,78,86,79,78,89,75,76,70,73,73,77,74,78,84,76,75,76,72,79,86,81,75,70,76,73,80,74,74,78,77,74,83,81,76,70,68,74,80,71,73,74,73,85,66,81,81,83,82,74,73,85,77,70,86,76,68,71,71,74,85,78,71,79,78,71,74,78,78,83,66,69,77,72,76,75,74,80,75,81,79,73,75,77,76,76,77,82,78,77,74,80,76,74,81,79,81,79,80,79,77,72,78,84,77,78,82,75,72,75,78,76,74,77,78,78,76,74,75,77,71,73,79,75,77,77,72,71,73,78,79,79,84,80,76,81,74,75,80,87,86,82,77,77,75,79,73,71,74,72,72,76,70,76,74,78,78,78,84,75,84,77,70,74,75,68,66,73,77,74,81,76,76,84,72,82,78,75,75,86,82,78],\"xaxis\":\"x\",\"y\":[74,75,78,73,70,78,73,80,72,75,74,83,76,68,72,71,81,82,74,74,71,67,74,74,79,73,74,74,70,84,75,71,78,81,68,78,87,74,78,78,70,74,77,65,79,85,76,86,77,69,78,76,76,79,70,71,83,77,69,71,74,83,72,77,78,81,77,78,68,81,77,70,73,80,84,78,82,76,77,68,70,75,80,68,81,81,64,83,80,78,84,79,80,77,69,74,67,75,66,76,80,71,72,77,71,75,75,77,77,77,74,69,68,67,80,73,79,80,76,73,77,72,85,74,76,84,83,72,67,68,71,76,76,72,82,77,73,73,78,79,83,71,68,79,69,65,79,74,80,70,71,80,78,80,77,76,73,73,81,80,74,81,81,74,73,79,80,81,81,76,79,73,77,76,84,78,76,76,78,74,68,73,78,81,73,79,72,74,71,77,80,73,72,74,71,75,77,72,75,74,79,82,77,81,73,78,74,75,69,83,82,81,79,73,76,69,81,72,80,72,76,80,74,70,80,75,79,82,74,84,72,82,80,69,70,74,69,64,71,83,72,71,75,67,80,69,77,78,82,76,83,78,77],\"yaxis\":\"y\",\"type\":\"scatter\"},{\"customdata\":[[\"some college\"],[\"high school\"],[\"some college\"],[\"associate's degree\"],[\"associate's degree\"],[\"high school\"],[\"high school\"],[\"some high school\"],[\"associate's degree\"],[\"some college\"],[\"some high school\"],[\"some college\"],[\"associate's degree\"],[\"associate's degree\"],[\"associate's degree\"],[\"bachelor's degree\"],[\"bachelor's degree\"],[\"high school\"],[\"master's degree\"],[\"some high school\"],[\"some college\"],[\"some college\"],[\"master's degree\"],[\"some high school\"],[\"some college\"],[\"master's degree\"],[\"bachelor's degree\"],[\"high school\"],[\"some high school\"],[\"associate's degree\"],[\"associate's degree\"],[\"some high school\"],[\"some high school\"],[\"bachelor's degree\"],[\"associate's degree\"],[\"bachelor's degree\"],[\"some college\"],[\"some high school\"],[\"associate's degree\"],[\"associate's degree\"],[\"associate's degree\"],[\"some college\"],[\"master's degree\"],[\"some college\"],[\"associate's degree\"],[\"bachelor's degree\"],[\"some college\"],[\"some high school\"],[\"some high school\"],[\"some high school\"],[\"associate's degree\"],[\"associate's degree\"],[\"associate's degree\"],[\"some college\"],[\"associate's degree\"],[\"bachelor's degree\"],[\"some high school\"],[\"high school\"],[\"bachelor's degree\"],[\"some college\"],[\"some college\"],[\"high school\"],[\"some college\"],[\"associate's degree\"],[\"associate's degree\"],[\"some college\"],[\"bachelor's degree\"],[\"some high school\"],[\"bachelor's degree\"],[\"master's degree\"],[\"some high school\"],[\"some college\"],[\"associate's degree\"],[\"associate's degree\"],[\"associate's degree\"],[\"associate's degree\"],[\"some high school\"],[\"bachelor's degree\"],[\"high school\"],[\"master's degree\"],[\"associate's degree\"],[\"associate's degree\"],[\"bachelor's degree\"],[\"master's degree\"],[\"high school\"],[\"some high school\"],[\"some high school\"],[\"associate's degree\"],[\"some college\"],[\"associate's degree\"],[\"bachelor's degree\"],[\"some college\"],[\"some college\"],[\"associate's degree\"],[\"bachelor's degree\"],[\"bachelor's degree\"],[\"high school\"],[\"some college\"],[\"some high school\"],[\"master's degree\"],[\"associate's degree\"],[\"associate's degree\"],[\"some high school\"],[\"high school\"],[\"some college\"],[\"associate's degree\"],[\"high school\"],[\"some college\"],[\"some high school\"],[\"some high school\"],[\"associate's degree\"],[\"master's degree\"],[\"high school\"],[\"bachelor's degree\"],[\"some high school\"],[\"some college\"],[\"some high school\"],[\"some high school\"],[\"some high school\"],[\"some high school\"],[\"bachelor's degree\"],[\"bachelor's degree\"],[\"high school\"],[\"master's degree\"],[\"master's degree\"],[\"some college\"],[\"master's degree\"],[\"some college\"],[\"associate's degree\"],[\"associate's degree\"],[\"some college\"],[\"some college\"],[\"associate's degree\"],[\"master's degree\"],[\"some college\"],[\"some college\"],[\"some college\"],[\"master's degree\"],[\"high school\"],[\"some college\"],[\"some high school\"],[\"some college\"],[\"high school\"],[\"some college\"]],\"hovertemplate\":\"grade=A-<br>reading_score=%{x}<br>writing_score=%{y}<br>math_score=%{marker.size}<br>parent_edu=%{customdata[0]}<extra></extra>\",\"legendgroup\":\"A-\",\"marker\":{\"color\":\"#EF553B\",\"size\":[69,88,97,81,75,82,88,71,82,76,73,79,78,85,77,75,79,87,89,88,70,75,81,94,79,81,77,87,84,83,87,86,92,83,84,80,88,85,81,97,90,99,77,82,90,77,80,85,73,80,80,85,87,84,82,86,89,86,79,77,84,77,91,83,79,83,81,82,86,77,76,74,91,79,79,82,78,87,81,84,85,82,88,95,75,84,80,74,85,90,77,93,79,75,79,87,89,93,80,81,76,91,74,73,87,92,81,87,77,78,94,77,76,91,89,82,87,94,77,85,78,74,77,90,91,87,81,82,82,90,81,86,85,85,88,79,85,78,82,84,79,78,86,77],\"sizemode\":\"area\",\"sizeref\":0.25,\"symbol\":\"circle\"},\"mode\":\"markers\",\"name\":\"A-\",\"orientation\":\"v\",\"showlegend\":true,\"x\":[90,89,87,81,90,84,78,84,85,83,86,86,81,91,89,85,92,95,84,84,89,88,92,88,86,91,88,91,83,86,85,80,87,82,80,83,85,92,82,82,87,87,82,90,78,94,90,84,84,90,86,89,84,83,93,83,88,81,89,90,87,88,74,85,82,83,88,82,92,97,87,89,86,88,82,95,83,90,91,89,84,93,78,81,88,84,92,88,86,87,85,90,89,82,81,84,87,84,85,81,94,73,90,92,89,79,84,84,90,81,85,90,85,81,84,85,84,86,91,90,90,86,82,85,85,85,86,82,84,90,82,85,92,84,77,84,81,91,82,87,85,87,81,86],\"xaxis\":\"x\",\"y\":[88,86,82,79,88,82,75,87,86,88,82,92,82,89,98,82,89,86,82,75,88,85,91,78,81,87,87,81,75,88,73,75,78,84,80,83,76,93,82,88,75,81,91,94,81,95,89,78,85,82,83,95,85,78,93,86,82,80,89,91,91,85,76,90,82,90,90,80,87,94,85,84,84,94,80,89,80,88,89,90,82,93,83,84,85,80,88,90,98,85,87,83,86,90,82,87,79,90,85,84,87,80,88,84,94,84,82,86,85,86,82,84,82,79,77,87,76,87,88,92,93,89,89,84,85,93,87,88,78,82,84,91,85,89,77,91,85,96,80,81,86,91,75,86],\"yaxis\":\"y\",\"type\":\"scatter\"},{\"customdata\":[[\"master's degree\"],[\"some college\"],[\"some college\"],[\"master's degree\"],[\"bachelor's degree\"],[\"associate's degree\"],[\"some college\"],[\"associate's degree\"],[\"bachelor's degree\"],[\"some high school\"],[\"some college\"],[\"high school\"],[\"associate's degree\"],[\"bachelor's degree\"],[\"some college\"],[\"master's degree\"],[\"associate's degree\"],[\"high school\"],[\"some college\"],[\"bachelor's degree\"],[\"associate's degree\"],[\"associate's degree\"],[\"associate's degree\"],[\"associate's degree\"],[\"some high school\"],[\"bachelor's degree\"],[\"bachelor's degree\"],[\"bachelor's degree\"],[\"some high school\"],[\"bachelor's degree\"],[\"bachelor's degree\"],[\"some college\"],[\"some college\"],[\"master's degree\"],[\"some college\"],[\"associate's degree\"],[\"associate's degree\"],[\"associate's degree\"],[\"bachelor's degree\"],[\"associate's degree\"],[\"associate's degree\"],[\"bachelor's degree\"],[\"bachelor's degree\"],[\"some college\"],[\"associate's degree\"],[\"master's degree\"],[\"associate's degree\"],[\"bachelor's degree\"],[\"associate's degree\"],[\"master's degree\"]],\"hovertemplate\":\"grade=A+<br>reading_score=%{x}<br>writing_score=%{y}<br>math_score=%{marker.size}<br>parent_edu=%{customdata[0]}<extra></extra>\",\"legendgroup\":\"A+\",\"marker\":{\"color\":\"#00cc96\",\"size\":[90,88,98,87,99,91,88,100,96,97,88,99,88,83,82,85,87,88,100,100,90,94,95,97,92,96,92,91,81,92,94,100,100,94,98,96,84,87,97,97,93,93,100,91,98,92,100,89,91,88],\"sizemode\":\"area\",\"sizeref\":0.25,\"symbol\":\"circle\"},\"mode\":\"markers\",\"name\":\"A+\",\"orientation\":\"v\",\"showlegend\":true,\"x\":[95,95,86,100,100,89,93,100,100,100,95,93,92,93,97,95,100,99,92,100,90,87,89,92,100,90,100,96,97,100,90,96,97,99,100,96,95,94,97,93,100,100,100,96,87,100,100,100,95,99],\"xaxis\":\"x\",\"y\":[93,92,90,100,100,92,93,93,100,100,94,90,95,95,96,100,95,100,97,100,91,92,92,86,97,92,100,92,96,99,91,86,99,100,99,99,92,95,96,91,95,100,100,91,90,100,100,100,94,95],\"yaxis\":\"y\",\"type\":\"scatter\"},{\"customdata\":[[\"associate's degree\"],[\"some college\"],[\"high school\"],[\"associate's degree\"],[\"master's degree\"],[\"some college\"],[\"associate's degree\"],[\"some high school\"],[\"associate's degree\"],[\"associate's degree\"],[\"high school\"],[\"associate's degree\"],[\"some high school\"],[\"some high school\"],[\"high school\"],[\"bachelor's degree\"],[\"bachelor's degree\"],[\"high school\"],[\"some high school\"],[\"some high school\"],[\"some college\"],[\"associate's degree\"],[\"some high school\"],[\"some high school\"],[\"some high school\"],[\"some college\"],[\"high school\"],[\"high school\"],[\"some high school\"],[\"some high school\"],[\"high school\"],[\"some high school\"],[\"some high school\"],[\"high school\"],[\"some high school\"],[\"associate's degree\"],[\"some high school\"],[\"associate's degree\"],[\"some high school\"],[\"some high school\"],[\"high school\"],[\"some college\"],[\"high school\"],[\"bachelor's degree\"],[\"high school\"],[\"associate's degree\"],[\"associate's degree\"],[\"bachelor's degree\"],[\"associate's degree\"],[\"associate's degree\"],[\"high school\"],[\"some high school\"],[\"high school\"],[\"high school\"],[\"some college\"],[\"some college\"],[\"some high school\"],[\"some high school\"],[\"associate's degree\"],[\"high school\"],[\"some college\"],[\"some high school\"],[\"high school\"],[\"high school\"],[\"high school\"],[\"high school\"],[\"high school\"],[\"associate's degree\"],[\"bachelor's degree\"],[\"high school\"],[\"high school\"],[\"bachelor's degree\"],[\"high school\"],[\"associate's degree\"],[\"high school\"],[\"associate's degree\"],[\"some high school\"]],\"hovertemplate\":\"grade=D<br>reading_score=%{x}<br>writing_score=%{y}<br>math_score=%{marker.size}<br>parent_edu=%{customdata[0]}<extra></extra>\",\"legendgroup\":\"D\",\"marker\":{\"color\":\"#ab63fa\",\"size\":[47,40,38,40,46,53,41,49,44,47,49,43,53,51,57,54,43,50,45,48,59,46,47,44,59,58,53,45,37,46,40,51,43,41,41,49,35,46,38,38,48,53,47,37,36,40,53,48,48,40,35,44,41,50,47,53,55,55,37,52,35,32,42,41,45,39,52,61,55,44,34,50,35,46,55,40,44],\"sizemode\":\"area\",\"sizeref\":0.25,\"symbol\":\"circle\"},\"mode\":\"markers\",\"name\":\"D\",\"orientation\":\"v\",\"showlegend\":true,\"x\":[57,43,60,52,42,44,51,49,41,49,45,45,37,54,43,49,51,50,52,52,41,43,49,50,42,49,52,48,46,41,46,52,53,46,55,51,55,43,49,43,45,43,46,56,53,48,45,51,43,55,61,51,52,48,43,39,46,47,57,48,44,51,52,45,47,52,49,42,46,51,48,42,53,43,41,59,45],\"xaxis\":\"x\",\"y\":[44,39,50,43,46,42,48,41,38,50,45,50,40,41,47,47,54,47,49,45,42,42,49,51,41,42,42,46,46,43,50,44,53,43,51,43,60,41,45,43,41,43,42,47,43,50,40,46,45,53,54,55,51,42,41,37,43,44,56,49,43,44,51,40,49,46,46,41,44,48,41,48,46,44,48,51,45],\"yaxis\":\"y\",\"type\":\"scatter\"},{\"customdata\":[[\"high school\"],[\"high school\"],[\"some college\"],[\"high school\"],[\"master's degree\"],[\"some college\"],[\"master's degree\"],[\"associate's degree\"],[\"some college\"],[\"associate's degree\"],[\"associate's degree\"],[\"some high school\"],[\"some college\"],[\"some college\"],[\"some college\"],[\"some high school\"],[\"master's degree\"],[\"associate's degree\"],[\"some college\"],[\"some high school\"],[\"some college\"],[\"some college\"],[\"bachelor's degree\"],[\"some college\"],[\"associate's degree\"],[\"associate's degree\"],[\"some high school\"],[\"some college\"],[\"some high school\"],[\"high school\"],[\"associate's degree\"],[\"some college\"],[\"some college\"],[\"associate's degree\"],[\"some high school\"],[\"associate's degree\"],[\"some high school\"],[\"associate's degree\"],[\"associate's degree\"],[\"master's degree\"],[\"master's degree\"],[\"associate's degree\"],[\"associate's degree\"],[\"some high school\"],[\"associate's degree\"],[\"some high school\"],[\"some college\"],[\"some high school\"],[\"associate's degree\"],[\"bachelor's degree\"],[\"some college\"],[\"high school\"],[\"some high school\"],[\"associate's degree\"],[\"some high school\"],[\"some college\"],[\"bachelor's degree\"],[\"some high school\"],[\"high school\"],[\"high school\"],[\"high school\"],[\"high school\"],[\"some high school\"],[\"some college\"],[\"associate's degree\"],[\"bachelor's degree\"],[\"some college\"],[\"high school\"],[\"bachelor's degree\"],[\"associate's degree\"],[\"some college\"],[\"associate's degree\"],[\"bachelor's degree\"],[\"bachelor's degree\"],[\"associate's degree\"],[\"bachelor's degree\"],[\"high school\"],[\"bachelor's degree\"],[\"associate's degree\"],[\"some college\"],[\"high school\"],[\"some college\"],[\"high school\"],[\"associate's degree\"],[\"bachelor's degree\"],[\"some college\"],[\"bachelor's degree\"],[\"associate's degree\"],[\"some college\"],[\"bachelor's degree\"],[\"some college\"],[\"bachelor's degree\"],[\"bachelor's degree\"],[\"bachelor's degree\"],[\"associate's degree\"],[\"high school\"],[\"some high school\"],[\"some college\"],[\"some high school\"],[\"some high school\"],[\"associate's degree\"],[\"associate's degree\"],[\"some high school\"],[\"bachelor's degree\"],[\"some college\"],[\"some college\"],[\"some high school\"],[\"some high school\"],[\"associate's degree\"],[\"high school\"],[\"some high school\"],[\"associate's degree\"],[\"some high school\"],[\"some college\"],[\"high school\"],[\"bachelor's degree\"],[\"high school\"],[\"high school\"],[\"some high school\"],[\"bachelor's degree\"],[\"master's degree\"],[\"some college\"],[\"associate's degree\"],[\"associate's degree\"],[\"high school\"],[\"high school\"],[\"some high school\"],[\"high school\"],[\"bachelor's degree\"],[\"some college\"],[\"associate's degree\"],[\"associate's degree\"],[\"associate's degree\"],[\"high school\"],[\"master's degree\"],[\"high school\"],[\"high school\"],[\"some college\"],[\"associate's degree\"],[\"master's degree\"],[\"associate's degree\"],[\"some high school\"],[\"master's degree\"],[\"bachelor's degree\"],[\"master's degree\"],[\"high school\"],[\"some college\"],[\"some high school\"],[\"bachelor's degree\"],[\"bachelor's degree\"],[\"some high school\"],[\"some college\"],[\"associate's degree\"],[\"some college\"],[\"some college\"],[\"high school\"],[\"associate's degree\"],[\"bachelor's degree\"],[\"bachelor's degree\"],[\"associate's degree\"],[\"some college\"],[\"high school\"],[\"high school\"],[\"high school\"],[\"associate's degree\"],[\"high school\"],[\"associate's degree\"],[\"some college\"],[\"associate's degree\"],[\"some high school\"],[\"some high school\"],[\"some college\"],[\"high school\"],[\"associate's degree\"],[\"some college\"],[\"some college\"],[\"high school\"],[\"some college\"],[\"high school\"],[\"some college\"],[\"bachelor's degree\"],[\"high school\"],[\"some high school\"],[\"some college\"],[\"some high school\"],[\"bachelor's degree\"],[\"some high school\"],[\"some college\"],[\"master's degree\"],[\"some college\"],[\"associate's degree\"],[\"some college\"],[\"some high school\"],[\"some college\"],[\"bachelor's degree\"],[\"high school\"],[\"high school\"],[\"some college\"],[\"high school\"],[\"high school\"],[\"some high school\"],[\"some college\"],[\"high school\"],[\"associate's degree\"],[\"some college\"],[\"high school\"],[\"associate's degree\"],[\"high school\"],[\"some college\"],[\"some high school\"],[\"master's degree\"],[\"bachelor's degree\"],[\"high school\"],[\"high school\"],[\"associate's degree\"],[\"some high school\"],[\"bachelor's degree\"],[\"high school\"],[\"high school\"],[\"high school\"],[\"master's degree\"],[\"high school\"],[\"some high school\"],[\"some high school\"],[\"some college\"],[\"some college\"],[\"bachelor's degree\"],[\"high school\"],[\"high school\"],[\"some college\"],[\"master's degree\"],[\"associate's degree\"],[\"associate's degree\"],[\"bachelor's degree\"],[\"some college\"],[\"high school\"],[\"high school\"],[\"associate's degree\"],[\"some high school\"],[\"high school\"],[\"some college\"],[\"associate's degree\"],[\"some college\"],[\"master's degree\"],[\"some high school\"],[\"high school\"],[\"high school\"],[\"some college\"],[\"associate's degree\"],[\"some college\"],[\"some college\"],[\"some high school\"],[\"some college\"],[\"some college\"],[\"some college\"],[\"associate's degree\"],[\"associate's degree\"],[\"bachelor's degree\"],[\"high school\"],[\"high school\"]],\"hovertemplate\":\"grade=B-<br>reading_score=%{x}<br>writing_score=%{y}<br>math_score=%{marker.size}<br>parent_edu=%{customdata[0]}<extra></extra>\",\"legendgroup\":\"B-\",\"marker\":{\"color\":\"#FFA15A\",\"size\":[64,66,65,70,62,63,56,58,59,55,57,67,60,58,63,61,62,72,58,65,63,58,65,58,66,52,70,55,72,70,59,71,59,73,62,59,62,66,63,52,62,65,65,62,66,62,77,59,57,82,58,56,55,52,68,76,63,64,73,58,65,68,60,62,64,69,65,59,73,67,69,53,66,67,68,59,71,63,56,61,71,61,61,67,52,59,61,63,59,61,45,59,66,64,57,62,73,76,74,63,65,71,63,51,68,62,69,68,64,61,73,75,59,69,72,75,72,63,59,76,55,68,60,64,54,68,66,68,69,68,62,68,62,73,64,72,62,77,55,61,53,73,61,68,53,55,54,71,68,56,75,61,58,69,58,60,65,62,61,69,67,79,71,70,59,64,65,62,77,69,73,55,65,80,63,73,66,63,60,62,59,66,57,63,59,62,60,62,67,53,59,69,71,68,70,53,62,60,58,76,52,66,66,68,60,66,57,70,69,67,54,61,60,62,56,65,64,60,73,59,71,61,82,62,75,80,63,64,54,69,50,59,67,70,68,69,72,54,74,65,62,61,70,72,61,58,57,62,72,72,62,66,63,54,60,62,55,62,63,59],\"sizemode\":\"area\",\"sizeref\":0.25,\"symbol\":\"circle\"},\"mode\":\"markers\",\"name\":\"B-\",\"orientation\":\"v\",\"showlegend\":true,\"x\":[64,69,75,70,70,65,72,73,65,65,74,64,72,63,55,74,68,64,70,66,72,67,67,67,63,76,64,69,68,55,66,61,62,68,67,70,67,62,67,70,68,69,67,66,65,64,62,69,69,62,61,68,65,66,72,64,66,60,68,70,64,60,70,73,73,63,70,63,56,62,67,71,60,61,67,64,66,71,65,61,60,68,73,72,65,71,72,61,62,66,73,70,64,73,78,64,67,67,63,73,65,66,67,72,59,67,71,63,66,72,66,68,73,66,65,58,67,69,67,62,64,68,75,64,64,64,69,70,58,60,74,67,61,69,63,67,67,62,72,67,70,66,71,68,61,73,64,62,68,79,72,64,63,60,59,68,73,63,58,70,64,60,74,65,70,62,70,67,67,66,66,71,69,63,73,74,76,61,68,66,72,66,67,64,63,72,70,72,57,66,73,64,69,72,68,72,62,63,75,62,67,65,72,65,66,74,68,70,60,73,64,70,72,67,68,69,60,64,64,72,67,68,67,64,68,64,64,73,72,65,67,62,54,64,70,70,66,65,64,61,57,71,63,66,62,68,75,69,57,57,70,68,63,63,62,65,76,72,63,71],\"xaxis\":\"x\",\"y\":[67,63,70,65,75,61,65,68,66,62,76,61,74,73,63,72,68,63,67,62,70,62,62,72,64,70,72,65,67,56,67,69,64,66,69,66,61,64,70,62,75,70,65,68,69,66,62,65,68,62,66,74,62,73,64,66,67,74,66,68,62,53,70,70,68,61,71,75,57,60,69,67,57,68,69,75,65,69,63,62,61,66,63,67,69,70,70,61,61,61,70,73,62,70,67,64,59,67,57,68,63,60,67,79,62,62,65,54,59,70,66,64,69,60,68,62,65,74,61,66,70,61,74,70,68,66,68,66,57,59,70,73,58,68,66,64,64,64,79,66,70,62,78,67,68,73,65,50,64,72,62,62,65,63,66,72,68,56,62,63,70,65,64,60,65,68,74,67,64,61,63,69,67,63,71,61,68,60,60,68,70,59,72,67,64,65,74,70,59,73,72,68,68,65,72,64,63,59,77,60,72,60,70,61,70,69,73,70,54,68,67,76,68,58,70,76,58,74,57,68,67,63,61,55,65,66,66,71,59,74,73,69,63,70,66,67,66,65,60,71,62,73,58,72,61,61,73,69,62,58,72,64,60,67,60,58,76,74,62,65],\"yaxis\":\"y\",\"type\":\"scatter\"},{\"customdata\":[[\"associate's degree\"],[\"master's degree\"],[\"associate's degree\"],[\"some college\"],[\"some college\"],[\"some high school\"],[\"associate's degree\"],[\"associate's degree\"],[\"associate's degree\"],[\"associate's degree\"],[\"associate's degree\"],[\"some college\"],[\"associate's degree\"],[\"some college\"],[\"associate's degree\"],[\"some high school\"],[\"associate's degree\"],[\"associate's degree\"],[\"some high school\"],[\"some college\"],[\"high school\"],[\"high school\"],[\"associate's degree\"],[\"some college\"],[\"some high school\"],[\"high school\"],[\"bachelor's degree\"],[\"bachelor's degree\"],[\"some college\"],[\"some college\"],[\"master's degree\"],[\"high school\"],[\"high school\"],[\"high school\"],[\"some college\"],[\"associate's degree\"],[\"high school\"],[\"some college\"],[\"high school\"],[\"associate's degree\"],[\"some high school\"],[\"master's degree\"],[\"high school\"],[\"some college\"],[\"high school\"],[\"some college\"],[\"high school\"],[\"associate's degree\"],[\"some high school\"],[\"some high school\"],[\"high school\"],[\"associate's degree\"],[\"high school\"],[\"some college\"],[\"some college\"],[\"associate's degree\"],[\"some college\"],[\"high school\"],[\"some college\"],[\"some college\"],[\"bachelor's degree\"],[\"high school\"],[\"some high school\"],[\"associate's degree\"],[\"high school\"],[\"some high school\"],[\"some high school\"],[\"some college\"],[\"high school\"],[\"high school\"],[\"high school\"],[\"high school\"],[\"master's degree\"],[\"some high school\"],[\"high school\"],[\"some high school\"],[\"some college\"],[\"high school\"],[\"some college\"],[\"associate's degree\"],[\"associate's degree\"],[\"bachelor's degree\"],[\"some college\"],[\"associate's degree\"],[\"high school\"],[\"associate's degree\"],[\"some college\"],[\"some high school\"],[\"some college\"],[\"some college\"],[\"master's degree\"],[\"bachelor's degree\"],[\"some high school\"],[\"some high school\"],[\"some high school\"],[\"some college\"],[\"master's degree\"],[\"high school\"],[\"some high school\"],[\"some high school\"],[\"associate's degree\"],[\"high school\"],[\"high school\"],[\"some college\"],[\"high school\"],[\"some college\"],[\"some college\"],[\"bachelor's degree\"],[\"some high school\"],[\"some college\"],[\"some high school\"],[\"master's degree\"],[\"high school\"],[\"master's degree\"],[\"high school\"],[\"associate's degree\"],[\"some college\"],[\"high school\"],[\"some high school\"],[\"associate's degree\"],[\"some high school\"],[\"associate's degree\"],[\"some college\"],[\"high school\"],[\"high school\"],[\"associate's degree\"],[\"some high school\"],[\"some college\"],[\"associate's degree\"],[\"some high school\"],[\"some high school\"],[\"some college\"],[\"high school\"],[\"some college\"],[\"bachelor's degree\"],[\"associate's degree\"],[\"some college\"],[\"some college\"],[\"some high school\"],[\"some college\"],[\"some high school\"],[\"associate's degree\"],[\"associate's degree\"],[\"master's degree\"],[\"high school\"],[\"associate's degree\"],[\"bachelor's degree\"],[\"bachelor's degree\"],[\"some college\"],[\"some high school\"],[\"some high school\"],[\"some college\"],[\"some college\"],[\"associate's degree\"],[\"some high school\"],[\"some high school\"],[\"high school\"],[\"associate's degree\"],[\"high school\"],[\"associate's degree\"],[\"high school\"],[\"bachelor's degree\"],[\"some high school\"],[\"associate's degree\"],[\"high school\"],[\"bachelor's degree\"],[\"bachelor's degree\"],[\"associate's degree\"],[\"high school\"],[\"associate's degree\"],[\"some high school\"],[\"associate's degree\"],[\"high school\"],[\"associate's degree\"],[\"some college\"],[\"some high school\"],[\"high school\"],[\"high school\"],[\"some college\"],[\"some high school\"],[\"high school\"],[\"some college\"],[\"high school\"],[\"high school\"]],\"hovertemplate\":\"grade=C<br>reading_score=%{x}<br>writing_score=%{y}<br>math_score=%{marker.size}<br>parent_edu=%{customdata[0]}<extra></extra>\",\"legendgroup\":\"C\",\"marker\":{\"color\":\"#19d3f3\",\"size\":[58,50,54,44,69,50,57,55,53,50,65,53,52,58,62,59,61,39,61,50,60,62,54,51,51,63,51,58,42,60,49,52,53,46,46,61,55,45,42,60,61,45,57,54,56,59,54,47,63,56,49,62,58,62,66,46,42,58,52,59,49,69,44,57,50,60,59,49,54,52,57,57,47,65,61,47,50,70,65,53,53,53,54,52,59,49,61,64,54,63,40,55,64,62,54,71,54,53,56,47,51,51,63,53,50,61,48,44,48,58,53,54,60,40,58,61,49,50,51,43,50,52,50,62,53,49,49,66,42,55,68,53,61,55,50,58,55,52,48,58,49,46,52,52,48,52,59,45,49,48,68,61,58,58,64,40,64,53,59,49,59,43,57,51,57,52,47,46,44,64,48,67,57,54,49,49,58,45,56,48,53,49,57,62],\"sizemode\":\"area\",\"sizeref\":0.25,\"symbol\":\"circle\"},\"mode\":\"markers\",\"name\":\"C\",\"orientation\":\"v\",\"showlegend\":true,\"x\":[54,53,58,54,54,64,56,61,58,56,54,55,55,59,61,58,58,64,57,47,44,55,53,58,63,57,49,55,55,60,53,53,51,54,64,55,56,53,62,51,56,56,50,52,52,51,52,53,60,54,57,56,61,61,57,58,66,62,58,60,58,58,64,54,67,59,54,65,59,57,56,58,58,59,56,59,48,56,58,61,54,58,54,59,52,52,47,53,48,61,59,59,50,49,61,49,59,52,61,54,60,66,48,62,66,51,56,63,66,57,54,60,57,58,51,48,57,53,56,60,60,57,64,55,58,53,63,59,61,59,51,58,60,55,60,55,58,59,58,60,58,56,59,65,62,55,54,59,52,58,54,60,50,57,58,65,54,62,53,51,58,62,61,51,48,61,62,61,61,56,56,57,58,61,58,50,52,63,58,54,50,65,51,55],\"xaxis\":\"x\",\"y\":[52,58,61,53,55,59,57,54,65,54,57,48,49,58,55,59,56,57,56,54,47,49,47,54,61,56,51,48,54,60,52,49,51,58,66,52,51,55,60,56,56,54,54,51,55,43,52,58,57,52,52,53,52,57,52,57,69,59,58,58,60,53,58,56,63,54,67,55,62,56,54,64,67,53,55,50,53,51,49,62,48,55,45,56,46,54,56,57,52,54,54,54,43,52,62,52,50,49,60,53,58,62,47,56,64,52,58,62,65,54,48,63,51,54,52,46,46,55,53,58,60,50,66,54,44,53,56,52,58,59,57,57,55,47,59,53,52,65,54,57,55,57,62,61,60,57,51,64,51,52,53,57,45,53,51,64,50,53,52,51,47,61,54,54,51,66,66,55,52,52,51,53,57,58,60,52,54,59,64,53,60,61,54,55],\"yaxis\":\"y\",\"type\":\"scatter\"},{\"customdata\":[[\"some high school\"],[\"some college\"],[\"high school\"],[\"some high school\"],[\"some high school\"],[\"some high school\"],[\"some high school\"],[\"high school\"],[\"high school\"],[\"some college\"],[\"some college\"],[\"high school\"],[\"some college\"],[\"associate's degree\"],[\"some high school\"],[\"some high school\"],[\"some college\"],[\"associate's degree\"],[\"bachelor's degree\"],[\"some college\"],[\"high school\"],[\"high school\"],[\"bachelor's degree\"],[\"some high school\"],[\"high school\"],[\"some college\"],[\"some high school\"],[\"high school\"],[\"bachelor's degree\"],[\"some high school\"],[\"high school\"],[\"high school\"]],\"hovertemplate\":\"grade=F<br>reading_score=%{x}<br>writing_score=%{y}<br>math_score=%{marker.size}<br>parent_edu=%{customdata[0]}<extra></extra>\",\"legendgroup\":\"F\",\"marker\":{\"color\":\"#FF6692\",\"size\":[18,40,33,0,39,45,30,42,27,22,35,34,28,47,24,27,41,26,29,32,30,29,37,29,46,19,51,23,39,32,36,8],\"sizemode\":\"area\",\"sizeref\":0.25,\"symbol\":\"circle\"},\"mode\":\"markers\",\"name\":\"F\",\"orientation\":\"v\",\"showlegend\":true,\"x\":[32,42,41,17,39,37,26,39,34,39,28,42,23,37,38,34,39,31,41,39,24,29,45,40,34,38,31,44,42,34,29,24],\"xaxis\":\"x\",\"y\":[28,38,43,10,34,37,22,34,36,33,27,39,19,35,27,32,34,38,47,33,15,30,38,44,36,32,36,36,38,38,27,23],\"yaxis\":\"y\",\"type\":\"scatter\"}],                        {\"template\":{\"data\":{\"bar\":[{\"error_x\":{\"color\":\"#2a3f5f\"},\"error_y\":{\"color\":\"#2a3f5f\"},\"marker\":{\"line\":{\"color\":\"#E5ECF6\",\"width\":0.5},\"pattern\":{\"fillmode\":\"overlay\",\"size\":10,\"solidity\":0.2}},\"type\":\"bar\"}],\"barpolar\":[{\"marker\":{\"line\":{\"color\":\"#E5ECF6\",\"width\":0.5},\"pattern\":{\"fillmode\":\"overlay\",\"size\":10,\"solidity\":0.2}},\"type\":\"barpolar\"}],\"carpet\":[{\"aaxis\":{\"endlinecolor\":\"#2a3f5f\",\"gridcolor\":\"white\",\"linecolor\":\"white\",\"minorgridcolor\":\"white\",\"startlinecolor\":\"#2a3f5f\"},\"baxis\":{\"endlinecolor\":\"#2a3f5f\",\"gridcolor\":\"white\",\"linecolor\":\"white\",\"minorgridcolor\":\"white\",\"startlinecolor\":\"#2a3f5f\"},\"type\":\"carpet\"}],\"choropleth\":[{\"colorbar\":{\"outlinewidth\":0,\"ticks\":\"\"},\"type\":\"choropleth\"}],\"contour\":[{\"colorbar\":{\"outlinewidth\":0,\"ticks\":\"\"},\"colorscale\":[[0.0,\"#0d0887\"],[0.1111111111111111,\"#46039f\"],[0.2222222222222222,\"#7201a8\"],[0.3333333333333333,\"#9c179e\"],[0.4444444444444444,\"#bd3786\"],[0.5555555555555556,\"#d8576b\"],[0.6666666666666666,\"#ed7953\"],[0.7777777777777778,\"#fb9f3a\"],[0.8888888888888888,\"#fdca26\"],[1.0,\"#f0f921\"]],\"type\":\"contour\"}],\"contourcarpet\":[{\"colorbar\":{\"outlinewidth\":0,\"ticks\":\"\"},\"type\":\"contourcarpet\"}],\"heatmap\":[{\"colorbar\":{\"outlinewidth\":0,\"ticks\":\"\"},\"colorscale\":[[0.0,\"#0d0887\"],[0.1111111111111111,\"#46039f\"],[0.2222222222222222,\"#7201a8\"],[0.3333333333333333,\"#9c179e\"],[0.4444444444444444,\"#bd3786\"],[0.5555555555555556,\"#d8576b\"],[0.6666666666666666,\"#ed7953\"],[0.7777777777777778,\"#fb9f3a\"],[0.8888888888888888,\"#fdca26\"],[1.0,\"#f0f921\"]],\"type\":\"heatmap\"}],\"heatmapgl\":[{\"colorbar\":{\"outlinewidth\":0,\"ticks\":\"\"},\"colorscale\":[[0.0,\"#0d0887\"],[0.1111111111111111,\"#46039f\"],[0.2222222222222222,\"#7201a8\"],[0.3333333333333333,\"#9c179e\"],[0.4444444444444444,\"#bd3786\"],[0.5555555555555556,\"#d8576b\"],[0.6666666666666666,\"#ed7953\"],[0.7777777777777778,\"#fb9f3a\"],[0.8888888888888888,\"#fdca26\"],[1.0,\"#f0f921\"]],\"type\":\"heatmapgl\"}],\"histogram\":[{\"marker\":{\"pattern\":{\"fillmode\":\"overlay\",\"size\":10,\"solidity\":0.2}},\"type\":\"histogram\"}],\"histogram2d\":[{\"colorbar\":{\"outlinewidth\":0,\"ticks\":\"\"},\"colorscale\":[[0.0,\"#0d0887\"],[0.1111111111111111,\"#46039f\"],[0.2222222222222222,\"#7201a8\"],[0.3333333333333333,\"#9c179e\"],[0.4444444444444444,\"#bd3786\"],[0.5555555555555556,\"#d8576b\"],[0.6666666666666666,\"#ed7953\"],[0.7777777777777778,\"#fb9f3a\"],[0.8888888888888888,\"#fdca26\"],[1.0,\"#f0f921\"]],\"type\":\"histogram2d\"}],\"histogram2dcontour\":[{\"colorbar\":{\"outlinewidth\":0,\"ticks\":\"\"},\"colorscale\":[[0.0,\"#0d0887\"],[0.1111111111111111,\"#46039f\"],[0.2222222222222222,\"#7201a8\"],[0.3333333333333333,\"#9c179e\"],[0.4444444444444444,\"#bd3786\"],[0.5555555555555556,\"#d8576b\"],[0.6666666666666666,\"#ed7953\"],[0.7777777777777778,\"#fb9f3a\"],[0.8888888888888888,\"#fdca26\"],[1.0,\"#f0f921\"]],\"type\":\"histogram2dcontour\"}],\"mesh3d\":[{\"colorbar\":{\"outlinewidth\":0,\"ticks\":\"\"},\"type\":\"mesh3d\"}],\"parcoords\":[{\"line\":{\"colorbar\":{\"outlinewidth\":0,\"ticks\":\"\"}},\"type\":\"parcoords\"}],\"pie\":[{\"automargin\":true,\"type\":\"pie\"}],\"scatter\":[{\"marker\":{\"colorbar\":{\"outlinewidth\":0,\"ticks\":\"\"}},\"type\":\"scatter\"}],\"scatter3d\":[{\"line\":{\"colorbar\":{\"outlinewidth\":0,\"ticks\":\"\"}},\"marker\":{\"colorbar\":{\"outlinewidth\":0,\"ticks\":\"\"}},\"type\":\"scatter3d\"}],\"scattercarpet\":[{\"marker\":{\"colorbar\":{\"outlinewidth\":0,\"ticks\":\"\"}},\"type\":\"scattercarpet\"}],\"scattergeo\":[{\"marker\":{\"colorbar\":{\"outlinewidth\":0,\"ticks\":\"\"}},\"type\":\"scattergeo\"}],\"scattergl\":[{\"marker\":{\"colorbar\":{\"outlinewidth\":0,\"ticks\":\"\"}},\"type\":\"scattergl\"}],\"scattermapbox\":[{\"marker\":{\"colorbar\":{\"outlinewidth\":0,\"ticks\":\"\"}},\"type\":\"scattermapbox\"}],\"scatterpolar\":[{\"marker\":{\"colorbar\":{\"outlinewidth\":0,\"ticks\":\"\"}},\"type\":\"scatterpolar\"}],\"scatterpolargl\":[{\"marker\":{\"colorbar\":{\"outlinewidth\":0,\"ticks\":\"\"}},\"type\":\"scatterpolargl\"}],\"scatterternary\":[{\"marker\":{\"colorbar\":{\"outlinewidth\":0,\"ticks\":\"\"}},\"type\":\"scatterternary\"}],\"surface\":[{\"colorbar\":{\"outlinewidth\":0,\"ticks\":\"\"},\"colorscale\":[[0.0,\"#0d0887\"],[0.1111111111111111,\"#46039f\"],[0.2222222222222222,\"#7201a8\"],[0.3333333333333333,\"#9c179e\"],[0.4444444444444444,\"#bd3786\"],[0.5555555555555556,\"#d8576b\"],[0.6666666666666666,\"#ed7953\"],[0.7777777777777778,\"#fb9f3a\"],[0.8888888888888888,\"#fdca26\"],[1.0,\"#f0f921\"]],\"type\":\"surface\"}],\"table\":[{\"cells\":{\"fill\":{\"color\":\"#EBF0F8\"},\"line\":{\"color\":\"white\"}},\"header\":{\"fill\":{\"color\":\"#C8D4E3\"},\"line\":{\"color\":\"white\"}},\"type\":\"table\"}]},\"layout\":{\"annotationdefaults\":{\"arrowcolor\":\"#2a3f5f\",\"arrowhead\":0,\"arrowwidth\":1},\"autotypenumbers\":\"strict\",\"coloraxis\":{\"colorbar\":{\"outlinewidth\":0,\"ticks\":\"\"}},\"colorscale\":{\"diverging\":[[0,\"#8e0152\"],[0.1,\"#c51b7d\"],[0.2,\"#de77ae\"],[0.3,\"#f1b6da\"],[0.4,\"#fde0ef\"],[0.5,\"#f7f7f7\"],[0.6,\"#e6f5d0\"],[0.7,\"#b8e186\"],[0.8,\"#7fbc41\"],[0.9,\"#4d9221\"],[1,\"#276419\"]],\"sequential\":[[0.0,\"#0d0887\"],[0.1111111111111111,\"#46039f\"],[0.2222222222222222,\"#7201a8\"],[0.3333333333333333,\"#9c179e\"],[0.4444444444444444,\"#bd3786\"],[0.5555555555555556,\"#d8576b\"],[0.6666666666666666,\"#ed7953\"],[0.7777777777777778,\"#fb9f3a\"],[0.8888888888888888,\"#fdca26\"],[1.0,\"#f0f921\"]],\"sequentialminus\":[[0.0,\"#0d0887\"],[0.1111111111111111,\"#46039f\"],[0.2222222222222222,\"#7201a8\"],[0.3333333333333333,\"#9c179e\"],[0.4444444444444444,\"#bd3786\"],[0.5555555555555556,\"#d8576b\"],[0.6666666666666666,\"#ed7953\"],[0.7777777777777778,\"#fb9f3a\"],[0.8888888888888888,\"#fdca26\"],[1.0,\"#f0f921\"]]},\"colorway\":[\"#636efa\",\"#EF553B\",\"#00cc96\",\"#ab63fa\",\"#FFA15A\",\"#19d3f3\",\"#FF6692\",\"#B6E880\",\"#FF97FF\",\"#FECB52\"],\"font\":{\"color\":\"#2a3f5f\"},\"geo\":{\"bgcolor\":\"white\",\"lakecolor\":\"white\",\"landcolor\":\"#E5ECF6\",\"showlakes\":true,\"showland\":true,\"subunitcolor\":\"white\"},\"hoverlabel\":{\"align\":\"left\"},\"hovermode\":\"closest\",\"mapbox\":{\"style\":\"light\"},\"paper_bgcolor\":\"white\",\"plot_bgcolor\":\"#E5ECF6\",\"polar\":{\"angularaxis\":{\"gridcolor\":\"white\",\"linecolor\":\"white\",\"ticks\":\"\"},\"bgcolor\":\"#E5ECF6\",\"radialaxis\":{\"gridcolor\":\"white\",\"linecolor\":\"white\",\"ticks\":\"\"}},\"scene\":{\"xaxis\":{\"backgroundcolor\":\"#E5ECF6\",\"gridcolor\":\"white\",\"gridwidth\":2,\"linecolor\":\"white\",\"showbackground\":true,\"ticks\":\"\",\"zerolinecolor\":\"white\"},\"yaxis\":{\"backgroundcolor\":\"#E5ECF6\",\"gridcolor\":\"white\",\"gridwidth\":2,\"linecolor\":\"white\",\"showbackground\":true,\"ticks\":\"\",\"zerolinecolor\":\"white\"},\"zaxis\":{\"backgroundcolor\":\"#E5ECF6\",\"gridcolor\":\"white\",\"gridwidth\":2,\"linecolor\":\"white\",\"showbackground\":true,\"ticks\":\"\",\"zerolinecolor\":\"white\"}},\"shapedefaults\":{\"line\":{\"color\":\"#2a3f5f\"}},\"ternary\":{\"aaxis\":{\"gridcolor\":\"white\",\"linecolor\":\"white\",\"ticks\":\"\"},\"baxis\":{\"gridcolor\":\"white\",\"linecolor\":\"white\",\"ticks\":\"\"},\"bgcolor\":\"#E5ECF6\",\"caxis\":{\"gridcolor\":\"white\",\"linecolor\":\"white\",\"ticks\":\"\"}},\"title\":{\"x\":0.05},\"xaxis\":{\"automargin\":true,\"gridcolor\":\"white\",\"linecolor\":\"white\",\"ticks\":\"\",\"title\":{\"standoff\":15},\"zerolinecolor\":\"white\",\"zerolinewidth\":2},\"yaxis\":{\"automargin\":true,\"gridcolor\":\"white\",\"linecolor\":\"white\",\"ticks\":\"\",\"title\":{\"standoff\":15},\"zerolinecolor\":\"white\",\"zerolinewidth\":2}}},\"xaxis\":{\"anchor\":\"y\",\"domain\":[0.0,1.0],\"title\":{\"text\":\"reading_score\"}},\"yaxis\":{\"anchor\":\"x\",\"domain\":[0.0,1.0],\"title\":{\"text\":\"writing_score\"}},\"legend\":{\"title\":{\"text\":\"grade\"},\"tracegroupgap\":0,\"itemsizing\":\"constant\"},\"title\":{\"text\":\"Bubble Chart\"}},                        {\"responsive\": true}                    ).then(function(){\n",
              "                            \n",
              "var gd = document.getElementById('9673653e-cae6-4f5f-b4ff-c17647734e10');\n",
              "var x = new MutationObserver(function (mutations, observer) {{\n",
              "        var display = window.getComputedStyle(gd).display;\n",
              "        if (!display || display === 'none') {{\n",
              "            console.log([gd, 'removed!']);\n",
              "            Plotly.purge(gd);\n",
              "            observer.disconnect();\n",
              "        }}\n",
              "}});\n",
              "\n",
              "// Listen for the removal of the full notebook cells\n",
              "var notebookContainer = gd.closest('#notebook-container');\n",
              "if (notebookContainer) {{\n",
              "    x.observe(notebookContainer, {childList: true});\n",
              "}}\n",
              "\n",
              "// Listen for the clearing of the current output cell\n",
              "var outputEl = gd.closest('.output');\n",
              "if (outputEl) {{\n",
              "    x.observe(outputEl, {childList: true});\n",
              "}}\n",
              "\n",
              "                        })                };                            </script>        </div>\n",
              "</body>\n",
              "</html>"
            ]
          },
          "metadata": {}
        }
      ]
    },
    {
      "cell_type": "code",
      "source": [
        "fig = px.scatter_3d(df, x='math_score', y='reading_score',\n",
        "                    z='writing_score', color='race',\n",
        "                    title='Distribution Learning Score with Race')\n",
        "fig.show()"
      ],
      "metadata": {
        "colab": {
          "base_uri": "https://localhost:8080/",
          "height": 542
        },
        "id": "dDtlq5QJzN_K",
        "outputId": "9bea3b0d-222e-427d-c967-1e928002c44a"
      },
      "execution_count": 42,
      "outputs": [
        {
          "output_type": "display_data",
          "data": {
            "text/html": [
              "<html>\n",
              "<head><meta charset=\"utf-8\" /></head>\n",
              "<body>\n",
              "    <div>            <script src=\"https://cdnjs.cloudflare.com/ajax/libs/mathjax/2.7.5/MathJax.js?config=TeX-AMS-MML_SVG\"></script><script type=\"text/javascript\">if (window.MathJax) {MathJax.Hub.Config({SVG: {font: \"STIX-Web\"}});}</script>                <script type=\"text/javascript\">window.PlotlyConfig = {MathJaxConfig: 'local'};</script>\n",
              "        <script src=\"https://cdn.plot.ly/plotly-2.8.3.min.js\"></script>                <div id=\"b264134c-f9b6-4109-a6c6-51c74938f0c0\" class=\"plotly-graph-div\" style=\"height:525px; width:100%;\"></div>            <script type=\"text/javascript\">                                    window.PLOTLYENV=window.PLOTLYENV || {};                                    if (document.getElementById(\"b264134c-f9b6-4109-a6c6-51c74938f0c0\")) {                    Plotly.newPlot(                        \"b264134c-f9b6-4109-a6c6-51c74938f0c0\",                        [{\"hovertemplate\":\"race=group B<br>math_score=%{x}<br>reading_score=%{y}<br>writing_score=%{z}<extra></extra>\",\"legendgroup\":\"group B\",\"marker\":{\"color\":\"#636efa\",\"symbol\":\"circle\"},\"mode\":\"markers\",\"name\":\"group B\",\"scene\":\"scene\",\"showlegend\":true,\"x\":[72,90,71,88,40,38,65,18,65,69,63,57,53,59,65,67,61,44,47,49,79,65,79,60,52,70,75,91,87,72,51,88,59,60,61,82,49,58,68,46,52,48,62,45,78,57,74,58,84,66,61,87,52,67,54,58,65,60,70,88,73,37,81,67,88,67,80,53,73,66,63,41,90,61,24,69,62,52,61,58,85,80,50,74,65,82,63,41,73,47,81,72,54,90,73,49,64,54,66,94,82,55,54,77,67,73,87,40,53,48,48,63,71,81,48,30,58,62,69,79,66,67,72,70,65,50,73,62,77,50,60,62,62,57,59,60,76,74,47,68,53,55,87,69,62,74,76,52,52,66,49,66,77,76,32,19,48,42,82,59,94,60,71,68,77,58,58,23,74,97,75,52,61,59,82,64,36,63,57,46,91,54,58,82,49,75,60,8,79,65],\"y\":[72,95,83,95,43,60,81,32,75,54,65,56,58,65,54,64,58,41,49,45,86,66,67,44,76,64,85,89,95,68,54,84,70,60,86,78,53,76,83,54,70,52,64,53,79,69,81,61,83,77,56,85,66,86,52,70,64,70,75,85,56,46,82,89,75,62,76,71,76,60,71,55,78,68,38,76,61,65,72,62,84,86,67,63,65,80,67,39,83,46,73,65,54,90,71,52,53,64,69,87,82,59,61,97,78,69,90,48,70,51,43,48,75,91,56,24,63,63,70,60,74,80,81,65,81,53,79,67,85,64,68,55,66,67,63,70,94,90,43,77,66,55,84,77,62,72,62,48,67,65,58,72,90,85,51,38,62,52,85,54,86,72,87,54,82,50,57,44,77,97,68,49,42,58,84,73,29,78,48,61,96,65,68,82,50,84,62,24,85,82],\"z\":[74,93,78,92,39,50,73,28,70,55,61,57,65,66,57,61,56,38,50,45,92,62,67,47,70,72,82,92,86,67,41,75,66,60,87,74,52,78,78,58,62,45,66,55,76,68,76,66,75,70,56,73,73,83,51,68,62,70,78,76,57,46,82,82,76,60,64,67,80,57,69,51,81,66,27,74,57,69,70,59,78,83,63,57,63,77,67,34,76,42,72,68,45,91,68,54,57,68,68,92,80,54,62,94,79,68,88,50,70,46,45,47,70,89,58,15,65,56,63,65,81,81,79,60,81,55,79,67,87,66,60,54,68,72,64,74,87,88,41,80,73,47,86,77,63,72,60,49,72,60,55,70,84,82,44,32,60,51,87,51,87,68,82,53,89,45,53,36,76,96,65,46,41,47,78,71,27,79,51,55,91,65,61,80,52,80,60,23,86,78],\"type\":\"scatter3d\"},{\"hovertemplate\":\"race=group C<br>math_score=%{x}<br>reading_score=%{y}<br>writing_score=%{z}<extra></extra>\",\"legendgroup\":\"group C\",\"marker\":{\"color\":\"#EF553B\",\"symbol\":\"circle\"},\"mode\":\"markers\",\"name\":\"group C\",\"scene\":\"scene\",\"showlegend\":true,\"x\":[69,76,58,69,88,46,54,69,67,70,55,58,66,82,53,71,33,0,69,60,39,61,49,73,76,65,27,71,43,78,98,58,62,84,55,79,88,53,75,58,59,59,22,73,70,52,96,53,67,63,43,81,71,62,46,45,65,77,69,59,67,69,59,35,42,60,34,55,72,88,46,83,84,85,68,64,78,65,64,79,44,63,69,58,83,85,65,76,63,40,67,74,51,68,59,71,83,67,71,43,41,82,61,82,71,47,83,49,58,61,72,77,63,46,59,42,52,59,69,61,45,87,79,57,57,65,85,59,54,63,51,71,74,82,62,86,69,68,64,61,61,73,50,70,67,67,86,64,65,65,53,37,53,77,84,91,83,63,68,68,70,60,64,83,81,54,63,79,86,76,91,54,53,56,36,62,68,47,66,51,75,81,72,62,79,79,32,55,61,63,96,53,50,65,44,54,58,92,56,29,75,85,40,58,94,65,60,65,35,58,44,75,51,77,74,73,65,50,63,73,66,69,65,70,29,49,66,49,75,66,66,93,73,96,76,62,50,53,87,67,92,61,81,59,69,50,79,77,58,53,58,62,35,52,91,68,52,52,67,76,73,90,54,72,77,48,62,56,65,74,60,66,64,91,59,71,62,65,87,53,71,97,59,49,70,43,80,57,63,62,54,73,67,52,47,44,57,35,48,67,70,98,72,81,54,58,62,84,75,65,63,78,64,62,91,74,40,62,59],\"y\":[90,78,54,75,89,42,58,73,69,70,61,73,71,84,44,84,41,17,80,72,64,57,49,80,83,72,34,79,45,81,86,67,55,77,69,92,93,37,81,55,66,62,39,68,89,53,100,51,75,67,51,91,77,68,64,52,67,88,84,69,84,77,41,28,62,51,42,65,72,95,43,82,80,76,60,73,77,81,79,79,50,75,63,49,78,92,86,70,60,46,84,75,52,67,64,66,72,79,81,53,46,90,61,75,60,37,93,51,61,73,80,94,78,58,71,66,58,60,58,66,73,100,81,78,54,74,89,54,59,73,72,74,73,93,67,83,71,63,66,72,56,66,48,56,81,74,81,85,77,58,61,56,58,90,87,74,85,69,86,68,74,75,64,83,88,48,61,78,92,87,86,59,52,61,53,74,67,54,83,60,69,77,67,67,72,76,39,72,67,74,90,62,66,76,63,64,57,100,79,29,72,84,58,59,90,77,68,73,61,51,51,88,56,67,77,66,69,60,73,74,76,78,84,82,40,53,74,63,82,66,59,84,78,96,76,72,48,39,89,57,79,60,84,73,64,60,77,90,55,72,75,78,44,59,81,65,65,55,73,80,76,75,64,80,91,58,67,68,69,86,64,77,58,85,72,67,64,79,73,62,71,93,53,51,72,62,64,61,64,76,72,78,75,61,62,61,77,53,56,74,75,87,66,66,61,52,69,87,81,76,63,72,82,65,95,75,59,55,71],\"z\":[88,75,52,78,86,46,61,73,75,65,54,68,76,82,42,87,43,10,71,74,57,56,41,82,88,74,36,71,50,82,90,72,49,74,65,89,93,40,84,48,67,64,33,66,88,49,100,51,70,70,54,87,77,75,66,49,65,87,85,65,86,69,42,27,60,56,39,62,71,94,42,84,80,71,53,68,77,81,77,78,51,81,61,42,73,93,80,68,57,50,81,83,44,69,75,65,78,84,80,53,43,94,62,77,61,35,95,43,52,63,75,95,80,57,70,69,58,58,53,61,70,95,71,67,56,77,95,67,62,68,79,68,67,93,62,86,65,54,59,70,55,66,53,51,79,77,80,85,74,49,62,47,55,91,91,76,90,74,84,61,71,74,70,90,90,52,54,77,87,85,84,50,49,60,43,70,73,53,83,58,68,79,64,64,69,65,33,79,66,74,92,56,64,76,62,65,54,99,72,30,62,82,54,66,91,74,72,68,54,52,55,85,53,64,73,63,67,60,71,61,68,76,84,76,44,53,81,56,90,59,52,90,72,99,74,70,42,37,94,59,84,55,82,72,68,59,75,85,53,64,77,79,43,62,79,61,61,57,68,73,78,69,67,83,88,52,58,70,76,89,74,73,51,85,68,67,55,81,72,53,80,91,52,51,76,61,66,54,66,80,59,74,72,66,66,52,80,46,51,70,74,90,72,64,58,54,69,81,71,75,60,69,77,58,94,82,51,55,65],\"type\":\"scatter3d\"},{\"hovertemplate\":\"race=group A<br>math_score=%{x}<br>reading_score=%{y}<br>writing_score=%{z}<extra></extra>\",\"legendgroup\":\"group A\",\"marker\":{\"color\":\"#00cc96\",\"symbol\":\"circle\"},\"mode\":\"markers\",\"name\":\"group A\",\"scene\":\"scene\",\"showlegend\":true,\"x\":[47,78,50,73,55,39,62,41,80,50,58,54,51,57,62,77,72,68,47,46,81,69,28,63,49,44,71,66,38,48,53,49,59,65,47,59,79,75,72,77,59,79,65,68,64,97,92,91,40,61,55,48,71,53,82,100,71,68,65,53,59,87,62,55,37,58,72,75,51,45,45,85,61,64,75,61,50,34,69,67,61,56,66,53,54,78,57,44,63],\"y\":[57,72,53,74,65,39,61,51,78,47,70,53,49,43,67,67,73,72,49,41,78,67,23,61,58,64,83,64,43,45,43,65,85,59,59,73,82,58,67,88,52,82,85,70,50,92,100,96,55,51,73,66,62,54,93,96,74,80,70,58,72,84,72,46,57,60,79,81,31,47,59,90,60,60,82,68,67,48,84,57,62,58,68,50,63,87,51,45,63],\"z\":[44,70,58,72,62,34,55,48,81,54,67,47,51,47,69,68,74,64,49,43,81,69,19,61,60,58,77,62,43,41,43,55,80,53,50,69,73,62,65,85,46,82,76,66,43,86,97,92,53,52,73,65,50,48,93,86,64,76,74,44,70,87,65,43,56,57,82,74,36,49,64,92,57,58,79,63,73,41,82,53,61,64,64,60,67,91,54,45,62],\"type\":\"scatter3d\"},{\"hovertemplate\":\"race=group D<br>math_score=%{x}<br>reading_score=%{y}<br>writing_score=%{z}<extra></extra>\",\"legendgroup\":\"group D\",\"marker\":{\"color\":\"#ab63fa\",\"symbol\":\"circle\"},\"mode\":\"markers\",\"name\":\"group D\",\"scene\":\"scene\",\"showlegend\":true,\"x\":[64,40,66,44,74,62,69,40,74,50,75,57,88,52,58,59,45,58,63,61,42,71,73,58,65,68,85,87,77,51,78,51,63,65,82,89,74,71,76,88,68,54,62,66,79,97,65,62,76,77,61,65,74,80,56,86,57,76,80,63,64,73,56,75,71,80,54,76,59,69,88,47,65,53,45,73,70,86,78,90,56,49,67,77,56,76,35,67,79,75,59,80,27,73,74,82,59,80,85,62,73,77,60,88,52,87,70,71,68,57,47,75,75,89,78,69,79,53,26,59,71,80,55,52,61,68,59,74,40,76,62,74,66,71,69,29,51,79,82,64,77,73,74,63,61,68,53,81,63,73,69,69,65,54,60,84,69,88,95,100,61,49,67,84,80,76,41,74,59,69,85,69,43,90,55,80,81,52,69,81,63,67,77,77,79,57,63,46,89,42,98,81,55,73,55,81,80,72,69,71,55,52,48,78,60,68,75,46,60,66,70,64,61,78,69,39,40,64,80,39,82,81,59,64,55,69,44,88,67,65,85,93,67,88,79,50,69,72,74,65,62,61,70,85,77,78,49,75,92,45,48,72,62,89,49,55,81,67,55,62,68,77],\"y\":[64,52,69,54,71,70,74,42,81,64,90,74,78,55,59,58,37,63,55,74,39,71,86,67,67,74,91,100,89,58,82,63,57,77,82,84,79,61,72,73,75,49,67,62,86,100,69,66,83,62,55,81,71,79,68,80,50,64,75,66,60,68,52,74,83,80,52,73,42,72,92,53,70,52,48,79,78,73,77,87,54,57,61,82,65,70,55,72,73,74,62,90,34,84,74,97,70,90,95,64,70,68,59,99,57,84,71,66,59,58,58,68,66,88,81,66,89,54,31,67,76,68,64,59,47,64,78,79,59,71,49,89,78,49,58,41,66,82,95,63,62,66,75,80,71,68,61,97,73,75,77,77,82,60,57,89,60,78,81,97,48,57,64,84,92,74,52,88,70,79,86,66,60,87,71,63,72,57,77,75,61,72,78,77,89,78,64,34,87,61,100,81,59,92,47,71,73,79,75,69,58,59,58,81,63,71,73,56,66,74,70,74,70,90,86,52,65,54,75,42,82,82,72,76,46,65,51,74,54,78,84,100,84,77,84,42,70,66,70,61,57,71,63,81,68,91,58,77,100,63,54,57,70,100,65,41,78,86,76,72,78,86],\"z\":[67,43,63,53,80,75,74,38,83,59,88,76,75,49,58,59,37,73,63,72,34,74,82,62,62,74,89,100,98,54,79,61,56,74,74,82,75,69,71,78,81,47,61,64,81,100,70,68,79,62,52,77,78,79,74,75,54,66,77,67,74,66,55,69,83,72,52,68,41,77,95,58,71,42,46,84,78,70,80,75,52,52,68,91,63,69,60,67,67,66,61,89,32,85,72,96,73,82,100,64,75,77,54,100,56,85,74,60,62,64,67,64,73,82,80,60,89,48,38,61,83,72,70,56,56,66,76,82,54,73,52,84,78,52,57,47,62,80,89,66,64,62,79,80,78,67,68,96,78,80,77,73,81,63,51,90,63,83,84,99,46,46,70,80,88,73,51,90,65,81,98,61,58,85,69,63,77,50,78,78,60,74,73,73,86,79,67,36,79,58,99,84,59,84,44,73,72,74,71,68,52,65,54,86,59,75,74,57,70,69,70,75,76,93,81,46,64,50,69,38,88,84,80,74,44,74,48,75,63,82,89,100,84,77,91,48,67,66,69,71,62,73,58,85,69,96,60,83,100,59,53,58,72,100,61,48,78,83,76,74,77,86],\"type\":\"scatter3d\"},{\"hovertemplate\":\"race=group E<br>math_score=%{x}<br>reading_score=%{y}<br>writing_score=%{z}<extra></extra>\",\"legendgroup\":\"group E\",\"marker\":{\"color\":\"#FFA15A\",\"symbol\":\"circle\"},\"mode\":\"markers\",\"name\":\"group E\",\"scene\":\"scene\",\"showlegend\":true,\"x\":[56,97,81,50,53,77,82,79,30,62,72,63,66,99,83,87,70,42,100,66,75,81,94,50,80,66,55,82,81,87,83,45,92,80,59,89,62,99,71,59,97,77,65,71,99,75,62,87,66,84,46,38,67,64,73,76,84,84,57,100,100,71,76,76,76,95,66,68,62,79,85,78,53,92,74,77,68,74,76,61,37,61,86,74,64,73,94,85,93,73,79,80,91,81,65,68,53,68,84,70,94,72,89,57,70,69,87,41,87,49,73,90,87,82,81,78,90,71,51,93,86,85,59,32,70,68,100,74,64,46,57,57,94,74,72,100,68,81,86,88],\"y\":[72,87,81,56,55,69,85,74,26,68,64,72,63,100,80,74,55,55,100,74,88,92,88,50,76,65,56,62,80,91,86,56,87,83,51,76,73,93,76,63,82,76,73,74,87,86,56,74,57,77,43,49,76,73,67,67,83,73,56,92,100,70,62,71,71,89,74,60,61,88,66,83,45,100,81,79,68,76,78,64,45,58,76,79,62,78,99,75,90,76,81,85,73,74,75,51,58,72,95,68,85,79,84,68,84,60,94,45,84,52,64,85,85,67,86,74,90,70,51,100,85,92,62,34,64,70,100,64,56,43,58,75,73,74,57,100,76,75,81,99],\"z\":[65,82,79,54,48,68,86,72,22,68,63,70,64,100,73,70,56,54,93,78,85,91,78,47,65,69,51,62,76,81,88,54,78,83,43,74,70,90,70,75,88,77,75,68,81,79,53,76,52,71,41,45,75,70,59,67,78,69,54,97,100,76,66,67,72,92,73,59,58,94,71,80,40,100,71,80,64,73,80,62,38,62,74,80,68,76,100,68,83,78,82,85,80,71,77,57,57,65,92,72,82,77,77,73,81,54,95,40,76,51,57,84,93,61,87,72,82,70,54,95,91,85,69,38,70,66,100,60,52,44,57,73,71,72,62,100,67,76,75,95],\"type\":\"scatter3d\"}],                        {\"template\":{\"data\":{\"bar\":[{\"error_x\":{\"color\":\"#2a3f5f\"},\"error_y\":{\"color\":\"#2a3f5f\"},\"marker\":{\"line\":{\"color\":\"#E5ECF6\",\"width\":0.5},\"pattern\":{\"fillmode\":\"overlay\",\"size\":10,\"solidity\":0.2}},\"type\":\"bar\"}],\"barpolar\":[{\"marker\":{\"line\":{\"color\":\"#E5ECF6\",\"width\":0.5},\"pattern\":{\"fillmode\":\"overlay\",\"size\":10,\"solidity\":0.2}},\"type\":\"barpolar\"}],\"carpet\":[{\"aaxis\":{\"endlinecolor\":\"#2a3f5f\",\"gridcolor\":\"white\",\"linecolor\":\"white\",\"minorgridcolor\":\"white\",\"startlinecolor\":\"#2a3f5f\"},\"baxis\":{\"endlinecolor\":\"#2a3f5f\",\"gridcolor\":\"white\",\"linecolor\":\"white\",\"minorgridcolor\":\"white\",\"startlinecolor\":\"#2a3f5f\"},\"type\":\"carpet\"}],\"choropleth\":[{\"colorbar\":{\"outlinewidth\":0,\"ticks\":\"\"},\"type\":\"choropleth\"}],\"contour\":[{\"colorbar\":{\"outlinewidth\":0,\"ticks\":\"\"},\"colorscale\":[[0.0,\"#0d0887\"],[0.1111111111111111,\"#46039f\"],[0.2222222222222222,\"#7201a8\"],[0.3333333333333333,\"#9c179e\"],[0.4444444444444444,\"#bd3786\"],[0.5555555555555556,\"#d8576b\"],[0.6666666666666666,\"#ed7953\"],[0.7777777777777778,\"#fb9f3a\"],[0.8888888888888888,\"#fdca26\"],[1.0,\"#f0f921\"]],\"type\":\"contour\"}],\"contourcarpet\":[{\"colorbar\":{\"outlinewidth\":0,\"ticks\":\"\"},\"type\":\"contourcarpet\"}],\"heatmap\":[{\"colorbar\":{\"outlinewidth\":0,\"ticks\":\"\"},\"colorscale\":[[0.0,\"#0d0887\"],[0.1111111111111111,\"#46039f\"],[0.2222222222222222,\"#7201a8\"],[0.3333333333333333,\"#9c179e\"],[0.4444444444444444,\"#bd3786\"],[0.5555555555555556,\"#d8576b\"],[0.6666666666666666,\"#ed7953\"],[0.7777777777777778,\"#fb9f3a\"],[0.8888888888888888,\"#fdca26\"],[1.0,\"#f0f921\"]],\"type\":\"heatmap\"}],\"heatmapgl\":[{\"colorbar\":{\"outlinewidth\":0,\"ticks\":\"\"},\"colorscale\":[[0.0,\"#0d0887\"],[0.1111111111111111,\"#46039f\"],[0.2222222222222222,\"#7201a8\"],[0.3333333333333333,\"#9c179e\"],[0.4444444444444444,\"#bd3786\"],[0.5555555555555556,\"#d8576b\"],[0.6666666666666666,\"#ed7953\"],[0.7777777777777778,\"#fb9f3a\"],[0.8888888888888888,\"#fdca26\"],[1.0,\"#f0f921\"]],\"type\":\"heatmapgl\"}],\"histogram\":[{\"marker\":{\"pattern\":{\"fillmode\":\"overlay\",\"size\":10,\"solidity\":0.2}},\"type\":\"histogram\"}],\"histogram2d\":[{\"colorbar\":{\"outlinewidth\":0,\"ticks\":\"\"},\"colorscale\":[[0.0,\"#0d0887\"],[0.1111111111111111,\"#46039f\"],[0.2222222222222222,\"#7201a8\"],[0.3333333333333333,\"#9c179e\"],[0.4444444444444444,\"#bd3786\"],[0.5555555555555556,\"#d8576b\"],[0.6666666666666666,\"#ed7953\"],[0.7777777777777778,\"#fb9f3a\"],[0.8888888888888888,\"#fdca26\"],[1.0,\"#f0f921\"]],\"type\":\"histogram2d\"}],\"histogram2dcontour\":[{\"colorbar\":{\"outlinewidth\":0,\"ticks\":\"\"},\"colorscale\":[[0.0,\"#0d0887\"],[0.1111111111111111,\"#46039f\"],[0.2222222222222222,\"#7201a8\"],[0.3333333333333333,\"#9c179e\"],[0.4444444444444444,\"#bd3786\"],[0.5555555555555556,\"#d8576b\"],[0.6666666666666666,\"#ed7953\"],[0.7777777777777778,\"#fb9f3a\"],[0.8888888888888888,\"#fdca26\"],[1.0,\"#f0f921\"]],\"type\":\"histogram2dcontour\"}],\"mesh3d\":[{\"colorbar\":{\"outlinewidth\":0,\"ticks\":\"\"},\"type\":\"mesh3d\"}],\"parcoords\":[{\"line\":{\"colorbar\":{\"outlinewidth\":0,\"ticks\":\"\"}},\"type\":\"parcoords\"}],\"pie\":[{\"automargin\":true,\"type\":\"pie\"}],\"scatter\":[{\"marker\":{\"colorbar\":{\"outlinewidth\":0,\"ticks\":\"\"}},\"type\":\"scatter\"}],\"scatter3d\":[{\"line\":{\"colorbar\":{\"outlinewidth\":0,\"ticks\":\"\"}},\"marker\":{\"colorbar\":{\"outlinewidth\":0,\"ticks\":\"\"}},\"type\":\"scatter3d\"}],\"scattercarpet\":[{\"marker\":{\"colorbar\":{\"outlinewidth\":0,\"ticks\":\"\"}},\"type\":\"scattercarpet\"}],\"scattergeo\":[{\"marker\":{\"colorbar\":{\"outlinewidth\":0,\"ticks\":\"\"}},\"type\":\"scattergeo\"}],\"scattergl\":[{\"marker\":{\"colorbar\":{\"outlinewidth\":0,\"ticks\":\"\"}},\"type\":\"scattergl\"}],\"scattermapbox\":[{\"marker\":{\"colorbar\":{\"outlinewidth\":0,\"ticks\":\"\"}},\"type\":\"scattermapbox\"}],\"scatterpolar\":[{\"marker\":{\"colorbar\":{\"outlinewidth\":0,\"ticks\":\"\"}},\"type\":\"scatterpolar\"}],\"scatterpolargl\":[{\"marker\":{\"colorbar\":{\"outlinewidth\":0,\"ticks\":\"\"}},\"type\":\"scatterpolargl\"}],\"scatterternary\":[{\"marker\":{\"colorbar\":{\"outlinewidth\":0,\"ticks\":\"\"}},\"type\":\"scatterternary\"}],\"surface\":[{\"colorbar\":{\"outlinewidth\":0,\"ticks\":\"\"},\"colorscale\":[[0.0,\"#0d0887\"],[0.1111111111111111,\"#46039f\"],[0.2222222222222222,\"#7201a8\"],[0.3333333333333333,\"#9c179e\"],[0.4444444444444444,\"#bd3786\"],[0.5555555555555556,\"#d8576b\"],[0.6666666666666666,\"#ed7953\"],[0.7777777777777778,\"#fb9f3a\"],[0.8888888888888888,\"#fdca26\"],[1.0,\"#f0f921\"]],\"type\":\"surface\"}],\"table\":[{\"cells\":{\"fill\":{\"color\":\"#EBF0F8\"},\"line\":{\"color\":\"white\"}},\"header\":{\"fill\":{\"color\":\"#C8D4E3\"},\"line\":{\"color\":\"white\"}},\"type\":\"table\"}]},\"layout\":{\"annotationdefaults\":{\"arrowcolor\":\"#2a3f5f\",\"arrowhead\":0,\"arrowwidth\":1},\"autotypenumbers\":\"strict\",\"coloraxis\":{\"colorbar\":{\"outlinewidth\":0,\"ticks\":\"\"}},\"colorscale\":{\"diverging\":[[0,\"#8e0152\"],[0.1,\"#c51b7d\"],[0.2,\"#de77ae\"],[0.3,\"#f1b6da\"],[0.4,\"#fde0ef\"],[0.5,\"#f7f7f7\"],[0.6,\"#e6f5d0\"],[0.7,\"#b8e186\"],[0.8,\"#7fbc41\"],[0.9,\"#4d9221\"],[1,\"#276419\"]],\"sequential\":[[0.0,\"#0d0887\"],[0.1111111111111111,\"#46039f\"],[0.2222222222222222,\"#7201a8\"],[0.3333333333333333,\"#9c179e\"],[0.4444444444444444,\"#bd3786\"],[0.5555555555555556,\"#d8576b\"],[0.6666666666666666,\"#ed7953\"],[0.7777777777777778,\"#fb9f3a\"],[0.8888888888888888,\"#fdca26\"],[1.0,\"#f0f921\"]],\"sequentialminus\":[[0.0,\"#0d0887\"],[0.1111111111111111,\"#46039f\"],[0.2222222222222222,\"#7201a8\"],[0.3333333333333333,\"#9c179e\"],[0.4444444444444444,\"#bd3786\"],[0.5555555555555556,\"#d8576b\"],[0.6666666666666666,\"#ed7953\"],[0.7777777777777778,\"#fb9f3a\"],[0.8888888888888888,\"#fdca26\"],[1.0,\"#f0f921\"]]},\"colorway\":[\"#636efa\",\"#EF553B\",\"#00cc96\",\"#ab63fa\",\"#FFA15A\",\"#19d3f3\",\"#FF6692\",\"#B6E880\",\"#FF97FF\",\"#FECB52\"],\"font\":{\"color\":\"#2a3f5f\"},\"geo\":{\"bgcolor\":\"white\",\"lakecolor\":\"white\",\"landcolor\":\"#E5ECF6\",\"showlakes\":true,\"showland\":true,\"subunitcolor\":\"white\"},\"hoverlabel\":{\"align\":\"left\"},\"hovermode\":\"closest\",\"mapbox\":{\"style\":\"light\"},\"paper_bgcolor\":\"white\",\"plot_bgcolor\":\"#E5ECF6\",\"polar\":{\"angularaxis\":{\"gridcolor\":\"white\",\"linecolor\":\"white\",\"ticks\":\"\"},\"bgcolor\":\"#E5ECF6\",\"radialaxis\":{\"gridcolor\":\"white\",\"linecolor\":\"white\",\"ticks\":\"\"}},\"scene\":{\"xaxis\":{\"backgroundcolor\":\"#E5ECF6\",\"gridcolor\":\"white\",\"gridwidth\":2,\"linecolor\":\"white\",\"showbackground\":true,\"ticks\":\"\",\"zerolinecolor\":\"white\"},\"yaxis\":{\"backgroundcolor\":\"#E5ECF6\",\"gridcolor\":\"white\",\"gridwidth\":2,\"linecolor\":\"white\",\"showbackground\":true,\"ticks\":\"\",\"zerolinecolor\":\"white\"},\"zaxis\":{\"backgroundcolor\":\"#E5ECF6\",\"gridcolor\":\"white\",\"gridwidth\":2,\"linecolor\":\"white\",\"showbackground\":true,\"ticks\":\"\",\"zerolinecolor\":\"white\"}},\"shapedefaults\":{\"line\":{\"color\":\"#2a3f5f\"}},\"ternary\":{\"aaxis\":{\"gridcolor\":\"white\",\"linecolor\":\"white\",\"ticks\":\"\"},\"baxis\":{\"gridcolor\":\"white\",\"linecolor\":\"white\",\"ticks\":\"\"},\"bgcolor\":\"#E5ECF6\",\"caxis\":{\"gridcolor\":\"white\",\"linecolor\":\"white\",\"ticks\":\"\"}},\"title\":{\"x\":0.05},\"xaxis\":{\"automargin\":true,\"gridcolor\":\"white\",\"linecolor\":\"white\",\"ticks\":\"\",\"title\":{\"standoff\":15},\"zerolinecolor\":\"white\",\"zerolinewidth\":2},\"yaxis\":{\"automargin\":true,\"gridcolor\":\"white\",\"linecolor\":\"white\",\"ticks\":\"\",\"title\":{\"standoff\":15},\"zerolinecolor\":\"white\",\"zerolinewidth\":2}}},\"scene\":{\"domain\":{\"x\":[0.0,1.0],\"y\":[0.0,1.0]},\"xaxis\":{\"title\":{\"text\":\"math_score\"}},\"yaxis\":{\"title\":{\"text\":\"reading_score\"}},\"zaxis\":{\"title\":{\"text\":\"writing_score\"}}},\"legend\":{\"title\":{\"text\":\"race\"},\"tracegroupgap\":0},\"title\":{\"text\":\"Distribution Learning Score with Race\"}},                        {\"responsive\": true}                    ).then(function(){\n",
              "                            \n",
              "var gd = document.getElementById('b264134c-f9b6-4109-a6c6-51c74938f0c0');\n",
              "var x = new MutationObserver(function (mutations, observer) {{\n",
              "        var display = window.getComputedStyle(gd).display;\n",
              "        if (!display || display === 'none') {{\n",
              "            console.log([gd, 'removed!']);\n",
              "            Plotly.purge(gd);\n",
              "            observer.disconnect();\n",
              "        }}\n",
              "}});\n",
              "\n",
              "// Listen for the removal of the full notebook cells\n",
              "var notebookContainer = gd.closest('#notebook-container');\n",
              "if (notebookContainer) {{\n",
              "    x.observe(notebookContainer, {childList: true});\n",
              "}}\n",
              "\n",
              "// Listen for the clearing of the current output cell\n",
              "var outputEl = gd.closest('.output');\n",
              "if (outputEl) {{\n",
              "    x.observe(outputEl, {childList: true});\n",
              "}}\n",
              "\n",
              "                        })                };                            </script>        </div>\n",
              "</body>\n",
              "</html>"
            ]
          },
          "metadata": {}
        }
      ]
    },
    {
      "cell_type": "code",
      "source": [
        "fig = px.scatter_3d(df, x='math_score', y='reading_score',\n",
        "                    z='writing_score', color='grade', size_max=18,\n",
        "                    symbol='lunch_type', opacity=0.8)\n",
        "fig.show()"
      ],
      "metadata": {
        "colab": {
          "base_uri": "https://localhost:8080/",
          "height": 542
        },
        "id": "BwKlpE4SzObp",
        "outputId": "44971355-4d62-42d2-b6b4-bfa321099037"
      },
      "execution_count": 43,
      "outputs": [
        {
          "output_type": "display_data",
          "data": {
            "text/html": [
              "<html>\n",
              "<head><meta charset=\"utf-8\" /></head>\n",
              "<body>\n",
              "    <div>            <script src=\"https://cdnjs.cloudflare.com/ajax/libs/mathjax/2.7.5/MathJax.js?config=TeX-AMS-MML_SVG\"></script><script type=\"text/javascript\">if (window.MathJax) {MathJax.Hub.Config({SVG: {font: \"STIX-Web\"}});}</script>                <script type=\"text/javascript\">window.PlotlyConfig = {MathJaxConfig: 'local'};</script>\n",
              "        <script src=\"https://cdn.plot.ly/plotly-2.8.3.min.js\"></script>                <div id=\"dd0befff-f6e7-4e35-bc20-1a2bfce8fe34\" class=\"plotly-graph-div\" style=\"height:525px; width:100%;\"></div>            <script type=\"text/javascript\">                                    window.PLOTLYENV=window.PLOTLYENV || {};                                    if (document.getElementById(\"dd0befff-f6e7-4e35-bc20-1a2bfce8fe34\")) {                    Plotly.newPlot(                        \"dd0befff-f6e7-4e35-bc20-1a2bfce8fe34\",                        [{\"hovertemplate\":\"grade=B+<br>lunch_type=standard<br>math_score=%{x}<br>reading_score=%{y}<br>writing_score=%{z}<extra></extra>\",\"legendgroup\":\"B+, standard\",\"marker\":{\"color\":\"#636efa\",\"opacity\":0.8,\"symbol\":\"circle\"},\"mode\":\"markers\",\"name\":\"B+, standard\",\"scene\":\"scene\",\"showlegend\":true,\"x\":[72,76,71,65,78,69,69,67,69,74,66,69,80,73,71,65,71,79,68,84,78,83,65,82,75,76,88,68,77,61,68,72,71,80,76,69,67,69,74,81,72,67,80,75,85,89,80,78,70,79,76,63,69,83,67,77,76,86,65,71,67,80,74,73,83,75,71,82,76,69,79,72,87,63,84,74,71,67,73,77,65,82,70,84,71,74,59,67,78,73,67,81,71,68,71,80,76,73,70,76,74,79,76,66,66,85,75,81,79,74,63,71,74,77,73,69,65,74,69,65,76,65,66,86,76,74,65,69,68,73,81,69,65,69,73,70,67,85,77,57,73,76,81,65,81,80,72,69,69,74,68,75,72,76,73,90,72,75,66,80,65,71,70,59,64,71,62,88,65,73,69,57,77,81,94,75,75,68,75,78,64,81,74,81,65,68],\"y\":[72,78,83,81,72,75,73,69,74,81,71,80,78,80,71,72,79,67,74,77,82,80,77,82,81,72,73,75,67,86,83,73,77,76,83,84,84,77,71,80,72,86,75,74,76,76,80,77,75,79,73,75,72,78,89,76,70,73,73,74,84,76,75,76,72,86,81,75,70,76,73,80,74,78,77,74,83,76,70,68,74,80,71,73,74,73,85,81,81,83,74,73,70,86,76,68,71,71,74,71,79,78,71,74,78,66,69,77,72,75,74,75,81,79,75,77,76,76,77,82,78,77,74,76,74,79,81,79,80,79,72,78,84,77,78,82,72,75,77,78,78,76,74,75,71,73,79,75,77,72,71,73,79,80,76,75,80,82,77,75,79,71,72,72,76,70,76,74,78,78,84,77,68,66,73,77,81,76,84,72,82,78,75,75,82,78],\"z\":[74,75,78,73,70,78,73,75,74,83,76,71,81,82,74,74,71,67,74,74,79,73,74,74,84,71,78,81,68,87,78,74,77,65,79,85,86,69,78,76,71,83,77,69,71,74,72,77,78,78,68,81,77,73,82,77,68,70,75,68,81,64,83,80,78,79,80,77,69,74,67,75,76,80,71,72,77,75,75,77,77,77,74,69,68,67,80,79,80,76,77,72,76,84,83,72,67,68,71,72,82,77,73,73,78,71,68,79,69,79,74,70,71,80,80,77,76,73,73,81,80,74,81,74,73,80,81,81,76,79,77,76,84,78,76,76,74,68,73,79,72,74,71,77,73,72,74,71,77,72,75,74,82,73,78,69,83,79,73,69,81,80,76,80,74,70,80,75,82,74,82,80,69,64,71,83,71,67,80,69,77,78,82,76,78,77],\"type\":\"scatter3d\"},{\"hovertemplate\":\"grade=B+<br>lunch_type=free/reduced<br>math_score=%{x}<br>reading_score=%{y}<br>writing_score=%{z}<extra></extra>\",\"legendgroup\":\"B+, free/reduced\",\"marker\":{\"color\":\"#636efa\",\"opacity\":0.8,\"symbol\":\"diamond\"},\"mode\":\"markers\",\"name\":\"B+, free/reduced\",\"scene\":\"scene\",\"showlegend\":true,\"x\":[74,73,77,79,87,74,66,82,58,67,78,65,74,80,66,71,65,64,71,65,73,70,88,78,81,67,75,79,75,79,64,65,65,59,67,66,79,63,63,67,72,74,81,77,73,66,68,79,62,72,70,75,64,71,69,74,87,78,63,67,67,74,67,70,74,65,67],\"y\":[71,74,69,74,74,79,74,78,76,75,79,81,81,79,77,83,81,79,76,86,79,78,75,77,78,79,74,81,66,82,85,77,85,78,78,83,76,80,73,80,81,77,75,78,76,74,77,77,78,79,84,81,74,87,86,77,73,74,78,84,75,70,74,75,74,76,86],\"z\":[80,72,68,72,70,75,78,74,78,70,76,77,76,79,70,83,81,77,70,80,84,78,76,80,81,84,66,71,73,73,85,74,76,76,79,83,65,80,78,81,79,73,78,73,78,81,80,75,79,77,81,74,75,82,81,76,72,72,79,84,72,69,70,74,72,75,83],\"type\":\"scatter3d\"},{\"hovertemplate\":\"grade=A-<br>lunch_type=standard<br>math_score=%{x}<br>reading_score=%{y}<br>writing_score=%{z}<extra></extra>\",\"legendgroup\":\"A-, standard\",\"marker\":{\"color\":\"#EF553B\",\"opacity\":0.8,\"symbol\":\"circle\"},\"mode\":\"markers\",\"name\":\"A-, standard\",\"scene\":\"scene\",\"showlegend\":true,\"x\":[69,88,97,81,82,88,82,73,79,85,79,87,89,88,70,81,94,79,81,77,87,84,87,86,92,83,84,80,88,85,81,97,99,77,82,90,77,80,85,73,80,80,85,87,84,86,89,86,79,84,91,83,83,81,82,86,76,74,91,79,82,81,85,82,88,95,75,84,80,85,90,75,79,87,89,93,80,81,87,92,81,87,77,78,94,77,91,89,82,87,94,77,85,77,90,91,87,82,82,81,86,85,85,88,79,85,78,82,84,79,78],\"y\":[90,89,87,81,84,78,85,86,86,91,92,95,84,84,89,92,88,86,91,88,91,83,85,80,87,82,80,83,85,92,82,82,87,82,90,78,94,90,84,84,90,86,89,84,83,83,88,81,89,87,74,85,83,88,82,92,87,89,86,88,95,91,84,93,78,81,88,84,92,86,87,82,81,84,87,84,85,81,89,79,84,84,90,81,85,90,81,84,85,84,86,91,90,82,85,85,85,82,84,82,85,92,84,77,84,81,91,82,87,85,87],\"z\":[88,86,82,79,82,75,86,82,92,89,89,86,82,75,88,91,78,81,87,87,81,75,73,75,78,84,80,83,76,93,82,88,81,91,94,81,95,89,78,85,82,83,95,85,78,86,82,80,89,91,76,90,90,90,80,87,85,84,84,94,89,89,82,93,83,84,85,80,88,98,85,90,82,87,79,90,85,84,94,84,82,86,85,86,82,84,79,77,87,76,87,88,92,89,84,85,93,88,78,84,91,85,89,77,91,85,96,80,81,86,91],\"type\":\"scatter3d\"},{\"hovertemplate\":\"grade=A-<br>lunch_type=free/reduced<br>math_score=%{x}<br>reading_score=%{y}<br>writing_score=%{z}<extra></extra>\",\"legendgroup\":\"A-, free/reduced\",\"marker\":{\"color\":\"#EF553B\",\"opacity\":0.8,\"symbol\":\"diamond\"},\"mode\":\"markers\",\"name\":\"A-, free/reduced\",\"scene\":\"scene\",\"showlegend\":true,\"x\":[75,71,76,78,77,75,75,83,90,82,77,77,79,77,79,78,87,84,74,77,93,79,76,91,74,73,76,78,74,81,90,86,77],\"y\":[90,84,83,81,89,85,88,86,87,93,90,88,82,97,82,83,90,89,88,85,90,89,94,73,90,92,85,90,86,86,90,81,86],\"z\":[88,87,88,82,98,82,85,88,75,93,91,85,82,94,80,80,88,90,90,87,83,86,87,80,88,84,82,93,89,87,82,75,86],\"type\":\"scatter3d\"},{\"hovertemplate\":\"grade=A+<br>lunch_type=standard<br>math_score=%{x}<br>reading_score=%{y}<br>writing_score=%{z}<extra></extra>\",\"legendgroup\":\"A+, standard\",\"marker\":{\"color\":\"#00cc96\",\"opacity\":0.8,\"symbol\":\"circle\"},\"mode\":\"markers\",\"name\":\"A+, standard\",\"scene\":\"scene\",\"showlegend\":true,\"x\":[90,88,98,87,99,91,88,96,97,88,99,88,83,82,87,88,100,100,90,94,95,97,92,96,91,81,92,94,100,100,94,98,96,84,87,97,97,93,100,91,98,92,100,89,91,88],\"y\":[95,95,86,100,100,89,93,100,100,95,93,92,93,97,100,99,92,100,90,87,89,92,100,90,96,97,100,90,96,97,99,100,96,95,94,97,93,100,100,96,87,100,100,100,95,99],\"z\":[93,92,90,100,100,92,93,100,100,94,90,95,95,96,95,100,97,100,91,92,92,86,97,92,92,96,99,91,86,99,100,99,99,92,95,96,91,95,100,91,90,100,100,100,94,95],\"type\":\"scatter3d\"},{\"hovertemplate\":\"grade=A+<br>lunch_type=free/reduced<br>math_score=%{x}<br>reading_score=%{y}<br>writing_score=%{z}<extra></extra>\",\"legendgroup\":\"A+, free/reduced\",\"marker\":{\"color\":\"#00cc96\",\"opacity\":0.8,\"symbol\":\"diamond\"},\"mode\":\"markers\",\"name\":\"A+, free/reduced\",\"scene\":\"scene\",\"showlegend\":true,\"x\":[100,85,92,93],\"y\":[100,95,100,100],\"z\":[93,100,100,100],\"type\":\"scatter3d\"},{\"hovertemplate\":\"grade=D<br>lunch_type=standard<br>math_score=%{x}<br>reading_score=%{y}<br>writing_score=%{z}<extra></extra>\",\"legendgroup\":\"D, standard\",\"marker\":{\"color\":\"#ab63fa\",\"opacity\":0.8,\"symbol\":\"circle\"},\"mode\":\"markers\",\"name\":\"D, standard\",\"scene\":\"scene\",\"showlegend\":true,\"x\":[40,53,49,47,51,57,54,50,59,46,47,58,53,45,37,46,51,41,49,53,47,40,53,48,44,41,50,47,53,55,52,32,42,52,61,55,40],\"y\":[52,44,49,49,54,43,49,50,41,43,49,49,52,48,46,41,52,55,51,43,46,48,45,43,51,52,48,43,39,47,48,51,52,49,42,41,59],\"z\":[43,42,41,50,41,47,47,47,42,42,49,42,42,46,46,43,44,51,43,43,42,50,40,45,55,51,42,41,37,44,49,44,51,46,41,48,51],\"type\":\"scatter3d\"},{\"hovertemplate\":\"grade=D<br>lunch_type=free/reduced<br>math_score=%{x}<br>reading_score=%{y}<br>writing_score=%{z}<extra></extra>\",\"legendgroup\":\"D, free/reduced\",\"marker\":{\"color\":\"#ab63fa\",\"opacity\":0.8,\"symbol\":\"diamond\"},\"mode\":\"markers\",\"name\":\"D, free/reduced\",\"scene\":\"scene\",\"showlegend\":true,\"x\":[47,40,38,46,41,44,49,43,53,43,45,48,44,59,40,43,41,35,46,38,38,48,37,36,48,40,35,55,37,35,41,45,39,55,44,34,50,35,46,44],\"y\":[57,43,60,42,51,41,45,45,37,51,52,52,50,42,46,53,46,55,43,49,43,45,56,53,51,55,61,46,57,44,45,47,52,46,51,48,42,53,43,45],\"z\":[44,39,50,46,48,38,45,50,40,54,49,45,51,41,50,53,43,60,41,45,43,41,47,43,46,53,54,43,56,43,40,49,46,44,48,41,48,46,44,45],\"type\":\"scatter3d\"},{\"hovertemplate\":\"grade=B-<br>lunch_type=standard<br>math_score=%{x}<br>reading_score=%{y}<br>writing_score=%{z}<extra></extra>\",\"legendgroup\":\"B-, standard\",\"marker\":{\"color\":\"#FFA15A\",\"opacity\":0.8,\"symbol\":\"circle\"},\"mode\":\"markers\",\"name\":\"B-, standard\",\"scene\":\"scene\",\"showlegend\":true,\"x\":[66,70,62,63,58,55,67,60,63,61,62,72,58,65,63,65,58,66,70,55,72,70,59,71,62,59,62,63,65,62,66,62,77,57,82,56,52,76,64,58,65,68,60,62,69,65,59,69,66,67,59,71,63,61,71,61,67,52,59,61,63,59,66,64,62,76,74,63,65,71,63,68,61,73,75,72,75,63,59,76,55,64,54,68,66,68,69,68,62,68,62,73,64,72,55,73,53,55,54,71,68,56,75,61,58,58,60,67,79,71,70,59,65,62,69,73,65,80,73,60,62,59,57,63,60,67,59,69,71,68,62,60,58,76,66,66,70,69,67,54,62,65,64,60,73,59,71,61,82,62,63,59,67,70,68,72,74,58,62,72,72,62,66,63,54,62,63],\"y\":[69,70,70,65,73,65,64,72,55,74,68,64,70,66,72,67,67,63,64,69,68,55,66,61,67,70,67,67,69,66,65,64,62,69,62,68,66,64,60,70,64,60,70,73,63,70,63,67,60,61,64,66,71,61,60,73,72,65,71,72,61,70,64,73,64,67,63,73,65,66,67,59,72,66,68,65,58,69,67,62,64,64,64,64,69,70,58,60,74,67,61,69,63,67,72,66,61,73,64,62,68,79,72,64,63,59,68,64,60,74,65,70,70,67,66,66,69,63,74,68,66,72,67,64,70,57,73,64,69,72,62,63,75,62,65,72,70,60,73,64,67,69,60,64,64,72,67,68,67,64,64,62,54,64,70,66,64,68,69,57,57,70,68,63,63,65,63],\"z\":[63,65,75,61,68,62,61,74,63,72,68,63,67,62,70,62,72,64,72,65,67,56,67,69,69,66,61,70,70,68,69,66,62,68,62,74,73,66,74,68,62,53,70,70,61,71,75,69,57,68,75,65,69,62,61,63,67,69,70,70,61,73,62,70,64,67,57,68,63,60,67,62,70,66,64,68,62,74,61,66,70,70,68,66,68,66,57,59,70,73,58,68,66,64,79,62,68,73,65,50,64,72,62,62,65,66,72,70,65,64,60,65,74,67,61,63,67,63,61,60,68,70,72,67,74,59,72,68,68,65,63,59,77,60,60,70,70,54,68,67,58,76,58,74,57,68,67,63,61,55,66,69,63,70,66,66,60,61,69,62,58,72,64,60,67,58,62],\"type\":\"scatter3d\"},{\"hovertemplate\":\"grade=B-<br>lunch_type=free/reduced<br>math_score=%{x}<br>reading_score=%{y}<br>writing_score=%{z}<extra></extra>\",\"legendgroup\":\"B-, free/reduced\",\"marker\":{\"color\":\"#FFA15A\",\"opacity\":0.8,\"symbol\":\"diamond\"},\"mode\":\"markers\",\"name\":\"B-, free/reduced\",\"scene\":\"scene\",\"showlegend\":true,\"x\":[64,65,56,59,57,58,58,52,59,73,66,52,62,65,59,58,55,68,63,73,64,73,67,53,68,56,61,59,61,45,57,73,51,62,69,68,64,59,69,72,68,60,62,77,61,53,61,68,69,65,62,61,69,64,77,55,63,66,63,66,59,62,62,53,70,53,52,68,60,66,57,61,60,56,75,80,64,54,69,50,69,54,65,62,61,70,72,61,57,60,55,62,59],\"y\":[64,75,72,65,74,63,67,76,62,68,62,70,68,67,69,61,65,72,66,68,73,56,62,71,67,65,68,62,66,73,78,67,72,67,71,63,66,73,66,67,68,75,67,62,67,70,71,68,60,73,63,58,70,62,67,71,73,76,61,66,63,72,72,66,68,72,67,65,66,74,68,70,72,68,68,64,73,72,65,67,70,65,61,57,71,63,66,62,75,62,76,72,71],\"z\":[67,70,65,66,76,73,62,70,64,66,64,62,75,65,65,66,62,64,67,66,68,57,60,67,69,63,66,61,61,70,67,59,79,62,65,54,59,69,60,65,61,74,64,64,66,70,78,67,63,68,56,62,63,68,64,69,71,68,60,59,64,65,70,73,72,64,72,61,70,69,73,76,68,70,65,66,71,59,74,73,67,65,71,62,73,58,72,61,73,60,76,74,65],\"type\":\"scatter3d\"},{\"hovertemplate\":\"grade=C<br>lunch_type=standard<br>math_score=%{x}<br>reading_score=%{y}<br>writing_score=%{z}<extra></extra>\",\"legendgroup\":\"C, standard\",\"marker\":{\"color\":\"#19d3f3\",\"opacity\":0.8,\"symbol\":\"circle\"},\"mode\":\"markers\",\"name\":\"C, standard\",\"scene\":\"scene\",\"showlegend\":true,\"x\":[58,50,44,69,53,65,53,52,58,59,39,60,62,54,51,51,51,58,52,61,61,57,54,56,59,54,63,62,62,66,46,58,52,59,69,57,60,59,54,57,61,70,59,49,64,54,64,54,71,53,47,51,51,53,61,48,53,54,61,50,50,62,49,49,66,68,55,48,52,48,52,59,45,68,58,64,64,53,59,57,51,57,52,44,67,54,58,45,56,57],\"y\":[54,53,54,54,58,54,55,55,59,58,64,44,55,53,58,63,49,55,53,55,56,50,52,52,51,52,60,56,61,57,58,62,58,60,58,54,59,54,59,58,56,56,52,52,53,48,50,61,49,52,54,60,66,62,51,66,54,60,48,53,64,55,53,63,59,51,58,58,59,62,55,54,59,54,50,58,54,62,58,61,51,48,61,61,57,61,52,63,58,51],\"z\":[52,58,53,55,65,57,48,49,58,59,57,47,49,47,54,61,51,48,49,52,56,54,51,55,43,52,57,53,57,52,57,59,58,58,53,56,54,67,62,64,55,51,46,54,57,52,43,62,52,49,53,58,62,56,52,65,48,63,46,55,66,54,53,56,52,57,52,54,62,60,57,51,64,53,45,51,50,53,47,54,54,51,66,52,53,58,54,59,64,54],\"type\":\"scatter3d\"},{\"hovertemplate\":\"grade=C<br>lunch_type=free/reduced<br>math_score=%{x}<br>reading_score=%{y}<br>writing_score=%{z}<extra></extra>\",\"legendgroup\":\"C, free/reduced\",\"marker\":{\"color\":\"#19d3f3\",\"opacity\":0.8,\"symbol\":\"diamond\"},\"mode\":\"markers\",\"name\":\"C, free/reduced\",\"scene\":\"scene\",\"showlegend\":true,\"x\":[54,50,57,55,50,62,61,61,50,63,42,60,49,53,46,46,55,45,42,60,45,47,56,49,58,42,49,44,50,49,52,57,47,65,47,50,65,53,53,53,54,52,61,63,40,55,62,54,56,63,50,48,44,58,60,40,58,49,51,43,50,52,53,42,55,53,61,55,50,58,52,58,49,46,52,49,48,61,58,40,59,49,43,47,46,64,48,57,49,49,48,53,49,62],\"y\":[58,64,56,61,56,61,58,57,47,57,55,60,53,51,54,64,56,53,62,51,56,53,54,57,61,66,58,64,67,65,57,56,58,59,59,48,58,61,54,58,54,59,47,61,59,59,49,59,61,48,66,56,63,57,57,58,51,57,56,60,60,57,58,61,59,58,60,55,60,55,59,60,58,56,65,52,58,60,57,65,53,51,62,62,61,56,56,58,58,50,54,50,65,55],\"z\":[61,59,57,54,54,55,56,56,54,56,54,60,52,51,58,66,51,55,60,56,54,58,52,52,52,69,60,58,63,55,56,54,67,53,50,53,49,62,48,55,45,56,56,54,54,54,52,50,60,47,64,58,62,54,51,54,52,46,53,58,60,50,44,58,59,57,55,47,59,53,65,57,55,57,61,51,52,57,53,64,52,51,61,66,55,52,51,57,60,52,53,60,61,55],\"type\":\"scatter3d\"},{\"hovertemplate\":\"grade=F<br>lunch_type=standard<br>math_score=%{x}<br>reading_score=%{y}<br>writing_score=%{z}<extra></extra>\",\"legendgroup\":\"F, standard\",\"marker\":{\"color\":\"#FF6692\",\"opacity\":0.8,\"symbol\":\"circle\"},\"mode\":\"markers\",\"name\":\"F, standard\",\"scene\":\"scene\",\"showlegend\":true,\"x\":[40,30,47,29,37,46,19,51],\"y\":[42,26,37,29,45,34,38,31],\"z\":[38,22,35,30,38,36,32,36],\"type\":\"scatter3d\"},{\"hovertemplate\":\"grade=F<br>lunch_type=free/reduced<br>math_score=%{x}<br>reading_score=%{y}<br>writing_score=%{z}<extra></extra>\",\"legendgroup\":\"F, free/reduced\",\"marker\":{\"color\":\"#FF6692\",\"opacity\":0.8,\"symbol\":\"diamond\"},\"mode\":\"markers\",\"name\":\"F, free/reduced\",\"scene\":\"scene\",\"showlegend\":true,\"x\":[18,33,0,39,45,42,27,22,35,34,28,24,27,41,26,29,32,30,29,23,39,32,36,8],\"y\":[32,41,17,39,37,39,34,39,28,42,23,38,34,39,31,41,39,24,40,44,42,34,29,24],\"z\":[28,43,10,34,37,34,36,33,27,39,19,27,32,34,38,47,33,15,44,36,38,38,27,23],\"type\":\"scatter3d\"}],                        {\"template\":{\"data\":{\"bar\":[{\"error_x\":{\"color\":\"#2a3f5f\"},\"error_y\":{\"color\":\"#2a3f5f\"},\"marker\":{\"line\":{\"color\":\"#E5ECF6\",\"width\":0.5},\"pattern\":{\"fillmode\":\"overlay\",\"size\":10,\"solidity\":0.2}},\"type\":\"bar\"}],\"barpolar\":[{\"marker\":{\"line\":{\"color\":\"#E5ECF6\",\"width\":0.5},\"pattern\":{\"fillmode\":\"overlay\",\"size\":10,\"solidity\":0.2}},\"type\":\"barpolar\"}],\"carpet\":[{\"aaxis\":{\"endlinecolor\":\"#2a3f5f\",\"gridcolor\":\"white\",\"linecolor\":\"white\",\"minorgridcolor\":\"white\",\"startlinecolor\":\"#2a3f5f\"},\"baxis\":{\"endlinecolor\":\"#2a3f5f\",\"gridcolor\":\"white\",\"linecolor\":\"white\",\"minorgridcolor\":\"white\",\"startlinecolor\":\"#2a3f5f\"},\"type\":\"carpet\"}],\"choropleth\":[{\"colorbar\":{\"outlinewidth\":0,\"ticks\":\"\"},\"type\":\"choropleth\"}],\"contour\":[{\"colorbar\":{\"outlinewidth\":0,\"ticks\":\"\"},\"colorscale\":[[0.0,\"#0d0887\"],[0.1111111111111111,\"#46039f\"],[0.2222222222222222,\"#7201a8\"],[0.3333333333333333,\"#9c179e\"],[0.4444444444444444,\"#bd3786\"],[0.5555555555555556,\"#d8576b\"],[0.6666666666666666,\"#ed7953\"],[0.7777777777777778,\"#fb9f3a\"],[0.8888888888888888,\"#fdca26\"],[1.0,\"#f0f921\"]],\"type\":\"contour\"}],\"contourcarpet\":[{\"colorbar\":{\"outlinewidth\":0,\"ticks\":\"\"},\"type\":\"contourcarpet\"}],\"heatmap\":[{\"colorbar\":{\"outlinewidth\":0,\"ticks\":\"\"},\"colorscale\":[[0.0,\"#0d0887\"],[0.1111111111111111,\"#46039f\"],[0.2222222222222222,\"#7201a8\"],[0.3333333333333333,\"#9c179e\"],[0.4444444444444444,\"#bd3786\"],[0.5555555555555556,\"#d8576b\"],[0.6666666666666666,\"#ed7953\"],[0.7777777777777778,\"#fb9f3a\"],[0.8888888888888888,\"#fdca26\"],[1.0,\"#f0f921\"]],\"type\":\"heatmap\"}],\"heatmapgl\":[{\"colorbar\":{\"outlinewidth\":0,\"ticks\":\"\"},\"colorscale\":[[0.0,\"#0d0887\"],[0.1111111111111111,\"#46039f\"],[0.2222222222222222,\"#7201a8\"],[0.3333333333333333,\"#9c179e\"],[0.4444444444444444,\"#bd3786\"],[0.5555555555555556,\"#d8576b\"],[0.6666666666666666,\"#ed7953\"],[0.7777777777777778,\"#fb9f3a\"],[0.8888888888888888,\"#fdca26\"],[1.0,\"#f0f921\"]],\"type\":\"heatmapgl\"}],\"histogram\":[{\"marker\":{\"pattern\":{\"fillmode\":\"overlay\",\"size\":10,\"solidity\":0.2}},\"type\":\"histogram\"}],\"histogram2d\":[{\"colorbar\":{\"outlinewidth\":0,\"ticks\":\"\"},\"colorscale\":[[0.0,\"#0d0887\"],[0.1111111111111111,\"#46039f\"],[0.2222222222222222,\"#7201a8\"],[0.3333333333333333,\"#9c179e\"],[0.4444444444444444,\"#bd3786\"],[0.5555555555555556,\"#d8576b\"],[0.6666666666666666,\"#ed7953\"],[0.7777777777777778,\"#fb9f3a\"],[0.8888888888888888,\"#fdca26\"],[1.0,\"#f0f921\"]],\"type\":\"histogram2d\"}],\"histogram2dcontour\":[{\"colorbar\":{\"outlinewidth\":0,\"ticks\":\"\"},\"colorscale\":[[0.0,\"#0d0887\"],[0.1111111111111111,\"#46039f\"],[0.2222222222222222,\"#7201a8\"],[0.3333333333333333,\"#9c179e\"],[0.4444444444444444,\"#bd3786\"],[0.5555555555555556,\"#d8576b\"],[0.6666666666666666,\"#ed7953\"],[0.7777777777777778,\"#fb9f3a\"],[0.8888888888888888,\"#fdca26\"],[1.0,\"#f0f921\"]],\"type\":\"histogram2dcontour\"}],\"mesh3d\":[{\"colorbar\":{\"outlinewidth\":0,\"ticks\":\"\"},\"type\":\"mesh3d\"}],\"parcoords\":[{\"line\":{\"colorbar\":{\"outlinewidth\":0,\"ticks\":\"\"}},\"type\":\"parcoords\"}],\"pie\":[{\"automargin\":true,\"type\":\"pie\"}],\"scatter\":[{\"marker\":{\"colorbar\":{\"outlinewidth\":0,\"ticks\":\"\"}},\"type\":\"scatter\"}],\"scatter3d\":[{\"line\":{\"colorbar\":{\"outlinewidth\":0,\"ticks\":\"\"}},\"marker\":{\"colorbar\":{\"outlinewidth\":0,\"ticks\":\"\"}},\"type\":\"scatter3d\"}],\"scattercarpet\":[{\"marker\":{\"colorbar\":{\"outlinewidth\":0,\"ticks\":\"\"}},\"type\":\"scattercarpet\"}],\"scattergeo\":[{\"marker\":{\"colorbar\":{\"outlinewidth\":0,\"ticks\":\"\"}},\"type\":\"scattergeo\"}],\"scattergl\":[{\"marker\":{\"colorbar\":{\"outlinewidth\":0,\"ticks\":\"\"}},\"type\":\"scattergl\"}],\"scattermapbox\":[{\"marker\":{\"colorbar\":{\"outlinewidth\":0,\"ticks\":\"\"}},\"type\":\"scattermapbox\"}],\"scatterpolar\":[{\"marker\":{\"colorbar\":{\"outlinewidth\":0,\"ticks\":\"\"}},\"type\":\"scatterpolar\"}],\"scatterpolargl\":[{\"marker\":{\"colorbar\":{\"outlinewidth\":0,\"ticks\":\"\"}},\"type\":\"scatterpolargl\"}],\"scatterternary\":[{\"marker\":{\"colorbar\":{\"outlinewidth\":0,\"ticks\":\"\"}},\"type\":\"scatterternary\"}],\"surface\":[{\"colorbar\":{\"outlinewidth\":0,\"ticks\":\"\"},\"colorscale\":[[0.0,\"#0d0887\"],[0.1111111111111111,\"#46039f\"],[0.2222222222222222,\"#7201a8\"],[0.3333333333333333,\"#9c179e\"],[0.4444444444444444,\"#bd3786\"],[0.5555555555555556,\"#d8576b\"],[0.6666666666666666,\"#ed7953\"],[0.7777777777777778,\"#fb9f3a\"],[0.8888888888888888,\"#fdca26\"],[1.0,\"#f0f921\"]],\"type\":\"surface\"}],\"table\":[{\"cells\":{\"fill\":{\"color\":\"#EBF0F8\"},\"line\":{\"color\":\"white\"}},\"header\":{\"fill\":{\"color\":\"#C8D4E3\"},\"line\":{\"color\":\"white\"}},\"type\":\"table\"}]},\"layout\":{\"annotationdefaults\":{\"arrowcolor\":\"#2a3f5f\",\"arrowhead\":0,\"arrowwidth\":1},\"autotypenumbers\":\"strict\",\"coloraxis\":{\"colorbar\":{\"outlinewidth\":0,\"ticks\":\"\"}},\"colorscale\":{\"diverging\":[[0,\"#8e0152\"],[0.1,\"#c51b7d\"],[0.2,\"#de77ae\"],[0.3,\"#f1b6da\"],[0.4,\"#fde0ef\"],[0.5,\"#f7f7f7\"],[0.6,\"#e6f5d0\"],[0.7,\"#b8e186\"],[0.8,\"#7fbc41\"],[0.9,\"#4d9221\"],[1,\"#276419\"]],\"sequential\":[[0.0,\"#0d0887\"],[0.1111111111111111,\"#46039f\"],[0.2222222222222222,\"#7201a8\"],[0.3333333333333333,\"#9c179e\"],[0.4444444444444444,\"#bd3786\"],[0.5555555555555556,\"#d8576b\"],[0.6666666666666666,\"#ed7953\"],[0.7777777777777778,\"#fb9f3a\"],[0.8888888888888888,\"#fdca26\"],[1.0,\"#f0f921\"]],\"sequentialminus\":[[0.0,\"#0d0887\"],[0.1111111111111111,\"#46039f\"],[0.2222222222222222,\"#7201a8\"],[0.3333333333333333,\"#9c179e\"],[0.4444444444444444,\"#bd3786\"],[0.5555555555555556,\"#d8576b\"],[0.6666666666666666,\"#ed7953\"],[0.7777777777777778,\"#fb9f3a\"],[0.8888888888888888,\"#fdca26\"],[1.0,\"#f0f921\"]]},\"colorway\":[\"#636efa\",\"#EF553B\",\"#00cc96\",\"#ab63fa\",\"#FFA15A\",\"#19d3f3\",\"#FF6692\",\"#B6E880\",\"#FF97FF\",\"#FECB52\"],\"font\":{\"color\":\"#2a3f5f\"},\"geo\":{\"bgcolor\":\"white\",\"lakecolor\":\"white\",\"landcolor\":\"#E5ECF6\",\"showlakes\":true,\"showland\":true,\"subunitcolor\":\"white\"},\"hoverlabel\":{\"align\":\"left\"},\"hovermode\":\"closest\",\"mapbox\":{\"style\":\"light\"},\"paper_bgcolor\":\"white\",\"plot_bgcolor\":\"#E5ECF6\",\"polar\":{\"angularaxis\":{\"gridcolor\":\"white\",\"linecolor\":\"white\",\"ticks\":\"\"},\"bgcolor\":\"#E5ECF6\",\"radialaxis\":{\"gridcolor\":\"white\",\"linecolor\":\"white\",\"ticks\":\"\"}},\"scene\":{\"xaxis\":{\"backgroundcolor\":\"#E5ECF6\",\"gridcolor\":\"white\",\"gridwidth\":2,\"linecolor\":\"white\",\"showbackground\":true,\"ticks\":\"\",\"zerolinecolor\":\"white\"},\"yaxis\":{\"backgroundcolor\":\"#E5ECF6\",\"gridcolor\":\"white\",\"gridwidth\":2,\"linecolor\":\"white\",\"showbackground\":true,\"ticks\":\"\",\"zerolinecolor\":\"white\"},\"zaxis\":{\"backgroundcolor\":\"#E5ECF6\",\"gridcolor\":\"white\",\"gridwidth\":2,\"linecolor\":\"white\",\"showbackground\":true,\"ticks\":\"\",\"zerolinecolor\":\"white\"}},\"shapedefaults\":{\"line\":{\"color\":\"#2a3f5f\"}},\"ternary\":{\"aaxis\":{\"gridcolor\":\"white\",\"linecolor\":\"white\",\"ticks\":\"\"},\"baxis\":{\"gridcolor\":\"white\",\"linecolor\":\"white\",\"ticks\":\"\"},\"bgcolor\":\"#E5ECF6\",\"caxis\":{\"gridcolor\":\"white\",\"linecolor\":\"white\",\"ticks\":\"\"}},\"title\":{\"x\":0.05},\"xaxis\":{\"automargin\":true,\"gridcolor\":\"white\",\"linecolor\":\"white\",\"ticks\":\"\",\"title\":{\"standoff\":15},\"zerolinecolor\":\"white\",\"zerolinewidth\":2},\"yaxis\":{\"automargin\":true,\"gridcolor\":\"white\",\"linecolor\":\"white\",\"ticks\":\"\",\"title\":{\"standoff\":15},\"zerolinecolor\":\"white\",\"zerolinewidth\":2}}},\"scene\":{\"domain\":{\"x\":[0.0,1.0],\"y\":[0.0,1.0]},\"xaxis\":{\"title\":{\"text\":\"math_score\"}},\"yaxis\":{\"title\":{\"text\":\"reading_score\"}},\"zaxis\":{\"title\":{\"text\":\"writing_score\"}}},\"legend\":{\"title\":{\"text\":\"grade, lunch_type\"},\"tracegroupgap\":0},\"margin\":{\"t\":60}},                        {\"responsive\": true}                    ).then(function(){\n",
              "                            \n",
              "var gd = document.getElementById('dd0befff-f6e7-4e35-bc20-1a2bfce8fe34');\n",
              "var x = new MutationObserver(function (mutations, observer) {{\n",
              "        var display = window.getComputedStyle(gd).display;\n",
              "        if (!display || display === 'none') {{\n",
              "            console.log([gd, 'removed!']);\n",
              "            Plotly.purge(gd);\n",
              "            observer.disconnect();\n",
              "        }}\n",
              "}});\n",
              "\n",
              "// Listen for the removal of the full notebook cells\n",
              "var notebookContainer = gd.closest('#notebook-container');\n",
              "if (notebookContainer) {{\n",
              "    x.observe(notebookContainer, {childList: true});\n",
              "}}\n",
              "\n",
              "// Listen for the clearing of the current output cell\n",
              "var outputEl = gd.closest('.output');\n",
              "if (outputEl) {{\n",
              "    x.observe(outputEl, {childList: true});\n",
              "}}\n",
              "\n",
              "                        })                };                            </script>        </div>\n",
              "</body>\n",
              "</html>"
            ]
          },
          "metadata": {}
        }
      ]
    },
    {
      "cell_type": "code",
      "source": [
        "df.head()"
      ],
      "metadata": {
        "colab": {
          "base_uri": "https://localhost:8080/",
          "height": 206
        },
        "id": "iv-Edsrt0doT",
        "outputId": "0677ec7b-78a8-480b-8cab-410570d56342"
      },
      "execution_count": 44,
      "outputs": [
        {
          "output_type": "execute_result",
          "data": {
            "text/html": [
              "\n",
              "  <div id=\"df-4fee4f0e-6688-49e4-a33e-7a6c48a5f9ef\">\n",
              "    <div class=\"colab-df-container\">\n",
              "      <div>\n",
              "<style scoped>\n",
              "    .dataframe tbody tr th:only-of-type {\n",
              "        vertical-align: middle;\n",
              "    }\n",
              "\n",
              "    .dataframe tbody tr th {\n",
              "        vertical-align: top;\n",
              "    }\n",
              "\n",
              "    .dataframe thead th {\n",
              "        text-align: right;\n",
              "    }\n",
              "</style>\n",
              "<table border=\"1\" class=\"dataframe\">\n",
              "  <thead>\n",
              "    <tr style=\"text-align: right;\">\n",
              "      <th></th>\n",
              "      <th>gender</th>\n",
              "      <th>race</th>\n",
              "      <th>parent_edu</th>\n",
              "      <th>lunch_type</th>\n",
              "      <th>test_completed</th>\n",
              "      <th>math_score</th>\n",
              "      <th>reading_score</th>\n",
              "      <th>writing_score</th>\n",
              "      <th>average</th>\n",
              "      <th>grade</th>\n",
              "    </tr>\n",
              "  </thead>\n",
              "  <tbody>\n",
              "    <tr>\n",
              "      <th>0</th>\n",
              "      <td>female</td>\n",
              "      <td>group B</td>\n",
              "      <td>bachelor's degree</td>\n",
              "      <td>standard</td>\n",
              "      <td>none</td>\n",
              "      <td>72</td>\n",
              "      <td>72</td>\n",
              "      <td>74</td>\n",
              "      <td>72.666667</td>\n",
              "      <td>B+</td>\n",
              "    </tr>\n",
              "    <tr>\n",
              "      <th>1</th>\n",
              "      <td>female</td>\n",
              "      <td>group C</td>\n",
              "      <td>some college</td>\n",
              "      <td>standard</td>\n",
              "      <td>completed</td>\n",
              "      <td>69</td>\n",
              "      <td>90</td>\n",
              "      <td>88</td>\n",
              "      <td>82.333333</td>\n",
              "      <td>A-</td>\n",
              "    </tr>\n",
              "    <tr>\n",
              "      <th>2</th>\n",
              "      <td>female</td>\n",
              "      <td>group B</td>\n",
              "      <td>master's degree</td>\n",
              "      <td>standard</td>\n",
              "      <td>none</td>\n",
              "      <td>90</td>\n",
              "      <td>95</td>\n",
              "      <td>93</td>\n",
              "      <td>92.666667</td>\n",
              "      <td>A+</td>\n",
              "    </tr>\n",
              "    <tr>\n",
              "      <th>3</th>\n",
              "      <td>male</td>\n",
              "      <td>group A</td>\n",
              "      <td>associate's degree</td>\n",
              "      <td>free/reduced</td>\n",
              "      <td>none</td>\n",
              "      <td>47</td>\n",
              "      <td>57</td>\n",
              "      <td>44</td>\n",
              "      <td>49.333333</td>\n",
              "      <td>D</td>\n",
              "    </tr>\n",
              "    <tr>\n",
              "      <th>4</th>\n",
              "      <td>male</td>\n",
              "      <td>group C</td>\n",
              "      <td>some college</td>\n",
              "      <td>standard</td>\n",
              "      <td>none</td>\n",
              "      <td>76</td>\n",
              "      <td>78</td>\n",
              "      <td>75</td>\n",
              "      <td>76.333333</td>\n",
              "      <td>B+</td>\n",
              "    </tr>\n",
              "  </tbody>\n",
              "</table>\n",
              "</div>\n",
              "      <button class=\"colab-df-convert\" onclick=\"convertToInteractive('df-4fee4f0e-6688-49e4-a33e-7a6c48a5f9ef')\"\n",
              "              title=\"Convert this dataframe to an interactive table.\"\n",
              "              style=\"display:none;\">\n",
              "        \n",
              "  <svg xmlns=\"http://www.w3.org/2000/svg\" height=\"24px\"viewBox=\"0 0 24 24\"\n",
              "       width=\"24px\">\n",
              "    <path d=\"M0 0h24v24H0V0z\" fill=\"none\"/>\n",
              "    <path d=\"M18.56 5.44l.94 2.06.94-2.06 2.06-.94-2.06-.94-.94-2.06-.94 2.06-2.06.94zm-11 1L8.5 8.5l.94-2.06 2.06-.94-2.06-.94L8.5 2.5l-.94 2.06-2.06.94zm10 10l.94 2.06.94-2.06 2.06-.94-2.06-.94-.94-2.06-.94 2.06-2.06.94z\"/><path d=\"M17.41 7.96l-1.37-1.37c-.4-.4-.92-.59-1.43-.59-.52 0-1.04.2-1.43.59L10.3 9.45l-7.72 7.72c-.78.78-.78 2.05 0 2.83L4 21.41c.39.39.9.59 1.41.59.51 0 1.02-.2 1.41-.59l7.78-7.78 2.81-2.81c.8-.78.8-2.07 0-2.86zM5.41 20L4 18.59l7.72-7.72 1.47 1.35L5.41 20z\"/>\n",
              "  </svg>\n",
              "      </button>\n",
              "      \n",
              "  <style>\n",
              "    .colab-df-container {\n",
              "      display:flex;\n",
              "      flex-wrap:wrap;\n",
              "      gap: 12px;\n",
              "    }\n",
              "\n",
              "    .colab-df-convert {\n",
              "      background-color: #E8F0FE;\n",
              "      border: none;\n",
              "      border-radius: 50%;\n",
              "      cursor: pointer;\n",
              "      display: none;\n",
              "      fill: #1967D2;\n",
              "      height: 32px;\n",
              "      padding: 0 0 0 0;\n",
              "      width: 32px;\n",
              "    }\n",
              "\n",
              "    .colab-df-convert:hover {\n",
              "      background-color: #E2EBFA;\n",
              "      box-shadow: 0px 1px 2px rgba(60, 64, 67, 0.3), 0px 1px 3px 1px rgba(60, 64, 67, 0.15);\n",
              "      fill: #174EA6;\n",
              "    }\n",
              "\n",
              "    [theme=dark] .colab-df-convert {\n",
              "      background-color: #3B4455;\n",
              "      fill: #D2E3FC;\n",
              "    }\n",
              "\n",
              "    [theme=dark] .colab-df-convert:hover {\n",
              "      background-color: #434B5C;\n",
              "      box-shadow: 0px 1px 3px 1px rgba(0, 0, 0, 0.15);\n",
              "      filter: drop-shadow(0px 1px 2px rgba(0, 0, 0, 0.3));\n",
              "      fill: #FFFFFF;\n",
              "    }\n",
              "  </style>\n",
              "\n",
              "      <script>\n",
              "        const buttonEl =\n",
              "          document.querySelector('#df-4fee4f0e-6688-49e4-a33e-7a6c48a5f9ef button.colab-df-convert');\n",
              "        buttonEl.style.display =\n",
              "          google.colab.kernel.accessAllowed ? 'block' : 'none';\n",
              "\n",
              "        async function convertToInteractive(key) {\n",
              "          const element = document.querySelector('#df-4fee4f0e-6688-49e4-a33e-7a6c48a5f9ef');\n",
              "          const dataTable =\n",
              "            await google.colab.kernel.invokeFunction('convertToInteractive',\n",
              "                                                     [key], {});\n",
              "          if (!dataTable) return;\n",
              "\n",
              "          const docLinkHtml = 'Like what you see? Visit the ' +\n",
              "            '<a target=\"_blank\" href=https://colab.research.google.com/notebooks/data_table.ipynb>data table notebook</a>'\n",
              "            + ' to learn more about interactive tables.';\n",
              "          element.innerHTML = '';\n",
              "          dataTable['output_type'] = 'display_data';\n",
              "          await google.colab.output.renderOutput(dataTable, element);\n",
              "          const docLink = document.createElement('div');\n",
              "          docLink.innerHTML = docLinkHtml;\n",
              "          element.appendChild(docLink);\n",
              "        }\n",
              "      </script>\n",
              "    </div>\n",
              "  </div>\n",
              "  "
            ],
            "text/plain": [
              "   gender     race          parent_edu  ... writing_score    average  grade\n",
              "0  female  group B   bachelor's degree  ...            74  72.666667     B+\n",
              "1  female  group C        some college  ...            88  82.333333     A-\n",
              "2  female  group B     master's degree  ...            93  92.666667     A+\n",
              "3    male  group A  associate's degree  ...            44  49.333333      D\n",
              "4    male  group C        some college  ...            75  76.333333     B+\n",
              "\n",
              "[5 rows x 10 columns]"
            ]
          },
          "metadata": {},
          "execution_count": 44
        }
      ]
    },
    {
      "cell_type": "markdown",
      "source": [
        "## Build Correlation"
      ],
      "metadata": {
        "id": "s--xkXcm0hOH"
      }
    },
    {
      "cell_type": "code",
      "source": [
        "# TRANSFORM data with labelEncoder\n",
        "from sklearn.preprocessing import LabelEncoder\n",
        "le = LabelEncoder()\n",
        "df['gender'] = le.fit_transform(df['gender'])\n",
        "df['race'] = le.fit_transform(df['race'])\n",
        "df['parent_edu'] = le.fit_transform(df['parent_edu'])\n",
        "df['test_completed'] = le.fit_transform(df['test_completed'])\n",
        "df['lunch_type'] = le.fit_transform(df['lunch_type'])\n",
        "df.head()"
      ],
      "metadata": {
        "colab": {
          "base_uri": "https://localhost:8080/",
          "height": 206
        },
        "id": "7nDxxE6G1M2L",
        "outputId": "08bf9618-48c1-4eba-d678-4f54877a8e4a"
      },
      "execution_count": 49,
      "outputs": [
        {
          "output_type": "execute_result",
          "data": {
            "text/html": [
              "\n",
              "  <div id=\"df-5f9c893a-6a6c-4239-a1d7-4209c348204b\">\n",
              "    <div class=\"colab-df-container\">\n",
              "      <div>\n",
              "<style scoped>\n",
              "    .dataframe tbody tr th:only-of-type {\n",
              "        vertical-align: middle;\n",
              "    }\n",
              "\n",
              "    .dataframe tbody tr th {\n",
              "        vertical-align: top;\n",
              "    }\n",
              "\n",
              "    .dataframe thead th {\n",
              "        text-align: right;\n",
              "    }\n",
              "</style>\n",
              "<table border=\"1\" class=\"dataframe\">\n",
              "  <thead>\n",
              "    <tr style=\"text-align: right;\">\n",
              "      <th></th>\n",
              "      <th>gender</th>\n",
              "      <th>race</th>\n",
              "      <th>parent_edu</th>\n",
              "      <th>lunch_type</th>\n",
              "      <th>test_completed</th>\n",
              "      <th>math_score</th>\n",
              "      <th>reading_score</th>\n",
              "      <th>writing_score</th>\n",
              "      <th>average</th>\n",
              "      <th>grade</th>\n",
              "    </tr>\n",
              "  </thead>\n",
              "  <tbody>\n",
              "    <tr>\n",
              "      <th>0</th>\n",
              "      <td>0</td>\n",
              "      <td>1</td>\n",
              "      <td>1</td>\n",
              "      <td>1</td>\n",
              "      <td>1</td>\n",
              "      <td>72</td>\n",
              "      <td>72</td>\n",
              "      <td>74</td>\n",
              "      <td>72.666667</td>\n",
              "      <td>B+</td>\n",
              "    </tr>\n",
              "    <tr>\n",
              "      <th>1</th>\n",
              "      <td>0</td>\n",
              "      <td>2</td>\n",
              "      <td>4</td>\n",
              "      <td>1</td>\n",
              "      <td>0</td>\n",
              "      <td>69</td>\n",
              "      <td>90</td>\n",
              "      <td>88</td>\n",
              "      <td>82.333333</td>\n",
              "      <td>A-</td>\n",
              "    </tr>\n",
              "    <tr>\n",
              "      <th>2</th>\n",
              "      <td>0</td>\n",
              "      <td>1</td>\n",
              "      <td>3</td>\n",
              "      <td>1</td>\n",
              "      <td>1</td>\n",
              "      <td>90</td>\n",
              "      <td>95</td>\n",
              "      <td>93</td>\n",
              "      <td>92.666667</td>\n",
              "      <td>A+</td>\n",
              "    </tr>\n",
              "    <tr>\n",
              "      <th>3</th>\n",
              "      <td>1</td>\n",
              "      <td>0</td>\n",
              "      <td>0</td>\n",
              "      <td>0</td>\n",
              "      <td>1</td>\n",
              "      <td>47</td>\n",
              "      <td>57</td>\n",
              "      <td>44</td>\n",
              "      <td>49.333333</td>\n",
              "      <td>D</td>\n",
              "    </tr>\n",
              "    <tr>\n",
              "      <th>4</th>\n",
              "      <td>1</td>\n",
              "      <td>2</td>\n",
              "      <td>4</td>\n",
              "      <td>1</td>\n",
              "      <td>1</td>\n",
              "      <td>76</td>\n",
              "      <td>78</td>\n",
              "      <td>75</td>\n",
              "      <td>76.333333</td>\n",
              "      <td>B+</td>\n",
              "    </tr>\n",
              "  </tbody>\n",
              "</table>\n",
              "</div>\n",
              "      <button class=\"colab-df-convert\" onclick=\"convertToInteractive('df-5f9c893a-6a6c-4239-a1d7-4209c348204b')\"\n",
              "              title=\"Convert this dataframe to an interactive table.\"\n",
              "              style=\"display:none;\">\n",
              "        \n",
              "  <svg xmlns=\"http://www.w3.org/2000/svg\" height=\"24px\"viewBox=\"0 0 24 24\"\n",
              "       width=\"24px\">\n",
              "    <path d=\"M0 0h24v24H0V0z\" fill=\"none\"/>\n",
              "    <path d=\"M18.56 5.44l.94 2.06.94-2.06 2.06-.94-2.06-.94-.94-2.06-.94 2.06-2.06.94zm-11 1L8.5 8.5l.94-2.06 2.06-.94-2.06-.94L8.5 2.5l-.94 2.06-2.06.94zm10 10l.94 2.06.94-2.06 2.06-.94-2.06-.94-.94-2.06-.94 2.06-2.06.94z\"/><path d=\"M17.41 7.96l-1.37-1.37c-.4-.4-.92-.59-1.43-.59-.52 0-1.04.2-1.43.59L10.3 9.45l-7.72 7.72c-.78.78-.78 2.05 0 2.83L4 21.41c.39.39.9.59 1.41.59.51 0 1.02-.2 1.41-.59l7.78-7.78 2.81-2.81c.8-.78.8-2.07 0-2.86zM5.41 20L4 18.59l7.72-7.72 1.47 1.35L5.41 20z\"/>\n",
              "  </svg>\n",
              "      </button>\n",
              "      \n",
              "  <style>\n",
              "    .colab-df-container {\n",
              "      display:flex;\n",
              "      flex-wrap:wrap;\n",
              "      gap: 12px;\n",
              "    }\n",
              "\n",
              "    .colab-df-convert {\n",
              "      background-color: #E8F0FE;\n",
              "      border: none;\n",
              "      border-radius: 50%;\n",
              "      cursor: pointer;\n",
              "      display: none;\n",
              "      fill: #1967D2;\n",
              "      height: 32px;\n",
              "      padding: 0 0 0 0;\n",
              "      width: 32px;\n",
              "    }\n",
              "\n",
              "    .colab-df-convert:hover {\n",
              "      background-color: #E2EBFA;\n",
              "      box-shadow: 0px 1px 2px rgba(60, 64, 67, 0.3), 0px 1px 3px 1px rgba(60, 64, 67, 0.15);\n",
              "      fill: #174EA6;\n",
              "    }\n",
              "\n",
              "    [theme=dark] .colab-df-convert {\n",
              "      background-color: #3B4455;\n",
              "      fill: #D2E3FC;\n",
              "    }\n",
              "\n",
              "    [theme=dark] .colab-df-convert:hover {\n",
              "      background-color: #434B5C;\n",
              "      box-shadow: 0px 1px 3px 1px rgba(0, 0, 0, 0.15);\n",
              "      filter: drop-shadow(0px 1px 2px rgba(0, 0, 0, 0.3));\n",
              "      fill: #FFFFFF;\n",
              "    }\n",
              "  </style>\n",
              "\n",
              "      <script>\n",
              "        const buttonEl =\n",
              "          document.querySelector('#df-5f9c893a-6a6c-4239-a1d7-4209c348204b button.colab-df-convert');\n",
              "        buttonEl.style.display =\n",
              "          google.colab.kernel.accessAllowed ? 'block' : 'none';\n",
              "\n",
              "        async function convertToInteractive(key) {\n",
              "          const element = document.querySelector('#df-5f9c893a-6a6c-4239-a1d7-4209c348204b');\n",
              "          const dataTable =\n",
              "            await google.colab.kernel.invokeFunction('convertToInteractive',\n",
              "                                                     [key], {});\n",
              "          if (!dataTable) return;\n",
              "\n",
              "          const docLinkHtml = 'Like what you see? Visit the ' +\n",
              "            '<a target=\"_blank\" href=https://colab.research.google.com/notebooks/data_table.ipynb>data table notebook</a>'\n",
              "            + ' to learn more about interactive tables.';\n",
              "          element.innerHTML = '';\n",
              "          dataTable['output_type'] = 'display_data';\n",
              "          await google.colab.output.renderOutput(dataTable, element);\n",
              "          const docLink = document.createElement('div');\n",
              "          docLink.innerHTML = docLinkHtml;\n",
              "          element.appendChild(docLink);\n",
              "        }\n",
              "      </script>\n",
              "    </div>\n",
              "  </div>\n",
              "  "
            ],
            "text/plain": [
              "   gender  race  parent_edu  ...  writing_score    average  grade\n",
              "0       0     1           1  ...             74  72.666667     B+\n",
              "1       0     2           4  ...             88  82.333333     A-\n",
              "2       0     1           3  ...             93  92.666667     A+\n",
              "3       1     0           0  ...             44  49.333333      D\n",
              "4       1     2           4  ...             75  76.333333     B+\n",
              "\n",
              "[5 rows x 10 columns]"
            ]
          },
          "metadata": {},
          "execution_count": 49
        }
      ]
    },
    {
      "cell_type": "code",
      "source": [
        "plt.figure(figsize=(10,6))\n",
        "sns.heatmap(df.corr(), annot=True, cmap='viridis', linewidth=1)"
      ],
      "metadata": {
        "colab": {
          "base_uri": "https://localhost:8080/",
          "height": 463
        },
        "id": "CZZr_zEV0gML",
        "outputId": "a7538140-9837-47ac-94a7-3d513e2b76fd"
      },
      "execution_count": 50,
      "outputs": [
        {
          "output_type": "execute_result",
          "data": {
            "text/plain": [
              "<matplotlib.axes._subplots.AxesSubplot at 0x7fd7aa27e910>"
            ]
          },
          "metadata": {},
          "execution_count": 50
        },
        {
          "output_type": "display_data",
          "data": {
            "image/png": "[encoded data removed]",
            "text/plain": [
              "<Figure size 720x432 with 2 Axes>"
            ]
          },
          "metadata": {
            "needs_background": "light"
          }
        }
      ]
    },
    {
      "cell_type": "markdown",
      "source": [
        "## MADE A Modelling"
      ],
      "metadata": {
        "id": "GjG90i6U5Hod"
      }
    },
    {
      "cell_type": "code",
      "source": [
        "# PREDICT Math Score\n",
        "X = df[['gender', 'race', 'parent_edu', 'lunch_type', \n",
        "        'test_completed', 'writing_score','reading_score']].values\n",
        "y = df['math_score'].values\n",
        "y = y.reshape(len(y),1)"
      ],
      "metadata": {
        "id": "XE2SFmOs0sHQ"
      },
      "execution_count": 51,
      "outputs": []
    },
    {
      "cell_type": "code",
      "source": [
        "# Train TEST split\n",
        "from sklearn.model_selection import train_test_split\n",
        "X_train, X_test, y_train, y_test = train_test_split(X, y, test_size=0.25, random_state=42)"
      ],
      "metadata": {
        "id": "iwOYeFyB69Ul"
      },
      "execution_count": 68,
      "outputs": []
    },
    {
      "cell_type": "code",
      "source": [
        "# Scaling Feature of dataset\n",
        "from sklearn.preprocessing import StandardScaler\n",
        "sc_X = StandardScaler()\n",
        "sc_y = StandardScaler()\n",
        "X_train = sc_X.fit_transform(X_train)\n",
        "y_train = sc_y.fit_transform(y_train)"
      ],
      "metadata": {
        "id": "TAqttbKN7OH0"
      },
      "execution_count": 69,
      "outputs": []
    },
    {
      "cell_type": "code",
      "source": [
        "# Model\n",
        "from sklearn.svm import SVR\n",
        "model = SVR(kernel = 'linear')\n",
        "model.fit(X_train, y_train)"
      ],
      "metadata": {
        "colab": {
          "base_uri": "https://localhost:8080/"
        },
        "id": "L3LgsbKu7f1F",
        "outputId": "98541c2b-5cce-4207-bf64-1ea6ac99c7c7"
      },
      "execution_count": 70,
      "outputs": [
        {
          "output_type": "stream",
          "name": "stderr",
          "text": [
            "/usr/local/lib/python3.7/dist-packages/sklearn/utils/validation.py:993: DataConversionWarning:\n",
            "\n",
            "A column-vector y was passed when a 1d array was expected. Please change the shape of y to (n_samples, ), for example using ravel().\n",
            "\n"
          ]
        },
        {
          "output_type": "execute_result",
          "data": {
            "text/plain": [
              "SVR(kernel='linear')"
            ]
          },
          "metadata": {},
          "execution_count": 70
        }
      ]
    },
    {
      "cell_type": "code",
      "source": [
        "# PREDICTION step\n",
        "y_pred = sc_y.inverse_transform(model.predict(sc_X.transform(X_test)).reshape(-1, 1))\n",
        "np.set_printoptions(precision=2)\n",
        "data = np.concatenate((y_pred.reshape(len(y_pred), 1), y_test.reshape(len(y_test), 1)),1)"
      ],
      "metadata": {
        "id": "lpdfzKwX977O"
      },
      "execution_count": 76,
      "outputs": []
    },
    {
      "cell_type": "code",
      "source": [
        "# Accuracy\n",
        "from sklearn.metrics import r2_score\n",
        "print(\"Score accuracy of R2 Score: {0}\".format(r2_score(y_test, y_pred)))"
      ],
      "metadata": {
        "colab": {
          "base_uri": "https://localhost:8080/"
        },
        "id": "G_V0GhEsBhmw",
        "outputId": "1269a40a-0bbf-4afa-cbaf-d3fd05f4205c"
      },
      "execution_count": 79,
      "outputs": [
        {
          "output_type": "stream",
          "name": "stdout",
          "text": [
            "Score accuracy of R2 Score: 0.8795610281967219\n"
          ]
        }
      ]
    },
    {
      "cell_type": "code",
      "source": [
        "dataset = pd.DataFrame({'y_test':data[:,0], 'y_pred':data[:,1]})\n",
        "dataset.head()"
      ],
      "metadata": {
        "colab": {
          "base_uri": "https://localhost:8080/",
          "height": 206
        },
        "id": "rfN-YqdDDLlK",
        "outputId": "5abd71a4-712c-493f-d5fe-66ebb354e774"
      },
      "execution_count": 81,
      "outputs": [
        {
          "output_type": "execute_result",
          "data": {
            "text/html": [
              "\n",
              "  <div id=\"df-2de66e39-d826-4105-a1df-6d478121a1f7\">\n",
              "    <div class=\"colab-df-container\">\n",
              "      <div>\n",
              "<style scoped>\n",
              "    .dataframe tbody tr th:only-of-type {\n",
              "        vertical-align: middle;\n",
              "    }\n",
              "\n",
              "    .dataframe tbody tr th {\n",
              "        vertical-align: top;\n",
              "    }\n",
              "\n",
              "    .dataframe thead th {\n",
              "        text-align: right;\n",
              "    }\n",
              "</style>\n",
              "<table border=\"1\" class=\"dataframe\">\n",
              "  <thead>\n",
              "    <tr style=\"text-align: right;\">\n",
              "      <th></th>\n",
              "      <th>y_test</th>\n",
              "      <th>y_pred</th>\n",
              "    </tr>\n",
              "  </thead>\n",
              "  <tbody>\n",
              "    <tr>\n",
              "      <th>0</th>\n",
              "      <td>77.198399</td>\n",
              "      <td>91.0</td>\n",
              "    </tr>\n",
              "    <tr>\n",
              "      <th>1</th>\n",
              "      <td>56.913774</td>\n",
              "      <td>53.0</td>\n",
              "    </tr>\n",
              "    <tr>\n",
              "      <th>2</th>\n",
              "      <td>79.271836</td>\n",
              "      <td>80.0</td>\n",
              "    </tr>\n",
              "    <tr>\n",
              "      <th>3</th>\n",
              "      <td>77.077821</td>\n",
              "      <td>74.0</td>\n",
              "    </tr>\n",
              "    <tr>\n",
              "      <th>4</th>\n",
              "      <td>85.081630</td>\n",
              "      <td>84.0</td>\n",
              "    </tr>\n",
              "  </tbody>\n",
              "</table>\n",
              "</div>\n",
              "      <button class=\"colab-df-convert\" onclick=\"convertToInteractive('df-2de66e39-d826-4105-a1df-6d478121a1f7')\"\n",
              "              title=\"Convert this dataframe to an interactive table.\"\n",
              "              style=\"display:none;\">\n",
              "        \n",
              "  <svg xmlns=\"http://www.w3.org/2000/svg\" height=\"24px\"viewBox=\"0 0 24 24\"\n",
              "       width=\"24px\">\n",
              "    <path d=\"M0 0h24v24H0V0z\" fill=\"none\"/>\n",
              "    <path d=\"M18.56 5.44l.94 2.06.94-2.06 2.06-.94-2.06-.94-.94-2.06-.94 2.06-2.06.94zm-11 1L8.5 8.5l.94-2.06 2.06-.94-2.06-.94L8.5 2.5l-.94 2.06-2.06.94zm10 10l.94 2.06.94-2.06 2.06-.94-2.06-.94-.94-2.06-.94 2.06-2.06.94z\"/><path d=\"M17.41 7.96l-1.37-1.37c-.4-.4-.92-.59-1.43-.59-.52 0-1.04.2-1.43.59L10.3 9.45l-7.72 7.72c-.78.78-.78 2.05 0 2.83L4 21.41c.39.39.9.59 1.41.59.51 0 1.02-.2 1.41-.59l7.78-7.78 2.81-2.81c.8-.78.8-2.07 0-2.86zM5.41 20L4 18.59l7.72-7.72 1.47 1.35L5.41 20z\"/>\n",
              "  </svg>\n",
              "      </button>\n",
              "      \n",
              "  <style>\n",
              "    .colab-df-container {\n",
              "      display:flex;\n",
              "      flex-wrap:wrap;\n",
              "      gap: 12px;\n",
              "    }\n",
              "\n",
              "    .colab-df-convert {\n",
              "      background-color: #E8F0FE;\n",
              "      border: none;\n",
              "      border-radius: 50%;\n",
              "      cursor: pointer;\n",
              "      display: none;\n",
              "      fill: #1967D2;\n",
              "      height: 32px;\n",
              "      padding: 0 0 0 0;\n",
              "      width: 32px;\n",
              "    }\n",
              "\n",
              "    .colab-df-convert:hover {\n",
              "      background-color: #E2EBFA;\n",
              "      box-shadow: 0px 1px 2px rgba(60, 64, 67, 0.3), 0px 1px 3px 1px rgba(60, 64, 67, 0.15);\n",
              "      fill: #174EA6;\n",
              "    }\n",
              "\n",
              "    [theme=dark] .colab-df-convert {\n",
              "      background-color: #3B4455;\n",
              "      fill: #D2E3FC;\n",
              "    }\n",
              "\n",
              "    [theme=dark] .colab-df-convert:hover {\n",
              "      background-color: #434B5C;\n",
              "      box-shadow: 0px 1px 3px 1px rgba(0, 0, 0, 0.15);\n",
              "      filter: drop-shadow(0px 1px 2px rgba(0, 0, 0, 0.3));\n",
              "      fill: #FFFFFF;\n",
              "    }\n",
              "  </style>\n",
              "\n",
              "      <script>\n",
              "        const buttonEl =\n",
              "          document.querySelector('#df-2de66e39-d826-4105-a1df-6d478121a1f7 button.colab-df-convert');\n",
              "        buttonEl.style.display =\n",
              "          google.colab.kernel.accessAllowed ? 'block' : 'none';\n",
              "\n",
              "        async function convertToInteractive(key) {\n",
              "          const element = document.querySelector('#df-2de66e39-d826-4105-a1df-6d478121a1f7');\n",
              "          const dataTable =\n",
              "            await google.colab.kernel.invokeFunction('convertToInteractive',\n",
              "                                                     [key], {});\n",
              "          if (!dataTable) return;\n",
              "\n",
              "          const docLinkHtml = 'Like what you see? Visit the ' +\n",
              "            '<a target=\"_blank\" href=https://colab.research.google.com/notebooks/data_table.ipynb>data table notebook</a>'\n",
              "            + ' to learn more about interactive tables.';\n",
              "          element.innerHTML = '';\n",
              "          dataTable['output_type'] = 'display_data';\n",
              "          await google.colab.output.renderOutput(dataTable, element);\n",
              "          const docLink = document.createElement('div');\n",
              "          docLink.innerHTML = docLinkHtml;\n",
              "          element.appendChild(docLink);\n",
              "        }\n",
              "      </script>\n",
              "    </div>\n",
              "  </div>\n",
              "  "
            ],
            "text/plain": [
              "      y_test  y_pred\n",
              "0  77.198399    91.0\n",
              "1  56.913774    53.0\n",
              "2  79.271836    80.0\n",
              "3  77.077821    74.0\n",
              "4  85.081630    84.0"
            ]
          },
          "metadata": {},
          "execution_count": 81
        }
      ]
    },
    {
      "cell_type": "code",
      "source": [
        "# Visualize\n",
        "fig = go.Figure()\n",
        "fig.add_trace(go.Scatter(x=dataset.index, y=dataset['y_test'], name='Actual Value',\n",
        "                         line=dict(color='royalblue', width=3)))\n",
        "fig.add_trace(go.Scatter(x=dataset.index, y=dataset['y_pred'], name='Predicted Value',\n",
        "                         line=dict(color='firebrick', width=2)))"
      ],
      "metadata": {
        "colab": {
          "base_uri": "https://localhost:8080/",
          "height": 542
        },
        "id": "F-oBBlQHDjqB",
        "outputId": "c1c835ec-82fc-4980-c854-1dad5b1606ab"
      },
      "execution_count": 83,
      "outputs": [
        {
          "output_type": "display_data",
          "data": {
            "text/html": [
              "<html>\n",
              "<head><meta charset=\"utf-8\" /></head>\n",
              "<body>\n",
              "    <div>            <script src=\"https://cdnjs.cloudflare.com/ajax/libs/mathjax/2.7.5/MathJax.js?config=TeX-AMS-MML_SVG\"></script><script type=\"text/javascript\">if (window.MathJax) {MathJax.Hub.Config({SVG: {font: \"STIX-Web\"}});}</script>                <script type=\"text/javascript\">window.PlotlyConfig = {MathJaxConfig: 'local'};</script>\n",
              "        <script src=\"https://cdn.plot.ly/plotly-2.8.3.min.js\"></script>                <div id=\"2d95cd87-3ca4-4564-a7e2-13c8f548f6a4\" class=\"plotly-graph-div\" style=\"height:525px; width:100%;\"></div>            <script type=\"text/javascript\">                                    window.PLOTLYENV=window.PLOTLYENV || {};                                    if (document.getElementById(\"2d95cd87-3ca4-4564-a7e2-13c8f548f6a4\")) {                    Plotly.newPlot(                        \"2d95cd87-3ca4-4564-a7e2-13c8f548f6a4\",                        [{\"line\":{\"color\":\"royalblue\",\"width\":3},\"name\":\"Actual Value\",\"x\":[0,1,2,3,4,5,6,7,8,9,10,11,12,13,14,15,16,17,18,19,20,21,22,23,24,25,26,27,28,29,30,31,32,33,34,35,36,37,38,39,40,41,42,43,44,45,46,47,48,49,50,51,52,53,54,55,56,57,58,59,60,61,62,63,64,65,66,67,68,69,70,71,72,73,74,75,76,77,78,79,80,81,82,83,84,85,86,87,88,89,90,91,92,93,94,95,96,97,98,99,100,101,102,103,104,105,106,107,108,109,110,111,112,113,114,115,116,117,118,119,120,121,122,123,124,125,126,127,128,129,130,131,132,133,134,135,136,137,138,139,140,141,142,143,144,145,146,147,148,149,150,151,152,153,154,155,156,157,158,159,160,161,162,163,164,165,166,167,168,169,170,171,172,173,174,175,176,177,178,179,180,181,182,183,184,185,186,187,188,189,190,191,192,193,194,195,196,197,198,199,200,201,202,203,204,205,206,207,208,209,210,211,212,213,214,215,216,217,218,219,220,221,222,223,224,225,226,227,228,229,230,231,232,233,234,235,236,237,238,239,240,241,242,243,244,245,246,247,248,249],\"y\":[77.19839897878059,56.913774137853736,79.2718355596319,77.0778212046156,85.08162957896673,79.41644485573936,64.59882569216468,52.74300672447052,74.37383888238273,50.68501779192919,50.27653636264628,34.4094809901609,66.29705334932294,53.63107305041565,87.72279138290463,72.19709669555603,54.215300580497626,49.140039455260805,51.110633330654046,54.128084998646244,76.70191412409937,40.597851350771464,58.42161993694379,37.58366254615727,79.68942795609651,82.76976286129744,78.20863218727402,48.0556846407988,30.44981115987533,50.54133408121842,65.07164187987989,71.12676097078992,60.73628467176839,79.85409971166268,81.40476628850361,44.236581280276084,77.53201237509633,71.3158463457013,68.94600382719779,5.7421893817420795,79.38514402752055,67.3807093208243,70.0218722824834,58.06086672178904,81.92671894962999,62.97388262597663,72.65469503942816,25.277369287679974,88.61957065577118,68.99087777157186,75.15049371127172,68.50060872219963,82.08912634975374,44.478345513254666,66.91272648922109,68.47180634800974,87.55825658120267,59.7149035692236,82.41038321172918,80.04410935955812,46.44438729641485,72.56739749673818,71.03051522487087,53.593865120163755,89.41806725585374,64.76639423891125,60.5012711653833,55.75612531677762,57.407597457659676,84.14862580175011,68.9826111150827,81.62993842591428,58.7086136131276,44.78800819074273,63.06603145429342,82.1631671526075,84.33839929156555,58.65738727931668,58.1208879633593,55.12890525953564,64.46512813202854,42.47514375312086,80.86532291422304,66.97555473340267,75.22006369658949,54.99326262059698,69.07052485375898,63.04830389692217,77.47138207913721,24.320415108035306,77.15224363328285,89.27368470218178,65.05163557117113,74.1797478705033,29.232285878830048,72.58731517459776,68.53235468313036,60.55954663119396,67.37290556485331,55.951742401729796,77.50071154687932,63.035558697014565,59.812139309209705,59.15667141072171,72.72456468972374,67.93008306466795,50.97429253489289,80.92534415579448,69.53911605361358,49.70320533181163,36.27551403828146,71.98906808323439,58.60402581804417,54.346042822809885,75.23250150563388,62.544542379820115,51.53754772843047,51.23288217404111,71.48409686937724,79.05274884182785,58.91938456344056,54.1536975866902,89.56273154498831,64.87203553495883,61.0434473073217,71.5476712236599,69.08773304346461,67.03164123644733,48.14745956918648,74.20808665804297,75.63613049156793,78.0412903829619,46.62415135614847,87.81669418445075,64.6401208684271,33.300211272891104,79.86442069249627,81.13269973524703,73.67993664554777,37.91781007577375,46.37830807463075,58.988119909655516,60.729161304815214,55.15171972857738,79.48479741841865,46.407109291099594,41.33970691486243,78.54071882438046,54.11307544329827,76.15034290361798,71.64044628929138,75.5869573243792,67.1877549284685,61.02161579259824,87.37205175771983,69.00845044556358,45.11335424443491,62.53280272759844,73.864480071401,48.53791377611855,65.17601112999625,64.25694448163812,71.7917153656986,55.329601058686514,89.85292283505106,72.858626734147,49.47305152307382,89.19350348669465,61.59487421778917,70.4822769428291,83.26283118739337,76.21369824135047,80.7797788731804,71.52813632933814,57.103532074048765,25.59605440335163,60.12589117841691,67.60762723399414,88.12036895678918,69.29621635883335,59.44867003773725,60.57008731471495,84.61745225791041,61.25178584109111,91.77289170513772,64.3433333049611,63.31514579665949,57.93113071329829,71.43361664566865,87.82002712289028,51.81447329320289,60.3800022741453,67.5036407674146,65.4158029994673,54.461624160010786,44.87531471888768,59.982281547967844,66.64354117352593,68.07521992591069,64.85868900654908,67.46377177387451,69.16110081344505,76.97445209174379,69.19958851551334,68.14698081970262,22.75292312502347,89.22170453238408,69.01929851994738,70.08189352405486,45.20179507666011,68.67801748020196,53.55104434241291,67.83171186287952,67.25808657750883,60.27102688193775,43.59867691563419,70.21148475094465,62.79024135132479,79.48707732747931,88.57788533982344,73.52373316495435,49.550499970902926,69.71599887578665,85.89558086710707,31.630403206388237,85.46200553131064,59.64556032634183,60.2254068274627,74.17883915113771,62.80070779989334,76.83036988918622,67.61594956964623,47.848945943469545,52.55157793360277,48.62407469928422,56.01076397764222,49.87781597081063,62.61905459705765,58.78038154666776,84.640175780659,50.548230705733175,49.84901359661854,80.22032030658286,50.174221908462115,88.28262384943093,62.32673590541933,64.19139119568342,81.42683348972213,40.90204549077451,89.95015973275956],\"type\":\"scatter\"},{\"line\":{\"color\":\"firebrick\",\"width\":2},\"name\":\"Predicted Value\",\"x\":[0,1,2,3,4,5,6,7,8,9,10,11,12,13,14,15,16,17,18,19,20,21,22,23,24,25,26,27,28,29,30,31,32,33,34,35,36,37,38,39,40,41,42,43,44,45,46,47,48,49,50,51,52,53,54,55,56,57,58,59,60,61,62,63,64,65,66,67,68,69,70,71,72,73,74,75,76,77,78,79,80,81,82,83,84,85,86,87,88,89,90,91,92,93,94,95,96,97,98,99,100,101,102,103,104,105,106,107,108,109,110,111,112,113,114,115,116,117,118,119,120,121,122,123,124,125,126,127,128,129,130,131,132,133,134,135,136,137,138,139,140,141,142,143,144,145,146,147,148,149,150,151,152,153,154,155,156,157,158,159,160,161,162,163,164,165,166,167,168,169,170,171,172,173,174,175,176,177,178,179,180,181,182,183,184,185,186,187,188,189,190,191,192,193,194,195,196,197,198,199,200,201,202,203,204,205,206,207,208,209,210,211,212,213,214,215,216,217,218,219,220,221,222,223,224,225,226,227,228,229,230,231,232,233,234,235,236,237,238,239,240,241,242,243,244,245,246,247,248,249],\"y\":[91.0,53.0,80.0,74.0,84.0,81.0,69.0,54.0,87.0,51.0,45.0,30.0,67.0,49.0,85.0,65.0,53.0,55.0,48.0,56.0,79.0,43.0,45.0,36.0,80.0,80.0,68.0,40.0,34.0,49.0,62.0,71.0,62.0,76.0,84.0,45.0,77.0,69.0,73.0,0.0,82.0,65.0,67.0,54.0,90.0,59.0,74.0,29.0,89.0,75.0,71.0,64.0,79.0,48.0,69.0,69.0,88.0,58.0,87.0,85.0,46.0,71.0,81.0,58.0,84.0,66.0,55.0,59.0,58.0,82.0,66.0,81.0,58.0,37.0,63.0,77.0,85.0,57.0,48.0,51.0,63.0,45.0,83.0,60.0,63.0,62.0,68.0,60.0,77.0,28.0,79.0,100.0,69.0,66.0,19.0,75.0,60.0,58.0,69.0,56.0,73.0,66.0,67.0,64.0,71.0,70.0,53.0,75.0,68.0,44.0,29.0,71.0,57.0,45.0,76.0,61.0,45.0,55.0,73.0,78.0,50.0,62.0,81.0,64.0,64.0,73.0,73.0,67.0,61.0,67.0,65.0,80.0,59.0,88.0,62.0,33.0,79.0,84.0,73.0,41.0,50.0,58.0,55.0,45.0,88.0,46.0,51.0,75.0,49.0,75.0,74.0,61.0,62.0,68.0,78.0,71.0,49.0,59.0,79.0,51.0,56.0,76.0,69.0,51.0,82.0,73.0,40.0,93.0,59.0,73.0,85.0,76.0,77.0,67.0,61.0,27.0,54.0,65.0,87.0,70.0,54.0,66.0,85.0,56.0,90.0,70.0,61.0,49.0,81.0,87.0,49.0,68.0,77.0,78.0,60.0,52.0,62.0,74.0,65.0,61.0,62.0,66.0,79.0,61.0,73.0,30.0,96.0,57.0,68.0,48.0,67.0,59.0,74.0,65.0,62.0,47.0,80.0,68.0,79.0,89.0,69.0,53.0,64.0,82.0,36.0,90.0,64.0,52.0,67.0,51.0,79.0,63.0,52.0,40.0,40.0,63.0,46.0,65.0,62.0,90.0,47.0,59.0,77.0,52.0,99.0,70.0,64.0,80.0,42.0,97.0],\"type\":\"scatter\"}],                        {\"template\":{\"data\":{\"bar\":[{\"error_x\":{\"color\":\"#2a3f5f\"},\"error_y\":{\"color\":\"#2a3f5f\"},\"marker\":{\"line\":{\"color\":\"#E5ECF6\",\"width\":0.5},\"pattern\":{\"fillmode\":\"overlay\",\"size\":10,\"solidity\":0.2}},\"type\":\"bar\"}],\"barpolar\":[{\"marker\":{\"line\":{\"color\":\"#E5ECF6\",\"width\":0.5},\"pattern\":{\"fillmode\":\"overlay\",\"size\":10,\"solidity\":0.2}},\"type\":\"barpolar\"}],\"carpet\":[{\"aaxis\":{\"endlinecolor\":\"#2a3f5f\",\"gridcolor\":\"white\",\"linecolor\":\"white\",\"minorgridcolor\":\"white\",\"startlinecolor\":\"#2a3f5f\"},\"baxis\":{\"endlinecolor\":\"#2a3f5f\",\"gridcolor\":\"white\",\"linecolor\":\"white\",\"minorgridcolor\":\"white\",\"startlinecolor\":\"#2a3f5f\"},\"type\":\"carpet\"}],\"choropleth\":[{\"colorbar\":{\"outlinewidth\":0,\"ticks\":\"\"},\"type\":\"choropleth\"}],\"contour\":[{\"colorbar\":{\"outlinewidth\":0,\"ticks\":\"\"},\"colorscale\":[[0.0,\"#0d0887\"],[0.1111111111111111,\"#46039f\"],[0.2222222222222222,\"#7201a8\"],[0.3333333333333333,\"#9c179e\"],[0.4444444444444444,\"#bd3786\"],[0.5555555555555556,\"#d8576b\"],[0.6666666666666666,\"#ed7953\"],[0.7777777777777778,\"#fb9f3a\"],[0.8888888888888888,\"#fdca26\"],[1.0,\"#f0f921\"]],\"type\":\"contour\"}],\"contourcarpet\":[{\"colorbar\":{\"outlinewidth\":0,\"ticks\":\"\"},\"type\":\"contourcarpet\"}],\"heatmap\":[{\"colorbar\":{\"outlinewidth\":0,\"ticks\":\"\"},\"colorscale\":[[0.0,\"#0d0887\"],[0.1111111111111111,\"#46039f\"],[0.2222222222222222,\"#7201a8\"],[0.3333333333333333,\"#9c179e\"],[0.4444444444444444,\"#bd3786\"],[0.5555555555555556,\"#d8576b\"],[0.6666666666666666,\"#ed7953\"],[0.7777777777777778,\"#fb9f3a\"],[0.8888888888888888,\"#fdca26\"],[1.0,\"#f0f921\"]],\"type\":\"heatmap\"}],\"heatmapgl\":[{\"colorbar\":{\"outlinewidth\":0,\"ticks\":\"\"},\"colorscale\":[[0.0,\"#0d0887\"],[0.1111111111111111,\"#46039f\"],[0.2222222222222222,\"#7201a8\"],[0.3333333333333333,\"#9c179e\"],[0.4444444444444444,\"#bd3786\"],[0.5555555555555556,\"#d8576b\"],[0.6666666666666666,\"#ed7953\"],[0.7777777777777778,\"#fb9f3a\"],[0.8888888888888888,\"#fdca26\"],[1.0,\"#f0f921\"]],\"type\":\"heatmapgl\"}],\"histogram\":[{\"marker\":{\"pattern\":{\"fillmode\":\"overlay\",\"size\":10,\"solidity\":0.2}},\"type\":\"histogram\"}],\"histogram2d\":[{\"colorbar\":{\"outlinewidth\":0,\"ticks\":\"\"},\"colorscale\":[[0.0,\"#0d0887\"],[0.1111111111111111,\"#46039f\"],[0.2222222222222222,\"#7201a8\"],[0.3333333333333333,\"#9c179e\"],[0.4444444444444444,\"#bd3786\"],[0.5555555555555556,\"#d8576b\"],[0.6666666666666666,\"#ed7953\"],[0.7777777777777778,\"#fb9f3a\"],[0.8888888888888888,\"#fdca26\"],[1.0,\"#f0f921\"]],\"type\":\"histogram2d\"}],\"histogram2dcontour\":[{\"colorbar\":{\"outlinewidth\":0,\"ticks\":\"\"},\"colorscale\":[[0.0,\"#0d0887\"],[0.1111111111111111,\"#46039f\"],[0.2222222222222222,\"#7201a8\"],[0.3333333333333333,\"#9c179e\"],[0.4444444444444444,\"#bd3786\"],[0.5555555555555556,\"#d8576b\"],[0.6666666666666666,\"#ed7953\"],[0.7777777777777778,\"#fb9f3a\"],[0.8888888888888888,\"#fdca26\"],[1.0,\"#f0f921\"]],\"type\":\"histogram2dcontour\"}],\"mesh3d\":[{\"colorbar\":{\"outlinewidth\":0,\"ticks\":\"\"},\"type\":\"mesh3d\"}],\"parcoords\":[{\"line\":{\"colorbar\":{\"outlinewidth\":0,\"ticks\":\"\"}},\"type\":\"parcoords\"}],\"pie\":[{\"automargin\":true,\"type\":\"pie\"}],\"scatter\":[{\"marker\":{\"colorbar\":{\"outlinewidth\":0,\"ticks\":\"\"}},\"type\":\"scatter\"}],\"scatter3d\":[{\"line\":{\"colorbar\":{\"outlinewidth\":0,\"ticks\":\"\"}},\"marker\":{\"colorbar\":{\"outlinewidth\":0,\"ticks\":\"\"}},\"type\":\"scatter3d\"}],\"scattercarpet\":[{\"marker\":{\"colorbar\":{\"outlinewidth\":0,\"ticks\":\"\"}},\"type\":\"scattercarpet\"}],\"scattergeo\":[{\"marker\":{\"colorbar\":{\"outlinewidth\":0,\"ticks\":\"\"}},\"type\":\"scattergeo\"}],\"scattergl\":[{\"marker\":{\"colorbar\":{\"outlinewidth\":0,\"ticks\":\"\"}},\"type\":\"scattergl\"}],\"scattermapbox\":[{\"marker\":{\"colorbar\":{\"outlinewidth\":0,\"ticks\":\"\"}},\"type\":\"scattermapbox\"}],\"scatterpolar\":[{\"marker\":{\"colorbar\":{\"outlinewidth\":0,\"ticks\":\"\"}},\"type\":\"scatterpolar\"}],\"scatterpolargl\":[{\"marker\":{\"colorbar\":{\"outlinewidth\":0,\"ticks\":\"\"}},\"type\":\"scatterpolargl\"}],\"scatterternary\":[{\"marker\":{\"colorbar\":{\"outlinewidth\":0,\"ticks\":\"\"}},\"type\":\"scatterternary\"}],\"surface\":[{\"colorbar\":{\"outlinewidth\":0,\"ticks\":\"\"},\"colorscale\":[[0.0,\"#0d0887\"],[0.1111111111111111,\"#46039f\"],[0.2222222222222222,\"#7201a8\"],[0.3333333333333333,\"#9c179e\"],[0.4444444444444444,\"#bd3786\"],[0.5555555555555556,\"#d8576b\"],[0.6666666666666666,\"#ed7953\"],[0.7777777777777778,\"#fb9f3a\"],[0.8888888888888888,\"#fdca26\"],[1.0,\"#f0f921\"]],\"type\":\"surface\"}],\"table\":[{\"cells\":{\"fill\":{\"color\":\"#EBF0F8\"},\"line\":{\"color\":\"white\"}},\"header\":{\"fill\":{\"color\":\"#C8D4E3\"},\"line\":{\"color\":\"white\"}},\"type\":\"table\"}]},\"layout\":{\"annotationdefaults\":{\"arrowcolor\":\"#2a3f5f\",\"arrowhead\":0,\"arrowwidth\":1},\"autotypenumbers\":\"strict\",\"coloraxis\":{\"colorbar\":{\"outlinewidth\":0,\"ticks\":\"\"}},\"colorscale\":{\"diverging\":[[0,\"#8e0152\"],[0.1,\"#c51b7d\"],[0.2,\"#de77ae\"],[0.3,\"#f1b6da\"],[0.4,\"#fde0ef\"],[0.5,\"#f7f7f7\"],[0.6,\"#e6f5d0\"],[0.7,\"#b8e186\"],[0.8,\"#7fbc41\"],[0.9,\"#4d9221\"],[1,\"#276419\"]],\"sequential\":[[0.0,\"#0d0887\"],[0.1111111111111111,\"#46039f\"],[0.2222222222222222,\"#7201a8\"],[0.3333333333333333,\"#9c179e\"],[0.4444444444444444,\"#bd3786\"],[0.5555555555555556,\"#d8576b\"],[0.6666666666666666,\"#ed7953\"],[0.7777777777777778,\"#fb9f3a\"],[0.8888888888888888,\"#fdca26\"],[1.0,\"#f0f921\"]],\"sequentialminus\":[[0.0,\"#0d0887\"],[0.1111111111111111,\"#46039f\"],[0.2222222222222222,\"#7201a8\"],[0.3333333333333333,\"#9c179e\"],[0.4444444444444444,\"#bd3786\"],[0.5555555555555556,\"#d8576b\"],[0.6666666666666666,\"#ed7953\"],[0.7777777777777778,\"#fb9f3a\"],[0.8888888888888888,\"#fdca26\"],[1.0,\"#f0f921\"]]},\"colorway\":[\"#636efa\",\"#EF553B\",\"#00cc96\",\"#ab63fa\",\"#FFA15A\",\"#19d3f3\",\"#FF6692\",\"#B6E880\",\"#FF97FF\",\"#FECB52\"],\"font\":{\"color\":\"#2a3f5f\"},\"geo\":{\"bgcolor\":\"white\",\"lakecolor\":\"white\",\"landcolor\":\"#E5ECF6\",\"showlakes\":true,\"showland\":true,\"subunitcolor\":\"white\"},\"hoverlabel\":{\"align\":\"left\"},\"hovermode\":\"closest\",\"mapbox\":{\"style\":\"light\"},\"paper_bgcolor\":\"white\",\"plot_bgcolor\":\"#E5ECF6\",\"polar\":{\"angularaxis\":{\"gridcolor\":\"white\",\"linecolor\":\"white\",\"ticks\":\"\"},\"bgcolor\":\"#E5ECF6\",\"radialaxis\":{\"gridcolor\":\"white\",\"linecolor\":\"white\",\"ticks\":\"\"}},\"scene\":{\"xaxis\":{\"backgroundcolor\":\"#E5ECF6\",\"gridcolor\":\"white\",\"gridwidth\":2,\"linecolor\":\"white\",\"showbackground\":true,\"ticks\":\"\",\"zerolinecolor\":\"white\"},\"yaxis\":{\"backgroundcolor\":\"#E5ECF6\",\"gridcolor\":\"white\",\"gridwidth\":2,\"linecolor\":\"white\",\"showbackground\":true,\"ticks\":\"\",\"zerolinecolor\":\"white\"},\"zaxis\":{\"backgroundcolor\":\"#E5ECF6\",\"gridcolor\":\"white\",\"gridwidth\":2,\"linecolor\":\"white\",\"showbackground\":true,\"ticks\":\"\",\"zerolinecolor\":\"white\"}},\"shapedefaults\":{\"line\":{\"color\":\"#2a3f5f\"}},\"ternary\":{\"aaxis\":{\"gridcolor\":\"white\",\"linecolor\":\"white\",\"ticks\":\"\"},\"baxis\":{\"gridcolor\":\"white\",\"linecolor\":\"white\",\"ticks\":\"\"},\"bgcolor\":\"#E5ECF6\",\"caxis\":{\"gridcolor\":\"white\",\"linecolor\":\"white\",\"ticks\":\"\"}},\"title\":{\"x\":0.05},\"xaxis\":{\"automargin\":true,\"gridcolor\":\"white\",\"linecolor\":\"white\",\"ticks\":\"\",\"title\":{\"standoff\":15},\"zerolinecolor\":\"white\",\"zerolinewidth\":2},\"yaxis\":{\"automargin\":true,\"gridcolor\":\"white\",\"linecolor\":\"white\",\"ticks\":\"\",\"title\":{\"standoff\":15},\"zerolinecolor\":\"white\",\"zerolinewidth\":2}}}},                        {\"responsive\": true}                    ).then(function(){\n",
              "                            \n",
              "var gd = document.getElementById('2d95cd87-3ca4-4564-a7e2-13c8f548f6a4');\n",
              "var x = new MutationObserver(function (mutations, observer) {{\n",
              "        var display = window.getComputedStyle(gd).display;\n",
              "        if (!display || display === 'none') {{\n",
              "            console.log([gd, 'removed!']);\n",
              "            Plotly.purge(gd);\n",
              "            observer.disconnect();\n",
              "        }}\n",
              "}});\n",
              "\n",
              "// Listen for the removal of the full notebook cells\n",
              "var notebookContainer = gd.closest('#notebook-container');\n",
              "if (notebookContainer) {{\n",
              "    x.observe(notebookContainer, {childList: true});\n",
              "}}\n",
              "\n",
              "// Listen for the clearing of the current output cell\n",
              "var outputEl = gd.closest('.output');\n",
              "if (outputEl) {{\n",
              "    x.observe(outputEl, {childList: true});\n",
              "}}\n",
              "\n",
              "                        })                };                            </script>        </div>\n",
              "</body>\n",
              "</html>"
            ]
          },
          "metadata": {}
        }
      ]
    },
    {
      "cell_type": "code",
      "source": [
        "# FINISH"
      ],
      "metadata": {
        "id": "tHriTv5dEJi_"
      },
      "execution_count": null,
      "outputs": []
    }
  ]
}