{
  "nbformat": 4,
  "nbformat_minor": 0,
  "metadata": {
    "colab": {
      "name": "sentiment_eda.ipynb",
      "provenance": [],
      "authorship_tag": "ABX9TyMAvATGl+TWUbDWNCKStnOs"
    },
    "kernelspec": {
      "name": "python3",
      "display_name": "Python 3"
    },
    "language_info": {
      "name": "python"
    }
  },
  "cells": [
    {
      "cell_type": "markdown",
      "metadata": {
        "id": "_9KClh2N1h6R"
      },
      "source": [
        "**Remarks**\n",
        "\n",
        "In this part, learn we about dataset [Amazon Baby](https://www.kaggle.com/roopalik/amazon-baby-dataset). Let's we use traditional classification without applying NLP process."
      ]
    },
    {
      "cell_type": "code",
      "metadata": {
        "colab": {
          "base_uri": "https://localhost:8080/"
        },
        "id": "6BR5DyWPyami",
        "outputId": "c1ec9531-c2a6-4cd0-87ce-b2dd8dca6c6a"
      },
      "source": [
        "# call the dataset\n",
        "!mkdir -p ~/.kaggle\n",
        "!cp kaggle.json ~/.kaggle/\n",
        "!cmod 600 ~/.kaggle/kaggle.json\n",
        "!kaggle datasets download -d roopalik/amazon-baby-dataset"
      ],
      "execution_count": 1,
      "outputs": [
        {
          "output_type": "stream",
          "text": [
            "/bin/bash: cmod: command not found\n",
            "Warning: Your Kaggle API key is readable by other users on this system! To fix this, you can run 'chmod 600 /root/.kaggle/kaggle.json'\n",
            "Downloading amazon-baby-dataset.zip to /content\n",
            " 93% 17.0M/18.2M [00:00<00:00, 25.9MB/s]\n",
            "100% 18.2M/18.2M [00:00<00:00, 26.7MB/s]\n"
          ],
          "name": "stdout"
        }
      ]
    },
    {
      "cell_type": "code",
      "metadata": {
        "colab": {
          "base_uri": "https://localhost:8080/"
        },
        "id": "yOL0zq9a2bZf",
        "outputId": "f9ab2bf7-b3db-48df-be77-44a5a4138459"
      },
      "source": [
        "# unzipping dataset \n",
        "!unzip \"amazon-baby-dataset.zip\""
      ],
      "execution_count": 2,
      "outputs": [
        {
          "output_type": "stream",
          "text": [
            "Archive:  amazon-baby-dataset.zip\n",
            "  inflating: reviews_Baby_5_final_dataset.csv  \n"
          ],
          "name": "stdout"
        }
      ]
    },
    {
      "cell_type": "code",
      "metadata": {
        "colab": {
          "base_uri": "https://localhost:8080/",
          "height": 141
        },
        "id": "qQwu7wVe2i8q",
        "outputId": "ec82581c-4d05-4a5b-ae08-dda261142c9b"
      },
      "source": [
        "# showing dataset\n",
        "import pandas as pd\n",
        "data = pd.read_csv(\"reviews_Baby_5_final_dataset.csv\")\n",
        "data = data[['reviewerName ', 'reviewText', 'overall']]\n",
        "data.head(3)"
      ],
      "execution_count": 16,
      "outputs": [
        {
          "output_type": "execute_result",
          "data": {
            "text/html": [
              "<div>\n",
              "<style scoped>\n",
              "    .dataframe tbody tr th:only-of-type {\n",
              "        vertical-align: middle;\n",
              "    }\n",
              "\n",
              "    .dataframe tbody tr th {\n",
              "        vertical-align: top;\n",
              "    }\n",
              "\n",
              "    .dataframe thead th {\n",
              "        text-align: right;\n",
              "    }\n",
              "</style>\n",
              "<table border=\"1\" class=\"dataframe\">\n",
              "  <thead>\n",
              "    <tr style=\"text-align: right;\">\n",
              "      <th></th>\n",
              "      <th>reviewerName</th>\n",
              "      <th>reviewText</th>\n",
              "      <th>overall</th>\n",
              "    </tr>\n",
              "  </thead>\n",
              "  <tbody>\n",
              "    <tr>\n",
              "      <th>0</th>\n",
              "      <td>Jakell</td>\n",
              "      <td>This book is perfect!  I'm a first time new mo...</td>\n",
              "      <td>5</td>\n",
              "    </tr>\n",
              "    <tr>\n",
              "      <th>1</th>\n",
              "      <td>MAPN</td>\n",
              "      <td>I use this so that our babysitter (grandma) ca...</td>\n",
              "      <td>5</td>\n",
              "    </tr>\n",
              "    <tr>\n",
              "      <th>2</th>\n",
              "      <td>R. Davidson \"Jrdpa\"</td>\n",
              "      <td>I like this log, but think it would work bette...</td>\n",
              "      <td>3</td>\n",
              "    </tr>\n",
              "  </tbody>\n",
              "</table>\n",
              "</div>"
            ],
            "text/plain": [
              "         reviewerName   ... overall\n",
              "0               Jakell  ...       5\n",
              "1                 MAPN  ...       5\n",
              "2  R. Davidson \"Jrdpa\"  ...       3\n",
              "\n",
              "[3 rows x 3 columns]"
            ]
          },
          "metadata": {
            "tags": []
          },
          "execution_count": 16
        }
      ]
    },
    {
      "cell_type": "code",
      "metadata": {
        "colab": {
          "base_uri": "https://localhost:8080/"
        },
        "id": "gITXsgK03Xh7",
        "outputId": "606d9319-de1a-4a5a-ceea-85ab4d0c7806"
      },
      "source": [
        "# describe dataset\n",
        "print(\"Shape of dataframe\", data.shape)"
      ],
      "execution_count": 18,
      "outputs": [
        {
          "output_type": "stream",
          "text": [
            "Shape of dataframe (56950, 3)\n"
          ],
          "name": "stdout"
        }
      ]
    },
    {
      "cell_type": "code",
      "metadata": {
        "colab": {
          "base_uri": "https://localhost:8080/",
          "height": 141
        },
        "id": "M1uxvhBT3rff",
        "outputId": "4a5d4368-534f-4dd1-9d1a-0d1a1a5739e6"
      },
      "source": [
        "# Word Count Vector for each review\n",
        "# in this part, we don't dive in more NLP techniques\n",
        "data['word_count'] = data['reviewText'].str.split().str.len()\n",
        "data['unique'] = data['reviewText'].value_counts()\n",
        "data.head(3)"
      ],
      "execution_count": 23,
      "outputs": [
        {
          "output_type": "execute_result",
          "data": {
            "text/html": [
              "<div>\n",
              "<style scoped>\n",
              "    .dataframe tbody tr th:only-of-type {\n",
              "        vertical-align: middle;\n",
              "    }\n",
              "\n",
              "    .dataframe tbody tr th {\n",
              "        vertical-align: top;\n",
              "    }\n",
              "\n",
              "    .dataframe thead th {\n",
              "        text-align: right;\n",
              "    }\n",
              "</style>\n",
              "<table border=\"1\" class=\"dataframe\">\n",
              "  <thead>\n",
              "    <tr style=\"text-align: right;\">\n",
              "      <th></th>\n",
              "      <th>reviewerName</th>\n",
              "      <th>reviewText</th>\n",
              "      <th>overall</th>\n",
              "      <th>word_count</th>\n",
              "    </tr>\n",
              "  </thead>\n",
              "  <tbody>\n",
              "    <tr>\n",
              "      <th>0</th>\n",
              "      <td>Jakell</td>\n",
              "      <td>This book is perfect!  I'm a first time new mo...</td>\n",
              "      <td>5</td>\n",
              "      <td>46</td>\n",
              "    </tr>\n",
              "    <tr>\n",
              "      <th>1</th>\n",
              "      <td>MAPN</td>\n",
              "      <td>I use this so that our babysitter (grandma) ca...</td>\n",
              "      <td>5</td>\n",
              "      <td>148</td>\n",
              "    </tr>\n",
              "    <tr>\n",
              "      <th>2</th>\n",
              "      <td>R. Davidson \"Jrdpa\"</td>\n",
              "      <td>I like this log, but think it would work bette...</td>\n",
              "      <td>3</td>\n",
              "      <td>59</td>\n",
              "    </tr>\n",
              "  </tbody>\n",
              "</table>\n",
              "</div>"
            ],
            "text/plain": [
              "         reviewerName   ... word_count\n",
              "0               Jakell  ...         46\n",
              "1                 MAPN  ...        148\n",
              "2  R. Davidson \"Jrdpa\"  ...         59\n",
              "\n",
              "[3 rows x 4 columns]"
            ]
          },
          "metadata": {
            "tags": []
          },
          "execution_count": 23
        }
      ]
    },
    {
      "cell_type": "code",
      "metadata": {
        "colab": {
          "base_uri": "https://localhost:8080/",
          "height": 363
        },
        "id": "TagGQqzf4L9a",
        "outputId": "0f620144-b36f-40fd-966e-ae2777baee88"
      },
      "source": [
        "import matplotlib.pyplot as plt\n",
        "\n",
        "plt.title(\"Most Popular Person in Review\")\n",
        "data['reviewerName '].value_counts().head(10).plot(kind='bar');"
      ],
      "execution_count": 32,
      "outputs": [
        {
          "output_type": "display_data",
          "data": {
            "image/png": "[encoded data removed]",
            "text/plain": [
              "<Figure size 432x288 with 1 Axes>"
            ]
          },
          "metadata": {
            "tags": [],
            "needs_background": "light"
          }
        }
      ]
    },
    {
      "cell_type": "code",
      "metadata": {
        "colab": {
          "base_uri": "https://localhost:8080/",
          "height": 277
        },
        "id": "4fsp2WeG5_mA",
        "outputId": "853ef913-d01c-4fe4-a790-525aba4e2fdb"
      },
      "source": [
        "# explore Amazon Customer\n",
        "amazon_cust = data[data['reviewerName ']=='Amazon Customer']\n",
        "plt.title('Most popular score in Amazon Review')\n",
        "amazon_cust['overall'].value_counts().plot(kind='bar');"
      ],
      "execution_count": 36,
      "outputs": [
        {
          "output_type": "display_data",
          "data": {
            "image/png": "[encoded data removed]",
            "text/plain": [
              "<Figure size 432x288 with 1 Axes>"
            ]
          },
          "metadata": {
            "tags": [],
            "needs_background": "light"
          }
        }
      ]
    },
    {
      "cell_type": "code",
      "metadata": {
        "colab": {
          "base_uri": "https://localhost:8080/",
          "height": 284
        },
        "id": "1DI4gkJa6kIN",
        "outputId": "59174c82-92bd-4d94-b770-10a9bf06c7ad"
      },
      "source": [
        "plt.title(\"Average Number of comment in arround:\")\n",
        "amazon_cust['word_count'].value_counts().head(10).plot(kind='bar');"
      ],
      "execution_count": 41,
      "outputs": [
        {
          "output_type": "display_data",
          "data": {
            "image/png": "[encoded data removed]",
            "text/plain": [
              "<Figure size 432x288 with 1 Axes>"
            ]
          },
          "metadata": {
            "tags": [],
            "needs_background": "light"
          }
        }
      ]
    },
    {
      "cell_type": "code",
      "metadata": {
        "colab": {
          "base_uri": "https://localhost:8080/",
          "height": 277
        },
        "id": "znf0qzlI7Dpm",
        "outputId": "5513c58e-030c-4206-bacc-83c184e1cf61"
      },
      "source": [
        "# build sentiment classifier\n",
        "y = data.overall\n",
        "plt.title(\"Average rating in reviews\")\n",
        "y.value_counts().plot(kind='bar');"
      ],
      "execution_count": 44,
      "outputs": [
        {
          "output_type": "display_data",
          "data": {
            "image/png": "[encoded data removed]",
            "text/plain": [
              "<Figure size 432x288 with 1 Axes>"
            ]
          },
          "metadata": {
            "tags": [],
            "needs_background": "light"
          }
        }
      ]
    },
    {
      "cell_type": "code",
      "metadata": {
        "id": "8aSxcua_7d_S"
      },
      "source": [
        "# define what's positive and negative sentiment\n",
        "# ignore all 3*review\n",
        "data = data[data['overall'] != 3]"
      ],
      "execution_count": 45,
      "outputs": []
    },
    {
      "cell_type": "code",
      "metadata": {
        "colab": {
          "base_uri": "https://localhost:8080/"
        },
        "id": "_r8CLsZn753I",
        "outputId": "74324a20-3165-4d08-9448-3bdbc669b45d"
      },
      "source": [
        "# positive sentimen = 4* or 5*\n",
        "data['sentiment'] = data.loc[:, ('overall')].apply(lambda x:'Positive' if x in (4,5) else 'Negative')"
      ],
      "execution_count": 50,
      "outputs": [
        {
          "output_type": "stream",
          "text": [
            "/usr/local/lib/python3.7/dist-packages/ipykernel_launcher.py:2: SettingWithCopyWarning: \n",
            "A value is trying to be set on a copy of a slice from a DataFrame.\n",
            "Try using .loc[row_indexer,col_indexer] = value instead\n",
            "\n",
            "See the caveats in the documentation: https://pandas.pydata.org/pandas-docs/stable/user_guide/indexing.html#returning-a-view-versus-a-copy\n",
            "  \n"
          ],
          "name": "stderr"
        }
      ]
    },
    {
      "cell_type": "code",
      "metadata": {
        "colab": {
          "base_uri": "https://localhost:8080/",
          "height": 202
        },
        "id": "E1N5OXLB8uYg",
        "outputId": "ace55038-d2cc-4ed2-a753-966c151ee2e5"
      },
      "source": [
        "data.head()"
      ],
      "execution_count": 53,
      "outputs": [
        {
          "output_type": "execute_result",
          "data": {
            "text/html": [
              "<div>\n",
              "<style scoped>\n",
              "    .dataframe tbody tr th:only-of-type {\n",
              "        vertical-align: middle;\n",
              "    }\n",
              "\n",
              "    .dataframe tbody tr th {\n",
              "        vertical-align: top;\n",
              "    }\n",
              "\n",
              "    .dataframe thead th {\n",
              "        text-align: right;\n",
              "    }\n",
              "</style>\n",
              "<table border=\"1\" class=\"dataframe\">\n",
              "  <thead>\n",
              "    <tr style=\"text-align: right;\">\n",
              "      <th></th>\n",
              "      <th>reviewerName</th>\n",
              "      <th>reviewText</th>\n",
              "      <th>overall</th>\n",
              "      <th>word_count</th>\n",
              "      <th>sentiment</th>\n",
              "    </tr>\n",
              "  </thead>\n",
              "  <tbody>\n",
              "    <tr>\n",
              "      <th>0</th>\n",
              "      <td>Jakell</td>\n",
              "      <td>This book is perfect!  I'm a first time new mo...</td>\n",
              "      <td>5</td>\n",
              "      <td>46</td>\n",
              "      <td>Positive</td>\n",
              "    </tr>\n",
              "    <tr>\n",
              "      <th>1</th>\n",
              "      <td>MAPN</td>\n",
              "      <td>I use this so that our babysitter (grandma) ca...</td>\n",
              "      <td>5</td>\n",
              "      <td>148</td>\n",
              "      <td>Positive</td>\n",
              "    </tr>\n",
              "    <tr>\n",
              "      <th>4</th>\n",
              "      <td>EmilyS</td>\n",
              "      <td>I have used this book since my son was born.  ...</td>\n",
              "      <td>5</td>\n",
              "      <td>117</td>\n",
              "      <td>Positive</td>\n",
              "    </tr>\n",
              "    <tr>\n",
              "      <th>5</th>\n",
              "      <td>John Ramahlo Jr.</td>\n",
              "      <td>THis has been helpful in tracking the feedings...</td>\n",
              "      <td>4</td>\n",
              "      <td>139</td>\n",
              "      <td>Positive</td>\n",
              "    </tr>\n",
              "    <tr>\n",
              "      <th>6</th>\n",
              "      <td>K. Kadrmas</td>\n",
              "      <td>if I didn't suck at documenting. Not sure exac...</td>\n",
              "      <td>4</td>\n",
              "      <td>70</td>\n",
              "      <td>Positive</td>\n",
              "    </tr>\n",
              "  </tbody>\n",
              "</table>\n",
              "</div>"
            ],
            "text/plain": [
              "      reviewerName   ... sentiment\n",
              "0            Jakell  ...  Positive\n",
              "1              MAPN  ...  Positive\n",
              "4            EmilyS  ...  Positive\n",
              "5  John Ramahlo Jr.  ...  Positive\n",
              "6        K. Kadrmas  ...  Positive\n",
              "\n",
              "[5 rows x 5 columns]"
            ]
          },
          "metadata": {
            "tags": []
          },
          "execution_count": 53
        }
      ]
    },
    {
      "cell_type": "code",
      "metadata": {
        "colab": {
          "base_uri": "https://localhost:8080/",
          "height": 315
        },
        "id": "ftr_F52y87VX",
        "outputId": "c3db42b3-3da8-4675-ae61-cea25202e0c7"
      },
      "source": [
        "plt.title('Number of data')\n",
        "data.sentiment.value_counts().plot(kind='bar');"
      ],
      "execution_count": 57,
      "outputs": [
        {
          "output_type": "display_data",
          "data": {
            "image/png": "[encoded data removed]",
            "text/plain": [
              "<Figure size 432x288 with 1 Axes>"
            ]
          },
          "metadata": {
            "tags": [],
            "needs_background": "light"
          }
        }
      ]
    }
  ]
}