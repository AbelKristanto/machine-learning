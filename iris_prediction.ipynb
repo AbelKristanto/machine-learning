{
  "nbformat": 4,
  "nbformat_minor": 0,
  "metadata": {
    "colab": {
      "name": "iris-prediction.ipynb",
      "provenance": [],
      "authorship_tag": "ABX9TyN8YIZDoQ8ALjp3L/Swz5Fx"
    },
    "kernelspec": {
      "name": "python3",
      "display_name": "Python 3"
    },
    "language_info": {
      "name": "python"
    }
  },
  "cells": [
    {
      "cell_type": "markdown",
      "metadata": {
        "id": "b5fQYfLJdhtG"
      },
      "source": [
        "**Remarks**\n",
        "\n",
        "We will learn how to predict using iris-dataset. Let's started"
      ]
    },
    {
      "cell_type": "code",
      "metadata": {
        "colab": {
          "base_uri": "https://localhost:8080/"
        },
        "id": "uau4nZe-dJRA",
        "outputId": "d26de52d-91cd-488f-8bee-b580e9cc9d36"
      },
      "source": [
        "# Preparation dataset\n",
        "!mkdir -p ~/.kaggle\n",
        "!cp kaggle.json ~/.kaggle/\n",
        "!chmod 600 ~/.kaggle/kaggle.json\n",
        "!kaggle datasets download -d uciml/iris"
      ],
      "execution_count": 2,
      "outputs": [
        {
          "output_type": "stream",
          "text": [
            "Downloading iris.zip to /content\n",
            "\r  0% 0.00/3.60k [00:00<?, ?B/s]\n",
            "\r100% 3.60k/3.60k [00:00<00:00, 3.21MB/s]\n"
          ],
          "name": "stdout"
        }
      ]
    },
    {
      "cell_type": "code",
      "metadata": {
        "colab": {
          "base_uri": "https://localhost:8080/"
        },
        "id": "Qvnw6jkhdnoe",
        "outputId": "9bb3c952-36a6-4428-9a02-04c9f013a918"
      },
      "source": [
        "!unzip \"iris.zip\""
      ],
      "execution_count": 3,
      "outputs": [
        {
          "output_type": "stream",
          "text": [
            "Archive:  iris.zip\n",
            "  inflating: Iris.csv                \n",
            "  inflating: database.sqlite         \n"
          ],
          "name": "stdout"
        }
      ]
    },
    {
      "cell_type": "code",
      "metadata": {
        "colab": {
          "base_uri": "https://localhost:8080/",
          "height": 202
        },
        "id": "XRxGMMwad5n4",
        "outputId": "c554a5d2-e50b-4329-d9c3-282257f1a0b9"
      },
      "source": [
        "# Read the dataset\n",
        "import pandas as pd\n",
        "data = pd.read_csv(\"Iris.csv\")\n",
        "data = data.drop('Id', axis=1)\n",
        "data.head()"
      ],
      "execution_count": 1,
      "outputs": [
        {
          "output_type": "execute_result",
          "data": {
            "text/html": [
              "<div>\n",
              "<style scoped>\n",
              "    .dataframe tbody tr th:only-of-type {\n",
              "        vertical-align: middle;\n",
              "    }\n",
              "\n",
              "    .dataframe tbody tr th {\n",
              "        vertical-align: top;\n",
              "    }\n",
              "\n",
              "    .dataframe thead th {\n",
              "        text-align: right;\n",
              "    }\n",
              "</style>\n",
              "<table border=\"1\" class=\"dataframe\">\n",
              "  <thead>\n",
              "    <tr style=\"text-align: right;\">\n",
              "      <th></th>\n",
              "      <th>SepalLengthCm</th>\n",
              "      <th>SepalWidthCm</th>\n",
              "      <th>PetalLengthCm</th>\n",
              "      <th>PetalWidthCm</th>\n",
              "      <th>Species</th>\n",
              "    </tr>\n",
              "  </thead>\n",
              "  <tbody>\n",
              "    <tr>\n",
              "      <th>0</th>\n",
              "      <td>5.1</td>\n",
              "      <td>3.5</td>\n",
              "      <td>1.4</td>\n",
              "      <td>0.2</td>\n",
              "      <td>Iris-setosa</td>\n",
              "    </tr>\n",
              "    <tr>\n",
              "      <th>1</th>\n",
              "      <td>4.9</td>\n",
              "      <td>3.0</td>\n",
              "      <td>1.4</td>\n",
              "      <td>0.2</td>\n",
              "      <td>Iris-setosa</td>\n",
              "    </tr>\n",
              "    <tr>\n",
              "      <th>2</th>\n",
              "      <td>4.7</td>\n",
              "      <td>3.2</td>\n",
              "      <td>1.3</td>\n",
              "      <td>0.2</td>\n",
              "      <td>Iris-setosa</td>\n",
              "    </tr>\n",
              "    <tr>\n",
              "      <th>3</th>\n",
              "      <td>4.6</td>\n",
              "      <td>3.1</td>\n",
              "      <td>1.5</td>\n",
              "      <td>0.2</td>\n",
              "      <td>Iris-setosa</td>\n",
              "    </tr>\n",
              "    <tr>\n",
              "      <th>4</th>\n",
              "      <td>5.0</td>\n",
              "      <td>3.6</td>\n",
              "      <td>1.4</td>\n",
              "      <td>0.2</td>\n",
              "      <td>Iris-setosa</td>\n",
              "    </tr>\n",
              "  </tbody>\n",
              "</table>\n",
              "</div>"
            ],
            "text/plain": [
              "   SepalLengthCm  SepalWidthCm  PetalLengthCm  PetalWidthCm      Species\n",
              "0            5.1           3.5            1.4           0.2  Iris-setosa\n",
              "1            4.9           3.0            1.4           0.2  Iris-setosa\n",
              "2            4.7           3.2            1.3           0.2  Iris-setosa\n",
              "3            4.6           3.1            1.5           0.2  Iris-setosa\n",
              "4            5.0           3.6            1.4           0.2  Iris-setosa"
            ]
          },
          "metadata": {
            "tags": []
          },
          "execution_count": 1
        }
      ]
    },
    {
      "cell_type": "code",
      "metadata": {
        "colab": {
          "base_uri": "https://localhost:8080/"
        },
        "id": "Gc52VMBtnbyh",
        "outputId": "6376b897-9b49-44dd-c242-22261d2d5b36"
      },
      "source": [
        "print(\"Show data minimum and maximum Sepal Length:\", (data.SepalLengthCm.min(), data.SepalLengthCm.max()))"
      ],
      "execution_count": 2,
      "outputs": [
        {
          "output_type": "stream",
          "text": [
            "Show data minimum and maximum Sepal Length: (4.3, 7.9)\n"
          ],
          "name": "stdout"
        }
      ]
    },
    {
      "cell_type": "code",
      "metadata": {
        "colab": {
          "base_uri": "https://localhost:8080/"
        },
        "id": "fgYpnxTVnzDF",
        "outputId": "e8a6f26c-c6f1-4cc3-e896-adc7d596f81d"
      },
      "source": [
        "print(\"Show data minimum and maximum Sepal Width:\", (data.SepalWidthCm.min(), data.SepalWidthCm.max()))"
      ],
      "execution_count": 3,
      "outputs": [
        {
          "output_type": "stream",
          "text": [
            "Show data minimum and maximum Sepal Width: (2.0, 4.4)\n"
          ],
          "name": "stdout"
        }
      ]
    },
    {
      "cell_type": "code",
      "metadata": {
        "colab": {
          "base_uri": "https://localhost:8080/"
        },
        "id": "N-ZxowiXn1sF",
        "outputId": "999bb6e1-399c-454d-a1f6-2de3b5962507"
      },
      "source": [
        "print(\"Show data minimum and maximum Petal Length:\", (data.PetalLengthCm.min(), data.PetalLengthCm.max()))"
      ],
      "execution_count": 4,
      "outputs": [
        {
          "output_type": "stream",
          "text": [
            "Show data minimum and maximum Petal Length: (1.0, 6.9)\n"
          ],
          "name": "stdout"
        }
      ]
    },
    {
      "cell_type": "code",
      "metadata": {
        "colab": {
          "base_uri": "https://localhost:8080/"
        },
        "id": "JPq3O9CSn32V",
        "outputId": "0b859bc9-bfe7-4c88-e43a-661bae09c0a5"
      },
      "source": [
        "print(\"Show data minimum and maximum Petal Width:\", (data.PetalWidthCm.min(), data.PetalWidthCm.max()))"
      ],
      "execution_count": 5,
      "outputs": [
        {
          "output_type": "stream",
          "text": [
            "Show data minimum and maximum Petal Width: (0.1, 2.5)\n"
          ],
          "name": "stdout"
        }
      ]
    },
    {
      "cell_type": "code",
      "metadata": {
        "colab": {
          "base_uri": "https://localhost:8080/"
        },
        "id": "6pYIeJLbeAIz",
        "outputId": "c707d1f2-23d5-4d27-8932-75a5d9fecb5c"
      },
      "source": [
        "print(\"Shape of dataset\", data.shape)"
      ],
      "execution_count": 6,
      "outputs": [
        {
          "output_type": "stream",
          "text": [
            "Shape of dataset (150, 5)\n"
          ],
          "name": "stdout"
        }
      ]
    },
    {
      "cell_type": "code",
      "metadata": {
        "colab": {
          "base_uri": "https://localhost:8080/",
          "height": 323
        },
        "id": "GYJc1DpBeeay",
        "outputId": "252df2c7-b0d3-489e-b279-24f9dca1c472"
      },
      "source": [
        "# Plotting species data\n",
        "import matplotlib.pyplot as plt\n",
        "%matplotlib inline\n",
        "\n",
        "data.Species.value_counts().plot(kind='bar');"
      ],
      "execution_count": 7,
      "outputs": [
        {
          "output_type": "display_data",
          "data": {
            "image/png": "[encoded data removed]",
            "text/plain": [
              "<Figure size 432x288 with 1 Axes>"
            ]
          },
          "metadata": {
            "tags": [],
            "needs_background": "light"
          }
        }
      ]
    },
    {
      "cell_type": "code",
      "metadata": {
        "id": "AAk3JshWe870"
      },
      "source": [
        "# From picture above, we know dataset that have same proportion\n",
        "# Splitting dataset\n",
        "X = data.drop(['Species'], axis=1)\n",
        "y = data.Species\n",
        "\n",
        "# ENCODING DATA\n",
        "y = y.apply(lambda x: 0 if x=='Iris-setosa' else(1 if x=='Iris-versicolor' else 2))\n",
        "\n",
        "from sklearn.model_selection import train_test_split\n",
        "\n",
        "X_train, X_test, y_train, y_test = train_test_split(X, y, test_size=0.3)"
      ],
      "execution_count": 10,
      "outputs": []
    },
    {
      "cell_type": "code",
      "metadata": {
        "colab": {
          "base_uri": "https://localhost:8080/",
          "height": 513
        },
        "id": "XGuDLDB7fcpL",
        "outputId": "a1269102-6d69-494e-9595-5094208e11f3"
      },
      "source": [
        "# Preparation model\n",
        "from sklearn.linear_model import LogisticRegression\n",
        "from sklearn.model_selection import KFold, GridSearchCV\n",
        "from sklearn.metrics import confusion_matrix, classification_report, accuracy_score, f1_score, precision_score, recall_score\n",
        "\n",
        "clf_base = LogisticRegression(C=30, class_weight='balanced', solver='newton-cg', \n",
        "                              multi_class='multinomial', n_jobs=-1, random_state=40)\n",
        "grid = { }\n",
        "clf = GridSearchCV(clf_base, grid, cv=3, n_jobs=-1, scoring='f1_macro')\n",
        "# clf = LogisticRegression(C=30, class_weight='balanced', dual=False,\n",
        "#                    fit_intercept=True, intercept_scaling=1, l1_ratio=None,\n",
        "#                    max_iter=100, multi_class='multinomial', n_jobs=-1,\n",
        "#                    penalty='l2', random_state=40, solver='newton-cg',\n",
        "#                    tol=0.0001, verbose=0, warm_start=False)\n",
        "clf.fit(X_train, y_train)\n",
        "y_pred = clf.predict(X_test)\n",
        "\n",
        "# Calculate metrics\n",
        "precision = precision_score(y_test, y_pred, pos_label=None, average='weighted')\n",
        "recall = recall_score(y_test, y_pred, pos_label=None, average='weighted')\n",
        "f1 = f1_score(y_test, y_pred, pos_label=None, average='weighted')\n",
        "accuracy = accuracy_score(y_test, y_pred)\n",
        "print(\"accuracy = %.3f, precision = %.3f, recall = %.3f, f1 = %.3f\\n\" % (accuracy, precision, recall, f1))\n",
        "print(\"Below is classification report:\")\n",
        "print(classification_report(y_test, y_pred))\n",
        "\n",
        "import seaborn as sns\n",
        "print(\"Below is confusion matrix:\")\n",
        "sns.heatmap(confusion_matrix(y_test, y_pred), annot=True, cmap='Blues');"
      ],
      "execution_count": 38,
      "outputs": [
        {
          "output_type": "stream",
          "text": [
            "accuracy = 0.978, precision = 0.980, recall = 0.978, f1 = 0.978\n",
            "\n",
            "Below is classification report:\n",
            "              precision    recall  f1-score   support\n",
            "\n",
            "           0       1.00      1.00      1.00        22\n",
            "           1       1.00      0.93      0.97        15\n",
            "           2       0.89      1.00      0.94         8\n",
            "\n",
            "    accuracy                           0.98        45\n",
            "   macro avg       0.96      0.98      0.97        45\n",
            "weighted avg       0.98      0.98      0.98        45\n",
            "\n",
            "Below is confusion matrix:\n"
          ],
          "name": "stdout"
        },
        {
          "output_type": "display_data",
          "data": {
            "image/png": "[encoded data removed]",
            "text/plain": [
              "<Figure size 432x288 with 2 Axes>"
            ]
          },
          "metadata": {
            "tags": [],
            "needs_background": "light"
          }
        }
      ]
    },
    {
      "cell_type": "code",
      "metadata": {
        "id": "wGN8hdVl53XE"
      },
      "source": [
        "# Saving model\n",
        "Pkl_Filename = \"model_iris.pkl\"  \n",
        "\n",
        "with open(Pkl_Filename, 'wb') as file:  \n",
        "    pickle.dump(clf, file)"
      ],
      "execution_count": 39,
      "outputs": []
    },
    {
      "cell_type": "code",
      "metadata": {
        "id": "L8jZZvZ9hVyq"
      },
      "source": [
        "# Let's Deploy"
      ],
      "execution_count": null,
      "outputs": []
    },
    {
      "cell_type": "code",
      "metadata": {
        "colab": {
          "base_uri": "https://localhost:8080/",
          "height": 78
        },
        "id": "M1a1szUjxoXL",
        "outputId": "3d322bcc-9e9f-4d86-af77-ce4619db069b"
      },
      "source": [
        "data = {'SepalLengthCm': 3,\n",
        "        'SepalWidthCm': 2,\n",
        "        'PetalLengthCm': 2,\n",
        "        'PetalWidthCm': 1}\n",
        "features = pd.DataFrame(data, index=[0])\n",
        "features"
      ],
      "execution_count": 20,
      "outputs": [
        {
          "output_type": "execute_result",
          "data": {
            "text/html": [
              "<div>\n",
              "<style scoped>\n",
              "    .dataframe tbody tr th:only-of-type {\n",
              "        vertical-align: middle;\n",
              "    }\n",
              "\n",
              "    .dataframe tbody tr th {\n",
              "        vertical-align: top;\n",
              "    }\n",
              "\n",
              "    .dataframe thead th {\n",
              "        text-align: right;\n",
              "    }\n",
              "</style>\n",
              "<table border=\"1\" class=\"dataframe\">\n",
              "  <thead>\n",
              "    <tr style=\"text-align: right;\">\n",
              "      <th></th>\n",
              "      <th>SepalLengthCm</th>\n",
              "      <th>SepalWidthCm</th>\n",
              "      <th>PetalLengthCm</th>\n",
              "      <th>PetalWidthCm</th>\n",
              "    </tr>\n",
              "  </thead>\n",
              "  <tbody>\n",
              "    <tr>\n",
              "      <th>0</th>\n",
              "      <td>3</td>\n",
              "      <td>2</td>\n",
              "      <td>2</td>\n",
              "      <td>1</td>\n",
              "    </tr>\n",
              "  </tbody>\n",
              "</table>\n",
              "</div>"
            ],
            "text/plain": [
              "   SepalLengthCm  SepalWidthCm  PetalLengthCm  PetalWidthCm\n",
              "0              3             2              2             1"
            ]
          },
          "metadata": {
            "tags": []
          },
          "execution_count": 20
        }
      ]
    },
    {
      "cell_type": "code",
      "metadata": {
        "id": "jd3RHJU06LZZ",
        "outputId": "4b57bd43-2b8c-4665-e175-8f57f99933ec",
        "colab": {
          "base_uri": "https://localhost:8080/"
        }
      },
      "source": [
        "with open(Pkl_Filename, 'rb') as file:  \n",
        "    pick = pickle.load(file)\n",
        "\n",
        "prediction = pick.predict(features)\n",
        "prediction"
      ],
      "execution_count": 42,
      "outputs": [
        {
          "output_type": "execute_result",
          "data": {
            "text/plain": [
              "array([0])"
            ]
          },
          "metadata": {
            "tags": []
          },
          "execution_count": 42
        }
      ]
    },
    {
      "cell_type": "code",
      "metadata": {
        "id": "S5Cr2XES7kAF",
        "outputId": "0d50e5e0-1b61-495c-c5e0-39e3d61c8b41",
        "colab": {
          "base_uri": "https://localhost:8080/",
          "height": 35
        }
      },
      "source": [
        "result = ['Iris-setosa' if prediction == 0 else ('Iris-versicolor' if prediction == 1 else 'Iris-virginica')]\n",
        "result[0]"
      ],
      "execution_count": 46,
      "outputs": [
        {
          "output_type": "execute_result",
          "data": {
            "application/vnd.google.colaboratory.intrinsic+json": {
              "type": "string"
            },
            "text/plain": [
              "'Iris-setosa'"
            ]
          },
          "metadata": {
            "tags": []
          },
          "execution_count": 46
        }
      ]
    }
  ]
}