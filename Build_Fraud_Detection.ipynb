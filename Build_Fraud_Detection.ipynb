{
  "nbformat": 4,
  "nbformat_minor": 0,
  "metadata": {
    "colab": {
      "name": "Build Fraud Detection.ipynb",
      "provenance": [],
      "authorship_tag": "ABX9TyNJIRl7ClF7RT1ZIsbmWbXp",
      "include_colab_link": true
    },
    "kernelspec": {
      "name": "python3",
      "display_name": "Python 3"
    },
    "language_info": {
      "name": "python"
    }
  },
  "cells": [
    {
      "cell_type": "markdown",
      "metadata": {
        "id": "view-in-github",
        "colab_type": "text"
      },
      "source": [
        "<a href=\"https://colab.research.google.com/github/AbelKristanto/machine_learning/blob/main/Build_Fraud_Detection.ipynb\" target=\"_parent\"><img src=\"https://colab.research.google.com/assets/colab-badge.svg\" alt=\"Open In Colab\"/></a>"
      ]
    },
    {
      "cell_type": "code",
      "metadata": {
        "id": "SYgtDUWSez6h"
      },
      "source": [
        ""
      ],
      "execution_count": null,
      "outputs": []
    },
    {
      "cell_type": "markdown",
      "metadata": {
        "id": "1amxt4YWiLrm"
      },
      "source": [
        "# Remarks\n",
        "In this notebook, we will learn more about \"how to check fraud\". We will learn tensorFlow. Let's started!"
      ]
    },
    {
      "cell_type": "code",
      "metadata": {
        "colab": {
          "base_uri": "https://localhost:8080/"
        },
        "id": "kPmBZEFVjQXW",
        "outputId": "36c1a2a5-e73d-4f83-ab29-3ce63b4b5d80"
      },
      "source": [
        "# import library data\n",
        "import tensorflow as tf\n",
        "import tensorflow.keras as keras\n",
        "import tensorflow.keras.layers as layers\n",
        "import functools\n",
        "import pandas as pd\n",
        "tf.executing_eagerly()"
      ],
      "execution_count": 19,
      "outputs": [
        {
          "output_type": "execute_result",
          "data": {
            "text/plain": [
              "True"
            ]
          },
          "metadata": {
            "tags": []
          },
          "execution_count": 19
        }
      ]
    },
    {
      "cell_type": "code",
      "metadata": {
        "colab": {
          "base_uri": "https://localhost:8080/"
        },
        "id": "uAGmFW5LiX_W",
        "outputId": "60f54b01-7599-4762-bcc4-d0626fe986b1"
      },
      "source": [
        "# prepare the data\n",
        "from google.colab import drive\n",
        "drive.mount('/content/gdrive')"
      ],
      "execution_count": 2,
      "outputs": [
        {
          "output_type": "stream",
          "text": [
            "Mounted at /content/gdrive\n"
          ],
          "name": "stdout"
        }
      ]
    },
    {
      "cell_type": "code",
      "metadata": {
        "colab": {
          "base_uri": "https://localhost:8080/"
        },
        "id": "PO3fF9Qkiz8U",
        "outputId": "2a582501-0248-4898-d5c8-51d0625d712c"
      },
      "source": [
        "!ls '/content/gdrive/My Drive/datasheet'"
      ],
      "execution_count": 3,
      "outputs": [
        {
          "output_type": "stream",
          "text": [
            "testing_data_fraud.csv\ttraining_data_fraud.csv  validation_data_fraud.csv\n"
          ],
          "name": "stdout"
        }
      ]
    },
    {
      "cell_type": "code",
      "metadata": {
        "id": "oNT9WUtVjLOH"
      },
      "source": [
        "train_data = pd.read_csv('/content/gdrive/My Drive/datasheet/training_data_fraud.csv')\n",
        "test_data = pd.read_csv('/content/gdrive/My Drive/datasheet/testing_data_fraud.csv')\n",
        "validation_data = pd.read_csv('/content/gdrive/My Drive/datasheet/validation_data_fraud.csv')"
      ],
      "execution_count": 10,
      "outputs": []
    },
    {
      "cell_type": "code",
      "metadata": {
        "id": "539kzRlvjpfV"
      },
      "source": [
        "# define features and label\n",
        "FEATURES = ['Time','V1','V2','V3','V4','V5','V6','V7','V8','V9','V10','V11','V12','V13','V14','V15','V16','V17','V18','V19','V20','V21','V22','V23','V24','V25','V26','V27','V28','Amount']\n",
        "LABEL='Class'"
      ],
      "execution_count": 11,
      "outputs": []
    },
    {
      "cell_type": "code",
      "metadata": {
        "colab": {
          "base_uri": "https://localhost:8080/"
        },
        "id": "cakioyAEj7uU",
        "outputId": "8232d592-847b-4ae7-d71e-7963800a6435"
      },
      "source": [
        "# preprocess data \n",
        "MEANS = [94816.7387536405, 0.0011219465482001268, -0.0021445914636999603, -0.002317402958335562,\n",
        "         -0.002525792169927835, -0.002136576923287782, -3.7586818983702984, 8.135919975738768E-4,\n",
        "         -0.0015535579268265718, 0.001436137140461279, -0.0012193712736681508, -4.5364970422902533E-4,\n",
        "         -4.6175444671576083E-4, 9.92177789685366E-4, 0.002366229151475428, 6.710217226762278E-4,\n",
        "         0.0010325807119864225, 2.557260815835395E-4, -2.0804190062322664E-4, -5.057391100818653E-4,\n",
        "         -3.452114767842334E-6, 1.0145936326270006E-4, 3.839214074518535E-4, 2.2061197469126577E-4,\n",
        "         -1.5601580596677608E-4, -8.235017846415852E-4, -7.298316615408554E-4, -6.898459943652376E-5,\n",
        "         4.724125688297753E-5, 88.73235686453587]\n",
        "def norm_data(mean, data):\n",
        "  data = tf.cast(data, tf.float32) * 1/(2*mean)\n",
        "  return tf.reshape(data, [-1, 1])\n",
        "\n",
        "numeric_columns = []\n",
        "\n",
        "for i, feature in enumerate(FEATURES):\n",
        "  num_col = tf.feature_column.numeric_column(feature, normalizer_fn=functools.partial(norm_data, MEANS[i]))\n",
        "  numeric_columns.append(num_col)\n",
        "\n",
        "numeric_columns"
      ],
      "execution_count": 12,
      "outputs": [
        {
          "output_type": "execute_result",
          "data": {
            "text/plain": [
              "[NumericColumn(key='Time', shape=(1,), default_value=None, dtype=tf.float32, normalizer_fn=functools.partial(<function norm_data at 0x7f4eb64a6c20>, 94816.7387536405)),\n",
              " NumericColumn(key='V1', shape=(1,), default_value=None, dtype=tf.float32, normalizer_fn=functools.partial(<function norm_data at 0x7f4eb64a6c20>, 0.0011219465482001268)),\n",
              " NumericColumn(key='V2', shape=(1,), default_value=None, dtype=tf.float32, normalizer_fn=functools.partial(<function norm_data at 0x7f4eb64a6c20>, -0.0021445914636999603)),\n",
              " NumericColumn(key='V3', shape=(1,), default_value=None, dtype=tf.float32, normalizer_fn=functools.partial(<function norm_data at 0x7f4eb64a6c20>, -0.002317402958335562)),\n",
              " NumericColumn(key='V4', shape=(1,), default_value=None, dtype=tf.float32, normalizer_fn=functools.partial(<function norm_data at 0x7f4eb64a6c20>, -0.002525792169927835)),\n",
              " NumericColumn(key='V5', shape=(1,), default_value=None, dtype=tf.float32, normalizer_fn=functools.partial(<function norm_data at 0x7f4eb64a6c20>, -0.002136576923287782)),\n",
              " NumericColumn(key='V6', shape=(1,), default_value=None, dtype=tf.float32, normalizer_fn=functools.partial(<function norm_data at 0x7f4eb64a6c20>, -3.7586818983702983)),\n",
              " NumericColumn(key='V7', shape=(1,), default_value=None, dtype=tf.float32, normalizer_fn=functools.partial(<function norm_data at 0x7f4eb64a6c20>, 0.0008135919975738768)),\n",
              " NumericColumn(key='V8', shape=(1,), default_value=None, dtype=tf.float32, normalizer_fn=functools.partial(<function norm_data at 0x7f4eb64a6c20>, -0.0015535579268265718)),\n",
              " NumericColumn(key='V9', shape=(1,), default_value=None, dtype=tf.float32, normalizer_fn=functools.partial(<function norm_data at 0x7f4eb64a6c20>, 0.001436137140461279)),\n",
              " NumericColumn(key='V10', shape=(1,), default_value=None, dtype=tf.float32, normalizer_fn=functools.partial(<function norm_data at 0x7f4eb64a6c20>, -0.0012193712736681508)),\n",
              " NumericColumn(key='V11', shape=(1,), default_value=None, dtype=tf.float32, normalizer_fn=functools.partial(<function norm_data at 0x7f4eb64a6c20>, -0.00045364970422902533)),\n",
              " NumericColumn(key='V12', shape=(1,), default_value=None, dtype=tf.float32, normalizer_fn=functools.partial(<function norm_data at 0x7f4eb64a6c20>, -0.00046175444671576083)),\n",
              " NumericColumn(key='V13', shape=(1,), default_value=None, dtype=tf.float32, normalizer_fn=functools.partial(<function norm_data at 0x7f4eb64a6c20>, 0.000992177789685366)),\n",
              " NumericColumn(key='V14', shape=(1,), default_value=None, dtype=tf.float32, normalizer_fn=functools.partial(<function norm_data at 0x7f4eb64a6c20>, 0.002366229151475428)),\n",
              " NumericColumn(key='V15', shape=(1,), default_value=None, dtype=tf.float32, normalizer_fn=functools.partial(<function norm_data at 0x7f4eb64a6c20>, 0.0006710217226762278)),\n",
              " NumericColumn(key='V16', shape=(1,), default_value=None, dtype=tf.float32, normalizer_fn=functools.partial(<function norm_data at 0x7f4eb64a6c20>, 0.0010325807119864225)),\n",
              " NumericColumn(key='V17', shape=(1,), default_value=None, dtype=tf.float32, normalizer_fn=functools.partial(<function norm_data at 0x7f4eb64a6c20>, 0.0002557260815835395)),\n",
              " NumericColumn(key='V18', shape=(1,), default_value=None, dtype=tf.float32, normalizer_fn=functools.partial(<function norm_data at 0x7f4eb64a6c20>, -0.00020804190062322664)),\n",
              " NumericColumn(key='V19', shape=(1,), default_value=None, dtype=tf.float32, normalizer_fn=functools.partial(<function norm_data at 0x7f4eb64a6c20>, -0.0005057391100818653)),\n",
              " NumericColumn(key='V20', shape=(1,), default_value=None, dtype=tf.float32, normalizer_fn=functools.partial(<function norm_data at 0x7f4eb64a6c20>, -3.452114767842334e-06)),\n",
              " NumericColumn(key='V21', shape=(1,), default_value=None, dtype=tf.float32, normalizer_fn=functools.partial(<function norm_data at 0x7f4eb64a6c20>, 0.00010145936326270006)),\n",
              " NumericColumn(key='V22', shape=(1,), default_value=None, dtype=tf.float32, normalizer_fn=functools.partial(<function norm_data at 0x7f4eb64a6c20>, 0.0003839214074518535)),\n",
              " NumericColumn(key='V23', shape=(1,), default_value=None, dtype=tf.float32, normalizer_fn=functools.partial(<function norm_data at 0x7f4eb64a6c20>, 0.00022061197469126577)),\n",
              " NumericColumn(key='V24', shape=(1,), default_value=None, dtype=tf.float32, normalizer_fn=functools.partial(<function norm_data at 0x7f4eb64a6c20>, -0.00015601580596677608)),\n",
              " NumericColumn(key='V25', shape=(1,), default_value=None, dtype=tf.float32, normalizer_fn=functools.partial(<function norm_data at 0x7f4eb64a6c20>, -0.0008235017846415852)),\n",
              " NumericColumn(key='V26', shape=(1,), default_value=None, dtype=tf.float32, normalizer_fn=functools.partial(<function norm_data at 0x7f4eb64a6c20>, -0.0007298316615408554)),\n",
              " NumericColumn(key='V27', shape=(1,), default_value=None, dtype=tf.float32, normalizer_fn=functools.partial(<function norm_data at 0x7f4eb64a6c20>, -6.898459943652376e-05)),\n",
              " NumericColumn(key='V28', shape=(1,), default_value=None, dtype=tf.float32, normalizer_fn=functools.partial(<function norm_data at 0x7f4eb64a6c20>, 4.724125688297753e-05)),\n",
              " NumericColumn(key='Amount', shape=(1,), default_value=None, dtype=tf.float32, normalizer_fn=functools.partial(<function norm_data at 0x7f4eb64a6c20>, 88.73235686453587))]"
            ]
          },
          "metadata": {
            "tags": []
          },
          "execution_count": 12
        }
      ]
    },
    {
      "cell_type": "code",
      "metadata": {
        "id": "55mcxTiokTdj"
      },
      "source": [
        "# create a model\n",
        "model = keras.Sequential([\n",
        "    tf.keras.layers.DenseFeatures(numeric_columns),\n",
        "    layers.Dense(64, activation='relu'),\n",
        "    layers.Dense(64, activation='relu'),\n",
        "    layers.Dense(1, activation='sigmoid')\n",
        "])\n",
        "\n",
        "model.compile(loss='binary_crossentropy',\n",
        "              optimizer='adam',\n",
        "              metrics=['accuracy', tf.keras.metrics.AUC(curve='PR')])"
      ],
      "execution_count": 13,
      "outputs": []
    },
    {
      "cell_type": "code",
      "metadata": {
        "colab": {
          "base_uri": "https://localhost:8080/",
          "height": 340
        },
        "id": "VlBTIoNvkimW",
        "outputId": "b7c9742f-53e9-4ca5-abdc-72cb71c48f33"
      },
      "source": [
        "# train a model\n",
        "CLASS_WEIGHT = {\n",
        "    0: 1,\n",
        "    1: 100\n",
        "}\n",
        "EPOCHS = 3\n",
        "\n",
        "train_data = tf.convert_to_tensor(train_data)\n",
        "val_data = tf.convert_to_tensor(validation_data)\n",
        "test_data = tf.convert_to_tensor(test_data)\n",
        "\n",
        "model.fit(train_data, validation_data=val_data, class_weight=CLASS_WEIGHT, epochs=EPOCHS)"
      ],
      "execution_count": 39,
      "outputs": [
        {
          "output_type": "error",
          "ename": "ValueError",
          "evalue": "ignored",
          "traceback": [
            "\u001b[0;31m---------------------------------------------------------------------------\u001b[0m",
            "\u001b[0;31mValueError\u001b[0m                                Traceback (most recent call last)",
            "\u001b[0;32m<ipython-input-39-a37cb27edb9d>\u001b[0m in \u001b[0;36m<module>\u001b[0;34m()\u001b[0m\n\u001b[1;32m     10\u001b[0m \u001b[0mtest_data\u001b[0m \u001b[0;34m=\u001b[0m \u001b[0mtf\u001b[0m\u001b[0;34m.\u001b[0m\u001b[0mconvert_to_tensor\u001b[0m\u001b[0;34m(\u001b[0m\u001b[0mtest_data\u001b[0m\u001b[0;34m)\u001b[0m\u001b[0;34m\u001b[0m\u001b[0;34m\u001b[0m\u001b[0m\n\u001b[1;32m     11\u001b[0m \u001b[0;34m\u001b[0m\u001b[0m\n\u001b[0;32m---> 12\u001b[0;31m \u001b[0mmodel\u001b[0m\u001b[0;34m.\u001b[0m\u001b[0mfit\u001b[0m\u001b[0;34m(\u001b[0m\u001b[0mtrain_data\u001b[0m\u001b[0;34m,\u001b[0m \u001b[0mvalidation_data\u001b[0m\u001b[0;34m=\u001b[0m\u001b[0mval_data\u001b[0m\u001b[0;34m,\u001b[0m \u001b[0mclass_weight\u001b[0m\u001b[0;34m=\u001b[0m\u001b[0mCLASS_WEIGHT\u001b[0m\u001b[0;34m,\u001b[0m \u001b[0mepochs\u001b[0m\u001b[0;34m=\u001b[0m\u001b[0mEPOCHS\u001b[0m\u001b[0;34m)\u001b[0m\u001b[0;34m\u001b[0m\u001b[0;34m\u001b[0m\u001b[0m\n\u001b[0m",
            "\u001b[0;32m/usr/local/lib/python3.7/dist-packages/tensorflow/python/keras/engine/training.py\u001b[0m in \u001b[0;36mfit\u001b[0;34m(self, x, y, batch_size, epochs, verbose, callbacks, validation_split, validation_data, shuffle, class_weight, sample_weight, initial_epoch, steps_per_epoch, validation_steps, validation_batch_size, validation_freq, max_queue_size, workers, use_multiprocessing)\u001b[0m\n\u001b[1;32m   1120\u001b[0m               (x, y, sample_weight), validation_split=validation_split))\n\u001b[1;32m   1121\u001b[0m \u001b[0;34m\u001b[0m\u001b[0m\n\u001b[0;32m-> 1122\u001b[0;31m     \u001b[0;32mif\u001b[0m \u001b[0mvalidation_data\u001b[0m\u001b[0;34m:\u001b[0m\u001b[0;34m\u001b[0m\u001b[0;34m\u001b[0m\u001b[0m\n\u001b[0m\u001b[1;32m   1123\u001b[0m       val_x, val_y, val_sample_weight = (\n\u001b[1;32m   1124\u001b[0m           data_adapter.unpack_x_y_sample_weight(validation_data))\n",
            "\u001b[0;32m/usr/local/lib/python3.7/dist-packages/tensorflow/python/framework/ops.py\u001b[0m in \u001b[0;36m__bool__\u001b[0;34m(self)\u001b[0m\n\u001b[1;32m   1005\u001b[0m \u001b[0;34m\u001b[0m\u001b[0m\n\u001b[1;32m   1006\u001b[0m   \u001b[0;32mdef\u001b[0m \u001b[0m__bool__\u001b[0m\u001b[0;34m(\u001b[0m\u001b[0mself\u001b[0m\u001b[0;34m)\u001b[0m\u001b[0;34m:\u001b[0m\u001b[0;34m\u001b[0m\u001b[0;34m\u001b[0m\u001b[0m\n\u001b[0;32m-> 1007\u001b[0;31m     \u001b[0;32mreturn\u001b[0m \u001b[0mbool\u001b[0m\u001b[0;34m(\u001b[0m\u001b[0mself\u001b[0m\u001b[0;34m.\u001b[0m\u001b[0m_numpy\u001b[0m\u001b[0;34m(\u001b[0m\u001b[0;34m)\u001b[0m\u001b[0;34m)\u001b[0m\u001b[0;34m\u001b[0m\u001b[0;34m\u001b[0m\u001b[0m\n\u001b[0m\u001b[1;32m   1008\u001b[0m \u001b[0;34m\u001b[0m\u001b[0m\n\u001b[1;32m   1009\u001b[0m   \u001b[0m__nonzero__\u001b[0m \u001b[0;34m=\u001b[0m \u001b[0m__bool__\u001b[0m\u001b[0;34m\u001b[0m\u001b[0;34m\u001b[0m\u001b[0m\n",
            "\u001b[0;31mValueError\u001b[0m: The truth value of an array with more than one element is ambiguous. Use a.any() or a.all()"
          ]
        }
      ]
    },
    {
      "cell_type": "code",
      "metadata": {
        "colab": {
          "base_uri": "https://localhost:8080/"
        },
        "id": "CRoNWQ9aoKQS",
        "outputId": "32e251a8-c0e2-4725-f6b2-c99a2e90d3dd"
      },
      "source": [
        "val_data"
      ],
      "execution_count": 37,
      "outputs": [
        {
          "output_type": "execute_result",
          "data": {
            "text/plain": [
              "<tf.Tensor: shape=(28484, 31), dtype=float64, numpy=\n",
              "array([[ 4.03000000e+02,  1.23741280e+00,  5.12364830e-01, ...,\n",
              "         1.29863793e-02,  0.00000000e+00,  0.00000000e+00],\n",
              "       [ 3.13600000e+03,  1.21619841e+00,  8.60135204e-02, ...,\n",
              "        -1.78759690e-03,  0.00000000e+00,  0.00000000e+00],\n",
              "       [ 3.34100000e+03, -2.86740520e-01,  1.17635466e+00, ...,\n",
              "         1.29298053e-01,  0.00000000e+00,  0.00000000e+00],\n",
              "       ...,\n",
              "       [ 9.15540000e+04, -5.10025566e+00,  3.63344238e+00, ...,\n",
              "         5.53580692e-01,  2.61220000e+02,  1.00000000e+00],\n",
              "       [ 1.56685000e+05, -1.29777611e-01,  1.41547455e-01, ...,\n",
              "         1.09191897e-01,  1.87110000e+02,  1.00000000e+00],\n",
              "       [ 8.87370000e+04,  1.91782653e+00,  9.51966571e-01, ...,\n",
              "        -1.21050907e-02,  9.21000000e+00,  1.00000000e+00]])>"
            ]
          },
          "metadata": {
            "tags": []
          },
          "execution_count": 37
        }
      ]
    },
    {
      "cell_type": "code",
      "metadata": {
        "colab": {
          "base_uri": "https://localhost:8080/"
        },
        "id": "tKDpOqvmoHm_",
        "outputId": "e1bac849-0fd7-476e-883d-da6ab87429d9"
      },
      "source": [
        "train_data"
      ],
      "execution_count": 36,
      "outputs": [
        {
          "output_type": "execute_result",
          "data": {
            "text/plain": [
              "<tf.Tensor: shape=(227896, 31), dtype=float64, numpy=\n",
              "array([[ 2.82000000e+02, -3.56466190e-01,  7.25417515e-01, ...,\n",
              "        -4.64013951e-02,  0.00000000e+00,  0.00000000e+00],\n",
              "       [ 3.80000000e+02, -1.29983679e+00,  8.81817464e-01, ...,\n",
              "         2.13787930e-02,  0.00000000e+00,  0.00000000e+00],\n",
              "       [ 4.30000000e+02, -1.86025769e+00, -6.29858920e-01, ...,\n",
              "        -2.23739480e-01,  0.00000000e+00,  0.00000000e+00],\n",
              "       ...,\n",
              "       [ 3.46340000e+04,  3.33499491e-01,  1.69987345e+00, ...,\n",
              "         3.05473420e-01,  1.89600000e+01,  1.00000000e+00],\n",
              "       [ 9.61350000e+04, -1.95293263e+00,  3.54138524e+00, ...,\n",
              "         3.57891633e-01,  1.89600000e+01,  1.00000000e+00],\n",
              "       [ 4.46200000e+03, -2.30334957e+00,  1.75924746e+00, ...,\n",
              "        -1.53028797e-01,  2.39930000e+02,  1.00000000e+00]])>"
            ]
          },
          "metadata": {
            "tags": []
          },
          "execution_count": 36
        }
      ]
    },
    {
      "cell_type": "code",
      "metadata": {
        "colab": {
          "base_uri": "https://localhost:8080/"
        },
        "id": "yqJxqF5pkwmr",
        "outputId": "cfaace2d-e6f4-4f67-ebdb-edf222b5951a"
      },
      "source": [
        "# evaluate model\n",
        "model.evaluate(test_data)"
      ],
      "execution_count": 26,
      "outputs": [
        {
          "output_type": "execute_result",
          "data": {
            "text/plain": [
              "True"
            ]
          },
          "metadata": {
            "tags": []
          },
          "execution_count": 26
        }
      ]
    },
    {
      "cell_type": "code",
      "metadata": {
        "id": "i_QW87-FnBRm"
      },
      "source": [
        ""
      ],
      "execution_count": null,
      "outputs": []
    }
  ]
}