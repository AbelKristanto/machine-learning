{
  "nbformat": 4,
  "nbformat_minor": 0,
  "metadata": {
    "colab": {
      "name": "class-7-ml PysparkMovieRecom.ipynb",
      "provenance": [],
      "collapsed_sections": [],
      "authorship_tag": "ABX9TyPeaBLjQfaHSwE5BeC1sBkn"
    },
    "kernelspec": {
      "name": "python3",
      "display_name": "Python 3"
    },
    "language_info": {
      "name": "python"
    }
  },
  "cells": [
    {
      "cell_type": "markdown",
      "metadata": {
        "id": "5XzgrxxrV6mu"
      },
      "source": [
        "## **INTRODUCTION**\n",
        "\n",
        "In this part, we will learn how to implement Machine Learning in Movie Recommendation. Let's started!"
      ]
    },
    {
      "cell_type": "code",
      "metadata": {
        "colab": {
          "base_uri": "https://localhost:8080/"
        },
        "id": "igOxm8K4Vl6f",
        "outputId": "6aecc0f0-6fea-4e45-dcb3-f12331bf4cae"
      },
      "source": [
        "# install pyspark\n",
        "!pip install pyspark"
      ],
      "execution_count": 1,
      "outputs": [
        {
          "output_type": "stream",
          "name": "stdout",
          "text": [
            "Requirement already satisfied: pyspark in /usr/local/lib/python3.7/dist-packages (3.2.0)\n",
            "Requirement already satisfied: py4j==0.10.9.2 in /usr/local/lib/python3.7/dist-packages (from pyspark) (0.10.9.2)\n"
          ]
        }
      ]
    },
    {
      "cell_type": "code",
      "metadata": {
        "colab": {
          "base_uri": "https://localhost:8080/"
        },
        "id": "Gr9LpNZhWNtp",
        "outputId": "bcb38fe1-1a37-46b7-bc4f-7e92147b70fb"
      },
      "source": [
        "# call the dataset\n",
        "!mkdir -p ~/.kaggle\n",
        "!cp kaggle.json ~/.kaggle/\n",
        "!chmod 600 ~/.kaggle/kaggle.json\n",
        "!kaggle datasets download -d shubhammehta21/movie-lens-small-latest-dataset"
      ],
      "execution_count": 2,
      "outputs": [
        {
          "output_type": "stream",
          "name": "stdout",
          "text": [
            "movie-lens-small-latest-dataset.zip: Skipping, found more recently modified local copy (use --force to force download)\n"
          ]
        }
      ]
    },
    {
      "cell_type": "code",
      "metadata": {
        "colab": {
          "base_uri": "https://localhost:8080/"
        },
        "id": "z0MXivcKWyFN",
        "outputId": "5bcfda95-ee4c-4655-f785-cfd6d451bb27"
      },
      "source": [
        "# check our content information\n",
        "!ls"
      ],
      "execution_count": 3,
      "outputs": [
        {
          "output_type": "stream",
          "name": "stdout",
          "text": [
            "kaggle.json  movie-lens-small-latest-dataset.zip  ratings.csv  sample_data\n",
            "links.csv    movies.csv\t\t\t\t  README.txt   tags.csv\n"
          ]
        }
      ]
    },
    {
      "cell_type": "code",
      "metadata": {
        "colab": {
          "base_uri": "https://localhost:8080/"
        },
        "id": "eXvPUwhgW5Kr",
        "outputId": "dd3d4c5f-0b24-46c2-ccf2-d6309f6eeaa2"
      },
      "source": [
        "# unzipping dataset\n",
        "!unzip \"movie-lens-small-latest-dataset.zip\""
      ],
      "execution_count": 8,
      "outputs": [
        {
          "output_type": "stream",
          "name": "stdout",
          "text": [
            "Archive:  movie-lens-small-latest-dataset.zip\n",
            "  inflating: README.txt              \n",
            "  inflating: links.csv               \n",
            "  inflating: movies.csv              \n",
            "  inflating: ratings.csv             \n",
            "  inflating: tags.csv                \n"
          ]
        }
      ]
    },
    {
      "cell_type": "code",
      "metadata": {
        "id": "6LEPJwWvXZOb"
      },
      "source": [
        "# import useful library\n",
        "import pyspark as ps\n",
        "from pyspark.sql import SQLContext, Row\n",
        "from pyspark.ml.evaluation import RegressionEvaluator\n",
        "from pyspark.ml.tuning import CrossValidator, ParamGridBuilder\n",
        "from pyspark.ml import Pipeline\n",
        "from pyspark.ml.recommendation import ALS\n",
        "from pyspark.sql.functions import udf, col, when\n",
        "import numpy as np"
      ],
      "execution_count": 1,
      "outputs": []
    },
    {
      "cell_type": "code",
      "metadata": {
        "id": "m19qw_3fX0DY"
      },
      "source": [
        "# create spark environment\n",
        "spark = ps.sql.SparkSession.builder \\\n",
        "            .master(\"local\") \\\n",
        "            .appName(\"Spark ML\") \\\n",
        "            .getOrCreate()"
      ],
      "execution_count": 2,
      "outputs": []
    },
    {
      "cell_type": "code",
      "metadata": {
        "colab": {
          "base_uri": "https://localhost:8080/"
        },
        "id": "e7y29iR6YvOC",
        "outputId": "3d9dc4cd-460d-495b-f2d9-6e938f709ec0"
      },
      "source": [
        "sc = spark.sparkContext\n",
        "sqlContext = SQLContext(sc)"
      ],
      "execution_count": 3,
      "outputs": [
        {
          "output_type": "stream",
          "name": "stderr",
          "text": [
            "/usr/local/lib/python3.7/dist-packages/pyspark/sql/context.py:79: FutureWarning: Deprecated in 3.0.0. Use SparkSession.builder.getOrCreate() instead.\n",
            "  FutureWarning\n"
          ]
        }
      ]
    },
    {
      "cell_type": "code",
      "metadata": {
        "colab": {
          "base_uri": "https://localhost:8080/"
        },
        "id": "efQSs91UZVma",
        "outputId": "6428e2ac-f8ad-43a4-d59b-169ba560e97a"
      },
      "source": [
        "# read dataset \n",
        "sdf_rating = spark.read.csv('ratings.csv',\n",
        "                            header=True,\n",
        "                            inferSchema=True)\n",
        "sdf_rating.drop(col(\"timestamp\")).show(3, False)"
      ],
      "execution_count": 4,
      "outputs": [
        {
          "output_type": "stream",
          "name": "stdout",
          "text": [
            "+------+-------+------+\n",
            "|userId|movieId|rating|\n",
            "+------+-------+------+\n",
            "|1     |1      |4.0   |\n",
            "|1     |3      |4.0   |\n",
            "|1     |6      |4.0   |\n",
            "+------+-------+------+\n",
            "only showing top 3 rows\n",
            "\n"
          ]
        }
      ]
    },
    {
      "cell_type": "code",
      "metadata": {
        "colab": {
          "base_uri": "https://localhost:8080/"
        },
        "id": "kOyPipeDZg7d",
        "outputId": "90a05c88-afaa-42d7-b278-a3e84c85f78a"
      },
      "source": [
        "# read dataset \n",
        "sdf_movie = spark.read.csv('movies.csv',\n",
        "                            header=True,\n",
        "                            inferSchema=True)\n",
        "sdf_movie.show(3, False)"
      ],
      "execution_count": 5,
      "outputs": [
        {
          "output_type": "stream",
          "name": "stdout",
          "text": [
            "+-------+-----------------------+-------------------------------------------+\n",
            "|movieId|title                  |genres                                     |\n",
            "+-------+-----------------------+-------------------------------------------+\n",
            "|1      |Toy Story (1995)       |Adventure|Animation|Children|Comedy|Fantasy|\n",
            "|2      |Jumanji (1995)         |Adventure|Children|Fantasy                 |\n",
            "|3      |Grumpier Old Men (1995)|Comedy|Romance                             |\n",
            "+-------+-----------------------+-------------------------------------------+\n",
            "only showing top 3 rows\n",
            "\n"
          ]
        }
      ]
    },
    {
      "cell_type": "markdown",
      "metadata": {
        "id": "zy2vLfQ-Z9wO"
      },
      "source": [
        "## **Modelling phase**"
      ]
    },
    {
      "cell_type": "code",
      "metadata": {
        "id": "iISt0x7NZ5a8"
      },
      "source": [
        "# split dataset\n",
        "sdf_train, sdf_test = sdf_rating.randomSplit([.8, .2])"
      ],
      "execution_count": 6,
      "outputs": []
    },
    {
      "cell_type": "code",
      "metadata": {
        "colab": {
          "base_uri": "https://localhost:8080/"
        },
        "id": "cHyhaZnjanIx",
        "outputId": "49d070bc-ed09-41ff-b82f-fa37442c7e1f"
      },
      "source": [
        "# build ALS model\n",
        "iterations = 10\n",
        "regularization_parameter = 0.1\n",
        "\n",
        "# rank 4\n",
        "als = ALS(maxIter=iterations,\n",
        "          regParam=regularization_parameter,\n",
        "          rank=4, userCol='userId',\n",
        "          itemCol='movieId', ratingCol='rating')\n",
        "\n",
        "model = als.fit(sdf_train)\n",
        "pred = model.transform(sdf_test).filter(col('prediction') != np.nan)\n",
        "evaluator = RegressionEvaluator(metricName='rmse', labelCol='rating',\n",
        "                               predictionCol='prediction')\n",
        "rmse = evaluator.evaluate(pred)\n",
        "print(\"Root-mean-square-error: \", str(rmse))"
      ],
      "execution_count": 7,
      "outputs": [
        {
          "output_type": "stream",
          "name": "stdout",
          "text": [
            "Root-mean-square-error:  0.8796625524372769\n"
          ]
        }
      ]
    },
    {
      "cell_type": "code",
      "metadata": {
        "colab": {
          "base_uri": "https://localhost:8080/"
        },
        "id": "_mxJmHmObgA9",
        "outputId": "5f6f9ce5-bac2-473c-fc7f-261249207a83"
      },
      "source": [
        "# for rank 4-10\n",
        "for i in range(4,10):\n",
        "  als = ALS(maxIter=iterations,\n",
        "            regParam=regularization_parameter,\n",
        "            rank=i, userCol='userId', \n",
        "            itemCol='movieId', ratingCol='rating')\n",
        "  model = als.fit(sdf_train)\n",
        "  pred = model.transform(sdf_test).filter(col('prediction') != np.nan)\n",
        "  evaluator = RegressionEvaluator(metricName='rmse', labelCol='rating',\n",
        "                                  predictionCol='prediction')\n",
        "  rmse = evaluator.evaluate(pred)\n",
        "  print(\"Root-mean-square-error with rank {}: {}\".format(i, rmse))"
      ],
      "execution_count": 8,
      "outputs": [
        {
          "output_type": "stream",
          "name": "stdout",
          "text": [
            "Root-mean-square-error with rank 4: 0.8796625524372769\n",
            "Root-mean-square-error with rank 5: 0.8863303129274225\n",
            "Root-mean-square-error with rank 6: 0.8806676420787486\n",
            "Root-mean-square-error with rank 7: 0.8844390708536144\n",
            "Root-mean-square-error with rank 8: 0.8805893517832818\n",
            "Root-mean-square-error with rank 9: 0.8864129454188683\n"
          ]
        }
      ]
    },
    {
      "cell_type": "code",
      "metadata": {
        "id": "CT4oBq95eXMF"
      },
      "source": [
        "# the best rank\n",
        "rank = 9"
      ],
      "execution_count": 10,
      "outputs": []
    },
    {
      "cell_type": "code",
      "metadata": {
        "id": "U_F0NfRAcu5n"
      },
      "source": [
        "# find-out best model using CrossValidator\n",
        "als = ALS(maxIter=iterations, regParam=regularization_parameter,\n",
        "          rank=rank, userCol=\"userId\", itemCol=\"movieId\", \n",
        "          ratingCol=\"rating\")\n",
        "paramGrid = ParamGridBuilder() \\\n",
        "    .addGrid(als.regParam, [0.1, 0.01, 0.18]) \\\n",
        "    .addGrid(als.rank, range(4, 6)) \\\n",
        "    .build()\n",
        "evaluator = RegressionEvaluator(metricName=\"rmse\", labelCol=\"rating\", \n",
        "                                predictionCol=\"prediction\")\n",
        "crossval = CrossValidator(estimator=als,\n",
        "                          estimatorParamMaps=paramGrid,\n",
        "                          evaluator=evaluator,\n",
        "                          numFolds=5)\n",
        "cvModel = crossval.fit(sdf_train)"
      ],
      "execution_count": 11,
      "outputs": []
    },
    {
      "cell_type": "code",
      "metadata": {
        "colab": {
          "base_uri": "https://localhost:8080/"
        },
        "id": "kjmaGc3leeA3",
        "outputId": "4938e1d4-20e1-485d-96cf-45bc0d8c1280"
      },
      "source": [
        "# the best algoritma\n",
        "cvModel_pred = cvModel.transform(sdf_test).filter(col(\"prediction\") != np.nan)\n",
        "rmse = evaluator.evaluate(cvModel_pred)\n",
        "print(\"The optimal RMSE with cross validation is: {}\".format(rmse))"
      ],
      "execution_count": 14,
      "outputs": [
        {
          "output_type": "stream",
          "name": "stdout",
          "text": [
            "The optimal RMSE with cross validation is: 0.8796625524372769\n"
          ]
        }
      ]
    },
    {
      "cell_type": "code",
      "metadata": {
        "id": "C4D6dQK7fURa"
      },
      "source": [
        "final_als = ALS(maxIter=10, regParam=0.1, rank=4, \n",
        "                userCol=\"userId\", itemCol=\"movieId\", \n",
        "                ratingCol=\"rating\")\n",
        "final_model = final_als.fit(sdf_train)"
      ],
      "execution_count": 15,
      "outputs": []
    },
    {
      "cell_type": "code",
      "metadata": {
        "colab": {
          "base_uri": "https://localhost:8080/"
        },
        "id": "TlONa3CMfkZV",
        "outputId": "c12cc230-a4fa-4189-e3a6-9ba96c27450c"
      },
      "source": [
        "preds = final_model.transform(sdf_test)\n",
        "preds.show(5)"
      ],
      "execution_count": 16,
      "outputs": [
        {
          "output_type": "stream",
          "name": "stdout",
          "text": [
            "+------+-------+------+---------+----------+\n",
            "|userId|movieId|rating|timestamp|prediction|\n",
            "+------+-------+------+---------+----------+\n",
            "|     1|     47|   5.0|964983815| 4.7784996|\n",
            "|     1|    260|   5.0|964981680|  5.041264|\n",
            "|     1|    296|   3.0|964982967| 5.1031036|\n",
            "|     1|    596|   5.0|964982838| 3.8803313|\n",
            "|     1|    923|   5.0|964981529|  4.670707|\n",
            "+------+-------+------+---------+----------+\n",
            "only showing top 5 rows\n",
            "\n"
          ]
        }
      ]
    },
    {
      "cell_type": "code",
      "metadata": {
        "colab": {
          "base_uri": "https://localhost:8080/"
        },
        "id": "8jl-0iYGfp5e",
        "outputId": "1d3b5c5f-a6f5-420a-81c7-c994048f3475"
      },
      "source": [
        "preds.join(sdf_movie, \"movieId\")\\\n",
        "          .select(\"userId\",\"title\",\"genres\",\"prediction\").show(5)"
      ],
      "execution_count": 21,
      "outputs": [
        {
          "output_type": "stream",
          "name": "stdout",
          "text": [
            "+------+--------------------+--------------------+----------+\n",
            "|userId|               title|              genres|prediction|\n",
            "+------+--------------------+--------------------+----------+\n",
            "|   148| Moulin Rouge (2001)|Drama|Musical|Rom...| 3.2637208|\n",
            "|   148| Finding Nemo (2003)|Adventure|Animati...| 3.8192651|\n",
            "|   148|Lord of the Rings...|Action|Adventure|...|  3.796996|\n",
            "|   148|Harry Potter and ...|Adventure|Fantasy...| 3.8075116|\n",
            "|   148|Harry Potter and ...|Adventure|Fantasy...| 3.5156643|\n",
            "+------+--------------------+--------------------+----------+\n",
            "only showing top 5 rows\n",
            "\n"
          ]
        }
      ]
    },
    {
      "cell_type": "code",
      "metadata": {
        "colab": {
          "base_uri": "https://localhost:8080/"
        },
        "id": "BXYY8U2VgNW3",
        "outputId": "27d06145-919b-4a4f-ed71-61667de67886"
      },
      "source": [
        "sdf_links = spark.read.csv(\"links.csv\", \n",
        "                           header=True,\n",
        "                           inferSchema=True)\n",
        "sdf_links.printSchema()"
      ],
      "execution_count": 22,
      "outputs": [
        {
          "output_type": "stream",
          "name": "stdout",
          "text": [
            "root\n",
            " |-- movieId: integer (nullable = true)\n",
            " |-- imdbId: integer (nullable = true)\n",
            " |-- tmdbId: integer (nullable = true)\n",
            "\n"
          ]
        }
      ]
    },
    {
      "cell_type": "code",
      "metadata": {
        "colab": {
          "base_uri": "https://localhost:8080/"
        },
        "id": "Tvinlo70gqt7",
        "outputId": "13b4fb03-e16b-4ab3-ce81-afdc110a98f7"
      },
      "source": [
        "for_one_user = preds\\\n",
        "                    .filter(col(\"userId\")==450)\\\n",
        "                    .join(sdf_movie, \"movieId\")\\\n",
        "                    .join(sdf_links,\"movieId\")\\\n",
        "                    .select(\"userId\",\"title\",\"genres\",\"tmdbId\",\"prediction\")\n",
        "for_one_user.show(5)"
      ],
      "execution_count": 25,
      "outputs": [
        {
          "output_type": "stream",
          "name": "stdout",
          "text": [
            "+------+--------------------+--------------------+------+----------+\n",
            "|userId|               title|              genres|tmdbId|prediction|\n",
            "+------+--------------------+--------------------+------+----------+\n",
            "|   450|Star Wars: Episod...|Action|Adventure|...|    11|  4.663552|\n",
            "|   450|Higher Learning (...|               Drama| 16295|  2.924056|\n",
            "|   450|Nightmare Before ...|Animation|Childre...|  9479| 3.9417827|\n",
            "|   450|Boogie Nights (1997)|               Drama|  4995|  4.456446|\n",
            "|   450|Nightmare on Elm ...|              Horror| 10160|   2.48462|\n",
            "+------+--------------------+--------------------+------+----------+\n",
            "only showing top 5 rows\n",
            "\n"
          ]
        }
      ]
    },
    {
      "cell_type": "code",
      "metadata": {
        "colab": {
          "base_uri": "https://localhost:8080/"
        },
        "id": "k2pQnGisg1w0",
        "outputId": "40c73f6d-244d-45cd-a798-9d8fce1f4414"
      },
      "source": [
        "import webbrowser\n",
        "link = \"https://wwww.themoviedb.org/movie/\"\n",
        "for movie in for_one_user.take(3):\n",
        "  movieUrl = link + str(movie.tmdbId)\n",
        "  print(movie.title)\n",
        "  print(movie.tmdbId)\n",
        "  webbrowser.open(movieUrl)"
      ],
      "execution_count": 27,
      "outputs": [
        {
          "output_type": "stream",
          "name": "stdout",
          "text": [
            "Star Wars: Episode IV - A New Hope (1977)\n",
            "11\n",
            "Higher Learning (1995)\n",
            "16295\n",
            "Nightmare Before Christmas, The (1993)\n",
            "9479\n"
          ]
        }
      ]
    },
    {
      "cell_type": "code",
      "metadata": {
        "id": "nMrXac_qhZsJ"
      },
      "source": [
        "# generate top 5 movies for each user\n",
        "userRecomments = final_model.recommendForAllUsers(5)\n",
        "# generate top 5 user recommendations for each movie\n",
        "movieRecomments = final_model.recommendForAllItems(5)"
      ],
      "execution_count": null,
      "outputs": []
    },
    {
      "cell_type": "code",
      "metadata": {
        "colab": {
          "base_uri": "https://localhost:8080/"
        },
        "id": "omNVJTn8iEph",
        "outputId": "cc905a8c-31bf-4aa8-835d-56a916f7d651"
      },
      "source": [
        "userRecomments.printSchema()"
      ],
      "execution_count": 33,
      "outputs": [
        {
          "output_type": "stream",
          "name": "stdout",
          "text": [
            "root\n",
            " |-- userId: integer (nullable = false)\n",
            " |-- recommendations: array (nullable = true)\n",
            " |    |-- element: struct (containsNull = true)\n",
            " |    |    |-- movieId: integer (nullable = true)\n",
            " |    |    |-- rating: float (nullable = true)\n",
            "\n"
          ]
        }
      ]
    },
    {
      "cell_type": "code",
      "metadata": {
        "colab": {
          "base_uri": "https://localhost:8080/"
        },
        "id": "yvggyGX7hrhd",
        "outputId": "c3fea24d-7334-4cee-f663-3cc39154ffd4"
      },
      "source": [
        "userRecomments.select(\"userId\",\"recommendations.movieId\").show(5, False)"
      ],
      "execution_count": 31,
      "outputs": [
        {
          "output_type": "stream",
          "name": "stdout",
          "text": [
            "+------+----------------------------------+\n",
            "|userId|movieId                           |\n",
            "+------+----------------------------------+\n",
            "|1     |[7842, 7121, 3379, 33649, 92494]  |\n",
            "|2     |[7842, 33649, 3379, 131724, 26073]|\n",
            "|3     |[70946, 8138, 61350, 26865, 430]  |\n",
            "|4     |[4442, 5034, 25825, 26171, 5485]  |\n",
            "|5     |[5490, 5915, 7121, 92494, 102217] |\n",
            "+------+----------------------------------+\n",
            "only showing top 5 rows\n",
            "\n"
          ]
        }
      ]
    },
    {
      "cell_type": "code",
      "metadata": {
        "colab": {
          "base_uri": "https://localhost:8080/"
        },
        "id": "56--O86ih01g",
        "outputId": "426bafe7-0f24-4cbe-b57d-81ed2581c252"
      },
      "source": [
        "movieRecomments.select(\"movieId\",\"recommendations.userId\").show(5, False)"
      ],
      "execution_count": 32,
      "outputs": [
        {
          "output_type": "stream",
          "name": "stdout",
          "text": [
            "+-------+------------------------+\n",
            "|movieId|userId                  |\n",
            "+-------+------------------------+\n",
            "|1      |[53, 43, 543, 452, 413] |\n",
            "|2      |[53, 43, 543, 413, 554] |\n",
            "|3      |[53, 543, 43, 452, 578] |\n",
            "|4      |[543, 594, 43, 554, 584]|\n",
            "|5      |[543, 53, 43, 413, 267] |\n",
            "+-------+------------------------+\n",
            "only showing top 5 rows\n",
            "\n"
          ]
        }
      ]
    },
    {
      "cell_type": "code",
      "metadata": {
        "colab": {
          "base_uri": "https://localhost:8080/"
        },
        "id": "lfTx4X9ah_mf",
        "outputId": "46425159-094d-4784-d3c9-4d575a0077a2"
      },
      "source": [
        "# generate top 10 movie recommendations for a specified set of users\n",
        "users = sdf_rating.select(\"userId\").distinct().limit(3);\n",
        "users.show()"
      ],
      "execution_count": 34,
      "outputs": [
        {
          "output_type": "stream",
          "name": "stdout",
          "text": [
            "+------+\n",
            "|userId|\n",
            "+------+\n",
            "|   148|\n",
            "|   463|\n",
            "|   471|\n",
            "+------+\n",
            "\n"
          ]
        }
      ]
    },
    {
      "cell_type": "markdown",
      "metadata": {
        "id": "xVw96w3YiVGI"
      },
      "source": [
        "# **THANK YOU**"
      ]
    }
  ]
}