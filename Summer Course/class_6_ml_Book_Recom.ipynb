{
  "nbformat": 4,
  "nbformat_minor": 0,
  "metadata": {
    "colab": {
      "name": "class-6-ml Book-Recom.ipynb",
      "provenance": [],
      "authorship_tag": "ABX9TyPx4Boe4kFxQNJrTT8Jwfad"
    },
    "kernelspec": {
      "name": "python3",
      "display_name": "Python 3"
    },
    "language_info": {
      "name": "python"
    }
  },
  "cells": [
    {
      "cell_type": "markdown",
      "metadata": {
        "id": "G-yp42jkJ9X4"
      },
      "source": [
        "# **Problem STATEMENT**\n",
        "\n",
        "In this part, our goal is bring recommendation book to user using Spark library. Let's started!"
      ]
    },
    {
      "cell_type": "code",
      "metadata": {
        "id": "MYXLIywC-oRI"
      },
      "source": [
        "# Install spark\n",
        "!pip install pyspark"
      ],
      "execution_count": null,
      "outputs": []
    },
    {
      "cell_type": "code",
      "metadata": {
        "colab": {
          "base_uri": "https://localhost:8080/"
        },
        "id": "KbmpoAF0KboW",
        "outputId": "7de81850-ca9a-457b-d3fe-f1e6a9502b16"
      },
      "source": [
        "# Preparing dataset\n",
        "!mkdir -p ~/.kaggle\n",
        "!cp kaggle.json ~/.kaggle/\n",
        "!chmod 600 ~/.kaggle/kaggle.json\n",
        "!kaggle datasets download -d zygmunt/goodbooks-10k"
      ],
      "execution_count": 2,
      "outputs": [
        {
          "output_type": "stream",
          "name": "stdout",
          "text": [
            "Downloading goodbooks-10k.zip to /content\n",
            " 43% 5.00M/11.6M [00:00<00:00, 50.4MB/s]\n",
            "100% 11.6M/11.6M [00:00<00:00, 74.0MB/s]\n"
          ]
        }
      ]
    },
    {
      "cell_type": "code",
      "metadata": {
        "colab": {
          "base_uri": "https://localhost:8080/"
        },
        "id": "Lo3rqjrtKnCD",
        "outputId": "7d6d4c70-0c0b-4232-c096-f409bbea184e"
      },
      "source": [
        "# Unzipping dataset\n",
        "!unzip \"goodbooks-10k.zip\""
      ],
      "execution_count": 3,
      "outputs": [
        {
          "output_type": "stream",
          "name": "stdout",
          "text": [
            "Archive:  goodbooks-10k.zip\n",
            "  inflating: book_tags.csv           \n",
            "  inflating: books.csv               \n",
            "  inflating: ratings.csv             \n",
            "  inflating: sample_book.xml         \n",
            "  inflating: tags.csv                \n",
            "  inflating: to_read.csv             \n"
          ]
        }
      ]
    },
    {
      "cell_type": "code",
      "metadata": {
        "id": "79SFuDBQK0Io"
      },
      "source": [
        "# Import useful library\n",
        "import pyspark as ps\n",
        "from pyspark.sql import SQLContext, Row\n",
        "from pyspark.ml.evaluation import RegressionEvaluator\n",
        "from pyspark.ml.tuning import CrossValidator, ParamGridBuilder\n",
        "from pyspark.ml import Pipeline\n",
        "from pyspark.ml.recommendation import ALS\n",
        "from pyspark.sql.functions import udf, col, when\n",
        "import numpy as np\n"
      ],
      "execution_count": 5,
      "outputs": []
    },
    {
      "cell_type": "code",
      "metadata": {
        "id": "g5AnXy1rLQfo"
      },
      "source": [
        "# Create Spark environment\n",
        "spark = ps.sql.SparkSession.builder \\\n",
        "            .master(\"local\") \\\n",
        "            .appName(\"Machine Learning Spark\") \\\n",
        "            .getOrCreate()"
      ],
      "execution_count": 6,
      "outputs": []
    },
    {
      "cell_type": "code",
      "metadata": {
        "id": "EpQazILjLhWi"
      },
      "source": [
        "sc = spark.sparkContext\n",
        "sqlContext = SQLContext(sc)"
      ],
      "execution_count": 7,
      "outputs": []
    },
    {
      "cell_type": "code",
      "metadata": {
        "colab": {
          "base_uri": "https://localhost:8080/"
        },
        "id": "Uh7FoTx0LnRu",
        "outputId": "be906588-3ca5-459c-9bd0-7824af6733d2"
      },
      "source": [
        "# Read dataset\n",
        "sdf_rating = spark.read.csv('ratings.csv', \n",
        "                            header=True, \n",
        "                            inferSchema=True)\n",
        "sdf_rating.show(3, False)"
      ],
      "execution_count": 8,
      "outputs": [
        {
          "output_type": "stream",
          "name": "stdout",
          "text": [
            "+-------+-------+------+\n",
            "|book_id|user_id|rating|\n",
            "+-------+-------+------+\n",
            "|1      |314    |5     |\n",
            "|1      |439    |3     |\n",
            "|1      |588    |5     |\n",
            "+-------+-------+------+\n",
            "only showing top 3 rows\n",
            "\n"
          ]
        }
      ]
    },
    {
      "cell_type": "code",
      "metadata": {
        "colab": {
          "base_uri": "https://localhost:8080/"
        },
        "id": "MY05rcdmL6bv",
        "outputId": "375f7773-df99-4705-e3ae-9ecdc8fd4026"
      },
      "source": [
        "sdf_books = spark.read.csv('books.csv',\n",
        "                           header=True,\n",
        "                           inferSchema=True)\n",
        "sdf_books.show(3, False)"
      ],
      "execution_count": 9,
      "outputs": [
        {
          "output_type": "stream",
          "name": "stdout",
          "text": [
            "+---+-------+------------+-------+-----------+---------+----------------+---------------------------+-------------------------+----------------------------------------+--------------------------------------------------------+-------------+--------------+-------------+------------------+-----------------------+---------+---------+---------+---------+---------+----------------------------------------------------------+----------------------------------------------------------+\n",
            "|id |book_id|best_book_id|work_id|books_count|isbn     |isbn13          |authors                    |original_publication_year|original_title                          |title                                                   |language_code|average_rating|ratings_count|work_ratings_count|work_text_reviews_count|ratings_1|ratings_2|ratings_3|ratings_4|ratings_5|image_url                                                 |small_image_url                                           |\n",
            "+---+-------+------------+-------+-----------+---------+----------------+---------------------------+-------------------------+----------------------------------------+--------------------------------------------------------+-------------+--------------+-------------+------------------+-----------------------+---------+---------+---------+---------+---------+----------------------------------------------------------+----------------------------------------------------------+\n",
            "|1  |2767052|2767052     |2792775|272        |439023483|9.78043902348E12|Suzanne Collins            |2008.0                   |The Hunger Games                        |The Hunger Games (The Hunger Games, #1)                 |eng          |4.34          |4780653      |4942365           |155254                 |66715.0  |127936   |560092   |1481305  |2706317  |https://images.gr-assets.com/books/1447303603m/2767052.jpg|https://images.gr-assets.com/books/1447303603s/2767052.jpg|\n",
            "|2  |3      |3           |4640799|491        |439554934|9.78043955493E12|J.K. Rowling, Mary GrandPré|1997.0                   |Harry Potter and the Philosopher's Stone|Harry Potter and the Sorcerer's Stone (Harry Potter, #1)|eng          |4.44          |4602479      |4800065           |75867                  |75504.0  |101676   |455024   |1156318  |3011543  |https://images.gr-assets.com/books/1474154022m/3.jpg      |https://images.gr-assets.com/books/1474154022s/3.jpg      |\n",
            "|3  |41865  |41865       |3212258|226        |316015849|9.78031601584E12|Stephenie Meyer            |2005.0                   |Twilight                                |Twilight (Twilight, #1)                                 |en-US        |3.57          |3866839      |3916824           |95009                  |456191.0 |436802   |793319   |875073   |1355439  |https://images.gr-assets.com/books/1361039443m/41865.jpg  |https://images.gr-assets.com/books/1361039443s/41865.jpg  |\n",
            "+---+-------+------------+-------+-----------+---------+----------------+---------------------------+-------------------------+----------------------------------------+--------------------------------------------------------+-------------+--------------+-------------+------------------+-----------------------+---------+---------+---------+---------+---------+----------------------------------------------------------+----------------------------------------------------------+\n",
            "only showing top 3 rows\n",
            "\n"
          ]
        }
      ]
    },
    {
      "cell_type": "markdown",
      "metadata": {
        "id": "ZIkO37L8MIYG"
      },
      "source": [
        "# **Modelling Phase**"
      ]
    },
    {
      "cell_type": "code",
      "metadata": {
        "id": "7vkuKzAcMF7S"
      },
      "source": [
        "# Split dataset\n",
        "sdf_train, sdf_test = sdf_rating.randomSplit([.8, .2])"
      ],
      "execution_count": 10,
      "outputs": []
    },
    {
      "cell_type": "code",
      "metadata": {
        "colab": {
          "base_uri": "https://localhost:8080/"
        },
        "id": "-HwzW21dMXDg",
        "outputId": "cb20679d-89b0-4431-b1f7-a08761573c46"
      },
      "source": [
        "# Build ALS model\n",
        "iterations = 10\n",
        "regularization_parameter = 0.1\n",
        "\n",
        "# rank 4\n",
        "als = ALS(maxIter=iterations,\n",
        "          regParam=regularization_parameter,\n",
        "          rank = 4, userCol=\"user_id\",\n",
        "          itemCol=\"book_id\", ratingCol=\"rating\")\n",
        "model = als.fit(sdf_train)\n",
        "pred = model.transform(sdf_test).filter(col('prediction') != np.nan)\n",
        "evaluator = RegressionEvaluator(metricName=\"rmse\", labelCol=\"rating\",\n",
        "                                predictionCol=\"prediction\")\n",
        "rmse = evaluator.evaluate(pred)\n",
        "print(\"Root-mean-square-error = \" + str(rmse))"
      ],
      "execution_count": 12,
      "outputs": [
        {
          "output_type": "stream",
          "name": "stdout",
          "text": [
            "Root-mean-square-error = 0.8979673369961977\n"
          ]
        }
      ]
    },
    {
      "cell_type": "code",
      "metadata": {
        "colab": {
          "base_uri": "https://localhost:8080/"
        },
        "id": "9F8hiPcAOvBP",
        "outputId": "9690cdbe-4637-4c8c-9bd2-1130dd16eb73"
      },
      "source": [
        "# rank 5\n",
        "als = ALS(maxIter=iterations,\n",
        "          regParam=regularization_parameter,\n",
        "          rank = 5, userCol=\"user_id\",\n",
        "          itemCol=\"book_id\", ratingCol=\"rating\")\n",
        "model = als.fit(sdf_train)\n",
        "pred = model.transform(sdf_test).filter(col('prediction') != np.nan)\n",
        "evaluator = RegressionEvaluator(metricName=\"rmse\", labelCol=\"rating\",\n",
        "                                predictionCol=\"prediction\")\n",
        "rmse = evaluator.evaluate(pred)\n",
        "print(\"Root-mean-square-error = \" + str(rmse))"
      ],
      "execution_count": 15,
      "outputs": [
        {
          "output_type": "stream",
          "name": "stdout",
          "text": [
            "Root-mean-square-error = 0.8997429357828679\n"
          ]
        }
      ]
    },
    {
      "cell_type": "code",
      "metadata": {
        "colab": {
          "base_uri": "https://localhost:8080/"
        },
        "id": "8E39LX4PPKcf",
        "outputId": "94d64c7e-f4bf-4899-d909-3618462d7491"
      },
      "source": [
        "# rank 4-10\n",
        "for rank in range(4,10):\n",
        "  als = ALS(maxIter=iterations,\n",
        "          regParam=regularization_parameter,\n",
        "          rank = rank, userCol=\"user_id\",\n",
        "          itemCol=\"book_id\", ratingCol=\"rating\")\n",
        "  model = als.fit(sdf_train)\n",
        "  pred = model.transform(sdf_test).filter(col('prediction') != np.nan)\n",
        "  evaluator = RegressionEvaluator(metricName=\"rmse\", labelCol=\"rating\",\n",
        "                                predictionCol=\"prediction\")\n",
        "  rmse = evaluator.evaluate(pred)\n",
        "  print(\"Rank :\", rank ,\"Root-mean-square-error = \" + str(rmse))"
      ],
      "execution_count": 14,
      "outputs": [
        {
          "output_type": "stream",
          "name": "stdout",
          "text": [
            "Rank : 4 Root-mean-square-error = 0.8979673369961977\n",
            "Rank : 5 Root-mean-square-error = 0.8997429357828679\n",
            "Rank : 6 Root-mean-square-error = 0.8999864445486688\n",
            "Rank : 7 Root-mean-square-error = 0.9033660150167959\n",
            "Rank : 8 Root-mean-square-error = 0.9069299511944662\n",
            "Rank : 9 Root-mean-square-error = 0.9055029841724308\n"
          ]
        }
      ]
    },
    {
      "cell_type": "code",
      "metadata": {
        "id": "1nL5DIvWPfrp"
      },
      "source": [
        "als = ALS(maxIter=iterations, regParam=regularization_parameter,\n",
        "          rank=rank, userCol=\"user_id\", itemCol=\"book_id\", \n",
        "          ratingCol=\"rating\")\n",
        "paramGrid = ParamGridBuilder() \\\n",
        "    .addGrid(als.regParam, [0.1, 0.01, 0.18]) \\\n",
        "    .addGrid(als.rank, range(4, 6)) \\\n",
        "    .build()\n",
        "evaluator = RegressionEvaluator(metricName=\"rmse\", labelCol=\"rating\", predictionCol=\"prediction\")\n",
        "crossval = CrossValidator(estimator=als,\n",
        "                          estimatorParamMaps=paramGrid,\n",
        "                          evaluator=evaluator,\n",
        "                          numFolds=5)\n",
        "cvModel = crossval.fit(sdf_train)"
      ],
      "execution_count": 23,
      "outputs": []
    },
    {
      "cell_type": "code",
      "metadata": {
        "colab": {
          "base_uri": "https://localhost:8080/"
        },
        "id": "MBLjSCyGQm1Z",
        "outputId": "6e480dce-ba32-4fe1-c844-5599bbc9d472"
      },
      "source": [
        "# the best algoritma\n",
        "cvModel_pred = cvModel.transform(sdf_test).filter(col('prediction') != np.nan)\n",
        "rmse = evaluator.evaluate(cvModel_pred)\n",
        "print(\"The optimal RMSE with cross validation is: {}\".format(rmse))"
      ],
      "execution_count": 24,
      "outputs": [
        {
          "output_type": "stream",
          "name": "stdout",
          "text": [
            "The optimal RMSE with cross validation is: 0.8979673369961977\n"
          ]
        }
      ]
    },
    {
      "cell_type": "code",
      "metadata": {
        "id": "0HiBBHmZRe95"
      },
      "source": [
        "final_als = ALS(maxIter=10, regParam=0.1, rank=4, userCol=\"user_id\", itemCol=\"book_id\", ratingCol=\"rating\")\n",
        "final_model = final_als.fit(sdf_train)"
      ],
      "execution_count": 25,
      "outputs": []
    },
    {
      "cell_type": "code",
      "metadata": {
        "colab": {
          "base_uri": "https://localhost:8080/"
        },
        "id": "sE3S8gYTRlsj",
        "outputId": "5757b26c-638b-45e9-f75d-66bcb39f0548"
      },
      "source": [
        "preds = final_model.transform(sdf_test)\n",
        "preds.show(5)"
      ],
      "execution_count": 26,
      "outputs": [
        {
          "output_type": "stream",
          "name": "stdout",
          "text": [
            "+-------+-------+------+----------+\n",
            "|book_id|user_id|rating|prediction|\n",
            "+-------+-------+------+----------+\n",
            "|    148|  28767|     3| 2.8824027|\n",
            "|    148|  24326|     5|  3.294993|\n",
            "|    148|  13879|     3| 3.4587102|\n",
            "|    148|  20967|     3| 3.9145834|\n",
            "|    148|   8440|     3| 3.1117263|\n",
            "+-------+-------+------+----------+\n",
            "only showing top 5 rows\n",
            "\n"
          ]
        }
      ]
    },
    {
      "cell_type": "code",
      "metadata": {
        "colab": {
          "base_uri": "https://localhost:8080/"
        },
        "id": "2pwBDRTfRxxV",
        "outputId": "bef75b75-7c80-447c-dc53-63c7d17d45eb"
      },
      "source": [
        "preds.join(sdf_books, \"book_id\").select(\"user_id\",\"title\",\"prediction\").show(5)"
      ],
      "execution_count": 27,
      "outputs": [
        {
          "output_type": "stream",
          "name": "stdout",
          "text": [
            "+-------+----------+----------+\n",
            "|user_id|     title|prediction|\n",
            "+-------+----------+----------+\n",
            "|  19526|Lysistrata|  4.499846|\n",
            "|  41963|Lysistrata| 4.2382565|\n",
            "|  38734|Lysistrata| 4.4324064|\n",
            "|  21724|Lysistrata|  3.917287|\n",
            "|  27512|Lysistrata|  3.522049|\n",
            "+-------+----------+----------+\n",
            "only showing top 5 rows\n",
            "\n"
          ]
        }
      ]
    },
    {
      "cell_type": "code",
      "metadata": {
        "colab": {
          "base_uri": "https://localhost:8080/"
        },
        "id": "zsu3e6IfR9be",
        "outputId": "7f4258dd-04b8-4f1c-df10-291e7278dc9f"
      },
      "source": [
        "exp_recom = preds.filter(col(\"user_id\")==35982).join(sdf_books, \"book_id\").select(\"user_id\",\"title\",\"image_url\",\"prediction\")\n",
        "exp_recom.show()"
      ],
      "execution_count": 30,
      "outputs": [
        {
          "output_type": "stream",
          "name": "stdout",
          "text": [
            "+-------+--------------------+--------------------+----------+\n",
            "|user_id|               title|           image_url|prediction|\n",
            "+-------+--------------------+--------------------+----------+\n",
            "|  35982|The Lost Continen...|https://images.gr...| 2.6817763|\n",
            "|  35982|Another Bullshit ...|https://s.gr-asse...|  3.767463|\n",
            "|  35982|Harry Potter and ...|https://images.gr...| 3.9121242|\n",
            "|  35982|City of Glass (Th...|https://images.gr...| 3.8655407|\n",
            "|  35982|The Iliad/The Ody...|https://s.gr-asse...| 3.3226616|\n",
            "|  35982|           The Lover|https://images.gr...| 3.9339528|\n",
            "+-------+--------------------+--------------------+----------+\n",
            "\n"
          ]
        }
      ]
    },
    {
      "cell_type": "code",
      "metadata": {
        "id": "h0zFvjZ4SKvK"
      },
      "source": [
        "# Generate top 5 books recommendations for each user\n",
        "userRecomments = final_model.recommendForAllUsers(5)\n",
        "# Generate top 5 user recommendations for each book\n",
        "bookRecomments = final_model.recommendForAllItems(5)"
      ],
      "execution_count": 32,
      "outputs": []
    },
    {
      "cell_type": "code",
      "metadata": {
        "colab": {
          "base_uri": "https://localhost:8080/"
        },
        "id": "5WaR-za-SPtk",
        "outputId": "de93d45f-b029-4263-f83b-4f48ea139a78"
      },
      "source": [
        "userRecomments.select(\"user_id\",\"recommendations.book_id\").show(10, False)"
      ],
      "execution_count": 33,
      "outputs": [
        {
          "output_type": "stream",
          "name": "stdout",
          "text": [
            "+-------+------------------------------+\n",
            "|user_id|book_id                       |\n",
            "+-------+------------------------------+\n",
            "|148    |[4868, 5207, 9076, 9842, 4483]|\n",
            "|463    |[1338, 2, 4154, 6457, 6902]   |\n",
            "|471    |[1338, 4154, 3239, 5753, 7550]|\n",
            "|496    |[9842, 7947, 8854, 2236, 9182]|\n",
            "|833    |[6590, 4154, 8286, 3498, 3248]|\n",
            "|1088   |[4653, 3124, 4868, 3628, 6018]|\n",
            "|1238   |[8326, 1577, 6990, 9946, 7988]|\n",
            "|1342   |[4868, 8362, 3628, 2590, 4]   |\n",
            "|1580   |[4868, 3628, 6590, 4653, 5207]|\n",
            "|1591   |[6924, 8233, 4509, 9460, 3953]|\n",
            "+-------+------------------------------+\n",
            "only showing top 10 rows\n",
            "\n"
          ]
        }
      ]
    },
    {
      "cell_type": "code",
      "metadata": {
        "colab": {
          "base_uri": "https://localhost:8080/"
        },
        "id": "27sK2IF4SRve",
        "outputId": "99219f5d-12ea-47fe-b500-560e48a57803"
      },
      "source": [
        "bookRecomments.select(\"book_id\",\"recommendations.user_id\").show(10, False)"
      ],
      "execution_count": 34,
      "outputs": [
        {
          "output_type": "stream",
          "name": "stdout",
          "text": [
            "+-------+-----------------------------------+\n",
            "|book_id|user_id                            |\n",
            "+-------+-----------------------------------+\n",
            "|1580   |[30776, 28818, 3655, 25796, 44978] |\n",
            "|4900   |[38076, 43980, 22822, 33923, 50580]|\n",
            "|5300   |[29218, 15449, 29748, 38076, 44225]|\n",
            "|6620   |[38076, 46213, 28818, 26717, 34995]|\n",
            "|7240   |[38076, 30816, 12621, 22822, 28953]|\n",
            "|7340   |[38076, 25796, 28818, 44978, 3655] |\n",
            "|7880   |[38076, 22822, 15449, 30757, 47145]|\n",
            "|9900   |[38076, 11963, 12621, 3655, 38404] |\n",
            "|471    |[38076, 43980, 50307, 22822, 19752]|\n",
            "|1591   |[30776, 25796, 44978, 28818, 3655] |\n",
            "+-------+-----------------------------------+\n",
            "only showing top 10 rows\n",
            "\n"
          ]
        }
      ]
    },
    {
      "cell_type": "code",
      "metadata": {
        "colab": {
          "base_uri": "https://localhost:8080/"
        },
        "id": "XJlpfjZhSURt",
        "outputId": "0ce79620-b61e-46ad-cbd1-7d4a09d6118f"
      },
      "source": [
        "# Generate top 10 Book recommendations for a specified set of users\n",
        "users = sdf_rating.select(\"user_id\").distinct().limit(3);\n",
        "users.show()"
      ],
      "execution_count": 35,
      "outputs": [
        {
          "output_type": "stream",
          "name": "stdout",
          "text": [
            "+-------+\n",
            "|user_id|\n",
            "+-------+\n",
            "|  32592|\n",
            "|  19984|\n",
            "|  35982|\n",
            "+-------+\n",
            "\n"
          ]
        }
      ]
    },
    {
      "cell_type": "code",
      "metadata": {
        "colab": {
          "base_uri": "https://localhost:8080/"
        },
        "id": "URQC1RFGSZK2",
        "outputId": "469e1722-2b36-40d1-95f8-d7e63889f748"
      },
      "source": [
        "userSubsetRecs = model.recommendForUserSubset(users, 10)\n",
        "userSubsetRecs.select(\"user_id\",\"recommendations.book_id\").show(10, False)"
      ],
      "execution_count": 36,
      "outputs": [
        {
          "output_type": "stream",
          "name": "stdout",
          "text": [
            "+-------+-----------------------------------------------------------+\n",
            "|user_id|book_id                                                    |\n",
            "+-------+-----------------------------------------------------------+\n",
            "|32592  |[5207, 4868, 562, 862, 6920, 1010, 3628, 3753, 3275, 5730] |\n",
            "|35982  |[8109, 3124, 5202, 5207, 7283, 3628, 983, 1895, 7264, 7593]|\n",
            "|19984  |[9076, 4868, 6902, 6920, 422, 5207, 862, 6590, 562, 9566]  |\n",
            "+-------+-----------------------------------------------------------+\n",
            "\n"
          ]
        }
      ]
    },
    {
      "cell_type": "code",
      "metadata": {
        "colab": {
          "base_uri": "https://localhost:8080/"
        },
        "id": "gqk8VH3BSawf",
        "outputId": "c1af17ca-7508-4d73-d3bc-31e019ad8647"
      },
      "source": [
        "# Generate top 10 user recommendations for a specified set of books\n",
        "book_id = sdf_rating.select(\"book_id\").distinct().limit(3)\n",
        "book_id.show()"
      ],
      "execution_count": 37,
      "outputs": [
        {
          "output_type": "stream",
          "name": "stdout",
          "text": [
            "+-------+\n",
            "|book_id|\n",
            "+-------+\n",
            "|    148|\n",
            "|    463|\n",
            "|    471|\n",
            "+-------+\n",
            "\n"
          ]
        }
      ]
    },
    {
      "cell_type": "code",
      "metadata": {
        "colab": {
          "base_uri": "https://localhost:8080/"
        },
        "id": "AksvS35FSlod",
        "outputId": "2aeeee4b-09d0-4363-8096-e96621af98eb"
      },
      "source": [
        "bookSubSetRecs = model.recommendForItemSubset(book_id, 10)\n",
        "book_ids = [860,1524,2885,2914,5297,7397,8802,9506]\n",
        "user_ids = [4917,4917,4917,4917,4917,4917,4917,4917]\n",
        "new_user_preds = sqlContext.createDataFrame(zip(book_ids, user_ids), schema=['book_id','user_id'])\n",
        "new_user_preds.show()"
      ],
      "execution_count": 39,
      "outputs": [
        {
          "output_type": "stream",
          "name": "stdout",
          "text": [
            "+-------+-------+\n",
            "|book_id|user_id|\n",
            "+-------+-------+\n",
            "|    860|   4917|\n",
            "|   1524|   4917|\n",
            "|   2885|   4917|\n",
            "|   2914|   4917|\n",
            "|   5297|   4917|\n",
            "|   7397|   4917|\n",
            "|   8802|   4917|\n",
            "|   9506|   4917|\n",
            "+-------+-------+\n",
            "\n"
          ]
        }
      ]
    },
    {
      "cell_type": "code",
      "metadata": {
        "colab": {
          "base_uri": "https://localhost:8080/"
        },
        "id": "1NK9VQooSr9k",
        "outputId": "8226146c-bb78-4ef9-f85b-6c74c023618d"
      },
      "source": [
        "new_predictions = model.transform(new_user_preds)\n",
        "new_predictions.show()"
      ],
      "execution_count": 40,
      "outputs": [
        {
          "output_type": "stream",
          "name": "stdout",
          "text": [
            "+-------+-------+----------+\n",
            "|book_id|user_id|prediction|\n",
            "+-------+-------+----------+\n",
            "|   2914|   4917| 3.4217443|\n",
            "|    860|   4917|  3.525492|\n",
            "|   2885|   4917| 3.4023051|\n",
            "|   7397|   4917| 3.5740724|\n",
            "|   8802|   4917|  3.468423|\n",
            "|   9506|   4917| 3.5452433|\n",
            "|   1524|   4917| 3.5558898|\n",
            "|   5297|   4917|  3.639408|\n",
            "+-------+-------+----------+\n",
            "\n"
          ]
        }
      ]
    }
  ]
}