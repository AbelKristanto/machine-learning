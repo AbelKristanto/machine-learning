{
  "nbformat": 4,
  "nbformat_minor": 0,
  "metadata": {
    "colab": {
      "name": "class_8_ml_marketing_analysis_using_SPARK.ipynb",
      "provenance": [],
      "authorship_tag": "ABX9TyMET8r+TT0og7mVYo38b2/v",
      "include_colab_link": true
    },
    "kernelspec": {
      "name": "python3",
      "display_name": "Python 3"
    },
    "language_info": {
      "name": "python"
    }
  },
  "cells": [
    {
      "cell_type": "markdown",
      "metadata": {
        "id": "view-in-github",
        "colab_type": "text"
      },
      "source": [
        "<a href=\"https://colab.research.google.com/github/AbelKristanto/machine-learning/blob/main/class_8_ml_marketing_analysis_using_SPARK.ipynb\" target=\"_parent\"><img src=\"https://colab.research.google.com/assets/colab-badge.svg\" alt=\"Open In Colab\"/></a>"
      ]
    },
    {
      "cell_type": "markdown",
      "source": [
        "# Introduction\n",
        "In this part, we will to use Pyspark for bank marketing analysis. Let's start!"
      ],
      "metadata": {
        "id": "kD8hdhcvWFyl"
      }
    },
    {
      "cell_type": "code",
      "execution_count": null,
      "metadata": {
        "id": "auqy72kIVwTW"
      },
      "outputs": [],
      "source": [
        "# Install pyspark first\n",
        "!pip install pyspark"
      ]
    },
    {
      "cell_type": "code",
      "source": [
        "# Call the dataset using Spark\n",
        "from pyspark.sql import SparkSession\n",
        "spark = SparkSession.builder.appName('marketinganalysis')\\\n",
        "                            .getOrCreate()\n",
        "df = spark.read.csv('bank.csv', header=True, inferSchema=True)\n",
        "df.printSchema()"
      ],
      "metadata": {
        "colab": {
          "base_uri": "https://localhost:8080/"
        },
        "id": "szfdgVNYWzcr",
        "outputId": "f5348a3e-7b8b-4bc6-c216-4183ef2ab866"
      },
      "execution_count": 3,
      "outputs": [
        {
          "output_type": "stream",
          "name": "stdout",
          "text": [
            "root\n",
            " |-- age: integer (nullable = true)\n",
            " |-- job: string (nullable = true)\n",
            " |-- marital: string (nullable = true)\n",
            " |-- education: string (nullable = true)\n",
            " |-- default: string (nullable = true)\n",
            " |-- balance: integer (nullable = true)\n",
            " |-- housing: string (nullable = true)\n",
            " |-- loan: string (nullable = true)\n",
            " |-- contact: string (nullable = true)\n",
            " |-- day: integer (nullable = true)\n",
            " |-- month: string (nullable = true)\n",
            " |-- duration: integer (nullable = true)\n",
            " |-- campaign: integer (nullable = true)\n",
            " |-- pdays: integer (nullable = true)\n",
            " |-- previous: integer (nullable = true)\n",
            " |-- poutcome: string (nullable = true)\n",
            " |-- deposit: string (nullable = true)\n",
            "\n"
          ]
        }
      ]
    },
    {
      "cell_type": "code",
      "source": [
        "df.show(5, False)"
      ],
      "metadata": {
        "colab": {
          "base_uri": "https://localhost:8080/"
        },
        "id": "u1CxhFD-yyO_",
        "outputId": "dc524d18-4996-4dcb-93ce-576c4474d151"
      },
      "execution_count": 4,
      "outputs": [
        {
          "output_type": "stream",
          "name": "stdout",
          "text": [
            "+---+----------+-------+---------+-------+-------+-------+----+-------+---+-----+--------+--------+-----+--------+--------+-------+\n",
            "|age|job       |marital|education|default|balance|housing|loan|contact|day|month|duration|campaign|pdays|previous|poutcome|deposit|\n",
            "+---+----------+-------+---------+-------+-------+-------+----+-------+---+-----+--------+--------+-----+--------+--------+-------+\n",
            "|59 |admin.    |married|secondary|no     |2343   |yes    |no  |unknown|5  |may  |1042    |1       |-1   |0       |unknown |yes    |\n",
            "|56 |admin.    |married|secondary|no     |45     |no     |no  |unknown|5  |may  |1467    |1       |-1   |0       |unknown |yes    |\n",
            "|41 |technician|married|secondary|no     |1270   |yes    |no  |unknown|5  |may  |1389    |1       |-1   |0       |unknown |yes    |\n",
            "|55 |services  |married|secondary|no     |2476   |yes    |no  |unknown|5  |may  |579     |1       |-1   |0       |unknown |yes    |\n",
            "|54 |admin.    |married|tertiary |no     |184    |no     |no  |unknown|5  |may  |673     |2       |-1   |0       |unknown |yes    |\n",
            "+---+----------+-------+---------+-------+-------+-------+----+-------+---+-----+--------+--------+-----+--------+--------+-------+\n",
            "only showing top 5 rows\n",
            "\n"
          ]
        }
      ]
    },
    {
      "cell_type": "code",
      "source": [
        "# Check number classes\n",
        "df.groupby('deposit').count().show()"
      ],
      "metadata": {
        "colab": {
          "base_uri": "https://localhost:8080/"
        },
        "id": "dk4zRYP0zSZI",
        "outputId": "6b1da7fb-d4e2-4506-a73a-adb6c0b5c341"
      },
      "execution_count": 5,
      "outputs": [
        {
          "output_type": "stream",
          "name": "stdout",
          "text": [
            "+-------+-----+\n",
            "|deposit|count|\n",
            "+-------+-----+\n",
            "|     no| 5873|\n",
            "|    yes| 5289|\n",
            "+-------+-----+\n",
            "\n"
          ]
        }
      ]
    },
    {
      "cell_type": "code",
      "source": [
        "# Summary statistics for numeric variables\n",
        "numeric_features = [t[0] for t in df.dtypes if t[1] == 'int']\n",
        "df.select(numeric_features).describe().show()"
      ],
      "metadata": {
        "colab": {
          "base_uri": "https://localhost:8080/"
        },
        "id": "fewu-Zz-zcdJ",
        "outputId": "cbbaeaac-eed7-48cd-e5fc-84860b7ad478"
      },
      "execution_count": 6,
      "outputs": [
        {
          "output_type": "stream",
          "name": "stdout",
          "text": [
            "+-------+------------------+------------------+------------------+------------------+------------------+------------------+------------------+\n",
            "|summary|               age|           balance|               day|          duration|          campaign|             pdays|          previous|\n",
            "+-------+------------------+------------------+------------------+------------------+------------------+------------------+------------------+\n",
            "|  count|             11162|             11162|             11162|             11162|             11162|             11162|             11162|\n",
            "|   mean|41.231947679627304|1528.5385235620856|15.658036194230425|371.99381831213043| 2.508421429851281| 51.33040673714388|0.8325568894463358|\n",
            "| stddev|11.913369192215518| 3225.413325946149| 8.420739541006462|347.12838571630687|2.7220771816614824|108.75828197197717| 2.292007218670508|\n",
            "|    min|                18|             -6847|                 1|                 2|                 1|                -1|                 0|\n",
            "|    max|                95|             81204|                31|              3881|                63|               854|                58|\n",
            "+-------+------------------+------------------+------------------+------------------+------------------+------------------+------------------+\n",
            "\n"
          ]
        }
      ]
    },
    {
      "cell_type": "code",
      "source": [
        "# Select data\n",
        "df = df.select('age', 'job', 'marital', 'education', 'default', \n",
        "               'balance', 'housing', 'loan', 'contact', 'duration', \n",
        "               'campaign', 'pdays', 'previous', 'poutcome', 'deposit')\n",
        "cols = df.columns\n",
        "df.printSchema()"
      ],
      "metadata": {
        "colab": {
          "base_uri": "https://localhost:8080/"
        },
        "id": "aJG_sYPaz0ZL",
        "outputId": "b488e96d-9ca4-4215-9486-f0e7c4b92d48"
      },
      "execution_count": 7,
      "outputs": [
        {
          "output_type": "stream",
          "name": "stdout",
          "text": [
            "root\n",
            " |-- age: integer (nullable = true)\n",
            " |-- job: string (nullable = true)\n",
            " |-- marital: string (nullable = true)\n",
            " |-- education: string (nullable = true)\n",
            " |-- default: string (nullable = true)\n",
            " |-- balance: integer (nullable = true)\n",
            " |-- housing: string (nullable = true)\n",
            " |-- loan: string (nullable = true)\n",
            " |-- contact: string (nullable = true)\n",
            " |-- duration: integer (nullable = true)\n",
            " |-- campaign: integer (nullable = true)\n",
            " |-- pdays: integer (nullable = true)\n",
            " |-- previous: integer (nullable = true)\n",
            " |-- poutcome: string (nullable = true)\n",
            " |-- deposit: string (nullable = true)\n",
            "\n"
          ]
        }
      ]
    },
    {
      "cell_type": "code",
      "source": [
        "# Preparing data for machine learning\n",
        "from pyspark.ml.feature import OneHotEncoder, StringIndexer, VectorAssembler\n",
        "# a feature transformer that merges multiple columns into a vector column.\n",
        "\n",
        "# Handling Categorical\n",
        "cat = ['job', 'marital', 'education', 'default', \n",
        "       'housing', 'loan', 'contact', 'poutcome']\n",
        "stages = []\n",
        "\n",
        "# Encode Categorical\n",
        "for categorical in cat:\n",
        "  strIndexer = StringIndexer(inputCol = categorical, \n",
        "                             outputCol = categorical + 'Index')\n",
        "  encoder = OneHotEncoder(inputCols = [strIndexer.getOutputCol()], \n",
        "                          outputCols=[categorical + \"classVec\"])\n",
        "  stages += [strIndexer, encoder]\n",
        "\n",
        "label_strIdx = StringIndexer(inputCol='deposit', outputCol='label')\n",
        "stages += [label_strIdx]\n",
        "\n",
        "# Handling Numerical\n",
        "num = ['age', 'balance', 'duration', 'campaign', \n",
        "       'pdays', 'previous']\n",
        "assemblerInputs = [c+\"classVec\" for c in cat] + num\n",
        "assembler = VectorAssembler(inputCols=assemblerInputs, outputCol='features')\n",
        "stages += [assembler]\n",
        "\n",
        "#########################################################################\n",
        "# It indexes each categorical column using the StringIndexer,           #\n",
        "# then converts the indexed categories into one-hot encoded variables.  #"
      ],
      "metadata": {
        "id": "zwGh7nmv0Hfy"
      },
      "execution_count": 8,
      "outputs": []
    },
    {
      "cell_type": "code",
      "source": [
        "# PIPELINE\n",
        "# To chain multiple Transformers and Estimators together.\n",
        "# To specify our machine learning workflow. \n",
        "# A Pipeline’s stages are specified as an ordered array.\n",
        "from pyspark.ml import Pipeline\n",
        "pipeline = Pipeline(stages=stages)\n",
        "pipelineModel = pipeline.fit(df)\n",
        "df = pipelineModel.transform(df)\n",
        "selectCols = ['label','features'] + cols\n",
        "df = df.select(selectCols)\n",
        "df.printSchema()"
      ],
      "metadata": {
        "colab": {
          "base_uri": "https://localhost:8080/"
        },
        "id": "2_hM1Vkp1WVU",
        "outputId": "fa209df9-51fd-41c3-9f96-f2f358af0002"
      },
      "execution_count": 9,
      "outputs": [
        {
          "output_type": "stream",
          "name": "stdout",
          "text": [
            "root\n",
            " |-- label: double (nullable = false)\n",
            " |-- features: vector (nullable = true)\n",
            " |-- age: integer (nullable = true)\n",
            " |-- job: string (nullable = true)\n",
            " |-- marital: string (nullable = true)\n",
            " |-- education: string (nullable = true)\n",
            " |-- default: string (nullable = true)\n",
            " |-- balance: integer (nullable = true)\n",
            " |-- housing: string (nullable = true)\n",
            " |-- loan: string (nullable = true)\n",
            " |-- contact: string (nullable = true)\n",
            " |-- duration: integer (nullable = true)\n",
            " |-- campaign: integer (nullable = true)\n",
            " |-- pdays: integer (nullable = true)\n",
            " |-- previous: integer (nullable = true)\n",
            " |-- poutcome: string (nullable = true)\n",
            " |-- deposit: string (nullable = true)\n",
            "\n"
          ]
        }
      ]
    },
    {
      "cell_type": "code",
      "source": [
        "df.show(5, False)\n"
      ],
      "metadata": {
        "colab": {
          "base_uri": "https://localhost:8080/"
        },
        "id": "MTfg4jBc5NJY",
        "outputId": "42dfb538-fac4-4eb4-c93e-e1ae783969de"
      },
      "execution_count": 12,
      "outputs": [
        {
          "output_type": "stream",
          "name": "stdout",
          "text": [
            "+-----+--------------------------------------------------------------------------------------------------------+---+----------+-------+---------+-------+-------+-------+----+-------+--------+--------+-----+--------+--------+-------+\n",
            "|label|features                                                                                                |age|job       |marital|education|default|balance|housing|loan|contact|duration|campaign|pdays|previous|poutcome|deposit|\n",
            "+-----+--------------------------------------------------------------------------------------------------------+---+----------+-------+---------+-------+-------+-------+----+-------+--------+--------+-----+--------+--------+-------+\n",
            "|1.0  |(30,[3,11,13,16,18,20,21,24,25,26,27,28],[1.0,1.0,1.0,1.0,1.0,1.0,1.0,59.0,2343.0,1042.0,1.0,-1.0])     |59 |admin.    |married|secondary|no     |2343   |yes    |no  |unknown|1042    |1       |-1   |0       |unknown |yes    |\n",
            "|1.0  |(30,[3,11,13,16,17,18,20,21,24,25,26,27,28],[1.0,1.0,1.0,1.0,1.0,1.0,1.0,1.0,56.0,45.0,1467.0,1.0,-1.0])|56 |admin.    |married|secondary|no     |45     |no     |no  |unknown|1467    |1       |-1   |0       |unknown |yes    |\n",
            "|1.0  |(30,[2,11,13,16,18,20,21,24,25,26,27,28],[1.0,1.0,1.0,1.0,1.0,1.0,1.0,41.0,1270.0,1389.0,1.0,-1.0])     |41 |technician|married|secondary|no     |1270   |yes    |no  |unknown|1389    |1       |-1   |0       |unknown |yes    |\n",
            "|1.0  |(30,[4,11,13,16,18,20,21,24,25,26,27,28],[1.0,1.0,1.0,1.0,1.0,1.0,1.0,55.0,2476.0,579.0,1.0,-1.0])      |55 |services  |married|secondary|no     |2476   |yes    |no  |unknown|579     |1       |-1   |0       |unknown |yes    |\n",
            "|1.0  |(30,[3,11,14,16,17,18,20,21,24,25,26,27,28],[1.0,1.0,1.0,1.0,1.0,1.0,1.0,1.0,54.0,184.0,673.0,2.0,-1.0])|54 |admin.    |married|tertiary |no     |184    |no     |no  |unknown|673     |2       |-1   |0       |unknown |yes    |\n",
            "+-----+--------------------------------------------------------------------------------------------------------+---+----------+-------+---------+-------+-------+-------+----+-------+--------+--------+-----+--------+--------+-------+\n",
            "only showing top 5 rows\n",
            "\n"
          ]
        }
      ]
    },
    {
      "cell_type": "code",
      "source": [
        "# Take 5 row to show\n",
        "df.take(5)"
      ],
      "metadata": {
        "colab": {
          "base_uri": "https://localhost:8080/"
        },
        "id": "bFv_F2gF8bd3",
        "outputId": "184899ee-49af-46e5-ce53-57fe272a7659"
      },
      "execution_count": 11,
      "outputs": [
        {
          "output_type": "execute_result",
          "data": {
            "text/plain": [
              "[Row(label=1.0, features=SparseVector(30, {3: 1.0, 11: 1.0, 13: 1.0, 16: 1.0, 18: 1.0, 20: 1.0, 21: 1.0, 24: 59.0, 25: 2343.0, 26: 1042.0, 27: 1.0, 28: -1.0}), age=59, job='admin.', marital='married', education='secondary', default='no', balance=2343, housing='yes', loan='no', contact='unknown', duration=1042, campaign=1, pdays=-1, previous=0, poutcome='unknown', deposit='yes'),\n",
              " Row(label=1.0, features=SparseVector(30, {3: 1.0, 11: 1.0, 13: 1.0, 16: 1.0, 17: 1.0, 18: 1.0, 20: 1.0, 21: 1.0, 24: 56.0, 25: 45.0, 26: 1467.0, 27: 1.0, 28: -1.0}), age=56, job='admin.', marital='married', education='secondary', default='no', balance=45, housing='no', loan='no', contact='unknown', duration=1467, campaign=1, pdays=-1, previous=0, poutcome='unknown', deposit='yes'),\n",
              " Row(label=1.0, features=SparseVector(30, {2: 1.0, 11: 1.0, 13: 1.0, 16: 1.0, 18: 1.0, 20: 1.0, 21: 1.0, 24: 41.0, 25: 1270.0, 26: 1389.0, 27: 1.0, 28: -1.0}), age=41, job='technician', marital='married', education='secondary', default='no', balance=1270, housing='yes', loan='no', contact='unknown', duration=1389, campaign=1, pdays=-1, previous=0, poutcome='unknown', deposit='yes'),\n",
              " Row(label=1.0, features=SparseVector(30, {4: 1.0, 11: 1.0, 13: 1.0, 16: 1.0, 18: 1.0, 20: 1.0, 21: 1.0, 24: 55.0, 25: 2476.0, 26: 579.0, 27: 1.0, 28: -1.0}), age=55, job='services', marital='married', education='secondary', default='no', balance=2476, housing='yes', loan='no', contact='unknown', duration=579, campaign=1, pdays=-1, previous=0, poutcome='unknown', deposit='yes'),\n",
              " Row(label=1.0, features=SparseVector(30, {3: 1.0, 11: 1.0, 14: 1.0, 16: 1.0, 17: 1.0, 18: 1.0, 20: 1.0, 21: 1.0, 24: 54.0, 25: 184.0, 26: 673.0, 27: 2.0, 28: -1.0}), age=54, job='admin.', marital='married', education='tertiary', default='no', balance=184, housing='no', loan='no', contact='unknown', duration=673, campaign=2, pdays=-1, previous=0, poutcome='unknown', deposit='yes')]"
            ]
          },
          "metadata": {},
          "execution_count": 11
        }
      ]
    },
    {
      "cell_type": "code",
      "source": [
        "# Split dataset into training and testing\n",
        "train, test = df.randomSplit([0.7,0.3], seed=54)\n",
        "print(\"Training dataset: \" + str(train.count()))\n",
        "print(\"Testing dataset: \" + str(test.count()))"
      ],
      "metadata": {
        "id": "z--1v0k7-6pI",
        "colab": {
          "base_uri": "https://localhost:8080/"
        },
        "outputId": "5d31c2eb-201e-475b-a366-b810f44803f9"
      },
      "execution_count": 13,
      "outputs": [
        {
          "output_type": "stream",
          "name": "stdout",
          "text": [
            "Training dataset: 7814\n",
            "Testing dataset: 3348\n"
          ]
        }
      ]
    },
    {
      "cell_type": "markdown",
      "source": [
        "## Regression Modelling"
      ],
      "metadata": {
        "id": "pX5LcyPSVT-3"
      }
    },
    {
      "cell_type": "code",
      "source": [
        "# Modelling step\n",
        "# Logistic Regression Model\n",
        "from pyspark.ml.classification import LogisticRegression\n",
        "\n",
        "logreg = LogisticRegression(featuresCol='features', \n",
        "                            labelCol = 'label', \n",
        "                            maxIter=25)\n",
        "lr = logreg.fit(train)"
      ],
      "metadata": {
        "id": "IaRNsOJ7SQ4M"
      },
      "execution_count": 15,
      "outputs": []
    },
    {
      "cell_type": "code",
      "source": [
        "# CREATE EVALUATION\n",
        "# Coefficients\n",
        "import matplotlib.pyplot as plt\n",
        "import numpy as np\n",
        "\n",
        "betaCoef = np.sort(lr.coefficients)\n",
        "\n",
        "plt.plot(betaCoef)\n",
        "plt.ylabel('Beta Coefficients')\n",
        "plt.show()"
      ],
      "metadata": {
        "colab": {
          "base_uri": "https://localhost:8080/",
          "height": 264
        },
        "id": "pGqOPCEqS1us",
        "outputId": "e721b2f9-7e0b-44b0-cde1-6c2d65b38519"
      },
      "execution_count": 16,
      "outputs": [
        {
          "output_type": "display_data",
          "data": {
            "image/png": "[encoded data removed]",
            "text/plain": [
              "<Figure size 432x288 with 1 Axes>"
            ]
          },
          "metadata": {
            "needs_background": "light"
          }
        }
      ]
    },
    {
      "cell_type": "code",
      "source": [
        "# ROC Curve\n",
        "trainingSummary = lr.summary\n",
        "\n",
        "roc = trainingSummary.roc.toPandas()\n",
        "plt.plot(roc['FPR'], roc['TPR'])\n",
        "plt.ylabel('False Positive Rate')\n",
        "plt.xlabel('True Positive Rate')\n",
        "plt.title('ROC Curve')\n",
        "plt.show()\n",
        "\n",
        "print('Training set area Under ROC: ' + str(trainingSummary.areaUnderROC))"
      ],
      "metadata": {
        "colab": {
          "base_uri": "https://localhost:8080/",
          "height": 350
        },
        "id": "UxQL9WPoTTEi",
        "outputId": "26c4d489-680a-4d91-d08b-b3b1c8f8cbcc"
      },
      "execution_count": 18,
      "outputs": [
        {
          "output_type": "stream",
          "name": "stderr",
          "text": [
            "/usr/local/lib/python3.7/dist-packages/pyspark/sql/context.py:127: FutureWarning: Deprecated in 3.0.0. Use SparkSession.builder.getOrCreate() instead.\n",
            "  FutureWarning\n"
          ]
        },
        {
          "output_type": "display_data",
          "data": {
            "image/png": "[encoded data removed]",
            "text/plain": [
              "<Figure size 432x288 with 1 Axes>"
            ]
          },
          "metadata": {
            "needs_background": "light"
          }
        },
        {
          "output_type": "stream",
          "name": "stdout",
          "text": [
            "Training set area Under ROC: 0.8865351295157234\n"
          ]
        }
      ]
    },
    {
      "cell_type": "code",
      "source": [
        "# Precision and Recall\n",
        "pr = trainingSummary.pr.toPandas()\n",
        "plt.plot(pr['recall'], pr['precision'])\n",
        "plt.xlabel('precision')\n",
        "plt.ylabel('recall')\n",
        "plt.show()"
      ],
      "metadata": {
        "colab": {
          "base_uri": "https://localhost:8080/",
          "height": 315
        },
        "id": "7uMY6b0RTvGQ",
        "outputId": "4f3e6234-cd60-43d4-93c8-5d4afd6bf068"
      },
      "execution_count": 21,
      "outputs": [
        {
          "output_type": "stream",
          "name": "stderr",
          "text": [
            "/usr/local/lib/python3.7/dist-packages/pyspark/sql/context.py:127: FutureWarning: Deprecated in 3.0.0. Use SparkSession.builder.getOrCreate() instead.\n",
            "  FutureWarning\n"
          ]
        },
        {
          "output_type": "display_data",
          "data": {
            "image/png": "[encoded data removed]",
            "text/plain": [
              "<Figure size 432x288 with 1 Axes>"
            ]
          },
          "metadata": {
            "needs_background": "light"
          }
        }
      ]
    },
    {
      "cell_type": "code",
      "source": [
        "# Threshold to maximaze F-measure\n",
        "f = trainingSummary.fMeasureByThreshold.toPandas()\n",
        "plt.plot(f['threshold'], f['F-Measure'])\n",
        "plt.ylabel('F-Measure')\n",
        "plt.xlabel('Threshold')\n",
        "plt.show()"
      ],
      "metadata": {
        "colab": {
          "base_uri": "https://localhost:8080/",
          "height": 315
        },
        "id": "hK24Dc1RTzMK",
        "outputId": "55e97999-cb38-4b62-b86f-3fd2dfb7cb2c"
      },
      "execution_count": 23,
      "outputs": [
        {
          "output_type": "stream",
          "name": "stderr",
          "text": [
            "/usr/local/lib/python3.7/dist-packages/pyspark/sql/context.py:127: FutureWarning: Deprecated in 3.0.0. Use SparkSession.builder.getOrCreate() instead.\n",
            "  FutureWarning\n"
          ]
        },
        {
          "output_type": "display_data",
          "data": {
            "image/png": "[encoded data removed]",
            "text/plain": [
              "<Figure size 432x288 with 1 Axes>"
            ]
          },
          "metadata": {
            "needs_background": "light"
          }
        }
      ]
    },
    {
      "cell_type": "code",
      "source": [
        "# PREDICTION\n",
        "y_pred = lr.transform(test)\n",
        "y_pred.select('age', 'job', 'label', \n",
        "              'rawPrediction', 'prediction',\n",
        "              'probability').show(10)"
      ],
      "metadata": {
        "colab": {
          "base_uri": "https://localhost:8080/"
        },
        "id": "Dep0oi0TUhnf",
        "outputId": "60034744-ad52-4993-e13d-16eca943b9c9"
      },
      "execution_count": 25,
      "outputs": [
        {
          "output_type": "stream",
          "name": "stdout",
          "text": [
            "+---+----------+-----+--------------------+----------+--------------------+\n",
            "|age|       job|label|       rawPrediction|prediction|         probability|\n",
            "+---+----------+-----+--------------------+----------+--------------------+\n",
            "| 34|management|  0.0|[0.29307471186203...|       0.0|[0.57274870611483...|\n",
            "| 46|management|  0.0|[-0.9355954088204...|       1.0|[0.28179090747191...|\n",
            "| 52|management|  0.0|[1.31829716686192...|       0.0|[0.78889825995427...|\n",
            "| 57|management|  0.0|[0.97941074128833...|       0.0|[0.72699127888684...|\n",
            "| 58|management|  0.0|[2.37541376228641...|       0.0|[0.91493316383528...|\n",
            "| 61|management|  0.0|[0.69503508123938...|       0.0|[0.66708606806172...|\n",
            "| 32|management|  0.0|[1.21288934009936...|       0.0|[0.77080978517558...|\n",
            "| 40|management|  0.0|[1.53649496432900...|       0.0|[0.82295461836796...|\n",
            "| 46|management|  0.0|[0.23509551833160...|       0.0|[0.55850466521291...|\n",
            "| 50|management|  0.0|[-0.8835474724539...|       1.0|[0.29244319518820...|\n",
            "+---+----------+-----+--------------------+----------+--------------------+\n",
            "only showing top 10 rows\n",
            "\n"
          ]
        }
      ]
    },
    {
      "cell_type": "code",
      "source": [
        "# EVALUATE the model\n",
        "from pyspark.ml.evaluation import BinaryClassificationEvaluator\n",
        "\n",
        "evaluator = BinaryClassificationEvaluator()\n",
        "print(evaluator.getMetricName())\n",
        "print('Test Area Under ROC', evaluator.evaluate(y_pred))"
      ],
      "metadata": {
        "colab": {
          "base_uri": "https://localhost:8080/"
        },
        "id": "cqqlekncUmAG",
        "outputId": "b199d8a5-8687-4380-93bf-6d35a5b23fcf"
      },
      "execution_count": 27,
      "outputs": [
        {
          "output_type": "stream",
          "name": "stdout",
          "text": [
            "areaUnderROC\n",
            "Test Area Under ROC 0.8878531972607983\n"
          ]
        }
      ]
    },
    {
      "cell_type": "markdown",
      "source": [
        "## CV dan Tuning"
      ],
      "metadata": {
        "id": "w8_ZeJ1MVZCt"
      }
    },
    {
      "cell_type": "code",
      "source": [
        "from pyspark.ml.tuning import ParamGridBuilder, CrossValidator\n",
        "\n",
        "paramGrid = (ParamGridBuilder()\\\n",
        "             .addGrid(logreg.regParam, [0.01, 0.5, 2.0])\\\n",
        "             .addGrid(logreg.elasticNetParam, [0.0, 0.5, 1.0])\\\n",
        "             .addGrid(logreg.maxIter, [1, 5, 10])\\\n",
        "             .build())\n",
        "\n",
        "cv = CrossValidator(estimator=logreg, estimatorParamMaps=paramGrid,\n",
        "                    evaluator=evaluator, numFolds=5)\n",
        "\n",
        "cvModel = cv.fit(train)\n",
        "y_pred = cvModel.transform(test)\n",
        "print(evaluator.getMetricName())\n",
        "print('Test Area Under ROC', evaluator.evaluate(y_pred))"
      ],
      "metadata": {
        "colab": {
          "base_uri": "https://localhost:8080/"
        },
        "id": "EVULcwjZVEoS",
        "outputId": "28187959-7413-41fd-e128-fad0ddb900b7"
      },
      "execution_count": 28,
      "outputs": [
        {
          "output_type": "stream",
          "name": "stdout",
          "text": [
            "areaUnderROC\n",
            "Test Area Under ROC 0.888572340059809\n"
          ]
        }
      ]
    },
    {
      "cell_type": "markdown",
      "source": [
        "## Decision Tree"
      ],
      "metadata": {
        "id": "y3Cr86-FXzrM"
      }
    },
    {
      "cell_type": "code",
      "source": [
        "from pyspark.ml.classification import DecisionTreeClassifier\n",
        "\n",
        "dt = DecisionTreeClassifier(featuresCol='features',\n",
        "                            labelCol='label', maxDepth=5)\n",
        "dtModel = dt.fit(train)\n",
        "y_pred = dtModel.transform(test)\n",
        "y_pred.select('age', 'job', \n",
        "              'label', 'rawPrediction', \n",
        "              'prediction', 'probability').show(10)"
      ],
      "metadata": {
        "colab": {
          "base_uri": "https://localhost:8080/"
        },
        "id": "TrWdlcv8XuqW",
        "outputId": "34471e9c-a4dc-4177-f29f-eddc4fcaf3ce"
      },
      "execution_count": 29,
      "outputs": [
        {
          "output_type": "stream",
          "name": "stdout",
          "text": [
            "+---+----------+-----+--------------+----------+--------------------+\n",
            "|age|       job|label| rawPrediction|prediction|         probability|\n",
            "+---+----------+-----+--------------+----------+--------------------+\n",
            "| 34|management|  0.0| [378.0,690.0]|       1.0|[0.35393258426966...|\n",
            "| 46|management|  0.0|[401.0,1796.0]|       1.0|[0.18252162039144...|\n",
            "| 52|management|  0.0|[1318.0,101.0]|       0.0|[0.92882311486962...|\n",
            "| 57|management|  0.0| [455.0,232.0]|       0.0|[0.66229985443959...|\n",
            "| 58|management|  0.0|[1318.0,101.0]|       0.0|[0.92882311486962...|\n",
            "| 61|management|  0.0| [455.0,232.0]|       0.0|[0.66229985443959...|\n",
            "| 32|management|  0.0| [455.0,232.0]|       0.0|[0.66229985443959...|\n",
            "| 40|management|  0.0|  [346.0,14.0]|       0.0|[0.96111111111111...|\n",
            "| 46|management|  0.0|[401.0,1796.0]|       1.0|[0.18252162039144...|\n",
            "| 50|management|  0.0| [378.0,690.0]|       1.0|[0.35393258426966...|\n",
            "+---+----------+-----+--------------+----------+--------------------+\n",
            "only showing top 10 rows\n",
            "\n"
          ]
        }
      ]
    },
    {
      "cell_type": "code",
      "source": [
        "# EVALUATE model\n",
        "evaluator = BinaryClassificationEvaluator()\n",
        "print(evaluator.getMetricName())\n",
        "print('Test Area Under ROC', str(evaluator.evaluate(y_pred, {evaluator.metricName: \"areaUnderROC\"})))"
      ],
      "metadata": {
        "colab": {
          "base_uri": "https://localhost:8080/"
        },
        "id": "vCjQJ0eGZK_m",
        "outputId": "cca979a4-4dbe-4af7-f54e-9d5d21180bd9"
      },
      "execution_count": 30,
      "outputs": [
        {
          "output_type": "stream",
          "name": "stdout",
          "text": [
            "areaUnderROC\n",
            "Test Area Under ROC 0.8073763094122658\n"
          ]
        }
      ]
    },
    {
      "cell_type": "markdown",
      "source": [
        "## Random Forest"
      ],
      "metadata": {
        "id": "fcuTqoTIZcQ3"
      }
    },
    {
      "cell_type": "code",
      "source": [
        "from pyspark.ml.classification import RandomForestClassifier\n",
        "\n",
        "rf = RandomForestClassifier(featuresCol='features', labelCol='label')\n",
        "rfModel = rf.fit(train)\n",
        "y_pred = rfModel.transform(test)\n",
        "y_pred.select('age', 'job', 'label', 'rawPrediction',\n",
        "              'prediction', 'probability').show(10)"
      ],
      "metadata": {
        "colab": {
          "base_uri": "https://localhost:8080/"
        },
        "id": "_qIYtz4QZXFw",
        "outputId": "af39f0c1-a3c9-4f39-a910-5c07a551d20c"
      },
      "execution_count": 32,
      "outputs": [
        {
          "output_type": "stream",
          "name": "stdout",
          "text": [
            "+---+----------+-----+--------------------+----------+--------------------+\n",
            "|age|       job|label|       rawPrediction|prediction|         probability|\n",
            "+---+----------+-----+--------------------+----------+--------------------+\n",
            "| 34|management|  0.0|[11.7253568129978...|       0.0|[0.58626784064989...|\n",
            "| 46|management|  0.0|[7.03534259451337...|       1.0|[0.35176712972566...|\n",
            "| 52|management|  0.0|[13.9729502059052...|       0.0|[0.69864751029526...|\n",
            "| 57|management|  0.0|[13.9729502059052...|       0.0|[0.69864751029526...|\n",
            "| 58|management|  0.0|[14.6963524582330...|       0.0|[0.73481762291165...|\n",
            "| 61|management|  0.0|[7.68475942765574...|       1.0|[0.38423797138278...|\n",
            "| 32|management|  0.0|[14.6205205587011...|       0.0|[0.73102602793505...|\n",
            "| 40|management|  0.0|[16.4429902940830...|       0.0|[0.82214951470415...|\n",
            "| 46|management|  0.0|[9.82237454009093...|       1.0|[0.49111872700454...|\n",
            "| 50|management|  0.0|[5.15575647146125...|       1.0|[0.25778782357306...|\n",
            "+---+----------+-----+--------------------+----------+--------------------+\n",
            "only showing top 10 rows\n",
            "\n"
          ]
        }
      ]
    },
    {
      "cell_type": "code",
      "source": [
        "# EVALUATE model\n",
        "evaluator = BinaryClassificationEvaluator()\n",
        "print(evaluator.getMetricName())\n",
        "print('Test Area Under ROC', str(evaluator.evaluate(y_pred, {evaluator.metricName: \"areaUnderROC\"})))"
      ],
      "metadata": {
        "colab": {
          "base_uri": "https://localhost:8080/"
        },
        "id": "lcY-nWGkZ1Po",
        "outputId": "67ad2ca0-a136-476a-a9d9-10c92bd70e3f"
      },
      "execution_count": 33,
      "outputs": [
        {
          "output_type": "stream",
          "name": "stdout",
          "text": [
            "areaUnderROC\n",
            "Test Area Under ROC 0.8839233904783907\n"
          ]
        }
      ]
    },
    {
      "cell_type": "code",
      "source": [
        "# CHECK RF Params, why is so high?\n",
        "print(rf.explainParams())"
      ],
      "metadata": {
        "colab": {
          "base_uri": "https://localhost:8080/"
        },
        "id": "M83hugzDZ577",
        "outputId": "9f15d17d-8e11-4dca-dde7-79ee97ac3d59"
      },
      "execution_count": 34,
      "outputs": [
        {
          "output_type": "stream",
          "name": "stdout",
          "text": [
            "bootstrap: Whether bootstrap samples are used when building trees. (default: True)\n",
            "cacheNodeIds: If false, the algorithm will pass trees to executors to match instances with nodes. If true, the algorithm will cache node IDs for each instance. Caching can speed up training of deeper trees. Users can set how often should the cache be checkpointed or disable it by setting checkpointInterval. (default: False)\n",
            "checkpointInterval: set checkpoint interval (>= 1) or disable checkpoint (-1). E.g. 10 means that the cache will get checkpointed every 10 iterations. Note: this setting will be ignored if the checkpoint directory is not set in the SparkContext. (default: 10)\n",
            "featureSubsetStrategy: The number of features to consider for splits at each tree node. Supported options: 'auto' (choose automatically for task: If numTrees == 1, set to 'all'. If numTrees > 1 (forest), set to 'sqrt' for classification and to 'onethird' for regression), 'all' (use all features), 'onethird' (use 1/3 of the features), 'sqrt' (use sqrt(number of features)), 'log2' (use log2(number of features)), 'n' (when n is in the range (0, 1.0], use n * number of features. When n is in the range (1, number of features), use n features). default = 'auto' (default: auto)\n",
            "featuresCol: features column name. (default: features, current: features)\n",
            "impurity: Criterion used for information gain calculation (case-insensitive). Supported options: entropy, gini (default: gini)\n",
            "labelCol: label column name. (default: label, current: label)\n",
            "leafCol: Leaf indices column name. Predicted leaf index of each instance in each tree by preorder. (default: )\n",
            "maxBins: Max number of bins for discretizing continuous features.  Must be >=2 and >= number of categories for any categorical feature. (default: 32)\n",
            "maxDepth: Maximum depth of the tree. (>= 0) E.g., depth 0 means 1 leaf node; depth 1 means 1 internal node + 2 leaf nodes. Must be in range [0, 30]. (default: 5)\n",
            "maxMemoryInMB: Maximum memory in MB allocated to histogram aggregation. If too small, then 1 node will be split per iteration, and its aggregates may exceed this size. (default: 256)\n",
            "minInfoGain: Minimum information gain for a split to be considered at a tree node. (default: 0.0)\n",
            "minInstancesPerNode: Minimum number of instances each child must have after split. If a split causes the left or right child to have fewer than minInstancesPerNode, the split will be discarded as invalid. Should be >= 1. (default: 1)\n",
            "minWeightFractionPerNode: Minimum fraction of the weighted sample count that each child must have after split. If a split causes the fraction of the total weight in the left or right child to be less than minWeightFractionPerNode, the split will be discarded as invalid. Should be in interval [0.0, 0.5). (default: 0.0)\n",
            "numTrees: Number of trees to train (>= 1). (default: 20)\n",
            "predictionCol: prediction column name. (default: prediction)\n",
            "probabilityCol: Column name for predicted class conditional probabilities. Note: Not all models output well-calibrated probability estimates! These probabilities should be treated as confidences, not precise probabilities. (default: probability)\n",
            "rawPredictionCol: raw prediction (a.k.a. confidence) column name. (default: rawPrediction)\n",
            "seed: random seed. (default: -1135977515530611806)\n",
            "subsamplingRate: Fraction of the training data used for learning each decision tree, in range (0, 1]. (default: 1.0)\n",
            "thresholds: Thresholds in multi-class classification to adjust the probability of predicting each class. Array must have length equal to the number of classes, with values > 0, excepting that at most one value may be 0. The class with largest value p/t is predicted, where p is the original probability of that class and t is the class's threshold. (undefined)\n",
            "weightCol: weight column name. If this is not set or empty, we treat all instance weights as 1.0. (undefined)\n"
          ]
        }
      ]
    },
    {
      "cell_type": "markdown",
      "source": [
        "## Gradient Boosting Tree"
      ],
      "metadata": {
        "id": "r4BAGfTRaD73"
      }
    },
    {
      "cell_type": "code",
      "source": [
        "from pyspark.ml.classification import GBTClassifier\n",
        "\n",
        "gbt = GBTClassifier(maxIter=10)\n",
        "gbtModel = gbt.fit(train)\n",
        "y_pred = gbtModel.transform(test)\n",
        "y_pred.select('age', 'job', 'label', 'rawPrediction',\n",
        "              'prediction', 'probability').show(10)"
      ],
      "metadata": {
        "colab": {
          "base_uri": "https://localhost:8080/"
        },
        "id": "jwkAsZRIaBsr",
        "outputId": "b0969744-f303-419f-de97-48e7dac0e37b"
      },
      "execution_count": 35,
      "outputs": [
        {
          "output_type": "stream",
          "name": "stdout",
          "text": [
            "+---+----------+-----+--------------------+----------+--------------------+\n",
            "|age|       job|label|       rawPrediction|prediction|         probability|\n",
            "+---+----------+-----+--------------------+----------+--------------------+\n",
            "| 34|management|  0.0|[-0.1156165792319...|       1.0|[0.44244791875210...|\n",
            "| 46|management|  0.0|[-0.5950936389055...|       1.0|[0.23322544295711...|\n",
            "| 52|management|  0.0|[1.01031270336071...|       0.0|[0.88294566202945...|\n",
            "| 57|management|  0.0|[0.56848905457566...|       0.0|[0.75712438426353...|\n",
            "| 58|management|  0.0|[1.16919404925514...|       0.0|[0.91200681533493...|\n",
            "| 61|management|  0.0|[-0.3611999937235...|       1.0|[0.32686470842786...|\n",
            "| 32|management|  0.0|[0.74438223786413...|       0.0|[0.81589275472578...|\n",
            "| 40|management|  0.0|[1.26671061788815...|       0.0|[0.92645181286120...|\n",
            "| 46|management|  0.0|[0.12553925556055...|       0.0|[0.56244194140566...|\n",
            "| 50|management|  0.0|[-0.5863535768333...|       1.0|[0.23636600215913...|\n",
            "+---+----------+-----+--------------------+----------+--------------------+\n",
            "only showing top 10 rows\n",
            "\n"
          ]
        }
      ]
    },
    {
      "cell_type": "code",
      "source": [
        "# EVALUATE model\n",
        "evaluator = BinaryClassificationEvaluator()\n",
        "print(evaluator.getMetricName())\n",
        "print('Test Area Under ROC', str(evaluator.evaluate(y_pred, {evaluator.metricName: \"areaUnderROC\"})))"
      ],
      "metadata": {
        "colab": {
          "base_uri": "https://localhost:8080/"
        },
        "id": "P47VM-tOaYXS",
        "outputId": "4ab06651-2a1b-4faf-9750-6b69821fcf0d"
      },
      "execution_count": 36,
      "outputs": [
        {
          "output_type": "stream",
          "name": "stdout",
          "text": [
            "areaUnderROC\n",
            "Test Area Under ROC 0.892608726388773\n"
          ]
        }
      ]
    },
    {
      "cell_type": "code",
      "source": [
        "print(gbt.explainParams())"
      ],
      "metadata": {
        "colab": {
          "base_uri": "https://localhost:8080/"
        },
        "id": "EvGvWjroadfN",
        "outputId": "49067c65-c572-4414-8d75-1f2462a235fe"
      },
      "execution_count": 37,
      "outputs": [
        {
          "output_type": "stream",
          "name": "stdout",
          "text": [
            "cacheNodeIds: If false, the algorithm will pass trees to executors to match instances with nodes. If true, the algorithm will cache node IDs for each instance. Caching can speed up training of deeper trees. Users can set how often should the cache be checkpointed or disable it by setting checkpointInterval. (default: False)\n",
            "checkpointInterval: set checkpoint interval (>= 1) or disable checkpoint (-1). E.g. 10 means that the cache will get checkpointed every 10 iterations. Note: this setting will be ignored if the checkpoint directory is not set in the SparkContext. (default: 10)\n",
            "featureSubsetStrategy: The number of features to consider for splits at each tree node. Supported options: 'auto' (choose automatically for task: If numTrees == 1, set to 'all'. If numTrees > 1 (forest), set to 'sqrt' for classification and to 'onethird' for regression), 'all' (use all features), 'onethird' (use 1/3 of the features), 'sqrt' (use sqrt(number of features)), 'log2' (use log2(number of features)), 'n' (when n is in the range (0, 1.0], use n * number of features. When n is in the range (1, number of features), use n features). default = 'auto' (default: all)\n",
            "featuresCol: features column name. (default: features)\n",
            "impurity: Criterion used for information gain calculation (case-insensitive). Supported options: variance (default: variance)\n",
            "labelCol: label column name. (default: label)\n",
            "leafCol: Leaf indices column name. Predicted leaf index of each instance in each tree by preorder. (default: )\n",
            "lossType: Loss function which GBT tries to minimize (case-insensitive). Supported options: logistic (default: logistic)\n",
            "maxBins: Max number of bins for discretizing continuous features.  Must be >=2 and >= number of categories for any categorical feature. (default: 32)\n",
            "maxDepth: Maximum depth of the tree. (>= 0) E.g., depth 0 means 1 leaf node; depth 1 means 1 internal node + 2 leaf nodes. Must be in range [0, 30]. (default: 5)\n",
            "maxIter: max number of iterations (>= 0). (default: 20, current: 10)\n",
            "maxMemoryInMB: Maximum memory in MB allocated to histogram aggregation. If too small, then 1 node will be split per iteration, and its aggregates may exceed this size. (default: 256)\n",
            "minInfoGain: Minimum information gain for a split to be considered at a tree node. (default: 0.0)\n",
            "minInstancesPerNode: Minimum number of instances each child must have after split. If a split causes the left or right child to have fewer than minInstancesPerNode, the split will be discarded as invalid. Should be >= 1. (default: 1)\n",
            "minWeightFractionPerNode: Minimum fraction of the weighted sample count that each child must have after split. If a split causes the fraction of the total weight in the left or right child to be less than minWeightFractionPerNode, the split will be discarded as invalid. Should be in interval [0.0, 0.5). (default: 0.0)\n",
            "predictionCol: prediction column name. (default: prediction)\n",
            "probabilityCol: Column name for predicted class conditional probabilities. Note: Not all models output well-calibrated probability estimates! These probabilities should be treated as confidences, not precise probabilities. (default: probability)\n",
            "rawPredictionCol: raw prediction (a.k.a. confidence) column name. (default: rawPrediction)\n",
            "seed: random seed. (default: -4876294045000189403)\n",
            "stepSize: Step size (a.k.a. learning rate) in interval (0, 1] for shrinking the contribution of each estimator. (default: 0.1)\n",
            "subsamplingRate: Fraction of the training data used for learning each decision tree, in range (0, 1]. (default: 1.0)\n",
            "thresholds: Thresholds in multi-class classification to adjust the probability of predicting each class. Array must have length equal to the number of classes, with values > 0, excepting that at most one value may be 0. The class with largest value p/t is predicted, where p is the original probability of that class and t is the class's threshold. (undefined)\n",
            "validationIndicatorCol: name of the column that indicates whether each row is for training or for validation. False indicates training; true indicates validation. (undefined)\n",
            "validationTol: Threshold for stopping early when fit with validation is used. If the error rate on the validation input changes by less than the validationTol, then learning will stop early (before `maxIter`). This parameter is ignored when fit without validation is used. (default: 0.01)\n",
            "weightCol: weight column name. If this is not set or empty, we treat all instance weights as 1.0. (undefined)\n"
          ]
        }
      ]
    },
    {
      "cell_type": "code",
      "source": [
        "# TUNING\n",
        "\n",
        "from pyspark.ml.tuning import ParamGridBuilder, CrossValidator\n",
        "\n",
        "paramGrid = (ParamGridBuilder()\\\n",
        "             .addGrid(gbt.maxDepth, [2,5,6])\\\n",
        "             .addGrid(gbt.maxBins, [20, 50,60])\\\n",
        "             .addGrid(gbt.maxIter, [10,20,30])\\\n",
        "             .build())\n",
        "\n",
        "cv = CrossValidator(estimator=gbt, estimatorParamMaps=paramGrid,\n",
        "                    evaluator=evaluator, numFolds=5)\n",
        "\n",
        "# RUN CROSS Validations\n",
        "cvModel = cv.fit(train)\n",
        "y_pred = cvModel.transform(test)\n",
        "evaluator.evaluate(y_pred)"
      ],
      "metadata": {
        "colab": {
          "base_uri": "https://localhost:8080/"
        },
        "id": "cZHJlWgsahBd",
        "outputId": "7320d0c3-2a99-40fe-bee4-f42636c38823"
      },
      "execution_count": 38,
      "outputs": [
        {
          "output_type": "execute_result",
          "data": {
            "text/plain": [
              "0.8965152076811904"
            ]
          },
          "metadata": {},
          "execution_count": 38
        }
      ]
    },
    {
      "cell_type": "markdown",
      "source": [
        "Finally, we chosen GBT for the model"
      ],
      "metadata": {
        "id": "c5FxNi7eevy1"
      }
    }
  ]
}