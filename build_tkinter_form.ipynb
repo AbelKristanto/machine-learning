{
  "nbformat": 4,
  "nbformat_minor": 0,
  "metadata": {
    "colab": {
      "name": "build tkinter form.ipynb",
      "provenance": [],
      "authorship_tag": "ABX9TyNw2VvaZq0LwZ/jCHJpR9U1"
    },
    "kernelspec": {
      "name": "python3",
      "display_name": "Python 3"
    },
    "language_info": {
      "name": "python"
    }
  },
  "cells": [
    {
      "cell_type": "markdown",
      "source": [
        "<h1><b>Introduction</b></h1>\n",
        "<p>Hello everyone, in this part we will build some tkinter form that integrate into xlsx. I hope you can follow my step.</p>"
      ],
      "metadata": {
        "id": "FeCqVtusBxAC"
      }
    },
    {
      "cell_type": "code",
      "execution_count": 6,
      "metadata": {
        "id": "FH6ONvEIA833"
      },
      "outputs": [],
      "source": [
        "# install useful modules\n",
        "!pip install tkinter\n",
        "!pip install openpyxl"
      ]
    },
    {
      "cell_type": "code",
      "source": [
        "### CREATE VIRTUAL DISPLAY ###\n",
        "!apt-get install -y xvfb # Install X Virtual Frame Buffer\n",
        "import os\n",
        "# create virtual display with size 1600x1200 and 16 bit color. Color can be changed to 24 or 8\n",
        "os.system('Xvfb :1 -screen 0 1600x1200x16  &')\n",
        "# tell X clients to use our virtual DISPLAY :1.0.\n",
        "os.environ['DISPLAY']=':1.0'"
      ],
      "metadata": {
        "colab": {
          "base_uri": "https://localhost:8080/"
        },
        "id": "nkUQ5sMTOt1E",
        "outputId": "ec55bae9-3e54-47f3-976d-26614e093006"
      },
      "execution_count": 2,
      "outputs": [
        {
          "output_type": "stream",
          "name": "stdout",
          "text": [
            "Reading package lists... Done\n",
            "Building dependency tree       \n",
            "Reading state information... Done\n",
            "xvfb is already the newest version (2:1.19.6-1ubuntu4.10).\n",
            "0 upgraded, 0 newly installed, 0 to remove and 37 not upgraded.\n"
          ]
        }
      ]
    },
    {
      "cell_type": "code",
      "source": [
        "# load a library\n",
        "from tkinter import *\n",
        "from openpyxl import *"
      ],
      "metadata": {
        "id": "psz6vcaFBeqF"
      },
      "execution_count": 7,
      "outputs": []
    },
    {
      "cell_type": "code",
      "source": [
        "print(\"The location directory is:\", os.getcwd())"
      ],
      "metadata": {
        "colab": {
          "base_uri": "https://localhost:8080/"
        },
        "id": "FQ33ttn0Bt9c",
        "outputId": "babccd1b-497e-46c6-8b1e-4bcefa7663fa"
      },
      "execution_count": 8,
      "outputs": [
        {
          "output_type": "stream",
          "name": "stdout",
          "text": [
            "The location directory is: /content\n"
          ]
        }
      ]
    },
    {
      "cell_type": "code",
      "source": [
        "# load existing excel file\n",
        "wb = load_workbook('/content/Dokumen JCB.xlsx')\n",
        "sheet = wb.active"
      ],
      "metadata": {
        "id": "EPM_rV1HCyTS"
      },
      "execution_count": 9,
      "outputs": []
    },
    {
      "cell_type": "code",
      "source": [
        "# OPTION, If wanna to resize the width of columns\n",
        "def excel():\n",
        "  sheet.column_dimensions['A'].width = 12\n",
        "  sheet.column_dimensions['B'].width = 10\n",
        "  sheet.column_dimensions['C'].width = 12\n",
        "  sheet.column_dimensions['D'].width = 15\n",
        "  sheet.column_dimensions['E'].width = 15\n",
        "  sheet.column_dimensions['F'].width = 15\n",
        "  sheet.column_dimensions['G'].width = 22\n",
        "  sheet.column_dimensions['H'].width = 10\n",
        "  sheet.column_dimensions['I'].width = 23\n",
        "  sheet.column_dimensions['J'].width = 12\n",
        "  sheet.column_dimensions['K'].width = 12\n",
        "  sheet.column_dimensions['L'].width = 12\n",
        "  sheet.column_dimensions['M'].width = 10\n",
        "\n",
        "  # If we don't already add the name in header\n",
        "  # Please uncomment below!\n",
        "  # sheet.cell(row=1, column=1).value = \"KODE_CORE\"\n",
        "  # sheet.cell(row=1, column=2).value = \"TANGGAL\"\n",
        "  # sheet.cell(row=1, column=3).value = \"NO_JURNAL\""
      ],
      "metadata": {
        "id": "jA2bLDGqDwNS"
      },
      "execution_count": 10,
      "outputs": []
    },
    {
      "cell_type": "code",
      "source": [
        "# Function to set focus (the cursor)\n",
        "def focus1(event):\n",
        "  # set focus on the nomin_field box\n",
        "  datein_field.focus_set()\n",
        "\n",
        "def focus2(event):\n",
        "  # set focus on the datein_field box\n",
        "  desc_field.focus_set()"
      ],
      "metadata": {
        "id": "EH2SpDGoGX4R"
      },
      "execution_count": 11,
      "outputs": []
    },
    {
      "cell_type": "code",
      "source": [
        "# Function for clearing the contents before use it\n",
        "def clear():\n",
        "  # clear the content of text entry box:\n",
        "  nomin_field.delete(0, END)\n",
        "  datein_field.delete(0, END)\n",
        "  desc_field.delete(0, END)"
      ],
      "metadata": {
        "id": "7xEqueo3G0au"
      },
      "execution_count": 12,
      "outputs": []
    },
    {
      "cell_type": "code",
      "source": [
        "# Function to take data from GUI\n",
        "# Window of Graphic User Interface\n",
        "def insert():\n",
        "  # if user not any entry \n",
        "  # print \"empty\"\n",
        "  if (nomin_field.get() == \"\" and\n",
        "      datein_field.get() == \"\" and\n",
        "      desc_field.get() == \"\"):\n",
        "    print(\"empty\")\n",
        "  else:\n",
        "    # assigning into excel\n",
        "    sheet.cell(row=2, column=2).value = datein_field.get()\n",
        "    sheet.cell(row=2, column=7).value = nomin_field.get()\n",
        "    sheet.cell(row=2, column=9).value = desc_field.get()\n",
        "\n",
        "    wb.save('/content/Dokumen JCB New.xlsx')\n",
        "\n",
        "    nomin_field.focus_set()\n",
        "\n",
        "    clear()"
      ],
      "metadata": {
        "id": "g4ODUs8gHEWd"
      },
      "execution_count": 13,
      "outputs": []
    },
    {
      "cell_type": "code",
      "source": [
        "# Driver code of tkinter\n",
        "if __name__ == \"__main__\":\n",
        "  \n",
        "  # create a GUI window\n",
        "  root = Tk()\n",
        "  \n",
        "  # set background colour of GUI\n",
        "  root.configure(background=\"light blue\")\n",
        "  \n",
        "  # set the title of GUI\n",
        "  root.title(\"SUBMISSION FORM\")\n",
        "  \n",
        "  # set the configuration of GUI\n",
        "  root.geometry(\"400x200\")\n",
        "\n",
        "  excel()\n",
        "\n",
        "  # create a form label\n",
        "  heading = Label(root, text=\"Mohon isikan sesuai label yang sesuai!\",\n",
        "                  bg=\"light blue\")\n",
        "  \n",
        "  # create a nomin label\n",
        "  nomin = Label(root, text=\"NOMINAL\",\n",
        "                bg=\"light blue\")\n",
        "  \n",
        "  # create datein label\n",
        "  datein = Label(root, text=\"TANGGAL (DD/MM/YYYY)\",\n",
        "                 bg=\"light blue\")\n",
        "  \n",
        "  # create desc label\n",
        "  desc = Label(root, text=\"DESCRIPTION (TANGGAL SAJA)\",\n",
        "               bg=\"light blue\")\n",
        "  \n",
        "  # create widget of placing\n",
        "  heading.grid(row=0, column=1)\n",
        "  nomin.grid(row=1, column=0)\n",
        "  datein.grid(row=2, column=0)\n",
        "  desc.grid(row=3, column=0)\n",
        "\n",
        "  # create text entry box\n",
        "  nomin_field = Entry(root)\n",
        "  datein_field = Entry(root)\n",
        "  desc_field = Entry(root)\n",
        "\n",
        "  # after we pressed enter\n",
        "  # the call next focus using bind method\n",
        "  nomin_field.bind(\"<Return>\", focus1)\n",
        "  datein_field.bind(\"<Return>\", focus2)\n",
        "\n",
        "  # the widgets at respective positions\n",
        "  # in table structure\n",
        "  nomin_field.grid(row=1, column=1, ipadx=\"100\")\n",
        "  datein_field.grid(row=2, column=1, ipadx=\"100\")\n",
        "  desc_field.grid(row=3, column=1, ipadx=\"100\")\n",
        "\n",
        "  # excel function\n",
        "  excel()\n",
        "\n",
        "  # create a Submit button\n",
        "  submit = Button(root, text=\"SUBMIT\", fg=\"White\",\n",
        "                  bg=\"Gray\", command=insert)\n",
        "  submit.grid(row=4, column=1)\n",
        "\n",
        "  # start the GUI\n",
        "  root.mainloop()"
      ],
      "metadata": {
        "id": "BjVF6p6pIO3-"
      },
      "execution_count": 14,
      "outputs": []
    },
    {
      "cell_type": "code",
      "source": [
        "# FINALLY YOU MADE IT\n",
        "# HERE'S Another form tkinter"
      ],
      "metadata": {
        "id": "HUAPMTC-Qc-b"
      },
      "execution_count": 15,
      "outputs": []
    },
    {
      "cell_type": "code",
      "source": [
        "#creating popup menu in tkinter\n",
        "import tkinter\n",
        "   \n",
        "class A:\n",
        "    #creates parent window\n",
        "    def __init__(self):\n",
        "               \n",
        "        self.root = tkinter.Tk()\n",
        "        self.root.geometry('500x500')\n",
        "   \n",
        "        self.frame1 = tkinter.Label(self.root,\n",
        "                                    width = 400,\n",
        "                                    height = 400,\n",
        "                                    bg = '#AAAAAA')\n",
        "        self.frame1.pack()\n",
        "   \n",
        "    #create menu\n",
        "    def popup(self):\n",
        "        self.popup_menu = tkinter.Menu(self.root,\n",
        "                                       tearoff = 0)\n",
        "          \n",
        "        self.popup_menu.add_command(label = \"say hi\",\n",
        "                                    command = lambda:self.hey(\"hi\"))\n",
        "          \n",
        "        self.popup_menu.add_command(label = \"say hello\",\n",
        "                                    command = lambda:self.hey(\"hello\"))\n",
        "        self.popup_menu.add_separator()\n",
        "        self.popup_menu.add_command(label = \"say bye\",\n",
        "                                    command = lambda:self.hey(\"bye\"))\n",
        "   \n",
        "    #display menu on right click\n",
        "    def do_popup(self,event):\n",
        "        try:\n",
        "            self.popup_menu.tk_popup(event.x_root,\n",
        "                                     event.y_root)\n",
        "        finally:\n",
        "            self.popup_menu.grab_release()\n",
        "   \n",
        "    def hey(self,s):\n",
        "        self.frame1.configure(text = s)\n",
        "          \n",
        "    def run(self):\n",
        "        self.popup()\n",
        "        self.root.bind(\"<Button-3>\",self.do_popup)\n",
        "        tkinter.mainloop()\n",
        "  \n",
        "a = A()\n",
        "a.run()"
      ],
      "metadata": {
        "id": "xLJfGfcDMoBd"
      },
      "execution_count": 16,
      "outputs": []
    }
  ]
}