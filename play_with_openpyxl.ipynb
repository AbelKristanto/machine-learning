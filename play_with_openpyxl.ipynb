{
  "nbformat": 4,
  "nbformat_minor": 0,
  "metadata": {
    "colab": {
      "name": "play with openpyxl.ipynb",
      "provenance": [],
      "authorship_tag": "ABX9TyMMX/ViHQbQWmTt2triESP/",
      "include_colab_link": true
    },
    "kernelspec": {
      "name": "python3",
      "display_name": "Python 3"
    },
    "language_info": {
      "name": "python"
    }
  },
  "cells": [
    {
      "cell_type": "markdown",
      "metadata": {
        "id": "view-in-github",
        "colab_type": "text"
      },
      "source": [
        "<a href=\"https://colab.research.google.com/github/AbelKristanto/machine-learning/blob/main/play_with_openpyxl.ipynb\" target=\"_parent\"><img src=\"https://colab.research.google.com/assets/colab-badge.svg\" alt=\"Open In Colab\"/></a>"
      ]
    },
    {
      "cell_type": "markdown",
      "source": [
        "# Introduction\n",
        "In this part, we will learn to use library openpyxl that can useful for our routine work. "
      ],
      "metadata": {
        "id": "s212g-2fZv_z"
      }
    },
    {
      "cell_type": "code",
      "execution_count": 7,
      "metadata": {
        "id": "Z9fdavTC0e8n"
      },
      "outputs": [],
      "source": [
        "import os \n",
        "import warnings\n",
        "warnings.filterwarnings(\"ignore\")\n",
        "from openpyxl import *\n",
        "import pandas as pd"
      ]
    },
    {
      "cell_type": "markdown",
      "source": [
        "We will used exampledataset.xlsx, if do you want this dataset, please direct message me [here](https://www.linkedin.com/in/abelkristanto/) "
      ],
      "metadata": {
        "id": "l9KIJV4KRS64"
      }
    },
    {
      "cell_type": "code",
      "source": [
        "# Check contain of dataset\n",
        "check = pd.read_excel(\"exampledataset.xlsx\")\n",
        "check.head()"
      ],
      "metadata": {
        "colab": {
          "base_uri": "https://localhost:8080/",
          "height": 336
        },
        "id": "YT8q4vZySK2p",
        "outputId": "ac74f2a0-a393-4b97-e439-24e49bd78d68"
      },
      "execution_count": 9,
      "outputs": [
        {
          "output_type": "execute_result",
          "data": {
            "text/html": [
              "\n",
              "  <div id=\"df-ec9b0057-5745-434d-a09e-bbe523761844\">\n",
              "    <div class=\"colab-df-container\">\n",
              "      <div>\n",
              "<style scoped>\n",
              "    .dataframe tbody tr th:only-of-type {\n",
              "        vertical-align: middle;\n",
              "    }\n",
              "\n",
              "    .dataframe tbody tr th {\n",
              "        vertical-align: top;\n",
              "    }\n",
              "\n",
              "    .dataframe thead th {\n",
              "        text-align: right;\n",
              "    }\n",
              "</style>\n",
              "<table border=\"1\" class=\"dataframe\">\n",
              "  <thead>\n",
              "    <tr style=\"text-align: right;\">\n",
              "      <th></th>\n",
              "      <th>Unnamed: 0</th>\n",
              "      <th>TRANSACTION INFORMATION OF ABC LTD</th>\n",
              "      <th>Unnamed: 2</th>\n",
              "      <th>Unnamed: 3</th>\n",
              "      <th>Unnamed: 4</th>\n",
              "      <th>Unnamed: 5</th>\n",
              "      <th>Unnamed: 6</th>\n",
              "      <th>Unnamed: 7</th>\n",
              "      <th>Unnamed: 8</th>\n",
              "    </tr>\n",
              "  </thead>\n",
              "  <tbody>\n",
              "    <tr>\n",
              "      <th>0</th>\n",
              "      <td>Date</td>\n",
              "      <td>Type</td>\n",
              "      <td>Explained</td>\n",
              "      <td>Freq</td>\n",
              "      <td>Price</td>\n",
              "      <td>NaN</td>\n",
              "      <td>Pinalty</td>\n",
              "      <td>NaN</td>\n",
              "      <td>Total</td>\n",
              "    </tr>\n",
              "    <tr>\n",
              "      <th>1</th>\n",
              "      <td>2021-01-10 00:00:00</td>\n",
              "      <td>Incoming</td>\n",
              "      <td>Incoming Transaction From ADD Ltd</td>\n",
              "      <td>10</td>\n",
              "      <td>150000</td>\n",
              "      <td>NaN</td>\n",
              "      <td>25000</td>\n",
              "      <td>NaN</td>\n",
              "      <td>125000</td>\n",
              "    </tr>\n",
              "    <tr>\n",
              "      <th>2</th>\n",
              "      <td>2021-01-13 00:00:00</td>\n",
              "      <td>Incoming</td>\n",
              "      <td>Incoming Transaction From ABS Ltd</td>\n",
              "      <td>10</td>\n",
              "      <td>150000</td>\n",
              "      <td>NaN</td>\n",
              "      <td>0</td>\n",
              "      <td>NaN</td>\n",
              "      <td>150000</td>\n",
              "    </tr>\n",
              "    <tr>\n",
              "      <th>3</th>\n",
              "      <td>2021-01-17 00:00:00</td>\n",
              "      <td>Outgoing</td>\n",
              "      <td>Payment Transaction for Pen Transaction</td>\n",
              "      <td>5</td>\n",
              "      <td>250000</td>\n",
              "      <td>NaN</td>\n",
              "      <td>13000</td>\n",
              "      <td>NaN</td>\n",
              "      <td>237000</td>\n",
              "    </tr>\n",
              "    <tr>\n",
              "      <th>4</th>\n",
              "      <td>2021-01-17 00:00:00</td>\n",
              "      <td>Outgoing</td>\n",
              "      <td>Payment Transaction for PC</td>\n",
              "      <td>5</td>\n",
              "      <td>200000</td>\n",
              "      <td>NaN</td>\n",
              "      <td>21000</td>\n",
              "      <td>NaN</td>\n",
              "      <td>179000</td>\n",
              "    </tr>\n",
              "  </tbody>\n",
              "</table>\n",
              "</div>\n",
              "      <button class=\"colab-df-convert\" onclick=\"convertToInteractive('df-ec9b0057-5745-434d-a09e-bbe523761844')\"\n",
              "              title=\"Convert this dataframe to an interactive table.\"\n",
              "              style=\"display:none;\">\n",
              "        \n",
              "  <svg xmlns=\"http://www.w3.org/2000/svg\" height=\"24px\"viewBox=\"0 0 24 24\"\n",
              "       width=\"24px\">\n",
              "    <path d=\"M0 0h24v24H0V0z\" fill=\"none\"/>\n",
              "    <path d=\"M18.56 5.44l.94 2.06.94-2.06 2.06-.94-2.06-.94-.94-2.06-.94 2.06-2.06.94zm-11 1L8.5 8.5l.94-2.06 2.06-.94-2.06-.94L8.5 2.5l-.94 2.06-2.06.94zm10 10l.94 2.06.94-2.06 2.06-.94-2.06-.94-.94-2.06-.94 2.06-2.06.94z\"/><path d=\"M17.41 7.96l-1.37-1.37c-.4-.4-.92-.59-1.43-.59-.52 0-1.04.2-1.43.59L10.3 9.45l-7.72 7.72c-.78.78-.78 2.05 0 2.83L4 21.41c.39.39.9.59 1.41.59.51 0 1.02-.2 1.41-.59l7.78-7.78 2.81-2.81c.8-.78.8-2.07 0-2.86zM5.41 20L4 18.59l7.72-7.72 1.47 1.35L5.41 20z\"/>\n",
              "  </svg>\n",
              "      </button>\n",
              "      \n",
              "  <style>\n",
              "    .colab-df-container {\n",
              "      display:flex;\n",
              "      flex-wrap:wrap;\n",
              "      gap: 12px;\n",
              "    }\n",
              "\n",
              "    .colab-df-convert {\n",
              "      background-color: #E8F0FE;\n",
              "      border: none;\n",
              "      border-radius: 50%;\n",
              "      cursor: pointer;\n",
              "      display: none;\n",
              "      fill: #1967D2;\n",
              "      height: 32px;\n",
              "      padding: 0 0 0 0;\n",
              "      width: 32px;\n",
              "    }\n",
              "\n",
              "    .colab-df-convert:hover {\n",
              "      background-color: #E2EBFA;\n",
              "      box-shadow: 0px 1px 2px rgba(60, 64, 67, 0.3), 0px 1px 3px 1px rgba(60, 64, 67, 0.15);\n",
              "      fill: #174EA6;\n",
              "    }\n",
              "\n",
              "    [theme=dark] .colab-df-convert {\n",
              "      background-color: #3B4455;\n",
              "      fill: #D2E3FC;\n",
              "    }\n",
              "\n",
              "    [theme=dark] .colab-df-convert:hover {\n",
              "      background-color: #434B5C;\n",
              "      box-shadow: 0px 1px 3px 1px rgba(0, 0, 0, 0.15);\n",
              "      filter: drop-shadow(0px 1px 2px rgba(0, 0, 0, 0.3));\n",
              "      fill: #FFFFFF;\n",
              "    }\n",
              "  </style>\n",
              "\n",
              "      <script>\n",
              "        const buttonEl =\n",
              "          document.querySelector('#df-ec9b0057-5745-434d-a09e-bbe523761844 button.colab-df-convert');\n",
              "        buttonEl.style.display =\n",
              "          google.colab.kernel.accessAllowed ? 'block' : 'none';\n",
              "\n",
              "        async function convertToInteractive(key) {\n",
              "          const element = document.querySelector('#df-ec9b0057-5745-434d-a09e-bbe523761844');\n",
              "          const dataTable =\n",
              "            await google.colab.kernel.invokeFunction('convertToInteractive',\n",
              "                                                     [key], {});\n",
              "          if (!dataTable) return;\n",
              "\n",
              "          const docLinkHtml = 'Like what you see? Visit the ' +\n",
              "            '<a target=\"_blank\" href=https://colab.research.google.com/notebooks/data_table.ipynb>data table notebook</a>'\n",
              "            + ' to learn more about interactive tables.';\n",
              "          element.innerHTML = '';\n",
              "          dataTable['output_type'] = 'display_data';\n",
              "          await google.colab.output.renderOutput(dataTable, element);\n",
              "          const docLink = document.createElement('div');\n",
              "          docLink.innerHTML = docLinkHtml;\n",
              "          element.appendChild(docLink);\n",
              "        }\n",
              "      </script>\n",
              "    </div>\n",
              "  </div>\n",
              "  "
            ],
            "text/plain": [
              "            Unnamed: 0  ... Unnamed: 8\n",
              "0                 Date  ...      Total\n",
              "1  2021-01-10 00:00:00  ...     125000\n",
              "2  2021-01-13 00:00:00  ...     150000\n",
              "3  2021-01-17 00:00:00  ...     237000\n",
              "4  2021-01-17 00:00:00  ...     179000\n",
              "\n",
              "[5 rows x 9 columns]"
            ]
          },
          "metadata": {},
          "execution_count": 9
        }
      ]
    },
    {
      "cell_type": "code",
      "source": [
        "# Open workbook\n",
        "wb = load_workbook(\"exampledataset.xlsx\")\n",
        "\n",
        "# Check sheet names\n",
        "print(wb.sheetnames)\n",
        "\n",
        "# Select active sheet\n",
        "ws = wb.active"
      ],
      "metadata": {
        "id": "6-q-BjomzJcF",
        "colab": {
          "base_uri": "https://localhost:8080/"
        },
        "outputId": "078c44c4-1d72-4527-8cfa-41b822a0f7ab"
      },
      "execution_count": 35,
      "outputs": [
        {
          "output_type": "stream",
          "name": "stdout",
          "text": [
            "['Sheet1']\n"
          ]
        }
      ]
    },
    {
      "cell_type": "code",
      "source": [
        "# Change the name of sheet\n",
        "ws.title = \"transaction\"\n",
        "\n",
        "# Show the dataset sheet names\n",
        "print(wb.sheetnames)"
      ],
      "metadata": {
        "colab": {
          "base_uri": "https://localhost:8080/"
        },
        "id": "5pV4E-m3R-5A",
        "outputId": "d69f8b1e-4f08-4ba4-80b2-253f8456b986"
      },
      "execution_count": 36,
      "outputs": [
        {
          "output_type": "stream",
          "name": "stdout",
          "text": [
            "['transaction']\n"
          ]
        }
      ]
    },
    {
      "cell_type": "code",
      "source": [
        "# Play with the data\n",
        "import datetime\n",
        "from openpyxl.utils import FORMULAE\n",
        "\n",
        "# 1. Accessing dataset\n",
        "print(ws[\"E3\"].value)\n",
        "print(ws[\"E3\"].number_format)\n",
        "\n",
        "# 2. Set date using a Python datetime and add new value\n",
        "ws['A13'] = datetime.datetime(2010, 7, 21) # ADD data\n",
        "print(ws['A13'].number_format)\n",
        "\n",
        "# 3. Add a formula\n",
        "ws[\"E13\"] = \"=SUM(E3:E12)\"\n",
        "print(ws[\"E13\"].value)\n",
        "# If we want the excel describe the data, use this:\n",
        "# wb.save(\"update.xlsx\")\n",
        "# wb = load_workbook(\"update.xlsx\", data_only=True)\n",
        "\n",
        "# Check formula \n",
        "\"SUM\" in FORMULAE\n",
        "\n",
        "# 4. Merge and unmerge\n",
        "ws.merge_cells('A14:D14')\n",
        "ws.unmerge_cells('A14:D14')\n",
        "\n",
        "# 5. Insert Image\n",
        "from openpyxl.drawing.image import Image\n",
        "ws['A15'] = 'You should see logos below'\n",
        "img = Image('logo.jpg')\n",
        "ws.add_image(img, 'A16')"
      ],
      "metadata": {
        "colab": {
          "base_uri": "https://localhost:8080/"
        },
        "id": "BrhhgD4qSzst",
        "outputId": "ba75ea36-275e-434a-bc2e-15ac83ded5c6"
      },
      "execution_count": 37,
      "outputs": [
        {
          "output_type": "stream",
          "name": "stdout",
          "text": [
            "150000\n",
            "_([$$-409]* #,##0.00_);_([$$-409]* \\(#,##0.00\\);_([$$-409]* \"-\"??_);_(@_)\n",
            "yyyy-mm-dd h:mm:ss\n",
            "=SUM(E3:E12)\n"
          ]
        }
      ]
    },
    {
      "cell_type": "code",
      "source": [
        "# How to increase performance of machine\n",
        "# Read-only\n",
        "wb = load_workbook(filename='exampledataset.xlsx', read_only=True)\n",
        "ws = wb.active\n",
        "\n",
        "for row in ws.rows:\n",
        "    for cell in row:\n",
        "        print(cell.value)"
      ],
      "metadata": {
        "id": "So2ebmv8YZYF"
      },
      "execution_count": null,
      "outputs": []
    },
    {
      "cell_type": "code",
      "source": [
        "# Inserting new row (ONE ROW)\n",
        "ws.insert_rows(5) # ADD new row in row 5\n",
        "ws.delete_cols(6, 3) # 6 rows, 3 column\n",
        "ws.move_range(\"D4:F10\", rows=-1, cols=2) # MOVE Range in before rows-1, cols+2"
      ],
      "metadata": {
        "id": "_r4lXSNUnWe8"
      },
      "execution_count": 38,
      "outputs": []
    },
    {
      "cell_type": "code",
      "source": [
        "# Change into pandas\n",
        "df = pd.DataFrame(ws.values)\n",
        "df.head()"
      ],
      "metadata": {
        "colab": {
          "base_uri": "https://localhost:8080/",
          "height": 302
        },
        "id": "-GdleEz7n71H",
        "outputId": "7ef8030f-fd9a-4f7f-e084-f30cfca6a300"
      },
      "execution_count": 41,
      "outputs": [
        {
          "output_type": "execute_result",
          "data": {
            "text/html": [
              "\n",
              "  <div id=\"df-ec21bb77-3a3b-40fb-82c3-97334ba5c390\">\n",
              "    <div class=\"colab-df-container\">\n",
              "      <div>\n",
              "<style scoped>\n",
              "    .dataframe tbody tr th:only-of-type {\n",
              "        vertical-align: middle;\n",
              "    }\n",
              "\n",
              "    .dataframe tbody tr th {\n",
              "        vertical-align: top;\n",
              "    }\n",
              "\n",
              "    .dataframe thead th {\n",
              "        text-align: right;\n",
              "    }\n",
              "</style>\n",
              "<table border=\"1\" class=\"dataframe\">\n",
              "  <thead>\n",
              "    <tr style=\"text-align: right;\">\n",
              "      <th></th>\n",
              "      <th>0</th>\n",
              "      <th>1</th>\n",
              "      <th>2</th>\n",
              "      <th>3</th>\n",
              "      <th>4</th>\n",
              "      <th>5</th>\n",
              "      <th>6</th>\n",
              "      <th>7</th>\n",
              "      <th>8</th>\n",
              "      <th>9</th>\n",
              "    </tr>\n",
              "  </thead>\n",
              "  <tbody>\n",
              "    <tr>\n",
              "      <th>0</th>\n",
              "      <td>None</td>\n",
              "      <td>TRANSACTION INFORMATION OF ABC LTD</td>\n",
              "      <td>None</td>\n",
              "      <td>None</td>\n",
              "      <td>None</td>\n",
              "      <td>None</td>\n",
              "      <td>None</td>\n",
              "      <td>None</td>\n",
              "      <td>None</td>\n",
              "      <td>None</td>\n",
              "    </tr>\n",
              "    <tr>\n",
              "      <th>1</th>\n",
              "      <td>Date</td>\n",
              "      <td>Type</td>\n",
              "      <td>Explained</td>\n",
              "      <td>Freq</td>\n",
              "      <td>Price</td>\n",
              "      <td>None</td>\n",
              "      <td>Pinalty</td>\n",
              "      <td>None</td>\n",
              "      <td>Total</td>\n",
              "      <td>None</td>\n",
              "    </tr>\n",
              "    <tr>\n",
              "      <th>2</th>\n",
              "      <td>2021-01-10 00:00:00</td>\n",
              "      <td>Incoming</td>\n",
              "      <td>Incoming Transaction From ADD Ltd</td>\n",
              "      <td>10</td>\n",
              "      <td>150000</td>\n",
              "      <td>None</td>\n",
              "      <td>25000</td>\n",
              "      <td>None</td>\n",
              "      <td>=E3-G3</td>\n",
              "      <td>None</td>\n",
              "    </tr>\n",
              "    <tr>\n",
              "      <th>3</th>\n",
              "      <td>2021-01-13 00:00:00</td>\n",
              "      <td>Incoming</td>\n",
              "      <td>Incoming Transaction From ABS Ltd</td>\n",
              "      <td>10</td>\n",
              "      <td>150000</td>\n",
              "      <td>None</td>\n",
              "      <td>0</td>\n",
              "      <td>None</td>\n",
              "      <td>=E4-G4</td>\n",
              "      <td>None</td>\n",
              "    </tr>\n",
              "    <tr>\n",
              "      <th>4</th>\n",
              "      <td>None</td>\n",
              "      <td>None</td>\n",
              "      <td>None</td>\n",
              "      <td>None</td>\n",
              "      <td>None</td>\n",
              "      <td>None</td>\n",
              "      <td>None</td>\n",
              "      <td>None</td>\n",
              "      <td>None</td>\n",
              "      <td>None</td>\n",
              "    </tr>\n",
              "  </tbody>\n",
              "</table>\n",
              "</div>\n",
              "      <button class=\"colab-df-convert\" onclick=\"convertToInteractive('df-ec21bb77-3a3b-40fb-82c3-97334ba5c390')\"\n",
              "              title=\"Convert this dataframe to an interactive table.\"\n",
              "              style=\"display:none;\">\n",
              "        \n",
              "  <svg xmlns=\"http://www.w3.org/2000/svg\" height=\"24px\"viewBox=\"0 0 24 24\"\n",
              "       width=\"24px\">\n",
              "    <path d=\"M0 0h24v24H0V0z\" fill=\"none\"/>\n",
              "    <path d=\"M18.56 5.44l.94 2.06.94-2.06 2.06-.94-2.06-.94-.94-2.06-.94 2.06-2.06.94zm-11 1L8.5 8.5l.94-2.06 2.06-.94-2.06-.94L8.5 2.5l-.94 2.06-2.06.94zm10 10l.94 2.06.94-2.06 2.06-.94-2.06-.94-.94-2.06-.94 2.06-2.06.94z\"/><path d=\"M17.41 7.96l-1.37-1.37c-.4-.4-.92-.59-1.43-.59-.52 0-1.04.2-1.43.59L10.3 9.45l-7.72 7.72c-.78.78-.78 2.05 0 2.83L4 21.41c.39.39.9.59 1.41.59.51 0 1.02-.2 1.41-.59l7.78-7.78 2.81-2.81c.8-.78.8-2.07 0-2.86zM5.41 20L4 18.59l7.72-7.72 1.47 1.35L5.41 20z\"/>\n",
              "  </svg>\n",
              "      </button>\n",
              "      \n",
              "  <style>\n",
              "    .colab-df-container {\n",
              "      display:flex;\n",
              "      flex-wrap:wrap;\n",
              "      gap: 12px;\n",
              "    }\n",
              "\n",
              "    .colab-df-convert {\n",
              "      background-color: #E8F0FE;\n",
              "      border: none;\n",
              "      border-radius: 50%;\n",
              "      cursor: pointer;\n",
              "      display: none;\n",
              "      fill: #1967D2;\n",
              "      height: 32px;\n",
              "      padding: 0 0 0 0;\n",
              "      width: 32px;\n",
              "    }\n",
              "\n",
              "    .colab-df-convert:hover {\n",
              "      background-color: #E2EBFA;\n",
              "      box-shadow: 0px 1px 2px rgba(60, 64, 67, 0.3), 0px 1px 3px 1px rgba(60, 64, 67, 0.15);\n",
              "      fill: #174EA6;\n",
              "    }\n",
              "\n",
              "    [theme=dark] .colab-df-convert {\n",
              "      background-color: #3B4455;\n",
              "      fill: #D2E3FC;\n",
              "    }\n",
              "\n",
              "    [theme=dark] .colab-df-convert:hover {\n",
              "      background-color: #434B5C;\n",
              "      box-shadow: 0px 1px 3px 1px rgba(0, 0, 0, 0.15);\n",
              "      filter: drop-shadow(0px 1px 2px rgba(0, 0, 0, 0.3));\n",
              "      fill: #FFFFFF;\n",
              "    }\n",
              "  </style>\n",
              "\n",
              "      <script>\n",
              "        const buttonEl =\n",
              "          document.querySelector('#df-ec21bb77-3a3b-40fb-82c3-97334ba5c390 button.colab-df-convert');\n",
              "        buttonEl.style.display =\n",
              "          google.colab.kernel.accessAllowed ? 'block' : 'none';\n",
              "\n",
              "        async function convertToInteractive(key) {\n",
              "          const element = document.querySelector('#df-ec21bb77-3a3b-40fb-82c3-97334ba5c390');\n",
              "          const dataTable =\n",
              "            await google.colab.kernel.invokeFunction('convertToInteractive',\n",
              "                                                     [key], {});\n",
              "          if (!dataTable) return;\n",
              "\n",
              "          const docLinkHtml = 'Like what you see? Visit the ' +\n",
              "            '<a target=\"_blank\" href=https://colab.research.google.com/notebooks/data_table.ipynb>data table notebook</a>'\n",
              "            + ' to learn more about interactive tables.';\n",
              "          element.innerHTML = '';\n",
              "          dataTable['output_type'] = 'display_data';\n",
              "          await google.colab.output.renderOutput(dataTable, element);\n",
              "          const docLink = document.createElement('div');\n",
              "          docLink.innerHTML = docLinkHtml;\n",
              "          element.appendChild(docLink);\n",
              "        }\n",
              "      </script>\n",
              "    </div>\n",
              "  </div>\n",
              "  "
            ],
            "text/plain": [
              "                     0                                   1  ...       8     9\n",
              "0                 None  TRANSACTION INFORMATION OF ABC LTD  ...    None  None\n",
              "1                 Date                                Type  ...   Total  None\n",
              "2  2021-01-10 00:00:00                            Incoming  ...  =E3-G3  None\n",
              "3  2021-01-13 00:00:00                            Incoming  ...  =E4-G4  None\n",
              "4                 None                                None  ...    None  None\n",
              "\n",
              "[5 rows x 10 columns]"
            ]
          },
          "metadata": {},
          "execution_count": 41
        }
      ]
    },
    {
      "cell_type": "code",
      "source": [
        "# add protection sheet\n",
        "ws.protection.sheet = True\n",
        "\n",
        "# Without knowing dataset password\n",
        "ws.protection.enable() # unspesific, other can open it\n",
        "ws.protection.password = 'YesYouKnow' #Specific password\n",
        "# ws.protection.disable()"
      ],
      "metadata": {
        "id": "G6YzLQljsLJm"
      },
      "execution_count": 42,
      "outputs": []
    },
    {
      "cell_type": "code",
      "source": [
        "wb.save(\"update.xlsx\")"
      ],
      "metadata": {
        "id": "vPT8Rw2fs5WN"
      },
      "execution_count": 43,
      "outputs": []
    }
  ]
}