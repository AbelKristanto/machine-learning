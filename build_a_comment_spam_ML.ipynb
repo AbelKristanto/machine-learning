{
  "nbformat": 4,
  "nbformat_minor": 0,
  "metadata": {
    "colab": {
      "name": "build a comment spam ML.ipynb",
      "provenance": [],
      "collapsed_sections": [],
      "authorship_tag": "ABX9TyN5OSJxjBWPT+AkBrGg99sw",
      "include_colab_link": true
    },
    "kernelspec": {
      "name": "python3",
      "display_name": "Python 3"
    },
    "language_info": {
      "name": "python"
    }
  },
  "cells": [
    {
      "cell_type": "markdown",
      "metadata": {
        "id": "view-in-github",
        "colab_type": "text"
      },
      "source": [
        "<a href=\"https://colab.research.google.com/github/AbelKristanto/machine_learning/blob/main/build_a_comment_spam_ML.ipynb\" target=\"_parent\"><img src=\"https://colab.research.google.com/assets/colab-badge.svg\" alt=\"Open In Colab\"/></a>"
      ]
    },
    {
      "cell_type": "markdown",
      "metadata": {
        "id": "9bWdt1uHXYcR"
      },
      "source": [
        "<h1>Remarks</h1>\n",
        "<p>In this notebook, we will learn more about \"how to build a comment spam in ML\". We will learn from basic classification. Let's started!</p>"
      ]
    },
    {
      "cell_type": "code",
      "metadata": {
        "colab": {
          "base_uri": "https://localhost:8080/"
        },
        "id": "HjkBbhu_XUSL",
        "outputId": "3391c99a-821f-40ee-fcde-db3a95c0dced"
      },
      "source": [
        "# prepare tensorflowLite\n",
        "!pip install -q tflite-model-maker"
      ],
      "execution_count": null,
      "outputs": [
        {
          "output_type": "stream",
          "text": [
            "\u001b[K     |████████████████████████████████| 593kB 4.4MB/s \n",
            "\u001b[K     |████████████████████████████████| 122kB 8.8MB/s \n",
            "\u001b[K     |████████████████████████████████| 1.2MB 9.2MB/s \n",
            "\u001b[K     |████████████████████████████████| 215kB 17.0MB/s \n",
            "\u001b[K     |████████████████████████████████| 686kB 26.7MB/s \n",
            "\u001b[K     |████████████████████████████████| 112kB 28.2MB/s \n",
            "\u001b[K     |████████████████████████████████| 1.1MB 28.6MB/s \n",
            "\u001b[K     |████████████████████████████████| 6.3MB 36.8MB/s \n",
            "\u001b[K     |████████████████████████████████| 71kB 7.1MB/s \n",
            "\u001b[K     |████████████████████████████████| 92kB 8.5MB/s \n",
            "\u001b[K     |████████████████████████████████| 645kB 37.7MB/s \n",
            "\u001b[K     |████████████████████████████████| 849kB 43.8MB/s \n",
            "\u001b[K     |████████████████████████████████| 194kB 41.6MB/s \n",
            "\u001b[K     |████████████████████████████████| 37.2MB 83kB/s \n",
            "\u001b[K     |████████████████████████████████| 102kB 10.5MB/s \n",
            "\u001b[K     |████████████████████████████████| 358kB 40.5MB/s \n",
            "\u001b[?25h  Building wheel for fire (setup.py) ... \u001b[?25l\u001b[?25hdone\n",
            "  Building wheel for py-cpuinfo (setup.py) ... \u001b[?25l\u001b[?25hdone\n"
          ],
          "name": "stdout"
        }
      ]
    },
    {
      "cell_type": "code",
      "metadata": {
        "id": "Ewjbeed8YcC9"
      },
      "source": [
        "# import library\n",
        "import numpy as np\n",
        "import os\n",
        "from tflite_model_maker import configs\n",
        "from tflite_model_maker import ExportFormat\n",
        "from tflite_model_maker import model_spec\n",
        "from tflite_model_maker import text_classifier\n",
        "from tflite_model_maker.text_classifier import DataLoader\n",
        "\n",
        "import tensorflow as tf\n",
        "assert tf.__version__.startswith('2')\n",
        "tf.get_logger().setLevel('ERROR')"
      ],
      "execution_count": null,
      "outputs": []
    },
    {
      "cell_type": "code",
      "metadata": {
        "colab": {
          "base_uri": "https://localhost:8080/"
        },
        "id": "Fw7RlINjY98S",
        "outputId": "46be0ab5-39e1-4942-d1bf-99d4bdd4c65c"
      },
      "source": [
        "# import data\n",
        "data_file = tf.keras.utils.get_file(fname='comment-spam.csv', \n",
        "                                    origin='https://storage.googleapis.com/laurencemoroney-blog.appspot.com/lmblog_comments.csv',\n",
        "                                    extract=False)"
      ],
      "execution_count": null,
      "outputs": [
        {
          "output_type": "stream",
          "text": [
            "Downloading data from https://storage.googleapis.com/laurencemoroney-blog.appspot.com/lmblog_comments.csv\n",
            "237568/235543 [==============================] - 0s 0us/step\n"
          ],
          "name": "stdout"
        }
      ]
    },
    {
      "cell_type": "code",
      "metadata": {
        "id": "HPDvPz-XZSK2"
      },
      "source": [
        "# Model Maker == pre-learned embeddings with **average_word_vec\n",
        "spec = model_spec.get('average_word_vec')\n",
        "\n",
        "# number of words that we want to modelling\n",
        "spec.num_words = 2000\n",
        "\n",
        "# count number of word\n",
        "spec.seq_len = 20\n",
        "\n",
        "# number of dimensions for vector == each word\n",
        "spec.wordvec_dim = 7"
      ],
      "execution_count": null,
      "outputs": []
    },
    {
      "cell_type": "code",
      "metadata": {
        "id": "bvhD35ZoZWnz"
      },
      "source": [
        "# use a data loader to load data\n",
        "data = DataLoader.from_csv(\n",
        "    filename=data_file,\n",
        "    text_column='commenttext', #first column\n",
        "    label_column='spam', #second column\n",
        "    model_spec=spec, #model that create before\n",
        "    delimiter=',', #delimiter seperate\n",
        "    shuffle=True, #use random generate\n",
        "    is_training=True #use data training\n",
        ")\n",
        "train_data, test_data = data.split(0.9)"
      ],
      "execution_count": null,
      "outputs": []
    },
    {
      "cell_type": "code",
      "metadata": {
        "colab": {
          "base_uri": "https://localhost:8080/"
        },
        "id": "MpKc2BKqanea",
        "outputId": "263ca64e-1083-46b8-cd18-68ca71f76d0b"
      },
      "source": [
        "# build a model\n",
        "model = text_classifier.create(train_data, model_spec=spec, epochs=50, #looping=50times\n",
        "                               validation_data=test_data)"
      ],
      "execution_count": null,
      "outputs": [
        {
          "output_type": "stream",
          "text": [
            "Epoch 1/50\n",
            "28/28 [==============================] - 2s 16ms/step - loss: 0.6589 - accuracy: 0.6886 - val_loss: 0.6261 - val_accuracy: 0.7188\n",
            "Epoch 2/50\n",
            "28/28 [==============================] - 0s 6ms/step - loss: 0.6097 - accuracy: 0.6897 - val_loss: 0.5713 - val_accuracy: 0.7188\n",
            "Epoch 3/50\n",
            "28/28 [==============================] - 0s 7ms/step - loss: 0.5615 - accuracy: 0.6908 - val_loss: 0.5146 - val_accuracy: 0.7188\n",
            "Epoch 4/50\n",
            "28/28 [==============================] - 0s 6ms/step - loss: 0.5103 - accuracy: 0.6908 - val_loss: 0.4581 - val_accuracy: 0.7188\n",
            "Epoch 5/50\n",
            "28/28 [==============================] - 0s 5ms/step - loss: 0.4619 - accuracy: 0.6931 - val_loss: 0.4044 - val_accuracy: 0.7188\n",
            "Epoch 6/50\n",
            "28/28 [==============================] - 0s 5ms/step - loss: 0.4199 - accuracy: 0.6897 - val_loss: 0.3549 - val_accuracy: 0.7188\n",
            "Epoch 7/50\n",
            "28/28 [==============================] - 0s 5ms/step - loss: 0.3768 - accuracy: 0.7065 - val_loss: 0.3111 - val_accuracy: 0.7188\n",
            "Epoch 8/50\n",
            "28/28 [==============================] - 0s 6ms/step - loss: 0.3424 - accuracy: 0.8616 - val_loss: 0.2746 - val_accuracy: 0.9479\n",
            "Epoch 9/50\n",
            "28/28 [==============================] - 0s 4ms/step - loss: 0.3168 - accuracy: 0.8929 - val_loss: 0.2446 - val_accuracy: 0.9688\n",
            "Epoch 10/50\n",
            "28/28 [==============================] - 0s 6ms/step - loss: 0.2908 - accuracy: 0.9342 - val_loss: 0.2208 - val_accuracy: 0.9792\n",
            "Epoch 11/50\n",
            "28/28 [==============================] - 0s 6ms/step - loss: 0.2774 - accuracy: 0.9420 - val_loss: 0.2009 - val_accuracy: 0.9792\n",
            "Epoch 12/50\n",
            "28/28 [==============================] - 0s 7ms/step - loss: 0.2544 - accuracy: 0.9498 - val_loss: 0.1828 - val_accuracy: 0.9792\n",
            "Epoch 13/50\n",
            "28/28 [==============================] - 0s 6ms/step - loss: 0.2395 - accuracy: 0.9531 - val_loss: 0.1662 - val_accuracy: 0.9896\n",
            "Epoch 14/50\n",
            "28/28 [==============================] - 0s 6ms/step - loss: 0.2306 - accuracy: 0.9542 - val_loss: 0.1522 - val_accuracy: 0.9896\n",
            "Epoch 15/50\n",
            "28/28 [==============================] - 0s 6ms/step - loss: 0.2117 - accuracy: 0.9576 - val_loss: 0.1379 - val_accuracy: 0.9896\n",
            "Epoch 16/50\n",
            "28/28 [==============================] - 0s 6ms/step - loss: 0.2006 - accuracy: 0.9587 - val_loss: 0.1254 - val_accuracy: 0.9896\n",
            "Epoch 17/50\n",
            "28/28 [==============================] - 0s 5ms/step - loss: 0.1962 - accuracy: 0.9531 - val_loss: 0.1143 - val_accuracy: 0.9896\n",
            "Epoch 18/50\n",
            "28/28 [==============================] - 0s 5ms/step - loss: 0.1867 - accuracy: 0.9542 - val_loss: 0.1035 - val_accuracy: 0.9896\n",
            "Epoch 19/50\n",
            "28/28 [==============================] - 0s 6ms/step - loss: 0.1727 - accuracy: 0.9576 - val_loss: 0.0940 - val_accuracy: 0.9896\n",
            "Epoch 20/50\n",
            "28/28 [==============================] - 0s 4ms/step - loss: 0.1616 - accuracy: 0.9609 - val_loss: 0.0849 - val_accuracy: 0.9896\n",
            "Epoch 21/50\n",
            "28/28 [==============================] - 0s 6ms/step - loss: 0.1597 - accuracy: 0.9609 - val_loss: 0.0776 - val_accuracy: 0.9896\n",
            "Epoch 22/50\n",
            "28/28 [==============================] - 0s 5ms/step - loss: 0.1530 - accuracy: 0.9598 - val_loss: 0.0712 - val_accuracy: 1.0000\n",
            "Epoch 23/50\n",
            "28/28 [==============================] - 0s 6ms/step - loss: 0.1435 - accuracy: 0.9621 - val_loss: 0.0643 - val_accuracy: 1.0000\n",
            "Epoch 24/50\n",
            "28/28 [==============================] - 0s 6ms/step - loss: 0.1381 - accuracy: 0.9643 - val_loss: 0.0589 - val_accuracy: 1.0000\n",
            "Epoch 25/50\n",
            "28/28 [==============================] - 0s 4ms/step - loss: 0.1232 - accuracy: 0.9654 - val_loss: 0.0536 - val_accuracy: 1.0000\n",
            "Epoch 26/50\n",
            "28/28 [==============================] - 0s 5ms/step - loss: 0.1284 - accuracy: 0.9621 - val_loss: 0.0495 - val_accuracy: 1.0000\n",
            "Epoch 27/50\n",
            "28/28 [==============================] - 0s 6ms/step - loss: 0.1227 - accuracy: 0.9721 - val_loss: 0.0459 - val_accuracy: 1.0000\n",
            "Epoch 28/50\n",
            "28/28 [==============================] - 0s 4ms/step - loss: 0.1198 - accuracy: 0.9688 - val_loss: 0.0420 - val_accuracy: 1.0000\n",
            "Epoch 29/50\n",
            "28/28 [==============================] - 0s 6ms/step - loss: 0.1108 - accuracy: 0.9699 - val_loss: 0.0385 - val_accuracy: 1.0000\n",
            "Epoch 30/50\n",
            "28/28 [==============================] - 0s 5ms/step - loss: 0.1153 - accuracy: 0.9721 - val_loss: 0.0357 - val_accuracy: 1.0000\n",
            "Epoch 31/50\n",
            "28/28 [==============================] - 0s 5ms/step - loss: 0.1146 - accuracy: 0.9754 - val_loss: 0.0332 - val_accuracy: 1.0000\n",
            "Epoch 32/50\n",
            "28/28 [==============================] - 0s 6ms/step - loss: 0.1157 - accuracy: 0.9743 - val_loss: 0.0313 - val_accuracy: 1.0000\n",
            "Epoch 33/50\n",
            "28/28 [==============================] - 0s 6ms/step - loss: 0.1041 - accuracy: 0.9766 - val_loss: 0.0294 - val_accuracy: 1.0000\n",
            "Epoch 34/50\n",
            "28/28 [==============================] - 0s 6ms/step - loss: 0.1054 - accuracy: 0.9766 - val_loss: 0.0276 - val_accuracy: 1.0000\n",
            "Epoch 35/50\n",
            "28/28 [==============================] - 0s 5ms/step - loss: 0.1021 - accuracy: 0.9766 - val_loss: 0.0258 - val_accuracy: 1.0000\n",
            "Epoch 36/50\n",
            "28/28 [==============================] - 0s 6ms/step - loss: 0.1053 - accuracy: 0.9754 - val_loss: 0.0245 - val_accuracy: 1.0000\n",
            "Epoch 37/50\n",
            "28/28 [==============================] - 0s 6ms/step - loss: 0.1024 - accuracy: 0.9766 - val_loss: 0.0234 - val_accuracy: 1.0000\n",
            "Epoch 38/50\n",
            "28/28 [==============================] - 0s 6ms/step - loss: 0.0920 - accuracy: 0.9754 - val_loss: 0.0221 - val_accuracy: 1.0000\n",
            "Epoch 39/50\n",
            "28/28 [==============================] - 0s 5ms/step - loss: 0.0900 - accuracy: 0.9799 - val_loss: 0.0210 - val_accuracy: 1.0000\n",
            "Epoch 40/50\n",
            "28/28 [==============================] - 0s 5ms/step - loss: 0.0856 - accuracy: 0.9777 - val_loss: 0.0198 - val_accuracy: 1.0000\n",
            "Epoch 41/50\n",
            "28/28 [==============================] - 0s 4ms/step - loss: 0.0911 - accuracy: 0.9788 - val_loss: 0.0188 - val_accuracy: 1.0000\n",
            "Epoch 42/50\n",
            "28/28 [==============================] - 0s 5ms/step - loss: 0.0827 - accuracy: 0.9788 - val_loss: 0.0174 - val_accuracy: 1.0000\n",
            "Epoch 43/50\n",
            "28/28 [==============================] - 0s 5ms/step - loss: 0.0773 - accuracy: 0.9833 - val_loss: 0.0163 - val_accuracy: 1.0000\n",
            "Epoch 44/50\n",
            "28/28 [==============================] - 0s 6ms/step - loss: 0.0823 - accuracy: 0.9810 - val_loss: 0.0153 - val_accuracy: 1.0000\n",
            "Epoch 45/50\n",
            "28/28 [==============================] - 0s 5ms/step - loss: 0.0755 - accuracy: 0.9810 - val_loss: 0.0148 - val_accuracy: 1.0000\n",
            "Epoch 46/50\n",
            "28/28 [==============================] - 0s 5ms/step - loss: 0.0803 - accuracy: 0.9821 - val_loss: 0.0142 - val_accuracy: 1.0000\n",
            "Epoch 47/50\n",
            "28/28 [==============================] - 0s 5ms/step - loss: 0.0780 - accuracy: 0.9810 - val_loss: 0.0138 - val_accuracy: 1.0000\n",
            "Epoch 48/50\n",
            "28/28 [==============================] - 0s 5ms/step - loss: 0.0758 - accuracy: 0.9855 - val_loss: 0.0132 - val_accuracy: 1.0000\n",
            "Epoch 49/50\n",
            "28/28 [==============================] - 0s 6ms/step - loss: 0.0720 - accuracy: 0.9821 - val_loss: 0.0128 - val_accuracy: 1.0000\n",
            "Epoch 50/50\n",
            "28/28 [==============================] - 0s 6ms/step - loss: 0.0724 - accuracy: 0.9833 - val_loss: 0.0123 - val_accuracy: 1.0000\n"
          ],
          "name": "stdout"
        }
      ]
    },
    {
      "cell_type": "code",
      "metadata": {
        "id": "lrMt-kleasC3"
      },
      "source": [
        "# export model MODELMAKER\n",
        "# to add it AndroidApp\n",
        "model.export(export_dir='/mm_spam')"
      ],
      "execution_count": null,
      "outputs": []
    },
    {
      "cell_type": "code",
      "metadata": {
        "id": "bcB4L81PcVCe"
      },
      "source": [
        "# for ios export data\n",
        "model.export(export_dir='/mm_spam/',\n",
        "             export_format=[ExportFormat.LABEL, ExportFormat.VOCAB])"
      ],
      "execution_count": null,
      "outputs": []
    }
  ]
}